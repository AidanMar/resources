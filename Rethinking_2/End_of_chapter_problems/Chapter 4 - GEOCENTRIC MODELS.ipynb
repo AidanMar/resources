{
 "cells": [
  {
   "cell_type": "code",
   "execution_count": 1,
   "metadata": {},
   "outputs": [],
   "source": [
    "import numpy as np\n",
    "import matplotlib.pylab as plt\n",
    "import scipy.stats as stats\n",
    "import pymc3 as pm\n",
    "import pandas as pd\n",
    "import seaborn as sns\n",
    "import arviz as az"
   ]
  },
  {
   "cell_type": "markdown",
   "metadata": {},
   "source": [
    "# Chapter 4 - GEOCENTRIC MODELS"
   ]
  },
  {
   "cell_type": "markdown",
   "metadata": {},
   "source": [
    "### End of chapter problems"
   ]
  },
  {
   "cell_type": "markdown",
   "metadata": {},
   "source": [
    "4E1. In the model definition below, which line is the likelihood?\n",
    "\n",
    "yi ∼ Normal(µ, σ)\n",
    "\n",
    "µ ∼ Normal(0, 10)\n",
    "\n",
    "σ ∼ Exponential(1)\n",
    "\n",
    "Answer: The first line defines the likelihood\n",
    "\n",
    "4E2. In the model definition just above, how many parameters are in the posterior distribution?\n",
    "\n",
    "Answer: There are two parameters in the posterior, $\\mu $ and $\\sigma$\n",
    "\n",
    "4E3. Using the model definition above, write down the appropriate form of Bayes’ theorem that includes the proper likelihood and priors\n",
    "\n",
    "Answer: \n",
    "\n",
    "$ Pr(\\mu,\\sigma) = \\frac{Pr(\\underline{h}|\\mu,\\sigma)Pr(\\mu)Pr(\\sigma)}{Pr(\\underline{h})} \\propto \\frac{1}{\\sigma}\\prod_i exp(-\\frac{1}{2}(\\frac{h_i - \\mu}{\\sigma})^2) \\times  exp(-\\frac{1}{2}(\\frac{\\mu}{10})^2) \\times exp(-\\sigma)$\n",
    "\n",
    "$ \\implies Pr(\\mu,\\sigma) = \\frac{\\frac{1}{\\sigma}\\prod_i exp(-\\frac{1}{2}(\\frac{h_i - \\mu}{\\sigma})^2)exp(-\\frac{1}{2}(\\frac{\\mu}{10})^2)exp(-\\sigma)}{\\int \\int \\frac{1}{\\sigma}\\prod_i exp(-\\frac{1}{2}(\\frac{h_i - \\mu}{\\sigma})^2)exp(-\\frac{1}{2}(\\frac{\\mu}{10})^2)exp(-\\sigma) d\\mu d\\sigma}$\n",
    "\n",
    "4E4. In the model definition below, which line is the linear model?\n",
    "yi ∼ Normal(µ, σ)\n",
    "\n",
    "µi = α + βxi\n",
    "\n",
    "α ∼ Normal(0, 10)\n",
    "\n",
    "β ∼ Normal(0, 1)\n",
    "\n",
    "σ ∼ Exponential(2)\n",
    "\n",
    "Answer: The second line. It encodes the linear dependence of the mean of the likelihood on the predictor variable, xi\n",
    "\n",
    "4E5. In the model definition just above, how many parameters are in the posterior distribution?\n",
    "\n",
    "Answer: There are three paramaters in the posterior distribution. $\\alpha$, $\\beta$, and $\\sigma$."
   ]
  },
  {
   "cell_type": "markdown",
   "metadata": {},
   "source": [
    "4M1. For the model definition below, simulate observed y values from the prior (not the posterior).\n",
    "\n",
    "yi ∼ Normal(µ, σ)\n",
    "\n",
    "µ ∼ Normal(0, 10)\n",
    "\n",
    "σ ∼ Exponential(1)"
   ]
  },
  {
   "cell_type": "code",
   "execution_count": 3,
   "metadata": {},
   "outputs": [],
   "source": [
    "#simulate the prior predictive distribution for 1,000 samples\n",
    "mu = np.random.normal(0,10,size=1000)#prior for mu\n",
    "sigma = np.random.exponential(1,size=1000)#prior for sigma\n",
    "#get the samples from the likelihood\n",
    "y = np.random.normal(mu,sigma)"
   ]
  },
  {
   "cell_type": "code",
   "execution_count": 4,
   "metadata": {},
   "outputs": [
    {
     "data": {
      "image/png": "[encoded data removed]",
      "text/plain": [
       "<Figure size 432x288 with 1 Axes>"
      ]
     },
     "metadata": {
      "needs_background": "light"
     },
     "output_type": "display_data"
    }
   ],
   "source": [
    "plt.title(\"Distribution of prior predictive values\")\n",
    "plt.hist(y)\n",
    "plt.show()"
   ]
  },
  {
   "cell_type": "markdown",
   "metadata": {},
   "source": [
    "4M2. Translate the model just above into a quap formula.\n",
    "\n",
    "Answer: N/A. This is a function in the statistical rethinking R package\n",
    "\n",
    "4M3: Ditto\n",
    "\n",
    "4M4. A sample of students is measured for height each year for 3 years. After the third year, you want to fit a linear regression predicting height using year as a predictor. Write down the mathematical\n",
    "model definition for this regression, using any variable names and priors you choose. Be prepared to\n",
    "defend your choice of priors.\n",
    "\n",
    "Answer:\n",
    "\n",
    "I'm assuming these are young students who grow linearly with time\n",
    "\n",
    "Let $h_i, y, \\sigma$ be height, year/time since first measurement, mean and standard deviation respectively\n",
    "\n",
    "$h_i$ ~ $N(\\mu,\\sigma^2)$ #As height is roughly normally distributed and the variance is constant with age. On a 3 year time scale, and for a simple model, I don't see why height variance would alter substantially with age. This is a sketchy assumption, and one could opt to include some temporal dependence in the variance.\n",
    "\n",
    "$\\mu = \\alpha + \\beta y$ #Assume the mean has some linear dependence on time\n",
    "\n",
    "$\\alpha$ ~ $N(1,0.1^2)$ #Assume the students are toddlers around the 1 metre height mark at the start of the measuring time. The standard deviation allows for a considerable range of heights, but nothing to fantastical like 0 or 2 metres tall.\n",
    "\n",
    "$\\beta$ ~ $log-N(0,1)$ #It seems perfectly sensible that the amount an average students height changes per year should only be positive. Additionally, I have no idea what the growth rate is so this enocodes ignorance about the rate of change of height per year\n",
    "\n",
    "$\\sigma$ ~ $Unif(0,50)$"
   ]
  },
  {
   "cell_type": "markdown",
   "metadata": {},
   "source": [
    "4M5. Now suppose I remind you that every student got taller each year. Does this information lead\n",
    "you to change your choice of priors? How?\n",
    "\n",
    "Answer: No it does not. I already factored this in."
   ]
  },
  {
   "cell_type": "markdown",
   "metadata": {},
   "source": [
    "4M6. Now suppose I tell you that the variance among heights for students of the same age is never\n",
    "more than 64cm. How does this lead you to revise your priors?\n",
    "\n",
    "Answer: This would cause me to use an even larger range of plausable values in my prior for $\\sigma$. Given my assumption for the students ages, increasing the range seems to be not sensible for the data at hand.\n",
    "\n",
    "4M7. Refit model m4.3 from the chapter, but omit the mean weight xbar this time. Compare the\n",
    "new model’s posterior to that of the original model. In particular, look at the covariance among the\n",
    "parameters. What is different? Then compare the posterior predictions of both models."
   ]
  },
  {
   "cell_type": "code",
   "execution_count": null,
   "metadata": {},
   "outputs": [],
   "source": []
  },
  {
   "cell_type": "code",
   "execution_count": 2,
   "metadata": {},
   "outputs": [],
   "source": [
    "#get the data for the adults\n",
    "#load in the data\n",
    "howell1 = pd.read_csv(\"data/Howell1.csv\", delimiter=\";\")\n",
    "data = howell1[howell1.age >= 18]"
   ]
  },
  {
   "cell_type": "code",
   "execution_count": 5,
   "metadata": {},
   "outputs": [
    {
     "data": {
      "text/html": [
       "\n",
       "    <div>\n",
       "        <style>\n",
       "            /* Turns off some styling */\n",
       "            progress {\n",
       "                /* gets rid of default border in Firefox and Opera. */\n",
       "                border: none;\n",
       "                /* Needs to be in here for Safari polyfill so background images work as expected. */\n",
       "                background-size: auto;\n",
       "            }\n",
       "            .progress-bar-interrupted, .progress-bar-interrupted::-webkit-progress-bar {\n",
       "                background: #F44336;\n",
       "            }\n",
       "        </style>\n",
       "      <progress value='52' class='' max='52' style='width:300px; height:20px; vertical-align: middle;'></progress>\n",
       "      100.00% [52/52 00:00<00:00 logp = -1,084.7, ||grad|| = 0.010016]\n",
       "    </div>\n",
       "    "
      ],
      "text/plain": [
       "<IPython.core.display.HTML object>"
      ]
     },
     "metadata": {},
     "output_type": "display_data"
    },
    {
     "name": "stdout",
     "output_type": "stream",
     "text": [
      "\n",
      "{'alpha': array(114.5342983), 'beta_log__': array(-0.11571346), 'sigma_interval__': array(-2.18116842), 'beta': array(0.89073042), 'sigma': array(5.07271819)}\n"
     ]
    }
   ],
   "source": [
    "with pm.Model() as m4_1:\n",
    "    alpha = pm.Normal('alpha', mu=178, sd=20)#prior on alpha\n",
    "    beta = pm.Lognormal(\"beta\", mu=0,tau=1)#prior on beta\n",
    "    sigma = pm.Uniform(\"sigma\",0,50)#prior on sigma\n",
    "    mu = alpha + beta*data.weight.values\n",
    "    height = pm.Normal('height', mu=mu, sd=sigma, observed=data.height)#likelihood of the data\n",
    "    mean_q = pm.find_MAP()\n",
    "    print(mean_q)\n",
    "    Hess = pm.find_hessian(mean_q, vars=[alpha, beta,sigma])#find the hessian matrix\n"
   ]
  },
  {
   "cell_type": "code",
   "execution_count": 6,
   "metadata": {},
   "outputs": [
    {
     "data": {
      "image/png": "[encoded data removed]",
      "text/plain": [
       "<Figure size 432x288 with 1 Axes>"
      ]
     },
     "metadata": {
      "needs_background": "light"
     },
     "output_type": "display_data"
    }
   ],
   "source": [
    "mu = mean_q[\"alpha\"] + mean_q[\"beta\"]*(np.linspace(30,70,100))\n",
    "plt.plot(np.linspace(30,70,100) , mu)\n",
    "plt.scatter(data.weight,data.height, s = 0.5)\n",
    "plt.title(\"The MAP paramater fit to the data\")\n",
    "plt.xlabel(\"Weight\")\n",
    "plt.ylabel(\"Height\")\n",
    "plt.show()"
   ]
  },
  {
   "cell_type": "code",
   "execution_count": 7,
   "metadata": {},
   "outputs": [],
   "source": [
    "var_cov = np.linalg.inv(Hess)"
   ]
  },
  {
   "cell_type": "code",
   "execution_count": 8,
   "metadata": {},
   "outputs": [
    {
     "data": {
      "text/plain": [
       "155.02573526867684"
      ]
     },
     "execution_count": 8,
     "metadata": {},
     "output_type": "execute_result"
    }
   ],
   "source": [
    "np.mean(data.weight)*0.9 + mean_q[\"alpha\"]"
   ]
  },
  {
   "cell_type": "code",
   "execution_count": 9,
   "metadata": {},
   "outputs": [
    {
     "data": {
      "text/plain": [
       "(array([[ 3.60234135e+00, -7.84577731e-02,  9.35920755e-03],\n",
       "        [-7.84577731e-02,  1.74417272e-03, -2.04346411e-04],\n",
       "        [ 9.35920755e-03, -2.04346411e-04,  3.65761511e-02]]),\n",
       " {'alpha': array(114.5342983),\n",
       "  'beta_log__': array(-0.11571346),\n",
       "  'sigma_interval__': array(-2.18116842),\n",
       "  'beta': array(0.89073042),\n",
       "  'sigma': array(5.07271819)})"
      ]
     },
     "execution_count": 9,
     "metadata": {},
     "output_type": "execute_result"
    }
   ],
   "source": [
    "var_cov, mean_q"
   ]
  },
  {
   "cell_type": "markdown",
   "metadata": {},
   "source": [
    "As the Laplace's method approximates with a normal distribution, we can simply get the get the 89% compatability interval of the $\\beta$ parameter by finding the central 89% interval of a gaussian with the location and scale parameters found from the quadratic approximation."
   ]
  },
  {
   "cell_type": "code",
   "execution_count": 10,
   "metadata": {},
   "outputs": [
    {
     "data": {
      "text/plain": [
       "(0.8239846054328593, 0.9574762250960549)"
      ]
     },
     "execution_count": 10,
     "metadata": {},
     "output_type": "execute_result"
    }
   ],
   "source": [
    "stats.norm.interval(0.89, loc = mean_q[\"beta\"], scale = np.sqrt(var_cov[1,1]))"
   ]
  },
  {
   "cell_type": "markdown",
   "metadata": {},
   "source": [
    "The off diagonal elements of the covariance matrix are negligible. Therefore one expects only a week correlation to be found between these paramater values. Using the multivatiate gaussian approximation to the posterior, we can take samples of the line parameters of the posterior and plot them against the actual data."
   ]
  },
  {
   "cell_type": "code",
   "execution_count": 11,
   "metadata": {},
   "outputs": [],
   "source": [
    "means = np.fromiter(mean_q.values(), dtype=float)[[0,3,4]]"
   ]
  },
  {
   "cell_type": "code",
   "execution_count": 12,
   "metadata": {},
   "outputs": [
    {
     "name": "stderr",
     "output_type": "stream",
     "text": [
      "/home/aidan/anaconda3/envs/Bayes/lib/python3.8/site-packages/arviz/stats/stats.py:338: UserWarning: hpd will be deprecated Please replace hdi\n",
      "  warnings.warn((\"hpd will be deprecated \" \"Please replace hdi\"),)\n"
     ]
    }
   ],
   "source": [
    "#resample for posterior for 10,000 sample\n",
    "post_samples = np.random.multivariate_normal(means, var_cov,size = 10000)\n",
    "#compute the hpdi for a range of weight values\n",
    "cred_intervals = np.array([pm.hpd(post_samples[:,0] + post_samples[:,1]*(x), credible_interval =0.89) for x in np.linspace(30,70)])\n"
   ]
  },
  {
   "cell_type": "markdown",
   "metadata": {},
   "source": [
    "We may also wish to know the prediction intervals on the data. The plot above captures our uncertainty in the paramater values, as given by the posterior distribution. However, we would also like to know incorporate our uncertainty in the range of height outcomes at any given value of weight. This is captured by $\\sigma$ in our model. This is given by the posterior predictive distribution at each value."
   ]
  },
  {
   "cell_type": "code",
   "execution_count": 13,
   "metadata": {},
   "outputs": [],
   "source": [
    "#define a function to compute mu for all posterior samples at given value of x\n",
    "def compute_mu(x):\n",
    "    return post_samples[:,0] + post_samples[:,1]*(x)\n",
    "#compute the prediction interval in one line\n",
    "pred_intervals = np.array([pm.hpd(np.random.normal(loc = compute_mu(x), scale = post_samples[:,2]),credible_interval = 0.89) for x in np.linspace(30,70)])"
   ]
  },
  {
   "cell_type": "code",
   "execution_count": 14,
   "metadata": {
    "scrolled": true
   },
   "outputs": [
    {
     "data": {
      "image/png": "[encoded data removed]",
      "text/plain": [
       "<Figure size 432x288 with 1 Axes>"
      ]
     },
     "metadata": {
      "needs_background": "light"
     },
     "output_type": "display_data"
    }
   ],
   "source": [
    "plt.fill_between(np.linspace(30,70), pred_intervals[:,0], pred_intervals[:,1],alpha = 0.2)\n",
    "plt.fill_between(np.linspace(30,70), cred_intervals[:,0], cred_intervals[:,1],alpha = 0.4)\n",
    "plt.plot(np.linspace(30,70,100) , mu)\n",
    "plt.scatter(data.weight,data.height, s = 0.7)\n",
    "plt.xlabel(\"Weight\")\n",
    "plt.ylabel(\"Height\")\n",
    "plt.title(\"89% prediction intervals\")\n",
    "plt.show()"
   ]
  },
  {
   "cell_type": "code",
   "execution_count": null,
   "metadata": {},
   "outputs": [],
   "source": []
  },
  {
   "cell_type": "markdown",
   "metadata": {},
   "source": [
    "It can be seen that the predictions and the posterior values themselves look rather similar to each other. However the in the variance-covariance matrix appear to be a couple of orders of magnitude larger when one doesn't subtract the mean values from the data. Why is this? It's because the parameters signify different things in the two different situations. \n",
    "\n",
    "Inspect the model again:\n",
    "\n",
    "Originally we had \n",
    "\n",
    "$\\mu_i = \\alpha + \\beta(x_i - \\bar{x})$\n",
    "\n",
    "and in the second run we are instead deciding to fit\n",
    "\n",
    "$\\mu_i = \\alpha' + \\beta x_i$\n",
    "\n",
    "We can see that doing this in no way changes the model that is being fit to the data as we can derive one from the other as follows\n",
    "\n",
    "$\\mu_i = \\alpha + \\beta(x_i - \\bar{x}) = \\alpha - \\beta \\bar{x} + \\beta x_i = \\alpha' + \\beta x_i$\n",
    "\n",
    "That is to say\n",
    "\n",
    "$ \\alpha' = \\alpha - \\beta \\bar{x}$\n",
    "\n",
    "So as we can see, we can literally derive one parameter from the other. So why is the variance and covariance for the posterior of $\\alpha'$ so much larger than for $\\alpha$? It's because of what these parameters represent. For $\\alpha$, it can be seen that $\\mu = \\alpha$ when $x = \\bar{x}$. That is $\\alpha$ represents the mean height at the mean weight. Therefore, the uncertainty in $\\alpha$ is equivalent to the uncertainty in $\\mu$ when $x = \\bar{x}$, the mean of the weight. On the other hand, $\\mu = \\alpha'$ when $x = 0$, that is $\\alpha$ represent the y-intercept of the data. Inspecting the plot below makes it much clearer what is going on here."
   ]
  },
  {
   "cell_type": "code",
   "execution_count": 15,
   "metadata": {},
   "outputs": [
    {
     "name": "stderr",
     "output_type": "stream",
     "text": [
      "/home/aidan/anaconda3/envs/Bayes/lib/python3.8/site-packages/arviz/stats/stats.py:338: UserWarning: hpd will be deprecated Please replace hdi\n",
      "  warnings.warn((\"hpd will be deprecated \" \"Please replace hdi\"),)\n"
     ]
    },
    {
     "data": {
      "image/png": "[encoded data removed]",
      "text/plain": [
       "<Figure size 432x288 with 1 Axes>"
      ]
     },
     "metadata": {
      "needs_background": "light"
     },
     "output_type": "display_data"
    }
   ],
   "source": [
    "mu = mean_q[\"alpha\"] + mean_q[\"beta\"]*(np.linspace(0,70,100))\n",
    "cred_intervals = np.array([pm.hpd(post_samples[:,0] + post_samples[:,1]*(x), credible_interval =0.89) for x in np.linspace(0,70)])\n",
    "plt.fill_between(np.linspace(0,70), cred_intervals[:,0], cred_intervals[:,1],alpha = 0.4, label=\"Uncertainty in $\\mu$\")\n",
    "plt.plot(np.linspace(0,70,100) , mu)\n",
    "plt.scatter(data.weight,data.height, s = 0.7)\n",
    "plt.xlabel(\"Weight\")\n",
    "plt.ylabel(\"Height\")\n",
    "plt.axvline(np.mean(data.weight), ls=\"--\",c=\"r\", label=\"Mean weight\")\n",
    "plt.axvline(0, ls=\"--\",c=\"g\", label=\"y-axis\")\n",
    "plt.title(\"Parameters chosen near the data are more certain\")\n",
    "plt.legend(loc=(1.1,1))\n",
    "plt.show()"
   ]
  },
  {
   "cell_type": "markdown",
   "metadata": {},
   "source": [
    "It can be clearly seen that the uncertainty in the parameter in $\\mu$ and therefore $\\alpha'$ is much larger at the y intercept. This is represented by the larger hpdi band near the green line. On the the hpdi near the mean weight is very narrow. Intuitively is because there's no data near the y intercept, therefore the uncertainty in this region is far less constrained by our observations compared to the uncertainy near $\\mu$ where data abounds."
   ]
  },
  {
   "cell_type": "markdown",
   "metadata": {},
   "source": [
    "# Come back and do the Splines (if interested)\n",
    "\n",
    "I am time limited and splines don't seem obviously useful to me at this point and they aren't referenced in the rest of the book outside of chapter 4. I will return to them at a future date."
   ]
  },
  {
   "cell_type": "markdown",
   "metadata": {},
   "source": [
    "4H1. The weights listed below were recorded in the !Kung census, but heights were not recorded for\n",
    "these individuals. Provide predicted heights and 89% intervals for each of these individuals. That is,\n",
    "fill in the table below, using model-based predictions.\n",
    "\n",
    "| Individual | Weight | Expected height | 89% interval|\n",
    "|------|------|-------|-----|\n",
    "|   1  | 46.95|?|?|\n",
    "|   2  | 43.72|?|?|\n",
    "|   3  | 64.78|?|?|\n",
    "|   4  | 32.59|?|?|\n",
    "|   5  | 54.63|?|?|"
   ]
  },
  {
   "cell_type": "code",
   "execution_count": 16,
   "metadata": {},
   "outputs": [
    {
     "name": "stderr",
     "output_type": "stream",
     "text": [
      "/home/aidan/anaconda3/envs/Bayes/lib/python3.8/site-packages/arviz/stats/stats.py:338: UserWarning: hpd will be deprecated Please replace hdi\n",
      "  warnings.warn((\"hpd will be deprecated \" \"Please replace hdi\"),)\n"
     ]
    }
   ],
   "source": [
    "#define the data\n",
    "individuals = np.linspace(1,5,5)\n",
    "weight = np.array([ 46.95, 43.72, 64.78, 32.59, 54.63])\n",
    "#compute the mean predictions\n",
    "means = mean_q[\"alpha\"] + mean_q[\"beta\"]*weight\n",
    "#compute the prediction intervals\n",
    "pred_intervals = np.array([pm.hpd(np.random.normal(loc = compute_mu(x), scale = post_samples[:,2]),credible_interval = 0.89) for x in weight])\n",
    "data_dict = {\"Individual\": individuals, \"Weight\": weight, \"Expected height\": means, \"Low_interval\": pred_intervals[:,0],\"Upper_interval\": pred_intervals[:,1]}"
   ]
  },
  {
   "cell_type": "code",
   "execution_count": 17,
   "metadata": {},
   "outputs": [
    {
     "data": {
      "text/html": [
       "<div>\n",
       "<style scoped>\n",
       "    .dataframe tbody tr th:only-of-type {\n",
       "        vertical-align: middle;\n",
       "    }\n",
       "\n",
       "    .dataframe tbody tr th {\n",
       "        vertical-align: top;\n",
       "    }\n",
       "\n",
       "    .dataframe thead th {\n",
       "        text-align: right;\n",
       "    }\n",
       "</style>\n",
       "<table border=\"1\" class=\"dataframe\">\n",
       "  <thead>\n",
       "    <tr style=\"text-align: right;\">\n",
       "      <th></th>\n",
       "      <th>Individual</th>\n",
       "      <th>Weight</th>\n",
       "      <th>Expected height</th>\n",
       "      <th>Low_interval</th>\n",
       "      <th>Upper_interval</th>\n",
       "    </tr>\n",
       "  </thead>\n",
       "  <tbody>\n",
       "    <tr>\n",
       "      <th>0</th>\n",
       "      <td>1.0</td>\n",
       "      <td>46.95</td>\n",
       "      <td>156.354091</td>\n",
       "      <td>146.829326</td>\n",
       "      <td>165.726423</td>\n",
       "    </tr>\n",
       "    <tr>\n",
       "      <th>1</th>\n",
       "      <td>2.0</td>\n",
       "      <td>43.72</td>\n",
       "      <td>153.477032</td>\n",
       "      <td>143.820169</td>\n",
       "      <td>162.853214</td>\n",
       "    </tr>\n",
       "    <tr>\n",
       "      <th>2</th>\n",
       "      <td>3.0</td>\n",
       "      <td>64.78</td>\n",
       "      <td>172.235815</td>\n",
       "      <td>162.396332</td>\n",
       "      <td>181.695740</td>\n",
       "    </tr>\n",
       "    <tr>\n",
       "      <th>3</th>\n",
       "      <td>4.0</td>\n",
       "      <td>32.59</td>\n",
       "      <td>143.563203</td>\n",
       "      <td>134.054583</td>\n",
       "      <td>153.131179</td>\n",
       "    </tr>\n",
       "    <tr>\n",
       "      <th>4</th>\n",
       "      <td>5.0</td>\n",
       "      <td>54.63</td>\n",
       "      <td>163.194901</td>\n",
       "      <td>153.389789</td>\n",
       "      <td>172.414111</td>\n",
       "    </tr>\n",
       "  </tbody>\n",
       "</table>\n",
       "</div>"
      ],
      "text/plain": [
       "   Individual  Weight  Expected height  Low_interval  Upper_interval\n",
       "0         1.0   46.95       156.354091    146.829326      165.726423\n",
       "1         2.0   43.72       153.477032    143.820169      162.853214\n",
       "2         3.0   64.78       172.235815    162.396332      181.695740\n",
       "3         4.0   32.59       143.563203    134.054583      153.131179\n",
       "4         5.0   54.63       163.194901    153.389789      172.414111"
      ]
     },
     "execution_count": 17,
     "metadata": {},
     "output_type": "execute_result"
    }
   ],
   "source": [
    "#present everything in a pandas dataframe\n",
    "pd.DataFrame(data=data_dict)"
   ]
  },
  {
   "cell_type": "markdown",
   "metadata": {},
   "source": [
    "4H2. Select out all the rows in the Howell1 data with ages below 18 years of age. If you do it right,\n",
    "you should end up with a new data frame with 192 rows in it.\n",
    "\n",
    "(a) Fit a linear regression to these data, using quap. Present and interpret the estimates. For\n",
    "every 10 units of increase in weight, how much taller does the model predict a child gets?\n",
    "\n",
    "(b) Plot the raw data, with height on the vertical axis and weight on the horizontal axis. Superimpose the MAP regression line and 89% interval for the mean. Also superimpose the 89% interval\n",
    "for predicted heights.\n",
    "\n",
    "(c) What aspects of the model fit concern you? Describe the kinds of assumptions you would\n",
    "change, if any, to improve the model. You don’t have to write any new code. Just explain what the\n",
    "model appears to be doing a bad job of, and what you hypothesize would be a better model.\n",
    "\n"
   ]
  },
  {
   "cell_type": "code",
   "execution_count": 18,
   "metadata": {},
   "outputs": [],
   "source": [
    "#get the young data\n",
    "y_data = howell1[howell1.age<18]"
   ]
  },
  {
   "cell_type": "code",
   "execution_count": 19,
   "metadata": {},
   "outputs": [
    {
     "data": {
      "text/plain": [
       "(192, 4)"
      ]
     },
     "execution_count": 19,
     "metadata": {},
     "output_type": "execute_result"
    }
   ],
   "source": [
    "#check the correct amount of data is present\n",
    "y_data.shape"
   ]
  },
  {
   "cell_type": "code",
   "execution_count": 20,
   "metadata": {},
   "outputs": [
    {
     "data": {
      "image/png": "[encoded data removed]",
      "text/plain": [
       "<Figure size 432x288 with 1 Axes>"
      ]
     },
     "metadata": {
      "needs_background": "light"
     },
     "output_type": "display_data"
    }
   ],
   "source": [
    "#check out the data\n",
    "plt.scatter(y_data.weight, y_data.height)\n",
    "plt.xlabel(\"Weight\")\n",
    "plt.ylabel(\"Height\")\n",
    "plt.title(\"Under 18 Weight-Height scatter\")\n",
    "plt.show()"
   ]
  },
  {
   "cell_type": "markdown",
   "metadata": {},
   "source": [
    "I lazily fit the same model from earlier\n",
    "\n",
    "$H_i$ ~ $N(\\mu_i,\\sigma^2)$\n",
    "\n",
    "$\\mu_i = \\alpha + \\beta(x_i - \\bar{x})$\n",
    "\n",
    "$\\alpha$ ~ $log-N(178,20^2)$\n",
    "\n",
    "$\\beta$ ~ $N(0,10)$\n",
    "\n",
    "$\\sigma$ ~ $Unif(0,50)$"
   ]
  },
  {
   "cell_type": "code",
   "execution_count": 21,
   "metadata": {},
   "outputs": [
    {
     "data": {
      "text/plain": [
       "18.414193058854167"
      ]
     },
     "execution_count": 21,
     "metadata": {},
     "output_type": "execute_result"
    }
   ],
   "source": [
    "np.mean(y_data.weight.values)"
   ]
  },
  {
   "cell_type": "code",
   "execution_count": 22,
   "metadata": {},
   "outputs": [
    {
     "data": {
      "text/html": [
       "\n",
       "    <div>\n",
       "        <style>\n",
       "            /* Turns off some styling */\n",
       "            progress {\n",
       "                /* gets rid of default border in Firefox and Opera. */\n",
       "                border: none;\n",
       "                /* Needs to be in here for Safari polyfill so background images work as expected. */\n",
       "                background-size: auto;\n",
       "            }\n",
       "            .progress-bar-interrupted, .progress-bar-interrupted::-webkit-progress-bar {\n",
       "                background: #F44336;\n",
       "            }\n",
       "        </style>\n",
       "      <progress value='20' class='' max='20' style='width:300px; height:20px; vertical-align: middle;'></progress>\n",
       "      100.00% [20/20 00:00<00:00 logp = -1,139.3, ||grad|| = 512.16]\n",
       "    </div>\n",
       "    "
      ],
      "text/plain": [
       "<IPython.core.display.HTML object>"
      ]
     },
     "metadata": {},
     "output_type": "display_data"
    },
    {
     "name": "stdout",
     "output_type": "stream",
     "text": [
      "\n",
      "{'alpha': array(110.51577411), 'beta_log__': array(0.95429403), 'sigma_interval__': array(36.49940751), 'beta': array(2.59683665), 'sigma': array(50.)}\n"
     ]
    }
   ],
   "source": [
    "#obtain a linear model with Laplace's approximation\n",
    "with pm.Model() as m4_1:\n",
    "    alpha = pm.Normal('alpha', mu=178, sd=20)#prior on alpha\n",
    "    beta = pm.Lognormal(\"beta\", mu=0,tau=1)#prior on beta\n",
    "    sigma = pm.Uniform(\"sigma\",0,50)#prior on sigma\n",
    "    mu = alpha + beta*(y_data.weight.values - np.mean(y_data.weight.values))\n",
    "    height = pm.Normal('height', mu=mu, sd=sigma, observed=y_data.height.values)#likelihood of the data\n",
    "    mean_q = pm.find_MAP()\n",
    "    print(mean_q)\n",
    "    Hess = pm.find_hessian(mean_q, vars=[alpha, beta,sigma])#find the hessian matrix"
   ]
  },
  {
   "cell_type": "code",
   "execution_count": 23,
   "metadata": {},
   "outputs": [
    {
     "name": "stderr",
     "output_type": "stream",
     "text": [
      "<ipython-input-23-178b569c79fe>:4: RuntimeWarning: covariance is not positive-semidefinite.\n",
      "  post_samples = np.random.multivariate_normal(means, var_cov,size = 10000)\n",
      "/home/aidan/anaconda3/envs/Bayes/lib/python3.8/site-packages/arviz/stats/stats.py:338: UserWarning: hpd will be deprecated Please replace hdi\n",
      "  warnings.warn((\"hpd will be deprecated \" \"Please replace hdi\"),)\n"
     ]
    },
    {
     "data": {
      "image/png": "[encoded data removed]",
      "text/plain": [
       "<Figure size 432x288 with 1 Axes>"
      ]
     },
     "metadata": {
      "needs_background": "light"
     },
     "output_type": "display_data"
    }
   ],
   "source": [
    "var_cov = np.linalg.inv(Hess)\n",
    "means = np.fromiter(mean_q.values(), dtype=float)[[0,3,4]]\n",
    "#resample for posterior for 10,000 sample\n",
    "post_samples = np.random.multivariate_normal(means, var_cov,size = 10000)\n",
    "#compute the hpdi for a range of weight values\n",
    "cred_intervals = np.array([pm.hpd(post_samples[:,0] + post_samples[:,1]*(x - np.mean(y_data.weight)), credible_interval =0.89) for x in np.linspace(0,50)])\n",
    "#define a function to compute mu for all posterior samples at given value of x\n",
    "def compute_mu(x):\n",
    "    return post_samples[:,0] + post_samples[:,1]*(x - np.mean(y_data.weight) )\n",
    "#compute the prediction interval in one line\n",
    "mu = mean_q[\"alpha\"] + mean_q[\"beta\"]*(np.linspace(0,50,100)- np.mean(y_data.weight) )\n",
    "pred_intervals = np.array([pm.hpd(np.random.normal(loc = compute_mu(x), scale = post_samples[:,2]),credible_interval = 0.89) for x in np.linspace(0,50)])\n",
    "plt.fill_between(np.linspace(0,50), pred_intervals[:,0], pred_intervals[:,1],alpha = 0.2)\n",
    "plt.fill_between(np.linspace(0,50), cred_intervals[:,0], cred_intervals[:,1],alpha = 0.4)\n",
    "plt.plot(np.linspace(0,50,100) , mu)\n",
    "plt.scatter(y_data.weight,y_data.height, s = 0.7)\n",
    "plt.xlabel(\"Weight\")\n",
    "plt.ylabel(\"Height\")\n",
    "plt.title(\"89% prediction intervals\")\n",
    "plt.axvline(np.mean(y_data.weight), ls=\"--\",c=\"r\", label=\"Mean weight\")\n",
    "plt.axhline(178, ls=\"--\",c=\"r\", label=\"Mean weight\")\n",
    "plt.show()"
   ]
  },
  {
   "cell_type": "markdown",
   "metadata": {},
   "source": [
    "As can be seen, this gives absurdly large prediction intervals. This is because I chose a stupid prior for $\\alpha$ which is the mean height at the mean weight. This is indicated by the crossover of the red lines above. If set the prior as \n",
    "\n",
    "$\\alpha$ ~ $N(100,20^2)$\n",
    "\n",
    "and then re-run everything, we see that we get far more sensible results for the data."
   ]
  },
  {
   "cell_type": "code",
   "execution_count": null,
   "metadata": {},
   "outputs": [],
   "source": []
  },
  {
   "cell_type": "code",
   "execution_count": 24,
   "metadata": {},
   "outputs": [
    {
     "data": {
      "text/html": [
       "\n",
       "    <div>\n",
       "        <style>\n",
       "            /* Turns off some styling */\n",
       "            progress {\n",
       "                /* gets rid of default border in Firefox and Opera. */\n",
       "                border: none;\n",
       "                /* Needs to be in here for Safari polyfill so background images work as expected. */\n",
       "                background-size: auto;\n",
       "            }\n",
       "            .progress-bar-interrupted, .progress-bar-interrupted::-webkit-progress-bar {\n",
       "                background: #F44336;\n",
       "            }\n",
       "        </style>\n",
       "      <progress value='23' class='' max='23' style='width:300px; height:20px; vertical-align: middle;'></progress>\n",
       "      100.00% [23/23 00:00<00:00 logp = -692.24, ||grad|| = 0.12841]\n",
       "    </div>\n",
       "    "
      ],
      "text/plain": [
       "<IPython.core.display.HTML object>"
      ]
     },
     "metadata": {},
     "output_type": "display_data"
    },
    {
     "name": "stdout",
     "output_type": "stream",
     "text": [
      "\n",
      "{'alpha': array(108.31115082), 'beta_log__': array(0.99940212), 'sigma_interval__': array(-1.5945605), 'beta': array(2.71665711), 'sigma': array(8.4371617)}\n"
     ]
    }
   ],
   "source": [
    "#obtain a linear model with Laplace's approximation\n",
    "with pm.Model() as m4_1:\n",
    "    alpha = pm.Normal('alpha', mu=100, sd=20)#prior on alpha\n",
    "    beta = pm.Lognormal(\"beta\", mu=0,tau=1)#prior on beta\n",
    "    sigma = pm.Uniform(\"sigma\",0,50)#prior on sigma\n",
    "    mu = alpha + beta*(y_data.weight.values - np.mean(y_data.weight.values))\n",
    "    height = pm.Normal('height', mu=mu, sd=sigma, observed=y_data.height.values)#likelihood of the data\n",
    "    mean_q = pm.find_MAP()\n",
    "    print(mean_q)\n",
    "    Hess = pm.find_hessian(mean_q, vars=[alpha, beta,sigma])#find the hessian matrix"
   ]
  },
  {
   "cell_type": "code",
   "execution_count": 25,
   "metadata": {},
   "outputs": [
    {
     "name": "stderr",
     "output_type": "stream",
     "text": [
      "/home/aidan/anaconda3/envs/Bayes/lib/python3.8/site-packages/arviz/stats/stats.py:338: UserWarning: hpd will be deprecated Please replace hdi\n",
      "  warnings.warn((\"hpd will be deprecated \" \"Please replace hdi\"),)\n"
     ]
    },
    {
     "data": {
      "image/png": "[encoded data removed]",
      "text/plain": [
       "<Figure size 432x288 with 1 Axes>"
      ]
     },
     "metadata": {
      "needs_background": "light"
     },
     "output_type": "display_data"
    }
   ],
   "source": [
    "var_cov = np.linalg.inv(Hess)\n",
    "means = np.fromiter(mean_q.values(), dtype=float)[[0,3,4]]\n",
    "#resample for posterior for 10,000 sample\n",
    "post_samples = np.random.multivariate_normal(means, var_cov,size = 10000)\n",
    "#compute the hpdi for a range of weight values\n",
    "cred_intervals = np.array([pm.hpd(post_samples[:,0] + post_samples[:,1]*(x - np.mean(y_data.weight)), credible_interval =0.89) for x in np.linspace(0,50)])\n",
    "#define a function to compute mu for all posterior samples at given value of x\n",
    "def compute_mu(x):\n",
    "    return post_samples[:,0] + post_samples[:,1]*(x - np.mean(y_data.weight) )\n",
    "#compute the prediction interval in one line\n",
    "mu = mean_q[\"alpha\"] + mean_q[\"beta\"]*(np.linspace(0,50,100)- np.mean(y_data.weight) )\n",
    "pred_intervals = np.array([pm.hpd(np.random.normal(loc = compute_mu(x), scale = post_samples[:,2]),credible_interval = 0.89) for x in np.linspace(0,50)])\n",
    "plt.fill_between(np.linspace(0,50), pred_intervals[:,0], pred_intervals[:,1],alpha = 0.2)\n",
    "plt.fill_between(np.linspace(0,50), cred_intervals[:,0], cred_intervals[:,1],alpha = 0.4)\n",
    "plt.plot(np.linspace(0,50,100) , mu)\n",
    "plt.scatter(y_data.weight,y_data.height, s = 0.7)\n",
    "plt.xlabel(\"Weight\")\n",
    "plt.ylabel(\"Height\")\n",
    "plt.title(\"89% prediction intervals\")\n",
    "plt.axvline(np.mean(y_data.weight), ls=\"--\",c=\"r\", label=\"Mean weight\")\n",
    "plt.axhline(100, ls=\"--\",c=\"r\", label=\"Mean weight\")\n",
    "plt.show()"
   ]
  },
  {
   "cell_type": "markdown",
   "metadata": {},
   "source": [
    "This is a much better fit and the narrow prediction intervals reflect this. The model is still poor in many regards. This includes the failure of the model to capture the non-linear variation of height with weight, which results in poor predictions at the extreme ends of the distribution. The reason the linearity breaks down is fairly intuitive. If I over consume food, my weight will go up, but my height will not. This is an obvious contributing factor to weight, but not height that violates the linear assumption. Trying a non-linear model would help aid in the prediction at the tails."
   ]
  },
  {
   "cell_type": "markdown",
   "metadata": {},
   "source": [
    "4H3. Suppose a colleague of yours, who works on allometry, glances at the practice problems just\n",
    "above. Your colleague exclaims, “That’s silly. Everyone knows that it’s only the logarithm of body\n",
    "weight that scales with height!” Let’s take your colleague’s advice and see what happens.\n",
    "\n",
    "(a) Model the relationship between height (cm) and the natural logarithm of weight (log-kg). Use\n",
    "the entire Howell1 data frame, all 544 rows, adults and non-adults. Can you interpret the resulting\n",
    "estimates?\n",
    "\n",
    "(b) Begin with this plot: plot( height ~ weight , data=Howell1 ). Then use samples\n",
    "from the quadratic approximate posterior of the model in (a) to superimpose on the plot: (1) the\n",
    "predicted mean height as a function of weight, (2) the 97% interval for the mean, and (3) the 97%\n",
    "interval for predicted heights"
   ]
  },
  {
   "cell_type": "code",
   "execution_count": 26,
   "metadata": {},
   "outputs": [],
   "source": [
    "#produce the new log_weight feature\n",
    "howell1[\"log_weight\"] = np.log(howell1.weight)"
   ]
  },
  {
   "cell_type": "code",
   "execution_count": 27,
   "metadata": {},
   "outputs": [
    {
     "data": {
      "image/png": "[encoded data removed]",
      "text/plain": [
       "<Figure size 432x288 with 1 Axes>"
      ]
     },
     "metadata": {
      "needs_background": "light"
     },
     "output_type": "display_data"
    }
   ],
   "source": [
    "plt.title(\"Log_weight against height\")\n",
    "plt.scatter(howell1.log_weight, howell1.height, s =0.5)\n",
    "plt.xlabel(\"log_weight\")\n",
    "plt.ylabel(\"Height\")\n",
    "plt.show()"
   ]
  },
  {
   "cell_type": "code",
   "execution_count": 28,
   "metadata": {},
   "outputs": [
    {
     "data": {
      "text/html": [
       "<div>\n",
       "<style scoped>\n",
       "    .dataframe tbody tr th:only-of-type {\n",
       "        vertical-align: middle;\n",
       "    }\n",
       "\n",
       "    .dataframe tbody tr th {\n",
       "        vertical-align: top;\n",
       "    }\n",
       "\n",
       "    .dataframe thead th {\n",
       "        text-align: right;\n",
       "    }\n",
       "</style>\n",
       "<table border=\"1\" class=\"dataframe\">\n",
       "  <thead>\n",
       "    <tr style=\"text-align: right;\">\n",
       "      <th></th>\n",
       "      <th>height</th>\n",
       "      <th>weight</th>\n",
       "      <th>age</th>\n",
       "      <th>male</th>\n",
       "      <th>log_weight</th>\n",
       "    </tr>\n",
       "  </thead>\n",
       "  <tbody>\n",
       "    <tr>\n",
       "      <th>0</th>\n",
       "      <td>151.765</td>\n",
       "      <td>47.825606</td>\n",
       "      <td>63.0</td>\n",
       "      <td>1</td>\n",
       "      <td>3.867561</td>\n",
       "    </tr>\n",
       "    <tr>\n",
       "      <th>1</th>\n",
       "      <td>139.700</td>\n",
       "      <td>36.485807</td>\n",
       "      <td>63.0</td>\n",
       "      <td>0</td>\n",
       "      <td>3.596923</td>\n",
       "    </tr>\n",
       "    <tr>\n",
       "      <th>2</th>\n",
       "      <td>136.525</td>\n",
       "      <td>31.864838</td>\n",
       "      <td>65.0</td>\n",
       "      <td>0</td>\n",
       "      <td>3.461503</td>\n",
       "    </tr>\n",
       "    <tr>\n",
       "      <th>3</th>\n",
       "      <td>156.845</td>\n",
       "      <td>53.041915</td>\n",
       "      <td>41.0</td>\n",
       "      <td>1</td>\n",
       "      <td>3.971082</td>\n",
       "    </tr>\n",
       "    <tr>\n",
       "      <th>4</th>\n",
       "      <td>145.415</td>\n",
       "      <td>41.276872</td>\n",
       "      <td>51.0</td>\n",
       "      <td>0</td>\n",
       "      <td>3.720302</td>\n",
       "    </tr>\n",
       "    <tr>\n",
       "      <th>...</th>\n",
       "      <td>...</td>\n",
       "      <td>...</td>\n",
       "      <td>...</td>\n",
       "      <td>...</td>\n",
       "      <td>...</td>\n",
       "    </tr>\n",
       "    <tr>\n",
       "      <th>539</th>\n",
       "      <td>145.415</td>\n",
       "      <td>31.127751</td>\n",
       "      <td>17.0</td>\n",
       "      <td>1</td>\n",
       "      <td>3.438100</td>\n",
       "    </tr>\n",
       "    <tr>\n",
       "      <th>540</th>\n",
       "      <td>162.560</td>\n",
       "      <td>52.163080</td>\n",
       "      <td>31.0</td>\n",
       "      <td>1</td>\n",
       "      <td>3.954375</td>\n",
       "    </tr>\n",
       "    <tr>\n",
       "      <th>541</th>\n",
       "      <td>156.210</td>\n",
       "      <td>54.062496</td>\n",
       "      <td>21.0</td>\n",
       "      <td>0</td>\n",
       "      <td>3.990141</td>\n",
       "    </tr>\n",
       "    <tr>\n",
       "      <th>542</th>\n",
       "      <td>71.120</td>\n",
       "      <td>8.051258</td>\n",
       "      <td>0.0</td>\n",
       "      <td>1</td>\n",
       "      <td>2.085828</td>\n",
       "    </tr>\n",
       "    <tr>\n",
       "      <th>543</th>\n",
       "      <td>158.750</td>\n",
       "      <td>52.531624</td>\n",
       "      <td>68.0</td>\n",
       "      <td>1</td>\n",
       "      <td>3.961415</td>\n",
       "    </tr>\n",
       "  </tbody>\n",
       "</table>\n",
       "<p>544 rows × 5 columns</p>\n",
       "</div>"
      ],
      "text/plain": [
       "      height     weight   age  male  log_weight\n",
       "0    151.765  47.825606  63.0     1    3.867561\n",
       "1    139.700  36.485807  63.0     0    3.596923\n",
       "2    136.525  31.864838  65.0     0    3.461503\n",
       "3    156.845  53.041915  41.0     1    3.971082\n",
       "4    145.415  41.276872  51.0     0    3.720302\n",
       "..       ...        ...   ...   ...         ...\n",
       "539  145.415  31.127751  17.0     1    3.438100\n",
       "540  162.560  52.163080  31.0     1    3.954375\n",
       "541  156.210  54.062496  21.0     0    3.990141\n",
       "542   71.120   8.051258   0.0     1    2.085828\n",
       "543  158.750  52.531624  68.0     1    3.961415\n",
       "\n",
       "[544 rows x 5 columns]"
      ]
     },
     "execution_count": 28,
     "metadata": {},
     "output_type": "execute_result"
    }
   ],
   "source": [
    "howell1"
   ]
  },
  {
   "cell_type": "code",
   "execution_count": 29,
   "metadata": {},
   "outputs": [
    {
     "data": {
      "text/plain": [
       "3.442329848013859"
      ]
     },
     "execution_count": 29,
     "metadata": {},
     "output_type": "execute_result"
    }
   ],
   "source": [
    "np.mean(howell1.log_weight)"
   ]
  },
  {
   "cell_type": "markdown",
   "metadata": {},
   "source": [
    "Let's use the following model for the relationship between log weight and height.\n",
    "\n",
    "\n",
    "$H_i$ ~ $N(\\mu_i,\\sigma^2)$\n",
    "\n",
    "$\\mu_i = \\alpha + \\beta(log(x_i) - log(\\bar{x}))$\n",
    "\n",
    "$\\alpha$ ~ $N(178,20^2)$\n",
    "\n",
    "$\\beta$ ~ $Log-N(1,10)$\n",
    "\n",
    "$\\sigma$ ~ $Unif(0,50)$"
   ]
  },
  {
   "cell_type": "code",
   "execution_count": 30,
   "metadata": {},
   "outputs": [
    {
     "data": {
      "text/html": [
       "\n",
       "    <div>\n",
       "        <style>\n",
       "            /* Turns off some styling */\n",
       "            progress {\n",
       "                /* gets rid of default border in Firefox and Opera. */\n",
       "                border: none;\n",
       "                /* Needs to be in here for Safari polyfill so background images work as expected. */\n",
       "                background-size: auto;\n",
       "            }\n",
       "            .progress-bar-interrupted, .progress-bar-interrupted::-webkit-progress-bar {\n",
       "                background: #F44336;\n",
       "            }\n",
       "        </style>\n",
       "      <progress value='46' class='' max='46' style='width:300px; height:20px; vertical-align: middle;'></progress>\n",
       "      100.00% [46/46 00:00<00:00 logp = -1,718.1, ||grad|| = 859.12]\n",
       "    </div>\n",
       "    "
      ],
      "text/plain": [
       "<IPython.core.display.HTML object>"
      ]
     },
     "metadata": {},
     "output_type": "display_data"
    },
    {
     "name": "stdout",
     "output_type": "stream",
     "text": [
      "\n",
      "{'alpha': array(138.26840263), 'beta_log__': array(3.85166003), 'sigma_interval__': array(-2.16764365), 'beta': array(47.07113773), 'sigma': array(5.13469817)}\n"
     ]
    }
   ],
   "source": [
    "#obtain a linear model with Laplace's approximation\n",
    "with pm.Model() as m4_1:\n",
    "    alpha = pm.Normal('alpha', mu=178, sd=20)#prior on alpha\n",
    "    beta = pm.Lognormal(\"beta\", mu=0,tau=1)#prior on beta\n",
    "    sigma = pm.Uniform(\"sigma\",0,50)#prior on sigma\n",
    "    mu = alpha + beta*(howell1.log_weight.values - np.mean(howell1.log_weight.values))\n",
    "    height = pm.Normal('height', mu=mu, sd=sigma, observed=howell1.height.values)#likelihood of the data\n",
    "    mean_q = pm.find_MAP()\n",
    "    print(mean_q)\n",
    "    Hess = pm.find_hessian(mean_q, vars=[alpha, beta,sigma])#find the hessian matrix"
   ]
  },
  {
   "cell_type": "code",
   "execution_count": 31,
   "metadata": {},
   "outputs": [
    {
     "name": "stderr",
     "output_type": "stream",
     "text": [
      "/home/aidan/anaconda3/envs/Bayes/lib/python3.8/site-packages/arviz/stats/stats.py:338: UserWarning: hpd will be deprecated Please replace hdi\n",
      "  warnings.warn((\"hpd will be deprecated \" \"Please replace hdi\"),)\n"
     ]
    },
    {
     "data": {
      "image/png": "[encoded data removed]",
      "text/plain": [
       "<Figure size 432x288 with 1 Axes>"
      ]
     },
     "metadata": {
      "needs_background": "light"
     },
     "output_type": "display_data"
    }
   ],
   "source": [
    "var_cov = np.linalg.inv(Hess)\n",
    "means = np.fromiter(mean_q.values(), dtype=float)[[0,3,4]]\n",
    "#resample for posterior for 10,000 sample\n",
    "post_samples = np.random.multivariate_normal(means, var_cov,size = 10000)\n",
    "#compute the hpdi for a range of weight values\n",
    "cred_intervals = np.array([pm.hpd(post_samples[:,0] + post_samples[:,1]*(np.log(x) - np.mean(howell1.log_weight)), credible_interval =0.89) for x in np.linspace(0,50)])\n",
    "#define a function to compute mu for all posterior samples at given value of x\n",
    "def compute_mu(x):\n",
    "    return post_samples[:,0] + post_samples[:,1]*(x - np.mean(howell1.log_weight)) \n",
    "#compute the prediction interval in one line\n",
    "mu = mean_q[\"alpha\"] + mean_q[\"beta\"]*(np.log(np.linspace(0,50,100))- np.mean(howell1.log_weight) )\n",
    "pred_intervals = np.array([pm.hpd(np.random.normal(loc = compute_mu(x), scale = post_samples[:,2]),credible_interval = 0.89) for x in np.log(np.linspace(0,50))])\n",
    "plt.fill_between(np.linspace(0,50), pred_intervals[:,0], pred_intervals[:,1],alpha = 0.2)\n",
    "plt.fill_between(np.linspace(0,50), cred_intervals[:,0], cred_intervals[:,1],alpha = 0.3)\n",
    "plt.plot(np.linspace(0,50,100) , mu)\n",
    "plt.scatter(y_data.weight,y_data.height, s = 0.7)\n",
    "plt.xlabel(\"Weight\")\n",
    "plt.ylabel(\"Height\")\n",
    "plt.title(\"89% prediction intervals\")\n",
    "plt.axvline(np.mean(y_data.weight), ls=\"--\",c=\"r\", label=\"Mean weight\")\n",
    "plt.axhline(100, ls=\"--\",c=\"r\", label=\"Mean weight\")\n",
    "plt.show()"
   ]
  },
  {
   "cell_type": "markdown",
   "metadata": {},
   "source": [
    "Using a log transform of the data appears to give sensible results for our observations. Obviously, extrapolating this fit too far will give terrible conclusions."
   ]
  },
  {
   "cell_type": "markdown",
   "metadata": {},
   "source": [
    "4H4. Plot the prior predictive distribution for the parabolic polynomial regression model in the\n",
    "chapter. You can modify the code that plots the linear regression prior predictive distribution. Can\n",
    "you modify the prior distributions of α, β1, and β2 so that the prior predictions stay within the biologically reasonable outcome space? That is to say: Do not try to fit the data by hand. But do try to\n",
    "keep the curves consistent with what you know about height and weight, before seeing these exact\n",
    "data."
   ]
  },
  {
   "cell_type": "code",
   "execution_count": 32,
   "metadata": {},
   "outputs": [
    {
     "data": {
      "image/png": "[encoded data removed]",
      "text/plain": [
       "<Figure size 432x288 with 1 Axes>"
      ]
     },
     "metadata": {
      "needs_background": "light"
     },
     "output_type": "display_data"
    }
   ],
   "source": [
    "sns.scatterplot(x=\"weight\",y=\"height\",data=howell1)\n",
    "plt.show()"
   ]
  },
  {
   "cell_type": "markdown",
   "metadata": {},
   "source": [
    "I implemented the code for this earlier in the notebook but with a modified model. The justifications for the priors are written along side:\n",
    "    \n",
    "$H_i$ ~ $N(\\mu_i,\\sigma^2)$\n",
    "\n",
    "$\\mu_i = \\alpha + \\beta_1 (x_i - \\overline{x}) - \\beta_2(x_i - \\overline{x})^2 $ #Note that it's -$\\beta_2$. Positive prior on $\\beta$ ensures the paraboloid curves in the correct direction.\n",
    "\n",
    "$\\alpha$ ~ $N(158,30^2)$ # Reduced mean height at mean weight, as we are looking at a much larger age range now, so we expect younger people to drag the mean height down at any given weight relative to the adult only data set\n",
    "\n",
    "$\\beta_1$ ~ $Lognormal(0,1)$ # Need a linear base line to perturb\n",
    "\n",
    "\n",
    "The seconds term puts a small deviation from linearity\n",
    "\n",
    "$\\beta_2$ ~ $exp(0.1)$ #This should be positive to ensure concavity, and small to ensure small only small perturbation from linearity in weights\n",
    "\n",
    "$\\sigma$ ~ $Unif(0,50)$"
   ]
  },
  {
   "cell_type": "code",
   "execution_count": 33,
   "metadata": {},
   "outputs": [],
   "source": [
    "#simulate the prior predictive distribution\n",
    "alpha = np.random.normal(150,30,size=1000)\n",
    "beta1 = np.random.lognormal(0,1,1000)\n",
    "beta2 = np.random.exponential(0.05,size=1000)\n",
    "sigma = np.random.normal(0,70,1000)\n",
    "def compute_mu(alpha,beta1,beta2,x):\n",
    "    return alpha + beta1*(x-np.mean(howell1.weight)) - beta2*(x-np.mean(howell1.weight))**2"
   ]
  },
  {
   "cell_type": "code",
   "execution_count": 34,
   "metadata": {},
   "outputs": [
    {
     "name": "stderr",
     "output_type": "stream",
     "text": [
      "/home/aidan/anaconda3/envs/Bayes/lib/python3.8/site-packages/arviz/stats/stats.py:338: UserWarning: hpd will be deprecated Please replace hdi\n",
      "  warnings.warn((\"hpd will be deprecated \" \"Please replace hdi\"),)\n"
     ]
    }
   ],
   "source": [
    "pred_intervals = np.array([pm.hpd(compute_mu(alpha,beta1,beta2,x),0.89) for x in np.linspace(0,70)])"
   ]
  },
  {
   "cell_type": "code",
   "execution_count": 35,
   "metadata": {},
   "outputs": [
    {
     "data": {
      "image/png": "[encoded data removed]",
      "text/plain": [
       "<Figure size 432x288 with 1 Axes>"
      ]
     },
     "metadata": {
      "needs_background": "light"
     },
     "output_type": "display_data"
    }
   ],
   "source": [
    "sns.scatterplot(x=\"weight\",y=\"height\",data=howell1)\n",
    "plt.fill_between(np.linspace(0,70),pred_intervals[:,0],pred_intervals[:,1],alpha = 0.5)\n",
    "plt.title(\"Prior predictive distribution of heights\")\n",
    "plt.show()"
   ]
  },
  {
   "cell_type": "markdown",
   "metadata": {},
   "source": [
    "By using an exponential prior on $\\beta_2$ this ensures the parabolic curve must be concave, thus no increasing growth in height with weight is possible and makes perfect sense on physical grounds. However extreme and absurd values are still found near the extremes of the data. One could tighten the parameters to ensure this didn't happen, but as s first approximation based on thinking this isn't too bad."
   ]
  },
  {
   "cell_type": "code",
   "execution_count": null,
   "metadata": {},
   "outputs": [],
   "source": []
  }
 ],
 "metadata": {
  "kernelspec": {
   "display_name": "Bayes",
   "language": "python",
   "name": "bayes"
  },
  "language_info": {
   "codemirror_mode": {
    "name": "ipython",
    "version": 3
   },
   "file_extension": ".py",
   "mimetype": "text/x-python",
   "name": "python",
   "nbconvert_exporter": "python",
   "pygments_lexer": "ipython3",
   "version": "3.8.5"
  }
 },
 "nbformat": 4,
 "nbformat_minor": 4
}
