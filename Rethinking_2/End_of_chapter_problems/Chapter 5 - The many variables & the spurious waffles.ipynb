{
 "cells": [
  {
   "cell_type": "code",
   "execution_count": 1,
   "metadata": {},
   "outputs": [],
   "source": [
    "import numpy as np\n",
    "import matplotlib.pylab as plt\n",
    "import scipy.stats as stats\n",
    "import pymc3 as pm\n",
    "import pandas as pd\n",
    "import seaborn as sns\n",
    "import arviz as az\n",
    "from causalgraphicalmodels import CausalGraphicalModel"
   ]
  },
  {
   "cell_type": "markdown",
   "metadata": {},
   "source": [
    "# Chapter 5 - The many variables & the spurious waffles"
   ]
  },
  {
   "cell_type": "markdown",
   "metadata": {},
   "source": [
    "To start with I'll be reimplementing the figures to produce the plots. I'll be doing this the hard way, step by step for this chapter. Then, in the producing the plots for I'll be piggybacking on pymc3 to make everything more succinct, readable, and to speed up the general workflow. In general, everything will get much more readable with time!"
   ]
  },
  {
   "cell_type": "markdown",
   "metadata": {},
   "source": [
    "## 5.1 Spurious association"
   ]
  },
  {
   "cell_type": "markdown",
   "metadata": {},
   "source": [
    "### Multiple regression"
   ]
  },
  {
   "cell_type": "code",
   "execution_count": 2,
   "metadata": {},
   "outputs": [],
   "source": [
    "data = pd.read_csv(\"./data/WaffleDivorce.csv\",delimiter=\";\")# load waffle data"
   ]
  },
  {
   "cell_type": "markdown",
   "metadata": {},
   "source": [
    "One can peform linear regressions. I reproduce fig 5.2 showing the Bayesian linear regressions between Marriage rate and divorce rate asa well as Median Marriage age and divorce rate"
   ]
  },
  {
   "cell_type": "code",
   "execution_count": 276,
   "metadata": {},
   "outputs": [],
   "source": [
    "#scale all of the data\n",
    "scaled_M = (data.Marriage - np.mean(data.Marriage))/np.std(data.Marriage)\n",
    "scaled_A = (data.MedianAgeMarriage - np.mean(data.MedianAgeMarriage))/np.std(data.MedianAgeMarriage)\n",
    "scaled_D = (data.Divorce - np.mean(data.Divorce))/np.std(data.Divorce)"
   ]
  },
  {
   "cell_type": "code",
   "execution_count": 4,
   "metadata": {},
   "outputs": [
    {
     "name": "stderr",
     "output_type": "stream",
     "text": [
      "Only 250 samples in chain.\n",
      "Auto-assigning NUTS sampler...\n",
      "Initializing NUTS using jitter+adapt_diag...\n",
      "Multiprocess sampling (4 chains in 4 jobs)\n",
      "NUTS: [sigma, beta_M, alpha]\n"
     ]
    },
    {
     "data": {
      "text/html": [
       "\n",
       "    <div>\n",
       "        <style>\n",
       "            /* Turns off some styling */\n",
       "            progress {\n",
       "                /* gets rid of default border in Firefox and Opera. */\n",
       "                border: none;\n",
       "                /* Needs to be in here for Safari polyfill so background images work as expected. */\n",
       "                background-size: auto;\n",
       "            }\n",
       "            .progress-bar-interrupted, .progress-bar-interrupted::-webkit-progress-bar {\n",
       "                background: #F44336;\n",
       "            }\n",
       "        </style>\n",
       "      <progress value='5000' class='' max='5000' style='width:300px; height:20px; vertical-align: middle;'></progress>\n",
       "      100.00% [5000/5000 00:07<00:00 Sampling 4 chains, 0 divergences]\n",
       "    </div>\n",
       "    "
      ],
      "text/plain": [
       "<IPython.core.display.HTML object>"
      ]
     },
     "metadata": {},
     "output_type": "display_data"
    },
    {
     "name": "stderr",
     "output_type": "stream",
     "text": [
      "Sampling 4 chains for 1_000 tune and 250 draw iterations (4_000 + 1_000 draws total) took 9 seconds.\n",
      "/home/aidan/anaconda3/envs/Bayes/lib/python3.8/site-packages/arviz/data/io_pymc3.py:85: FutureWarning: Using `from_pymc3` without the model will be deprecated in a future release. Not using the model will return less accurate and less useful results. Make sure you use the model argument or call from_pymc3 within a model context.\n",
      "  warnings.warn(\n"
     ]
    },
    {
     "data": {
      "text/html": [
       "<div>\n",
       "<style scoped>\n",
       "    .dataframe tbody tr th:only-of-type {\n",
       "        vertical-align: middle;\n",
       "    }\n",
       "\n",
       "    .dataframe tbody tr th {\n",
       "        vertical-align: top;\n",
       "    }\n",
       "\n",
       "    .dataframe thead th {\n",
       "        text-align: right;\n",
       "    }\n",
       "</style>\n",
       "<table border=\"1\" class=\"dataframe\">\n",
       "  <thead>\n",
       "    <tr style=\"text-align: right;\">\n",
       "      <th></th>\n",
       "      <th>mean</th>\n",
       "      <th>sd</th>\n",
       "      <th>hdi_3%</th>\n",
       "      <th>hdi_97%</th>\n",
       "      <th>mcse_mean</th>\n",
       "      <th>mcse_sd</th>\n",
       "      <th>ess_mean</th>\n",
       "      <th>ess_sd</th>\n",
       "      <th>ess_bulk</th>\n",
       "      <th>ess_tail</th>\n",
       "      <th>r_hat</th>\n",
       "    </tr>\n",
       "  </thead>\n",
       "  <tbody>\n",
       "    <tr>\n",
       "      <th>alpha</th>\n",
       "      <td>-0.003</td>\n",
       "      <td>0.118</td>\n",
       "      <td>-0.230</td>\n",
       "      <td>0.194</td>\n",
       "      <td>0.004</td>\n",
       "      <td>0.004</td>\n",
       "      <td>1077.0</td>\n",
       "      <td>479.0</td>\n",
       "      <td>1081.0</td>\n",
       "      <td>771.0</td>\n",
       "      <td>1.00</td>\n",
       "    </tr>\n",
       "    <tr>\n",
       "      <th>beta_M</th>\n",
       "      <td>0.352</td>\n",
       "      <td>0.132</td>\n",
       "      <td>0.126</td>\n",
       "      <td>0.622</td>\n",
       "      <td>0.004</td>\n",
       "      <td>0.003</td>\n",
       "      <td>1234.0</td>\n",
       "      <td>1204.0</td>\n",
       "      <td>1244.0</td>\n",
       "      <td>590.0</td>\n",
       "      <td>1.00</td>\n",
       "    </tr>\n",
       "    <tr>\n",
       "      <th>sigma</th>\n",
       "      <td>0.964</td>\n",
       "      <td>0.100</td>\n",
       "      <td>0.790</td>\n",
       "      <td>1.149</td>\n",
       "      <td>0.003</td>\n",
       "      <td>0.002</td>\n",
       "      <td>1147.0</td>\n",
       "      <td>1104.0</td>\n",
       "      <td>1179.0</td>\n",
       "      <td>778.0</td>\n",
       "      <td>1.01</td>\n",
       "    </tr>\n",
       "  </tbody>\n",
       "</table>\n",
       "</div>"
      ],
      "text/plain": [
       "         mean     sd  hdi_3%  hdi_97%  mcse_mean  mcse_sd  ess_mean  ess_sd  \\\n",
       "alpha  -0.003  0.118  -0.230    0.194      0.004    0.004    1077.0   479.0   \n",
       "beta_M  0.352  0.132   0.126    0.622      0.004    0.003    1234.0  1204.0   \n",
       "sigma   0.964  0.100   0.790    1.149      0.003    0.002    1147.0  1104.0   \n",
       "\n",
       "        ess_bulk  ess_tail  r_hat  \n",
       "alpha     1081.0     771.0   1.00  \n",
       "beta_M    1244.0     590.0   1.00  \n",
       "sigma     1179.0     778.0   1.01  "
      ]
     },
     "execution_count": 4,
     "metadata": {},
     "output_type": "execute_result"
    }
   ],
   "source": [
    "#running a Marriage_divorce linear regression\n",
    "with pm.Model() as Mar_Div:\n",
    "    alpha = pm.Normal('alpha', mu=0, sd=0.2)#prior on alpha\n",
    "    beta = pm.Normal(\"beta_M\", mu=0,sd=0.5)#prior on beta\n",
    "    sigma = pm.Exponential(\"sigma\",lam = 1)#prior on sigma\n",
    "    mu = alpha + beta * scaled_M\n",
    "    Divorce = pm.Normal('Divorce', mu=mu, sd=sigma, observed=scaled_D)#likelihood of the data\n",
    "    #print(mean_q)\n",
    "    #Hess = pm.find_hessian(mean_q, vars=[alpha, beta,sigma])#find the hessian matrix\n",
    "    Mar_Div_sample = pm.sample(draws= 250, chains = 4)#1000 random samples on 4 chains\n",
    "    #get summary reports from the MCMC\n",
    "    #pm.traceplot(sample)\n",
    "pm.summary(Mar_Div_sample)"
   ]
  },
  {
   "cell_type": "code",
   "execution_count": 5,
   "metadata": {},
   "outputs": [
    {
     "name": "stderr",
     "output_type": "stream",
     "text": [
      "Only 250 samples in chain.\n",
      "Auto-assigning NUTS sampler...\n",
      "Initializing NUTS using jitter+adapt_diag...\n",
      "Multiprocess sampling (4 chains in 4 jobs)\n",
      "NUTS: [sigma, beta_A, alpha]\n"
     ]
    },
    {
     "data": {
      "text/html": [
       "\n",
       "    <div>\n",
       "        <style>\n",
       "            /* Turns off some styling */\n",
       "            progress {\n",
       "                /* gets rid of default border in Firefox and Opera. */\n",
       "                border: none;\n",
       "                /* Needs to be in here for Safari polyfill so background images work as expected. */\n",
       "                background-size: auto;\n",
       "            }\n",
       "            .progress-bar-interrupted, .progress-bar-interrupted::-webkit-progress-bar {\n",
       "                background: #F44336;\n",
       "            }\n",
       "        </style>\n",
       "      <progress value='5000' class='' max='5000' style='width:300px; height:20px; vertical-align: middle;'></progress>\n",
       "      100.00% [5000/5000 00:02<00:00 Sampling 4 chains, 0 divergences]\n",
       "    </div>\n",
       "    "
      ],
      "text/plain": [
       "<IPython.core.display.HTML object>"
      ]
     },
     "metadata": {},
     "output_type": "display_data"
    },
    {
     "name": "stderr",
     "output_type": "stream",
     "text": [
      "Sampling 4 chains for 1_000 tune and 250 draw iterations (4_000 + 1_000 draws total) took 3 seconds.\n",
      "The acceptance probability does not match the target. It is 0.8851676387227548, but should be close to 0.8. Try to increase the number of tuning steps.\n",
      "/home/aidan/anaconda3/envs/Bayes/lib/python3.8/site-packages/arviz/data/io_pymc3.py:85: FutureWarning: Using `from_pymc3` without the model will be deprecated in a future release. Not using the model will return less accurate and less useful results. Make sure you use the model argument or call from_pymc3 within a model context.\n",
      "  warnings.warn(\n"
     ]
    },
    {
     "data": {
      "text/html": [
       "<div>\n",
       "<style scoped>\n",
       "    .dataframe tbody tr th:only-of-type {\n",
       "        vertical-align: middle;\n",
       "    }\n",
       "\n",
       "    .dataframe tbody tr th {\n",
       "        vertical-align: top;\n",
       "    }\n",
       "\n",
       "    .dataframe thead th {\n",
       "        text-align: right;\n",
       "    }\n",
       "</style>\n",
       "<table border=\"1\" class=\"dataframe\">\n",
       "  <thead>\n",
       "    <tr style=\"text-align: right;\">\n",
       "      <th></th>\n",
       "      <th>mean</th>\n",
       "      <th>sd</th>\n",
       "      <th>hdi_3%</th>\n",
       "      <th>hdi_97%</th>\n",
       "      <th>mcse_mean</th>\n",
       "      <th>mcse_sd</th>\n",
       "      <th>ess_mean</th>\n",
       "      <th>ess_sd</th>\n",
       "      <th>ess_bulk</th>\n",
       "      <th>ess_tail</th>\n",
       "      <th>r_hat</th>\n",
       "    </tr>\n",
       "  </thead>\n",
       "  <tbody>\n",
       "    <tr>\n",
       "      <th>alpha</th>\n",
       "      <td>-0.003</td>\n",
       "      <td>0.102</td>\n",
       "      <td>-0.184</td>\n",
       "      <td>0.189</td>\n",
       "      <td>0.003</td>\n",
       "      <td>0.003</td>\n",
       "      <td>1318.0</td>\n",
       "      <td>477.0</td>\n",
       "      <td>1305.0</td>\n",
       "      <td>785.0</td>\n",
       "      <td>1.0</td>\n",
       "    </tr>\n",
       "    <tr>\n",
       "      <th>beta_A</th>\n",
       "      <td>-0.564</td>\n",
       "      <td>0.112</td>\n",
       "      <td>-0.769</td>\n",
       "      <td>-0.364</td>\n",
       "      <td>0.003</td>\n",
       "      <td>0.002</td>\n",
       "      <td>1407.0</td>\n",
       "      <td>1359.0</td>\n",
       "      <td>1412.0</td>\n",
       "      <td>868.0</td>\n",
       "      <td>1.0</td>\n",
       "    </tr>\n",
       "    <tr>\n",
       "      <th>sigma</th>\n",
       "      <td>0.831</td>\n",
       "      <td>0.084</td>\n",
       "      <td>0.670</td>\n",
       "      <td>0.984</td>\n",
       "      <td>0.002</td>\n",
       "      <td>0.002</td>\n",
       "      <td>1204.0</td>\n",
       "      <td>1154.0</td>\n",
       "      <td>1243.0</td>\n",
       "      <td>653.0</td>\n",
       "      <td>1.0</td>\n",
       "    </tr>\n",
       "  </tbody>\n",
       "</table>\n",
       "</div>"
      ],
      "text/plain": [
       "         mean     sd  hdi_3%  hdi_97%  mcse_mean  mcse_sd  ess_mean  ess_sd  \\\n",
       "alpha  -0.003  0.102  -0.184    0.189      0.003    0.003    1318.0   477.0   \n",
       "beta_A -0.564  0.112  -0.769   -0.364      0.003    0.002    1407.0  1359.0   \n",
       "sigma   0.831  0.084   0.670    0.984      0.002    0.002    1204.0  1154.0   \n",
       "\n",
       "        ess_bulk  ess_tail  r_hat  \n",
       "alpha     1305.0     785.0    1.0  \n",
       "beta_A    1412.0     868.0    1.0  \n",
       "sigma     1243.0     653.0    1.0  "
      ]
     },
     "execution_count": 5,
     "metadata": {},
     "output_type": "execute_result"
    }
   ],
   "source": [
    "#running a Age_divorce linear regression\n",
    "with pm.Model() as Age_Div:\n",
    "    alpha = pm.Normal('alpha', mu=0, sd=0.2)#prior on alpha\n",
    "    beta = pm.Normal(\"beta_A\", mu=0,sd=0.5)#prior on beta\n",
    "    sigma = pm.Exponential(\"sigma\",lam = 1)#prior on sigma\n",
    "    mu = alpha + beta * scaled_A\n",
    "    Divorce = pm.Normal('Divorce', mu=mu, sd=sigma, observed=scaled_D)#likelihood of the data\n",
    "    #print(mean_q)\n",
    "    #Hess = pm.find_hessian(mean_q, vars=[alpha, beta,sigma])#find the hessian matrix\n",
    "    Age_Div_sample = pm.sample(draws= 250, chains = 4)#1000 random samples on 4 chains\n",
    "    #get summary reports from the MCMC\n",
    "    #pm.traceplot(sample)\n",
    "pm.summary(Age_Div_sample)"
   ]
  },
  {
   "cell_type": "code",
   "execution_count": 8,
   "metadata": {},
   "outputs": [],
   "source": [
    "#sample the posterior for a range of x values, for both models\n",
    "x1 = np.linspace(np.min(scaled_M),np.max(scaled_M))\n",
    "Mar_Div_post_samples = Mar_Div_sample[\"alpha\"] + np.outer(x1,Mar_Div_sample[\"beta_M\"])\n",
    "x2 = np.linspace(np.min(scaled_A),np.max(scaled_A))\n",
    "Age_Div_post_samples = Age_Div_sample[\"alpha\"] + np.outer(x2,Age_Div_sample[\"beta_A\"])"
   ]
  },
  {
   "cell_type": "code",
   "execution_count": 9,
   "metadata": {},
   "outputs": [],
   "source": [
    "#get the unscaled x coords\n",
    "unscaled_x1 = x1*np.std(data.Marriage) + np.mean(data.Marriage)\n",
    "means1 = np.mean(Mar_Div_post_samples,axis=1)*np.std(data.Divorce) + np.mean(data.Divorce)#get the means\n",
    "Lower1 = np.quantile(Mar_Div_post_samples,0.055,axis=1)*np.std(data.Divorce) + np.mean(data.Divorce)#get the lower interval\n",
    "Upper1 = np.quantile(Mar_Div_post_samples,0.945,axis=1)*np.std(data.Divorce) + np.mean(data.Divorce)#get the lower interval\n",
    "unscaled_x2 = x2*np.std(data.MedianAgeMarriage) + np.mean(data.MedianAgeMarriage)\n",
    "means2 = np.mean(Age_Div_post_samples,axis=1)*np.std(data.Divorce) + np.mean(data.Divorce)\n",
    "Lower2 = np.quantile(Age_Div_post_samples,0.055,axis=1)*np.std(data.Divorce) + np.mean(data.Divorce)#get the lower interval\n",
    "Upper2 = np.quantile(Age_Div_post_samples,0.945,axis=1)*np.std(data.Divorce) + np.mean(data.Divorce)#get the lower interva"
   ]
  },
  {
   "cell_type": "code",
   "execution_count": 10,
   "metadata": {},
   "outputs": [
    {
     "data": {
      "image/png": "[encoded data removed]",
      "text/plain": [
       "<Figure size 1080x432 with 2 Axes>"
      ]
     },
     "metadata": {
      "needs_background": "light"
     },
     "output_type": "display_data"
    }
   ],
   "source": [
    "fig, axs = plt.subplots(1,2,figsize=(15,6))\n",
    "axs[0].plot(unscaled_x1, means1)\n",
    "axs[0].fill_between(unscaled_x1,Lower1,Upper1,alpha=0.4)\n",
    "sns.scatterplot(x=\"Marriage\", y=\"Divorce\", data=data, ax=axs[0])\n",
    "axs[1].plot(unscaled_x2, means2)\n",
    "axs[1].fill_between(unscaled_x2,Lower2,Upper2,alpha=0.4)\n",
    "sns.scatterplot(x=\"MedianAgeMarriage\", y=\"Divorce\", data=data, ax=axs[1])\n",
    "fig.tight_layout()"
   ]
  },
  {
   "cell_type": "markdown",
   "metadata": {},
   "source": [
    "We see the pair wise associations exist between these variables. We can now fit the multivariate linear regression model."
   ]
  },
  {
   "cell_type": "code",
   "execution_count": 196,
   "metadata": {},
   "outputs": [
    {
     "name": "stderr",
     "output_type": "stream",
     "text": [
      "Only 250 samples in chain.\n",
      "Auto-assigning NUTS sampler...\n",
      "Initializing NUTS using jitter+adapt_diag...\n",
      "Multiprocess sampling (4 chains in 4 jobs)\n",
      "NUTS: [sigma, beta_A, beta_M, alpha]\n"
     ]
    },
    {
     "data": {
      "text/html": [
       "\n",
       "    <div>\n",
       "        <style>\n",
       "            /* Turns off some styling */\n",
       "            progress {\n",
       "                /* gets rid of default border in Firefox and Opera. */\n",
       "                border: none;\n",
       "                /* Needs to be in here for Safari polyfill so background images work as expected. */\n",
       "                background-size: auto;\n",
       "            }\n",
       "            .progress-bar-interrupted, .progress-bar-interrupted::-webkit-progress-bar {\n",
       "                background: #F44336;\n",
       "            }\n",
       "        </style>\n",
       "      <progress value='5000' class='' max='5000' style='width:300px; height:20px; vertical-align: middle;'></progress>\n",
       "      100.00% [5000/5000 00:01<00:00 Sampling 4 chains, 0 divergences]\n",
       "    </div>\n",
       "    "
      ],
      "text/plain": [
       "<IPython.core.display.HTML object>"
      ]
     },
     "metadata": {},
     "output_type": "display_data"
    },
    {
     "name": "stderr",
     "output_type": "stream",
     "text": [
      "Sampling 4 chains for 1_000 tune and 250 draw iterations (4_000 + 1_000 draws total) took 2 seconds.\n",
      "/home/aidan/anaconda3/envs/Bayes/lib/python3.8/site-packages/arviz/data/io_pymc3.py:85: FutureWarning: Using `from_pymc3` without the model will be deprecated in a future release. Not using the model will return less accurate and less useful results. Make sure you use the model argument or call from_pymc3 within a model context.\n",
      "  warnings.warn(\n"
     ]
    },
    {
     "data": {
      "text/html": [
       "<div>\n",
       "<style scoped>\n",
       "    .dataframe tbody tr th:only-of-type {\n",
       "        vertical-align: middle;\n",
       "    }\n",
       "\n",
       "    .dataframe tbody tr th {\n",
       "        vertical-align: top;\n",
       "    }\n",
       "\n",
       "    .dataframe thead th {\n",
       "        text-align: right;\n",
       "    }\n",
       "</style>\n",
       "<table border=\"1\" class=\"dataframe\">\n",
       "  <thead>\n",
       "    <tr style=\"text-align: right;\">\n",
       "      <th></th>\n",
       "      <th>mean</th>\n",
       "      <th>sd</th>\n",
       "      <th>hdi_3%</th>\n",
       "      <th>hdi_97%</th>\n",
       "      <th>mcse_mean</th>\n",
       "      <th>mcse_sd</th>\n",
       "      <th>ess_mean</th>\n",
       "      <th>ess_sd</th>\n",
       "      <th>ess_bulk</th>\n",
       "      <th>ess_tail</th>\n",
       "      <th>r_hat</th>\n",
       "    </tr>\n",
       "  </thead>\n",
       "  <tbody>\n",
       "    <tr>\n",
       "      <th>alpha</th>\n",
       "      <td>-0.004</td>\n",
       "      <td>0.109</td>\n",
       "      <td>-0.216</td>\n",
       "      <td>0.194</td>\n",
       "      <td>0.004</td>\n",
       "      <td>0.003</td>\n",
       "      <td>844.0</td>\n",
       "      <td>559.0</td>\n",
       "      <td>844.0</td>\n",
       "      <td>768.0</td>\n",
       "      <td>1.00</td>\n",
       "    </tr>\n",
       "    <tr>\n",
       "      <th>beta_M</th>\n",
       "      <td>-0.054</td>\n",
       "      <td>0.150</td>\n",
       "      <td>-0.334</td>\n",
       "      <td>0.222</td>\n",
       "      <td>0.006</td>\n",
       "      <td>0.004</td>\n",
       "      <td>558.0</td>\n",
       "      <td>558.0</td>\n",
       "      <td>574.0</td>\n",
       "      <td>646.0</td>\n",
       "      <td>1.01</td>\n",
       "    </tr>\n",
       "    <tr>\n",
       "      <th>beta_A</th>\n",
       "      <td>-0.599</td>\n",
       "      <td>0.152</td>\n",
       "      <td>-0.864</td>\n",
       "      <td>-0.299</td>\n",
       "      <td>0.006</td>\n",
       "      <td>0.004</td>\n",
       "      <td>631.0</td>\n",
       "      <td>631.0</td>\n",
       "      <td>638.0</td>\n",
       "      <td>786.0</td>\n",
       "      <td>1.00</td>\n",
       "    </tr>\n",
       "    <tr>\n",
       "      <th>sigma</th>\n",
       "      <td>0.838</td>\n",
       "      <td>0.092</td>\n",
       "      <td>0.677</td>\n",
       "      <td>1.014</td>\n",
       "      <td>0.003</td>\n",
       "      <td>0.002</td>\n",
       "      <td>792.0</td>\n",
       "      <td>784.0</td>\n",
       "      <td>806.0</td>\n",
       "      <td>689.0</td>\n",
       "      <td>1.00</td>\n",
       "    </tr>\n",
       "  </tbody>\n",
       "</table>\n",
       "</div>"
      ],
      "text/plain": [
       "         mean     sd  hdi_3%  hdi_97%  mcse_mean  mcse_sd  ess_mean  ess_sd  \\\n",
       "alpha  -0.004  0.109  -0.216    0.194      0.004    0.003     844.0   559.0   \n",
       "beta_M -0.054  0.150  -0.334    0.222      0.006    0.004     558.0   558.0   \n",
       "beta_A -0.599  0.152  -0.864   -0.299      0.006    0.004     631.0   631.0   \n",
       "sigma   0.838  0.092   0.677    1.014      0.003    0.002     792.0   784.0   \n",
       "\n",
       "        ess_bulk  ess_tail  r_hat  \n",
       "alpha      844.0     768.0   1.00  \n",
       "beta_M     574.0     646.0   1.01  \n",
       "beta_A     638.0     786.0   1.00  \n",
       "sigma      806.0     689.0   1.00  "
      ]
     },
     "execution_count": 196,
     "metadata": {},
     "output_type": "execute_result"
    }
   ],
   "source": [
    "#running a Mar+Age_divorce linear regression\n",
    "with pm.Model() as Mar_Age_Div:\n",
    "    alpha = pm.Normal('alpha', mu=0, sd=0.2)#prior on alpha\n",
    "    beta_M = pm.Normal(\"beta_M\", mu=0,sd=0.5)#prior on beta_M\n",
    "    beta_A = pm.Normal(\"beta_A\", mu=0,sd=0.5)#prior on beta_A\n",
    "    sigma = pm.Exponential(\"sigma\",lam = 1)#prior on sigma\n",
    "    mu = alpha + beta_A * scaled_A + beta_M * scaled_M\n",
    "    Divorce = pm.Normal('Divorce', mu=mu, sd=sigma, observed=scaled_D)#likelihood of the data\n",
    "    #print(mean_q)\n",
    "    #Hess = pm.find_hessian(mean_q, vars=[alpha, beta,sigma])#find the hessian matrix\n",
    "    Mar_Age_Div_sample = pm.sample(draws= 250, chains = 4)#1000 random samples on 4 chains\n",
    "    #get summary reports from the MCMC\n",
    "    #pm.traceplot(sample)\n",
    "pm.summary(Mar_Age_Div_sample)"
   ]
  },
  {
   "cell_type": "code",
   "execution_count": 149,
   "metadata": {},
   "outputs": [
    {
     "name": "stderr",
     "output_type": "stream",
     "text": [
      "/home/aidan/anaconda3/envs/Bayes/lib/python3.8/site-packages/arviz/data/io_pymc3.py:85: FutureWarning: Using `from_pymc3` without the model will be deprecated in a future release. Not using the model will return less accurate and less useful results. Make sure you use the model argument or call from_pymc3 within a model context.\n",
      "  warnings.warn(\n"
     ]
    },
    {
     "data": {
      "image/png": "[encoded data removed]",
      "text/plain": [
       "<Figure size 720x360 with 3 Axes>"
      ]
     },
     "metadata": {
      "needs_background": "light"
     },
     "output_type": "display_data"
    }
   ],
   "source": [
    "import matplotlib.gridspec as gridspec\n",
    "fig = plt.figure(figsize=(10,5))\n",
    "gs = gridspec.GridSpec(2, 2) # 2x2 grid\n",
    "ax0 = fig.add_subplot(gs[:, 0]) # first row, first col\n",
    "ax1 = fig.add_subplot(gs[0, 1]) # first row, second col\n",
    "ax2 = fig.add_subplot(gs[1, 1]) # full second row\n",
    "ax0.set_title(\"Multivariate\")\n",
    "ax1.set_title(\"Univariate\")\n",
    "pm.forestplot(Mar_Age_Div_sample,var_names=[\"beta_M\",\"beta_A\"],ax=ax0)\n",
    "pm.forestplot(Mar_Div_sample,var_names=[\"beta_M\"],ax=ax1)\n",
    "pm.forestplot(Age_Div_sample,var_names=[\"beta_A\"],ax=ax2)\n",
    "fig.tight_layout()"
   ]
  },
  {
   "cell_type": "markdown",
   "metadata": {},
   "source": [
    "Comparing the mulitvariate parameters to the univariate regressions on the right, we can see that the estimates of $\\beta_M$ go to zero when Age is accounted for."
   ]
  },
  {
   "cell_type": "markdown",
   "metadata": {},
   "source": [
    "### Plotting Multivariate posteriors"
   ]
  },
  {
   "cell_type": "markdown",
   "metadata": {},
   "source": [
    "I reproduce the predictor residual plots of the data. First we have to perform the regression of Marriage rate on Age at marriage, then the other way around."
   ]
  },
  {
   "cell_type": "code",
   "execution_count": 57,
   "metadata": {},
   "outputs": [
    {
     "name": "stderr",
     "output_type": "stream",
     "text": [
      "Only 250 samples in chain.\n",
      "Auto-assigning NUTS sampler...\n",
      "Initializing NUTS using jitter+adapt_diag...\n",
      "Multiprocess sampling (4 chains in 4 jobs)\n",
      "NUTS: [sigma, beta_A, alpha]\n"
     ]
    },
    {
     "data": {
      "text/html": [
       "\n",
       "    <div>\n",
       "        <style>\n",
       "            /* Turns off some styling */\n",
       "            progress {\n",
       "                /* gets rid of default border in Firefox and Opera. */\n",
       "                border: none;\n",
       "                /* Needs to be in here for Safari polyfill so background images work as expected. */\n",
       "                background-size: auto;\n",
       "            }\n",
       "            .progress-bar-interrupted, .progress-bar-interrupted::-webkit-progress-bar {\n",
       "                background: #F44336;\n",
       "            }\n",
       "        </style>\n",
       "      <progress value='5000' class='' max='5000' style='width:300px; height:20px; vertical-align: middle;'></progress>\n",
       "      100.00% [5000/5000 00:01<00:00 Sampling 4 chains, 0 divergences]\n",
       "    </div>\n",
       "    "
      ],
      "text/plain": [
       "<IPython.core.display.HTML object>"
      ]
     },
     "metadata": {},
     "output_type": "display_data"
    },
    {
     "name": "stderr",
     "output_type": "stream",
     "text": [
      "Sampling 4 chains for 1_000 tune and 250 draw iterations (4_000 + 1_000 draws total) took 2 seconds.\n",
      "Only 250 samples in chain.\n",
      "Auto-assigning NUTS sampler...\n",
      "Initializing NUTS using jitter+adapt_diag...\n",
      "Multiprocess sampling (4 chains in 4 jobs)\n",
      "NUTS: [sigma, beta_M, alpha]\n"
     ]
    },
    {
     "data": {
      "text/html": [
       "\n",
       "    <div>\n",
       "        <style>\n",
       "            /* Turns off some styling */\n",
       "            progress {\n",
       "                /* gets rid of default border in Firefox and Opera. */\n",
       "                border: none;\n",
       "                /* Needs to be in here for Safari polyfill so background images work as expected. */\n",
       "                background-size: auto;\n",
       "            }\n",
       "            .progress-bar-interrupted, .progress-bar-interrupted::-webkit-progress-bar {\n",
       "                background: #F44336;\n",
       "            }\n",
       "        </style>\n",
       "      <progress value='5000' class='' max='5000' style='width:300px; height:20px; vertical-align: middle;'></progress>\n",
       "      100.00% [5000/5000 00:01<00:00 Sampling 4 chains, 0 divergences]\n",
       "    </div>\n",
       "    "
      ],
      "text/plain": [
       "<IPython.core.display.HTML object>"
      ]
     },
     "metadata": {},
     "output_type": "display_data"
    },
    {
     "name": "stderr",
     "output_type": "stream",
     "text": [
      "Sampling 4 chains for 1_000 tune and 250 draw iterations (4_000 + 1_000 draws total) took 2 seconds.\n",
      "The acceptance probability does not match the target. It is 0.8786146330321501, but should be close to 0.8. Try to increase the number of tuning steps.\n"
     ]
    }
   ],
   "source": [
    "#predict Marriage\n",
    "#running a Age -> Mar linear regression\n",
    "with pm.Model() as Age_pred_marriage:\n",
    "    alpha = pm.Normal('alpha', mu=0, sd=0.2)#prior on alpha\n",
    "    beta_A = pm.Normal(\"beta_A\", mu=0,sd=0.5)#prior on beta_A\n",
    "    sigma = pm.Exponential(\"sigma\",lam = 1)#prior on sigma\n",
    "    mu = pm.Deterministic(\"mu\",alpha + beta_A * scaled_A)\n",
    "    Marriage = pm.Normal('Marriage', mu=mu, sd=sigma, observed=scaled_M)#likelihood of the data\n",
    "    Age_2_Mar_sample = pm.sample(draws= 250, chains = 4)#1000 random samples on 4 chains\n",
    "    #get summary reports from the MCMC\n",
    "    #pm.traceplot(sample)\n",
    "\n",
    "#predict age\n",
    "#running a Mar -> Age linear regression\n",
    "with pm.Model() as Age_pred_marriage:\n",
    "    alpha = pm.Normal('alpha', mu=0, sd=0.2)#prior on alpha\n",
    "    beta_M = pm.Normal(\"beta_M\", mu=0,sd=0.5)#prior on beta_M\n",
    "    sigma = pm.Exponential(\"sigma\",lam = 1)#prior on sigma\n",
    "    mu = pm.Deterministic(\"mu\",alpha + beta_M * scaled_M)\n",
    "    Age = pm.Normal('Marriage', mu=mu, sd=sigma, observed=scaled_A)#likelihood of the data\n",
    "    Mar_2_Age_sample = pm.sample(draws= 250, chains = 4)#1000 random samples on 4 chains\n",
    "    #get summary reports from the MCMC\n",
    "    #pm.traceplot(sample)"
   ]
  },
  {
   "cell_type": "code",
   "execution_count": 150,
   "metadata": {},
   "outputs": [
    {
     "data": {
      "image/png": "[encoded data removed]",
      "text/plain": [
       "<Figure size 864x432 with 2 Axes>"
      ]
     },
     "metadata": {
      "needs_background": "light"
     },
     "output_type": "display_data"
    }
   ],
   "source": [
    "x0 = np.linspace(np.min(scaled_A),np.max(scaled_A))\n",
    "def pred0(x): return np.mean(Age_2_Mar_sample[\"alpha\"]) +  x*np.mean(Age_2_Mar_sample[\"beta_A\"])\n",
    "x1 =  np.linspace(np.min(scaled_M),np.max(scaled_M))\n",
    "def pred1(x): return np.mean(Mar_2_Age_sample[\"alpha\"]) +  x*np.mean(Mar_2_Age_sample[\"beta_M\"])\n",
    "\n",
    "#plot the figure\n",
    "fig, axs = plt.subplots(1,2,figsize = (12,6))\n",
    "fig.suptitle(\"Figure 5.4 - Top Row\")\n",
    "\n",
    "axs[0].scatter(scaled_A,scaled_M, facecolors=\"none\", edgecolors=\"black\")\n",
    "axs[0].plot(x0, pred0(x0))\n",
    "axs[0].set_xlabel(\"Age\")\n",
    "axs[0].set_ylabel(\"Marriage\")\n",
    "resids0 = scaled_M - pred0(scaled_A)\n",
    "axs[0].vlines(scaled_A,pred0(scaled_A), pred0(scaled_A) + resids0)\n",
    "\n",
    "axs[1].scatter(scaled_M,scaled_A, facecolors=\"none\", edgecolors=\"black\")\n",
    "axs[1].plot(x1, pred1(x1))\n",
    "axs[1].set_xlabel(\"Marriage\")\n",
    "axs[1].set_ylabel(\"Age\")\n",
    "resids1 = scaled_A - pred1(scaled_M)\n",
    "axs[1].vlines(scaled_M,pred1(scaled_M), pred1(scaled_M) + resids1,)\n",
    "plt.show()"
   ]
  },
  {
   "cell_type": "markdown",
   "metadata": {},
   "source": [
    "Now we regress the residuals against divorce"
   ]
  },
  {
   "cell_type": "code",
   "execution_count": 151,
   "metadata": {},
   "outputs": [
    {
     "name": "stderr",
     "output_type": "stream",
     "text": [
      "Auto-assigning NUTS sampler...\n",
      "Initializing NUTS using jitter+adapt_diag...\n",
      "Multiprocess sampling (4 chains in 4 jobs)\n",
      "NUTS: [sigma, beta, alpha]\n"
     ]
    },
    {
     "data": {
      "text/html": [
       "\n",
       "    <div>\n",
       "        <style>\n",
       "            /* Turns off some styling */\n",
       "            progress {\n",
       "                /* gets rid of default border in Firefox and Opera. */\n",
       "                border: none;\n",
       "                /* Needs to be in here for Safari polyfill so background images work as expected. */\n",
       "                background-size: auto;\n",
       "            }\n",
       "            .progress-bar-interrupted, .progress-bar-interrupted::-webkit-progress-bar {\n",
       "                background: #F44336;\n",
       "            }\n",
       "        </style>\n",
       "      <progress value='6000' class='' max='6000' style='width:300px; height:20px; vertical-align: middle;'></progress>\n",
       "      100.00% [6000/6000 00:01<00:00 Sampling 4 chains, 0 divergences]\n",
       "    </div>\n",
       "    "
      ],
      "text/plain": [
       "<IPython.core.display.HTML object>"
      ]
     },
     "metadata": {},
     "output_type": "display_data"
    },
    {
     "name": "stderr",
     "output_type": "stream",
     "text": [
      "Sampling 4 chains for 1_000 tune and 500 draw iterations (4_000 + 2_000 draws total) took 2 seconds.\n",
      "Auto-assigning NUTS sampler...\n",
      "Initializing NUTS using jitter+adapt_diag...\n",
      "Multiprocess sampling (4 chains in 4 jobs)\n",
      "NUTS: [sigma, beta, alpha]\n"
     ]
    },
    {
     "data": {
      "text/html": [
       "\n",
       "    <div>\n",
       "        <style>\n",
       "            /* Turns off some styling */\n",
       "            progress {\n",
       "                /* gets rid of default border in Firefox and Opera. */\n",
       "                border: none;\n",
       "                /* Needs to be in here for Safari polyfill so background images work as expected. */\n",
       "                background-size: auto;\n",
       "            }\n",
       "            .progress-bar-interrupted, .progress-bar-interrupted::-webkit-progress-bar {\n",
       "                background: #F44336;\n",
       "            }\n",
       "        </style>\n",
       "      <progress value='6000' class='' max='6000' style='width:300px; height:20px; vertical-align: middle;'></progress>\n",
       "      100.00% [6000/6000 00:01<00:00 Sampling 4 chains, 0 divergences]\n",
       "    </div>\n",
       "    "
      ],
      "text/plain": [
       "<IPython.core.display.HTML object>"
      ]
     },
     "metadata": {},
     "output_type": "display_data"
    },
    {
     "name": "stderr",
     "output_type": "stream",
     "text": [
      "Sampling 4 chains for 1_000 tune and 500 draw iterations (4_000 + 2_000 draws total) took 2 seconds.\n"
     ]
    }
   ],
   "source": [
    "#predict Divorce\n",
    "#running a Mar_resid -> divorce linear regression\n",
    "with pm.Model() as Mar_resids:\n",
    "    alpha = pm.Normal('alpha', mu=0, sd=0.2)#prior on alpha\n",
    "    beta = pm.Normal(\"beta\", mu=0,sd=0.5)#prior on beta\n",
    "    sigma = pm.Exponential(\"sigma\",lam = 1)#prior on sigma\n",
    "    mu = pm.Deterministic(\"mu\",alpha + beta * resids0)\n",
    "    Divorce = pm.Normal('Divorce', mu=mu, sd=sigma, observed=scaled_D)#likelihood of the data\n",
    "    Mar_res_sample = pm.sample(draws= 500, chains = 4)#1000 random samples on 4 chains\n",
    "    #get summary reports from the MCMC\n",
    "    #pm.traceplot(sample)\n",
    "\n",
    "#predict age\n",
    "#running a Age_resid -> divorce linear regression\n",
    "with pm.Model() as Age_resids:\n",
    "    alpha = pm.Normal('alpha', mu=0, sd=0.2)#prior on alpha\n",
    "    beta = pm.Normal(\"beta\", mu=0,sd=0.5)#prior on beta\n",
    "    sigma = pm.Exponential(\"sigma\",lam = 1)#prior on sigma\n",
    "    mu = pm.Deterministic(\"mu\",alpha + beta * resids1)\n",
    "    Divorce = pm.Normal('Divorce', mu=mu, sd=sigma, observed=scaled_D)#likelihood of the data\n",
    "    Age_res_sample = pm.sample(draws= 500, chains = 4)#1000 random samples on 4 chains\n",
    "    #get summary reports from the MCMC\n",
    "    #pm.traceplot(sample)"
   ]
  },
  {
   "cell_type": "code",
   "execution_count": 152,
   "metadata": {},
   "outputs": [
    {
     "name": "stderr",
     "output_type": "stream",
     "text": [
      "/home/aidan/anaconda3/envs/Bayes/lib/python3.8/site-packages/arviz/stats/stats.py:338: UserWarning: hpd will be deprecated Please replace hdi\n",
      "  warnings.warn((\"hpd will be deprecated \" \"Please replace hdi\"),)\n",
      "/home/aidan/anaconda3/envs/Bayes/lib/python3.8/site-packages/arviz/stats/stats.py:483: FutureWarning: hdi currently interprets 2d data as (draw, shape) but this will change in a future release to (chain, draw) for coherence with other functions\n",
      "  warnings.warn(\n",
      "/home/aidan/anaconda3/envs/Bayes/lib/python3.8/site-packages/arviz/stats/stats.py:338: UserWarning: hpd will be deprecated Please replace hdi\n",
      "  warnings.warn((\"hpd will be deprecated \" \"Please replace hdi\"),)\n",
      "/home/aidan/anaconda3/envs/Bayes/lib/python3.8/site-packages/arviz/stats/stats.py:483: FutureWarning: hdi currently interprets 2d data as (draw, shape) but this will change in a future release to (chain, draw) for coherence with other functions\n",
      "  warnings.warn(\n"
     ]
    },
    {
     "data": {
      "text/plain": [
       "<matplotlib.collections.PolyCollection at 0x7f6cbe6ff340>"
      ]
     },
     "execution_count": 152,
     "metadata": {},
     "output_type": "execute_result"
    },
    {
     "data": {
      "image/png": "[encoded data removed]",
      "text/plain": [
       "<Figure size 864x432 with 2 Axes>"
      ]
     },
     "metadata": {
      "needs_background": "light"
     },
     "output_type": "display_data"
    }
   ],
   "source": [
    "#plot the residual predictor plots\n",
    "x0 = np.linspace(np.min(resids0),np.max(resids0),100)\n",
    "x1 =  np.linspace(np.min(resids1),np.max(resids1),100)\n",
    "\n",
    "#plot the figure\n",
    "#get the posterior distibution of lines\n",
    "vals0 = Mar_res_sample[\"alpha\"] +  np.outer(x0,Mar_res_sample[\"beta\"])\n",
    "vals1 = Age_res_sample[\"alpha\"] +  np.outer(x1,Age_res_sample[\"beta\"])\n",
    "#get the intervals on the posterior\n",
    "\n",
    "\n",
    "fig, axs = plt.subplots(1,2,figsize = (12,6))\n",
    "fig.suptitle(\"Figure 5.4 - Bottom Row\")\n",
    "\n",
    "\n",
    "axs[0].scatter(resids0,scaled_D, facecolors=\"none\", edgecolors=\"black\")\n",
    "axs[0].plot(x0, np.mean(vals0,axis=1))\n",
    "axs[0].set_xlabel(\"Marriage residuals\")\n",
    "axs[0].set_ylabel(\"Divorce rate\")\n",
    "axs[0].fill_between(x0, pm.hpd(vals0.T)[:,0],pm.hpd(vals0.T)[:,1],alpha=0.5 )\n",
    "\n",
    "axs[1].scatter(resids1,scaled_D, facecolors=\"none\", edgecolors=\"black\")\n",
    "axs[1].plot(x1, np.mean(vals1,axis=1))\n",
    "axs[1].set_xlabel(\"Age residuals\")\n",
    "axs[1].set_ylabel(\"Divorce rate\")\n",
    "axs[1].fill_between(x1, pm.hpd(vals1.T)[:,0],pm.hpd(vals1.T)[:,1],alpha = 0.5 )"
   ]
  },
  {
   "cell_type": "markdown",
   "metadata": {},
   "source": [
    "### Posterior prediction plots"
   ]
  },
  {
   "cell_type": "code",
   "execution_count": 153,
   "metadata": {},
   "outputs": [],
   "source": [
    "#get the posterior parameters for each value in data\n",
    "post_mu = Mar_Age_Div_sample[\"alpha\"] + np.outer(scaled_A,Mar_Age_Div_sample[\"beta_A\"])  + np.outer(scaled_M,Mar_Age_Div_sample[\"beta_M\"])\n",
    "post_sigma = np.repeat(Mar_Age_Div_sample[\"sigma\"],repeats=(50)).reshape(-1,50).T"
   ]
  },
  {
   "cell_type": "code",
   "execution_count": 156,
   "metadata": {},
   "outputs": [],
   "source": [
    "#sample the likelihood with posterior parameters\n",
    "post_preds= np.random.normal(loc = post_mu, scale = post_sigma )"
   ]
  },
  {
   "cell_type": "code",
   "execution_count": 171,
   "metadata": {},
   "outputs": [
    {
     "name": "stderr",
     "output_type": "stream",
     "text": [
      "/home/aidan/anaconda3/envs/Bayes/lib/python3.8/site-packages/arviz/stats/stats.py:338: UserWarning: hpd will be deprecated Please replace hdi\n",
      "  warnings.warn((\"hpd will be deprecated \" \"Please replace hdi\"),)\n",
      "/home/aidan/anaconda3/envs/Bayes/lib/python3.8/site-packages/arviz/stats/stats.py:483: FutureWarning: hdi currently interprets 2d data as (draw, shape) but this will change in a future release to (chain, draw) for coherence with other functions\n",
      "  warnings.warn(\n"
     ]
    },
    {
     "data": {
      "image/png": "[encoded data removed]",
      "text/plain": [
       "<Figure size 432x288 with 1 Axes>"
      ]
     },
     "metadata": {
      "needs_background": "light"
     },
     "output_type": "display_data"
    }
   ],
   "source": [
    "plt.vlines(scaled_D, pm.hpd(post_mu.T,hdi_prob=0.89)[:,0],pm.hpd(post_mu.T,hdi_prob=0.89)[:,1])\n",
    "plt.scatter(scaled_D, np.mean(post_preds,axis=1), facecolors=\"None\",edgecolors=\"black\")\n",
    "plt.plot(np.linspace(-2,2),np.linspace(-2,2))\n",
    "plt.xlabel(\"Observed Divorce Rate\")\n",
    "plt.ylabel(\"Predicted divorce\")\n",
    "plt.title(\"Fig 5.5 - Posterior predictive plot\")\n",
    "plt.show()"
   ]
  },
  {
   "cell_type": "markdown",
   "metadata": {},
   "source": [
    "### Counterfactual plots"
   ]
  },
  {
   "cell_type": "code",
   "execution_count": 1,
   "metadata": {},
   "outputs": [
    {
     "data": {
      "image/svg+xml": [
       "<?xml version=\"1.0\" encoding=\"UTF-8\" standalone=\"no\"?>\n",
       "<!DOCTYPE svg PUBLIC \"-//W3C//DTD SVG 1.1//EN\"\n",
       " \"http://www.w3.org/Graphics/SVG/1.1/DTD/svg11.dtd\">\n",
       "<!-- Generated by graphviz version 2.40.1 (20161225.0304)\n",
       " -->\n",
       "<!-- Title: %3 Pages: 1 -->\n",
       "<svg width=\"90pt\" height=\"188pt\"\n",
       " viewBox=\"0.00 0.00 90.00 188.00\" xmlns=\"http://www.w3.org/2000/svg\" xmlns:xlink=\"http://www.w3.org/1999/xlink\">\n",
       "<g id=\"graph0\" class=\"graph\" transform=\"scale(1 1) rotate(0) translate(4 184)\">\n",
       "<title>%3</title>\n",
       "<polygon fill=\"#ffffff\" stroke=\"transparent\" points=\"-4,4 -4,-184 86,-184 86,4 -4,4\"/>\n",
       "<!-- D -->\n",
       "<g id=\"node1\" class=\"node\">\n",
       "<title>D</title>\n",
       "<ellipse fill=\"none\" stroke=\"#000000\" cx=\"27\" cy=\"-18\" rx=\"27\" ry=\"18\"/>\n",
       "<text text-anchor=\"middle\" x=\"27\" y=\"-14.3\" font-family=\"Times,serif\" font-size=\"14.00\" fill=\"#000000\">D</text>\n",
       "</g>\n",
       "<!-- A -->\n",
       "<g id=\"node2\" class=\"node\">\n",
       "<title>A</title>\n",
       "<ellipse fill=\"none\" stroke=\"#000000\" cx=\"27\" cy=\"-162\" rx=\"27\" ry=\"18\"/>\n",
       "<text text-anchor=\"middle\" x=\"27\" y=\"-158.3\" font-family=\"Times,serif\" font-size=\"14.00\" fill=\"#000000\">A</text>\n",
       "</g>\n",
       "<!-- A&#45;&gt;D -->\n",
       "<g id=\"edge2\" class=\"edge\">\n",
       "<title>A&#45;&gt;D</title>\n",
       "<path fill=\"none\" stroke=\"#000000\" d=\"M23.6685,-144.0736C21.8913,-133.5982 19.8913,-120.0982 19,-108 17.8244,-92.0432 17.8244,-87.9568 19,-72 19.6267,-63.4935 20.8015,-54.2939 22.0616,-45.9399\"/>\n",
       "<polygon fill=\"#000000\" stroke=\"#000000\" points=\"25.5398,-46.3546 23.6685,-35.9264 18.6282,-45.2455 25.5398,-46.3546\"/>\n",
       "</g>\n",
       "<!-- M -->\n",
       "<g id=\"node3\" class=\"node\">\n",
       "<title>M</title>\n",
       "<ellipse fill=\"none\" stroke=\"#000000\" cx=\"55\" cy=\"-90\" rx=\"27\" ry=\"18\"/>\n",
       "<text text-anchor=\"middle\" x=\"55\" y=\"-86.3\" font-family=\"Times,serif\" font-size=\"14.00\" fill=\"#000000\">M</text>\n",
       "</g>\n",
       "<!-- A&#45;&gt;M -->\n",
       "<g id=\"edge1\" class=\"edge\">\n",
       "<title>A&#45;&gt;M</title>\n",
       "<path fill=\"none\" stroke=\"#000000\" d=\"M33.778,-144.5708C36.9872,-136.3187 40.8935,-126.2738 44.4758,-117.0623\"/>\n",
       "<polygon fill=\"#000000\" stroke=\"#000000\" points=\"47.8248,-118.1069 48.1874,-107.5182 41.3008,-115.5697 47.8248,-118.1069\"/>\n",
       "</g>\n",
       "<!-- M&#45;&gt;D -->\n",
       "<g id=\"edge3\" class=\"edge\">\n",
       "<title>M&#45;&gt;D</title>\n",
       "<path fill=\"none\" stroke=\"#000000\" d=\"M48.222,-72.5708C45.0128,-64.3187 41.1065,-54.2738 37.5242,-45.0623\"/>\n",
       "<polygon fill=\"#000000\" stroke=\"#000000\" points=\"40.6992,-43.5697 33.8126,-35.5182 34.1752,-46.1069 40.6992,-43.5697\"/>\n",
       "</g>\n",
       "</g>\n",
       "</svg>\n"
      ],
      "text/plain": [
       "<graphviz.dot.Digraph at 0x7f5020195970>"
      ]
     },
     "execution_count": 1,
     "metadata": {},
     "output_type": "execute_result"
    }
   ],
   "source": [
    "from causalgraphicalmodels import CausalGraphicalModel\n",
    "\n",
    "MarriageDag = CausalGraphicalModel(\n",
    "    nodes=[\"A\",\"M\",\"D\"],\n",
    "    edges=[\n",
    "        (\"A\",\"M\"),\n",
    "        (\"A\", \"D\"),\n",
    "        (\"M\",\"D\")\n",
    "    ]\n",
    ")\n",
    "\n",
    "# draw return a graphviz `dot` object, which jupyter can render\n",
    "MarriageDag.draw()"
   ]
  },
  {
   "cell_type": "markdown",
   "metadata": {},
   "source": [
    "We can produce the counterfactual counterfactual plots impact of increasing age for this DAG. I already have the A -> M association posteriors from the earlier model, as well as the A -> D <- M"
   ]
  },
  {
   "cell_type": "code",
   "execution_count": 229,
   "metadata": {
    "scrolled": false
   },
   "outputs": [
    {
     "name": "stderr",
     "output_type": "stream",
     "text": [
      "/home/aidan/anaconda3/envs/Bayes/lib/python3.8/site-packages/arviz/stats/stats.py:338: UserWarning: hpd will be deprecated Please replace hdi\n",
      "  warnings.warn((\"hpd will be deprecated \" \"Please replace hdi\"),)\n",
      "/home/aidan/anaconda3/envs/Bayes/lib/python3.8/site-packages/arviz/stats/stats.py:483: FutureWarning: hdi currently interprets 2d data as (draw, shape) but this will change in a future release to (chain, draw) for coherence with other functions\n",
      "  warnings.warn(\n",
      "/home/aidan/anaconda3/envs/Bayes/lib/python3.8/site-packages/arviz/stats/stats.py:338: UserWarning: hpd will be deprecated Please replace hdi\n",
      "  warnings.warn((\"hpd will be deprecated \" \"Please replace hdi\"),)\n",
      "/home/aidan/anaconda3/envs/Bayes/lib/python3.8/site-packages/arviz/stats/stats.py:483: FutureWarning: hdi currently interprets 2d data as (draw, shape) but this will change in a future release to (chain, draw) for coherence with other functions\n",
      "  warnings.warn(\n"
     ]
    },
    {
     "data": {
      "image/png": "[encoded data removed]",
      "text/plain": [
       "<Figure size 720x360 with 2 Axes>"
      ]
     },
     "metadata": {
      "needs_background": "light"
     },
     "output_type": "display_data"
    }
   ],
   "source": [
    "fig, axs = plt.subplots(1,2,figsize=(10,5))\n",
    "\n",
    "#A -> M counterfactual plots\n",
    "xA = np.linspace(np.min(scaled_A),np.max(scaled_A))\n",
    "post_mu = Age_2_Mar_sample[\"alpha\"] + np.outer(xA,Age_2_Mar_sample[\"beta_A\"])\n",
    "post_sig = np.repeat(Age_2_Mar_sample[\"sigma\"],50).reshape(-1,50).T\n",
    "post_sample = np.random.normal(post_mu,post_sig)#random sample from likelihood\n",
    "axs[1].plot(xA, np.mean(post_sample,axis=1))\n",
    "axs[1].fill_between(xA, pm.hpd(post_sample.T,hdi_prob=0.89)[:,0],pm.hpd(post_sample.T,hdi_prob=0.89)[:,1], alpha = 0.4)\n",
    "axs[1].set_title(\"Counterfactual effect A -> M\")\n",
    "axs[1].set_xlabel(\"Manipulated A\")\n",
    "axs[1].set_ylabel(\"Counterfactual M\")\n",
    "axs[1].set_xlim(-2,2)\n",
    "axs[1].set_ylim(-2,2)\n",
    "#Full A -> D counterfactual\n",
    "#Now get the D counterfactuals\n",
    "D_mu = Mar_Age_Div_sample[\"alpha\"] + np.outer(xA,Mar_Age_Div_sample[\"beta_A\"]) + post_sample * Mar_Age_Div_sample[\"beta_M\"]\n",
    "post_sample = np.random.normal(D_mu,Mar_Age_Div_sample[\"sigma\"])\n",
    "axs[0].plot(xA, np.mean(CounterD,axis=1))\n",
    "axs[0].fill_between(xA, pm.hpd(post_sample.T,hdi_prob=0.89)[:,0],pm.hpd(post_sample.T,hdi_prob=0.89)[:,1], alpha = 0.4)\n",
    "axs[0].set_title(\"Total counterfactual effect of A on D\")\n",
    "axs[0].set_xlabel(\"Manipulated A\")\n",
    "axs[0].set_ylabel(\"Counterfactual D\")\n",
    "axs[0].set_xlim(-2,2)\n",
    "axs[0].set_ylim(-2,2)\n",
    "plt.show()\n"
   ]
  },
  {
   "cell_type": "markdown",
   "metadata": {},
   "source": [
    "### 5.2 Masked Relationships"
   ]
  },
  {
   "cell_type": "code",
   "execution_count": 233,
   "metadata": {},
   "outputs": [],
   "source": [
    "milk = pd.read_csv(\"./data/milk.csv\",delimiter=\";\")\n",
    "#drop the nans\n",
    "milk = milk[~np.isnan(milk[\"neocortex.perc\"])]"
   ]
  },
  {
   "cell_type": "code",
   "execution_count": 235,
   "metadata": {},
   "outputs": [],
   "source": []
  },
  {
   "cell_type": "code",
   "execution_count": 231,
   "metadata": {},
   "outputs": [],
   "source": [
    "#add functions to perform scaling of variables\n",
    "def standardise(series): return (series - series.mean()) / series.std()\n"
   ]
  },
  {
   "cell_type": "code",
   "execution_count": 237,
   "metadata": {},
   "outputs": [],
   "source": [
    "#scale the relevant data.\n",
    "scaled_M, scaled_N, scaled_K = standardise(milk[\"mass\"]), standardise(milk[\"neocortex.perc\"]), standardise(milk[\"kcal.per.g\"])"
   ]
  },
  {
   "cell_type": "code",
   "execution_count": 258,
   "metadata": {},
   "outputs": [],
   "source": [
    "with pm.Model() as Milk_model_wide_prior:\n",
    "    alpha = pm.Normal(\"alpha\", 0.0, 1) #set alpha prior\n",
    "    beta_N = pm.Normal(\"beta_N\", 0.0, 1) #set beta prior \n",
    "    mu = alpha + beta_N * scaled_N\n",
    "    sigma = pm.Exponential(\"sigma\", 1.0)\n",
    "    obs = pm.Normal(\"obs\", mu=mu, sigma=sigma, observed=scaled_K)\n",
    "    prior_checks_wide_prior = pm.sample_prior_predictive(samples=50, random_seed=42)"
   ]
  },
  {
   "cell_type": "code",
   "execution_count": 259,
   "metadata": {},
   "outputs": [
    {
     "data": {
      "image/png": "[encoded data removed]",
      "text/plain": [
       "<Figure size 432x288 with 1 Axes>"
      ]
     },
     "metadata": {
      "needs_background": "light"
     },
     "output_type": "display_data"
    }
   ],
   "source": [
    "x = np.linspace(-2,2)\n",
    "for alpha, beta in zip(prior_checks_wide_prior[\"alpha\"],prior_checks_wide_prior[\"beta_N\"]):\n",
    "    y = alpha + beta * x\n",
    "    plt.plot(x,y)\n",
    "plt.ylim(-2,2)\n",
    "plt.xlabel(\"neocortex percent (std)\")\n",
    "plt.ylabel(\"kilocal per g (std)\")\n",
    "plt.show()"
   ]
  },
  {
   "cell_type": "markdown",
   "metadata": {},
   "source": [
    "This is with crazy loose values on the priors. We can tighten them up to give more sensible relationships."
   ]
  },
  {
   "cell_type": "code",
   "execution_count": 254,
   "metadata": {},
   "outputs": [],
   "source": [
    "with pm.Model() as Milk_model_narrow_prior:\n",
    "    alpha = pm.Normal(\"alpha\", 0.0, 0.2) #set alpha prior\n",
    "    beta_N = pm.Normal(\"beta_N\", 0.0, 0.5) #set beta prior \n",
    "    mu = alpha + beta_N * scaled_N\n",
    "    sigma = pm.Exponential(\"sigma\", 1.0)\n",
    "    obs = pm.Normal(\"obs\", mu=mu, sigma=sigma, observed=scaled_K)\n",
    "    prior_checks_narrow_prior = pm.sample_prior_predictive(samples=50, random_seed=42)\n"
   ]
  },
  {
   "cell_type": "code",
   "execution_count": 262,
   "metadata": {},
   "outputs": [
    {
     "data": {
      "image/png": "[encoded data removed]",
      "text/plain": [
       "<Figure size 432x288 with 1 Axes>"
      ]
     },
     "metadata": {
      "needs_background": "light"
     },
     "output_type": "display_data"
    }
   ],
   "source": [
    "x = np.linspace(-2,2)\n",
    "for alpha, beta in zip(prior_checks_narrow_prior[\"alpha\"],prior_checks_narrow_prior[\"beta_N\"]):\n",
    "    y = alpha + beta * x\n",
    "    plt.plot(x,y)\n",
    "plt.ylim(-2,2)\n",
    "plt.xlabel(\"neocortex percent (std)\")\n",
    "plt.ylabel(\"kilocal per g (std)\")\n",
    "plt.show()"
   ]
  },
  {
   "cell_type": "markdown",
   "metadata": {},
   "source": [
    "We can now fit a model that uses both Mass and Neocortex as predictors of milk caloric content of a given species. We will actually be using log_mass as a predictor"
   ]
  },
  {
   "cell_type": "code",
   "execution_count": 266,
   "metadata": {},
   "outputs": [
    {
     "name": "stderr",
     "output_type": "stream",
     "text": [
      "<ipython-input-266-f73c83d4ca76>:1: SettingWithCopyWarning: \n",
      "A value is trying to be set on a copy of a slice from a DataFrame.\n",
      "Try using .loc[row_indexer,col_indexer] = value instead\n",
      "\n",
      "See the caveats in the documentation: https://pandas.pydata.org/pandas-docs/stable/user_guide/indexing.html#returning-a-view-versus-a-copy\n",
      "  milk[\"log_mass\"] = np.log(milk[\"mass\"])\n"
     ]
    }
   ],
   "source": [
    "milk[\"log_mass\"] = np.log(milk[\"mass\"])\n",
    "scaled_LM = standardise(milk[\"log_mass\"])"
   ]
  },
  {
   "cell_type": "code",
   "execution_count": 305,
   "metadata": {},
   "outputs": [
    {
     "name": "stderr",
     "output_type": "stream",
     "text": [
      "Auto-assigning NUTS sampler...\n",
      "Initializing NUTS using jitter+adapt_diag...\n",
      "Multiprocess sampling (4 chains in 4 jobs)\n",
      "NUTS: [Sigma, beta_M, alpha]\n"
     ]
    },
    {
     "data": {
      "text/html": [
       "\n",
       "    <div>\n",
       "        <style>\n",
       "            /* Turns off some styling */\n",
       "            progress {\n",
       "                /* gets rid of default border in Firefox and Opera. */\n",
       "                border: none;\n",
       "                /* Needs to be in here for Safari polyfill so background images work as expected. */\n",
       "                background-size: auto;\n",
       "            }\n",
       "            .progress-bar-interrupted, .progress-bar-interrupted::-webkit-progress-bar {\n",
       "                background: #F44336;\n",
       "            }\n",
       "        </style>\n",
       "      <progress value='8000' class='' max='8000' style='width:300px; height:20px; vertical-align: middle;'></progress>\n",
       "      100.00% [8000/8000 00:02<00:00 Sampling 4 chains, 0 divergences]\n",
       "    </div>\n",
       "    "
      ],
      "text/plain": [
       "<IPython.core.display.HTML object>"
      ]
     },
     "metadata": {},
     "output_type": "display_data"
    },
    {
     "name": "stderr",
     "output_type": "stream",
     "text": [
      "Sampling 4 chains for 1_000 tune and 1_000 draw iterations (4_000 + 4_000 draws total) took 3 seconds.\n"
     ]
    }
   ],
   "source": [
    "#log mass to predict kcal\n",
    "with pm.Model() as log_mass_2_kcal:\n",
    "    alpha = pm.Normal(\"alpha\", 0,0.2)\n",
    "    beta_M = pm.Normal(\"beta_M\",0,0.5)\n",
    "    mu = alpha + beta_M * scaled_LM\n",
    "    sigma = pm.Exponential(\"Sigma\", 1)\n",
    "    K = pm.Normal(\"K\", mu,sigma, observed = scaled_K)\n",
    "    post_sample_log_mass = pm.sample(draws = 1000,chains=4)"
   ]
  },
  {
   "cell_type": "code",
   "execution_count": 288,
   "metadata": {},
   "outputs": [
    {
     "name": "stderr",
     "output_type": "stream",
     "text": [
      "Auto-assigning NUTS sampler...\n",
      "Initializing NUTS using jitter+adapt_diag...\n",
      "Multiprocess sampling (4 chains in 4 jobs)\n",
      "NUTS: [sigma, beta_N, alpha]\n"
     ]
    },
    {
     "data": {
      "text/html": [
       "\n",
       "    <div>\n",
       "        <style>\n",
       "            /* Turns off some styling */\n",
       "            progress {\n",
       "                /* gets rid of default border in Firefox and Opera. */\n",
       "                border: none;\n",
       "                /* Needs to be in here for Safari polyfill so background images work as expected. */\n",
       "                background-size: auto;\n",
       "            }\n",
       "            .progress-bar-interrupted, .progress-bar-interrupted::-webkit-progress-bar {\n",
       "                background: #F44336;\n",
       "            }\n",
       "        </style>\n",
       "      <progress value='8000' class='' max='8000' style='width:300px; height:20px; vertical-align: middle;'></progress>\n",
       "      100.00% [8000/8000 00:02<00:00 Sampling 4 chains, 0 divergences]\n",
       "    </div>\n",
       "    "
      ],
      "text/plain": [
       "<IPython.core.display.HTML object>"
      ]
     },
     "metadata": {},
     "output_type": "display_data"
    },
    {
     "name": "stderr",
     "output_type": "stream",
     "text": [
      "Sampling 4 chains for 1_000 tune and 1_000 draw iterations (4_000 + 4_000 draws total) took 2 seconds.\n"
     ]
    }
   ],
   "source": [
    "with Milk_model_narrow_prior:\n",
    "    post_sample_Neo = pm.sample(draws = 1000,chains=4)"
   ]
  },
  {
   "cell_type": "code",
   "execution_count": 311,
   "metadata": {},
   "outputs": [
    {
     "name": "stderr",
     "output_type": "stream",
     "text": [
      "Auto-assigning NUTS sampler...\n",
      "Initializing NUTS using jitter+adapt_diag...\n",
      "Multiprocess sampling (4 chains in 4 jobs)\n",
      "NUTS: [Sigma, beta_N, beta_M, alpha]\n"
     ]
    },
    {
     "data": {
      "text/html": [
       "\n",
       "    <div>\n",
       "        <style>\n",
       "            /* Turns off some styling */\n",
       "            progress {\n",
       "                /* gets rid of default border in Firefox and Opera. */\n",
       "                border: none;\n",
       "                /* Needs to be in here for Safari polyfill so background images work as expected. */\n",
       "                background-size: auto;\n",
       "            }\n",
       "            .progress-bar-interrupted, .progress-bar-interrupted::-webkit-progress-bar {\n",
       "                background: #F44336;\n",
       "            }\n",
       "        </style>\n",
       "      <progress value='8000' class='' max='8000' style='width:300px; height:20px; vertical-align: middle;'></progress>\n",
       "      100.00% [8000/8000 00:02<00:00 Sampling 4 chains, 0 divergences]\n",
       "    </div>\n",
       "    "
      ],
      "text/plain": [
       "<IPython.core.display.HTML object>"
      ]
     },
     "metadata": {},
     "output_type": "display_data"
    },
    {
     "name": "stderr",
     "output_type": "stream",
     "text": [
      "Sampling 4 chains for 1_000 tune and 1_000 draw iterations (4_000 + 4_000 draws total) took 3 seconds.\n"
     ]
    }
   ],
   "source": [
    "#log mass and neocortex to predict kcal\n",
    "with pm.Model() as log_mass_neo_2_kcal:\n",
    "    alpha = pm.Normal(\"alpha\", 0,0.2)\n",
    "    beta_M = pm.Normal(\"beta_M\",0,0.5)\n",
    "    beta_N = pm.Normal(\"beta_N\",0,0.5)\n",
    "    mu = alpha + beta_M * scaled_LM + beta_N * scaled_N\n",
    "    sigma = pm.Exponential(\"Sigma\", 1)\n",
    "    K = pm.Normal(\"K\", mu,sigma, observed = scaled_K)\n",
    "    post_sample_log_mass_neo = pm.sample(draws = 1000,chains=4)"
   ]
  },
  {
   "cell_type": "code",
   "execution_count": 322,
   "metadata": {
    "scrolled": false
   },
   "outputs": [
    {
     "name": "stderr",
     "output_type": "stream",
     "text": [
      "/home/aidan/anaconda3/envs/Bayes/lib/python3.8/site-packages/arviz/stats/stats.py:338: UserWarning: hpd will be deprecated Please replace hdi\n",
      "  warnings.warn((\"hpd will be deprecated \" \"Please replace hdi\"),)\n",
      "/home/aidan/anaconda3/envs/Bayes/lib/python3.8/site-packages/arviz/stats/stats.py:483: FutureWarning: hdi currently interprets 2d data as (draw, shape) but this will change in a future release to (chain, draw) for coherence with other functions\n",
      "  warnings.warn(\n",
      "/home/aidan/anaconda3/envs/Bayes/lib/python3.8/site-packages/arviz/stats/stats.py:338: UserWarning: hpd will be deprecated Please replace hdi\n",
      "  warnings.warn((\"hpd will be deprecated \" \"Please replace hdi\"),)\n",
      "/home/aidan/anaconda3/envs/Bayes/lib/python3.8/site-packages/arviz/stats/stats.py:483: FutureWarning: hdi currently interprets 2d data as (draw, shape) but this will change in a future release to (chain, draw) for coherence with other functions\n",
      "  warnings.warn(\n",
      "/home/aidan/anaconda3/envs/Bayes/lib/python3.8/site-packages/arviz/stats/stats.py:338: UserWarning: hpd will be deprecated Please replace hdi\n",
      "  warnings.warn((\"hpd will be deprecated \" \"Please replace hdi\"),)\n",
      "/home/aidan/anaconda3/envs/Bayes/lib/python3.8/site-packages/arviz/stats/stats.py:483: FutureWarning: hdi currently interprets 2d data as (draw, shape) but this will change in a future release to (chain, draw) for coherence with other functions\n",
      "  warnings.warn(\n",
      "/home/aidan/anaconda3/envs/Bayes/lib/python3.8/site-packages/arviz/stats/stats.py:338: UserWarning: hpd will be deprecated Please replace hdi\n",
      "  warnings.warn((\"hpd will be deprecated \" \"Please replace hdi\"),)\n",
      "/home/aidan/anaconda3/envs/Bayes/lib/python3.8/site-packages/arviz/stats/stats.py:483: FutureWarning: hdi currently interprets 2d data as (draw, shape) but this will change in a future release to (chain, draw) for coherence with other functions\n",
      "  warnings.warn(\n"
     ]
    },
    {
     "data": {
      "image/png": "[encoded data removed]",
      "text/plain": [
       "<Figure size 720x720 with 4 Axes>"
      ]
     },
     "metadata": {
      "needs_background": "light"
     },
     "output_type": "display_data"
    }
   ],
   "source": [
    "fig, axs = plt.subplots(2,2,figsize=(10,10))\n",
    "fig.suptitle(\"Fig 5.9\")\n",
    "\n",
    "x = np.linspace(-2,2,1000)\n",
    "line0 = post_sample_Neo[\"alpha\"] + np.outer(x, post_sample_Neo[\"beta_N\"])\n",
    "line1 = post_sample_log_mass[\"alpha\"] + np.outer(x, post_sample_log_mass[\"beta_M\"])                                    \n",
    "\n",
    "axs[0,0].scatter(scaled_N,scaled_K)\n",
    "axs[0,0].plot(x, np.mean(line0,axis=1))\n",
    "axs[0,0].fill_between(x, pm.hpd(line0.T)[:,0],pm.hpd(line0.T)[:,1],alpha = 0.5)\n",
    "axs[0,0].set_xlabel(\"neocortex percent (std)\")\n",
    "axs[0,0].set_ylabel(\"kilocal per g (std)\")\n",
    "\n",
    "axs[0,1].scatter(scaled_LM,scaled_K)\n",
    "axs[0,1].plot(x, np.mean(line1,axis=1))\n",
    "axs[0,1].fill_between(x, pm.hpd(line1.T)[:,0],pm.hpd(line1.T)[:,1],alpha = 0.5)\n",
    "axs[0,1].set_xlabel(\"log body mass (std)\")\n",
    "axs[0,1].set_ylabel(\"kilocal per g (std)\")\n",
    "\n",
    "K_pred = post_sample_log_mass_neo[\"alpha\"] + np.outer(x,post_sample_log_mass_neo[\"beta_N\"])\n",
    "axs[1,0].plot(x,np.mean(K_pred,axis=1))\n",
    "axs[1,0].fill_between(x, pm.hpd(K_pred.T)[:,0],pm.hpd(K_pred.T)[:,1], alpha = 0.5)\n",
    "axs[1,0].set_title(\"Counterfactual holding M = 0\")\n",
    "axs[1,0].set_xlabel(\"neocortex percent (std)\")\n",
    "axs[1,0].set_ylabel(\"kilocal per g (std)\")\n",
    "\n",
    "\n",
    "K_pred = post_sample_log_mass_neo[\"alpha\"] + np.outer(x,post_sample_log_mass_neo[\"beta_M\"])\n",
    "axs[1,1].plot(x,np.mean(K_pred,axis=1))\n",
    "axs[1,1].fill_between(x, pm.hpd(K_pred.T)[:,0],pm.hpd(K_pred.T)[:,1], alpha = 0.5)\n",
    "axs[1,1].set_title(\"Counterfactual holding N = 0\")\n",
    "axs[1,1].set_xlabel(\"log body mass (std)\")\n",
    "axs[1,1].set_ylabel(\"kilocal per g (std)\")\n",
    "\n",
    "plt.show()"
   ]
  },
  {
   "cell_type": "code",
   "execution_count": 324,
   "metadata": {},
   "outputs": [
    {
     "data": {
      "image/png": "[encoded data removed]",
      "text/plain": [
       "<Figure size 720x360 with 3 Axes>"
      ]
     },
     "metadata": {
      "needs_background": "light"
     },
     "output_type": "display_data"
    }
   ],
   "source": [
    "fig = plt.figure(figsize=(10,5))\n",
    "gs = gridspec.GridSpec(2, 2) # 2x2 grid\n",
    "ax0 = fig.add_subplot(gs[:, 0]) # first row, first col\n",
    "ax1 = fig.add_subplot(gs[0, 1]) # first row, second col\n",
    "ax2 = fig.add_subplot(gs[1, 1]) # full second row\n",
    "ax0.set_title(\"Multivariate\")\n",
    "ax1.set_title(\"Univariate\")\n",
    "pm.forestplot(post_sample_log_mass_neo,var_names=[\"beta_M\",\"beta_N\"],ax=ax0)\n",
    "pm.forestplot(post_sample_log_mass,var_names=[\"beta_M\"],ax=ax1)\n",
    "pm.forestplot(post_sample_Neo,var_names=[\"beta_N\"],ax=ax2)\n",
    "fig.tight_layout()"
   ]
  },
  {
   "cell_type": "markdown",
   "metadata": {},
   "source": [
    "One can see that the predictive power of both mass and neo cortex become larger in magnitude when both effects are accounted for (on the left), then when they are accounted for separately (right). This is due to the masked relationship being uncovered, where one predictor variable drives down the value of another."
   ]
  },
  {
   "cell_type": "markdown",
   "metadata": {},
   "source": [
    "### 5.3 Categorical variables\n",
    "\n",
    "This sections seemed so self evident that I don't take the time to reimplement it here"
   ]
  },
  {
   "cell_type": "markdown",
   "metadata": {},
   "source": [
    "## End of Chapter Problems"
   ]
  },
  {
   "cell_type": "markdown",
   "metadata": {},
   "source": [
    "In making my implementations and problem solutions for this chapter I will be making use of the \"causalgraphicalmodels\" package. This allows for straight forward visualisations of the DAGs."
   ]
  },
  {
   "cell_type": "markdown",
   "metadata": {},
   "source": [
    "5E1. Which of the linear models below are multiple linear regressions?\n",
    "\n",
    "(1) µi = α + βxi\n",
    "\n",
    "(2) µi = $β_x$xi + $β_z$zi\n",
    "\n",
    "(3) µi = α + β(xi − zi)\n",
    "\n",
    "(4) µi = α + $β_x$xi + $β_z$zi\n",
    "\n",
    "Answer: 2) & 4) & 3)?. Answer 1 only contains a single variable and answer 3 sums is multiple regression where the coefficient of xi and zi are constrained to be equal. This seems unusual to me, but I see it as a form of contrained multiple regression.\n",
    "\n",
    "5E2. Write down a multiple regression to evaluate the claim: Animal diversity is linearly related to latitude, but only after controlling for plant diversity. You just need to write down the model definition.\n",
    "\n",
    "Answer: $Ad_i = \\alpha + \\beta_{L} L_i  + \\beta_{Pd} Pd$\n",
    "\n",
    "where Ad and Pd mean animal diversity and plant diversity respectively, and L denotes Latitude.\n",
    "\n",
    "5E3. Write down a multiple regression to evaluate the claim: Neither amount of funding nor size of laboratory is by itself a good predictor of time to PhD degree; but together these variables are both positively associated with time to degree. Write down the model definition and indicate which side of zero each slope parameter should be on.\n",
    "\n",
    "Answer: Letting F denote funding and S denote laboratory size, then the model is that \n",
    "$T_i = \\alpha + \\beta_f F_i + \\beta_s S_i$\n",
    "\n",
    "and the claim is that both $\\beta_f \\& \\beta_s$ are positively associated with time to degree.\n",
    "\n",
    "5E4. Suppose you have a single categorical predictor with 4 levels (unique values), labeled A, B, C\n",
    "and D. Let Ai be an indicator variable that is 1 where case i is in category A. Also suppose Bi, Ci, and Di for the other categories. Now which of the following linear models are inferentially equivalent \n",
    "ways to include the categorical variable in a regression? Models are inferentially equivalent when it’s possible to compute one posterior distribution from the posterior distribution of another model.\n",
    "\n",
    "(1) µi = α + $β_A$Ai + $β_B$Bi + $β_D$Di\n",
    "\n",
    "(2) µi = α + $β_A$Ai + $β_B$Bi + $β_C$Ci + $β_D$Di\n",
    "\n",
    "(3) µi = α + $β_B$Bi + $β_C$Ci + $β_D$Di\n",
    "\n",
    "(4) µi = $α_A$Ai + $α_B$Bi + $α_C$Ci + $α_D$Di\n",
    "\n",
    "(5) µi = $α_A$(1 − $B_i$ − $C_i$ − $D_i$) + $α_B$Bi + $α_C$Ci + $α_D$Di\n",
    "\n",
    "Answer: Models 1,3,4,5 are equivalent. As A,B,C,D are all values of the same variable, for any given case i, this implies that only one of the indicator variables in the above expressions can equal one for any given instance. This in turn implies that eq.1 is equivalent to eq.4. Why? Inspeceting eq.1, if instance i is in category c, the $\\mu_i = \\alpha$. For eq.4, $\\mu_i = \\alpha_c$. Similarly $\\mu_i$ will equal $\\beta_c$ and $\\alpha_c$ in equations 2 and 5 respectively. Eq's 1,3,4,5 all have 4 parameters within them, that can be uniquely transformed into the parameters of the other equations. Eq.2 however contains an additional parameter, the intercept, which cannot be obtained uniquely from the parameters.\n",
    "\n"
   ]
  },
  {
   "cell_type": "markdown",
   "metadata": {},
   "source": [
    "5M1. Invent your own example of a spurious correlation. An outcome variable should be correlated with both predictor variables. But when both predictors are entered in the same model, the correlation between the outcome and one of the predictors should mostly vanish (or at least be greatly reduced).\n",
    "\n",
    "Answer: Let's consider an example, which I have no idea whether it's true or not. Let's take parental IQ, Parental income and childrens IQ. Let's imagine a world where parental IQ causes both child's IQ and parents income, but the parent's income has absolutely no causal effect on a child's IQ. See the causal diagram below. Again, I'm not really claiming this is true, it's just a concievable toy model. In this world, the correlation between a child's IQ and parental income would be completely spurious, both actually being caused by the parent's IQ. One could imagine that parents with higher IQs are both able to get better incomes and they are also able to increase their childs IQ either through heritability, or because parents with higher IQs are able to give their children better environments. I'm agnostic about what is true in the real world. I'm just making a toy model."
   ]
  },
  {
   "cell_type": "code",
   "execution_count": 2,
   "metadata": {},
   "outputs": [
    {
     "data": {
      "image/svg+xml": [
       "<?xml version=\"1.0\" encoding=\"UTF-8\" standalone=\"no\"?>\n",
       "<!DOCTYPE svg PUBLIC \"-//W3C//DTD SVG 1.1//EN\"\n",
       " \"http://www.w3.org/Graphics/SVG/1.1/DTD/svg11.dtd\">\n",
       "<!-- Generated by graphviz version 2.40.1 (20161225.0304)\n",
       " -->\n",
       "<!-- Title: %3 Pages: 1 -->\n",
       "<svg width=\"200pt\" height=\"116pt\"\n",
       " viewBox=\"0.00 0.00 200.09 116.00\" xmlns=\"http://www.w3.org/2000/svg\" xmlns:xlink=\"http://www.w3.org/1999/xlink\">\n",
       "<g id=\"graph0\" class=\"graph\" transform=\"scale(1 1) rotate(0) translate(4 112)\">\n",
       "<title>%3</title>\n",
       "<polygon fill=\"#ffffff\" stroke=\"transparent\" points=\"-4,4 -4,-112 196.0923,-112 196.0923,4 -4,4\"/>\n",
       "<!-- C IQ -->\n",
       "<g id=\"node1\" class=\"node\">\n",
       "<title>C IQ</title>\n",
       "<ellipse fill=\"none\" stroke=\"#000000\" cx=\"32.4971\" cy=\"-18\" rx=\"32.4942\" ry=\"18\"/>\n",
       "<text text-anchor=\"middle\" x=\"32.4971\" y=\"-14.3\" font-family=\"Times,serif\" font-size=\"14.00\" fill=\"#000000\">C IQ</text>\n",
       "</g>\n",
       "<!-- P IQ -->\n",
       "<g id=\"node2\" class=\"node\">\n",
       "<title>P IQ</title>\n",
       "<ellipse fill=\"none\" stroke=\"#000000\" cx=\"84.4971\" cy=\"-90\" rx=\"31.6951\" ry=\"18\"/>\n",
       "<text text-anchor=\"middle\" x=\"84.4971\" y=\"-86.3\" font-family=\"Times,serif\" font-size=\"14.00\" fill=\"#000000\">P IQ</text>\n",
       "</g>\n",
       "<!-- P IQ&#45;&gt;C IQ -->\n",
       "<g id=\"edge2\" class=\"edge\">\n",
       "<title>P IQ&#45;&gt;C IQ</title>\n",
       "<path fill=\"none\" stroke=\"#000000\" d=\"M72.4366,-73.3008C66.032,-64.4329 58.0252,-53.3465 50.8655,-43.4332\"/>\n",
       "<polygon fill=\"#000000\" stroke=\"#000000\" points=\"53.5457,-41.1662 44.8534,-35.1086 47.8709,-45.2647 53.5457,-41.1662\"/>\n",
       "</g>\n",
       "<!-- P Income -->\n",
       "<g id=\"node3\" class=\"node\">\n",
       "<title>P Income</title>\n",
       "<ellipse fill=\"none\" stroke=\"#000000\" cx=\"137.4971\" cy=\"-18\" rx=\"54.6905\" ry=\"18\"/>\n",
       "<text text-anchor=\"middle\" x=\"137.4971\" y=\"-14.3\" font-family=\"Times,serif\" font-size=\"14.00\" fill=\"#000000\">P Income</text>\n",
       "</g>\n",
       "<!-- P IQ&#45;&gt;P Income -->\n",
       "<g id=\"edge1\" class=\"edge\">\n",
       "<title>P IQ&#45;&gt;P Income</title>\n",
       "<path fill=\"none\" stroke=\"#000000\" d=\"M96.7896,-73.3008C103.2228,-64.5614 111.2419,-53.6674 118.4577,-43.8649\"/>\n",
       "<polygon fill=\"#000000\" stroke=\"#000000\" points=\"121.4223,-45.7414 124.5319,-35.6132 115.785,-41.5917 121.4223,-45.7414\"/>\n",
       "</g>\n",
       "</g>\n",
       "</svg>\n"
      ],
      "text/plain": [
       "<graphviz.dot.Digraph at 0x7f36e573ebb0>"
      ]
     },
     "execution_count": 2,
     "metadata": {},
     "output_type": "execute_result"
    }
   ],
   "source": [
    "from causalgraphicalmodels import CausalGraphicalModel\n",
    "\n",
    "sprinkler = CausalGraphicalModel(\n",
    "    nodes=[\"P IQ\", \"C IQ\", \"P Income\"],\n",
    "    edges=[\n",
    "        (\"P IQ\", \"P Income\"),\n",
    "        (\"P IQ\", \"C IQ\")\n",
    "    ]\n",
    ")\n",
    "\n",
    "# draw return a graphviz `dot` object, which jupyter can render\n",
    "sprinkler.draw()"
   ]
  },
  {
   "cell_type": "code",
   "execution_count": 3,
   "metadata": {},
   "outputs": [],
   "source": [
    "#synthesis fake data representing this model\n",
    "PIQ = np.random.normal(loc=100,scale=15,size =100) #set the parental IQ\n",
    "PIN = np.random.normal(loc=PIQ*100 +70000, scale = 2000) #set parental annual income\n",
    "CIQ = np.random.normal(loc=PIQ, scale =7.5) # set child IQ as being determined by parental IQ"
   ]
  },
  {
   "cell_type": "code",
   "execution_count": 4,
   "metadata": {},
   "outputs": [
    {
     "data": {
      "image/png": "[encoded data removed]",
      "text/plain": [
       "<Figure size 720x360 with 3 Axes>"
      ]
     },
     "metadata": {
      "needs_background": "light"
     },
     "output_type": "display_data"
    }
   ],
   "source": [
    "fig,axs = plt.subplots(1,3,figsize=(10,5))\n",
    "fig.suptitle(\"Pairwise correlations between all 3 variables\", fontsize=20)\n",
    "sns.scatterplot(PIQ,CIQ,ax=axs[0])\n",
    "axs[0].set_xlabel(\"Parental IQ\")\n",
    "axs[0].set_ylabel(\"Child IQ\")\n",
    "sns.scatterplot(PIQ,PIN,ax=axs[1])\n",
    "axs[1].set_xlabel(\"Parental IQ\")\n",
    "axs[1].set_ylabel(\"Parental Income $\")\n",
    "sns.scatterplot(PIN,CIQ,ax=axs[2])\n",
    "axs[2].set_xlabel(\"Parental Income $\")\n",
    "axs[2].set_ylabel(\"Child IQ\")\n",
    "plt.tight_layout()"
   ]
  },
  {
   "cell_type": "markdown",
   "metadata": {},
   "source": [
    "We can now perform our linear regressions on these models. I'll just use pymc3 MCMC tool to estimate this and not bother with Laplace's method for now. I'll fit two linear models to the data, both of which will attempt to predict child IQ. The first model will use just parental income and the second will make use of both parental income and parental IQ. As I generated this data in such a way as for the parental income to be spurious, we should see the first model have a positive slope parameter and the second model should have zero slope parameter for the parental income variable. More formally\n",
    "\n",
    "### Model 1\n",
    "\n",
    "\n",
    "\n",
    "$CIQ_i$ ~ $N(\\mu_i,\\sigma^2)$\n",
    "\n",
    "$\\mu_i = \\alpha + \\beta(x_i - \\bar{x})$\n",
    "\n",
    "$\\alpha$ ~ $N(100,10)$ \n",
    "\n",
    "$\\beta$ ~ $Log-Normal(0,1)$ The relationships are presumed to have positive slopes, as seen by eyeing the scatter plots\n",
    "\n",
    "$\\sigma$ ~ $Unif(0,20)$\n",
    "\n",
    "### Model 2\n",
    "\n",
    "$CIQ_i$ ~ $N(\\mu_i,\\sigma^2)$\n",
    "\n",
    "$\\mu_i = \\alpha + \\beta_{PIN} (PIN_i - \\bar{PIN}) + \\beta_{PIQ}(PIQ_i - \\bar{PIQ})  $\n",
    "\n",
    "$\\alpha$ ~ $N(100,10)$ \n",
    "\n",
    "$\\beta_{PIN}$ ~ $N(0,1)$ This our priors must reflect the fact that we think the relationship could be zero or slightly negative when we factor for other variables. This we change from a log-normal to a normal prior\n",
    "\n",
    "$\\beta_{PIQ}$ ~ $N(0,1)$ \n",
    "\n",
    "$\\sigma$ ~ $Unif(0,20)$\n",
    "\n",
    "\n",
    "In both of the above models, the mean of the $\\alpha$ distribution is chosen to be around 100 as the $\\alpha$ is the mean IQ of a child for a mean parental value. The way IQ tests are configured is to have a mean of child IQ is 100, so we should expect $\\alpha$ to be somewhere near 100."
   ]
  },
  {
   "cell_type": "markdown",
   "metadata": {},
   "source": [
    "where $mean_i, sigma_i =100,15$ for IQ predictions. This makes sense relative to how IQ is defined. $mean_i, sigma_i = \\$ 80,000, \\$ 10,000$ for income predictions, as just rough eye balled approximations."
   ]
  },
  {
   "cell_type": "code",
   "execution_count": 5,
   "metadata": {},
   "outputs": [],
   "source": [
    "#scale the parental income data\n",
    "Scale_PIN = (PIN - np.mean(PIN))/np.std(PIN)\n",
    "Scale_PIQ = (PIQ - np.mean(PIQ))/np.std(PIQ)"
   ]
  },
  {
   "cell_type": "code",
   "execution_count": 6,
   "metadata": {},
   "outputs": [
    {
     "data": {
      "image/png": "[encoded data removed]",
      "text/plain": [
       "<Figure size 432x288 with 1 Axes>"
      ]
     },
     "metadata": {
      "needs_background": "light"
     },
     "output_type": "display_data"
    }
   ],
   "source": [
    "plt.scatter(Scale_PIN, CIQ)\n",
    "plt.show()"
   ]
  },
  {
   "cell_type": "code",
   "execution_count": 7,
   "metadata": {},
   "outputs": [
    {
     "data": {
      "text/html": [
       "\n",
       "    <div>\n",
       "        <style>\n",
       "            /* Turns off some styling */\n",
       "            progress {\n",
       "                /* gets rid of default border in Firefox and Opera. */\n",
       "                border: none;\n",
       "                /* Needs to be in here for Safari polyfill so background images work as expected. */\n",
       "                background-size: auto;\n",
       "            }\n",
       "            .progress-bar-interrupted, .progress-bar-interrupted::-webkit-progress-bar {\n",
       "                background: #F44336;\n",
       "            }\n",
       "        </style>\n",
       "      <progress value='14' class='' max='14' style='width:300px; height:20px; vertical-align: middle;'></progress>\n",
       "      100.00% [14/14 00:00<00:00 logp = -534.29, ||grad|| = 1.1914]\n",
       "    </div>\n",
       "    "
      ],
      "text/plain": [
       "<IPython.core.display.HTML object>"
      ]
     },
     "metadata": {},
     "output_type": "display_data"
    },
    {
     "name": "stdout",
     "output_type": "stream",
     "text": [
      "\n"
     ]
    },
    {
     "name": "stderr",
     "output_type": "stream",
     "text": [
      "Only 250 samples in chain.\n",
      "Auto-assigning NUTS sampler...\n",
      "Initializing NUTS using jitter+adapt_diag...\n",
      "Multiprocess sampling (4 chains in 4 jobs)\n",
      "NUTS: [sigma, beta, alpha]\n"
     ]
    },
    {
     "data": {
      "text/html": [
       "\n",
       "    <div>\n",
       "        <style>\n",
       "            /* Turns off some styling */\n",
       "            progress {\n",
       "                /* gets rid of default border in Firefox and Opera. */\n",
       "                border: none;\n",
       "                /* Needs to be in here for Safari polyfill so background images work as expected. */\n",
       "                background-size: auto;\n",
       "            }\n",
       "            .progress-bar-interrupted, .progress-bar-interrupted::-webkit-progress-bar {\n",
       "                background: #F44336;\n",
       "            }\n",
       "        </style>\n",
       "      <progress value='5000' class='' max='5000' style='width:300px; height:20px; vertical-align: middle;'></progress>\n",
       "      100.00% [5000/5000 00:01<00:00 Sampling 4 chains, 0 divergences]\n",
       "    </div>\n",
       "    "
      ],
      "text/plain": [
       "<IPython.core.display.HTML object>"
      ]
     },
     "metadata": {},
     "output_type": "display_data"
    },
    {
     "name": "stderr",
     "output_type": "stream",
     "text": [
      "Sampling 4 chains for 1_000 tune and 250 draw iterations (4_000 + 1_000 draws total) took 2 seconds.\n",
      "The acceptance probability does not match the target. It is 0.886262245856655, but should be close to 0.8. Try to increase the number of tuning steps.\n",
      "/home/aidan/anaconda3/envs/Bayes/lib/python3.8/site-packages/arviz/data/io_pymc3.py:85: FutureWarning: Using `from_pymc3` without the model will be deprecated in a future release. Not using the model will return less accurate and less useful results. Make sure you use the model argument or call from_pymc3 within a model context.\n",
      "  warnings.warn(\n"
     ]
    },
    {
     "data": {
      "text/html": [
       "<div>\n",
       "<style scoped>\n",
       "    .dataframe tbody tr th:only-of-type {\n",
       "        vertical-align: middle;\n",
       "    }\n",
       "\n",
       "    .dataframe tbody tr th {\n",
       "        vertical-align: top;\n",
       "    }\n",
       "\n",
       "    .dataframe thead th {\n",
       "        text-align: right;\n",
       "    }\n",
       "</style>\n",
       "<table border=\"1\" class=\"dataframe\">\n",
       "  <thead>\n",
       "    <tr style=\"text-align: right;\">\n",
       "      <th></th>\n",
       "      <th>mean</th>\n",
       "      <th>sd</th>\n",
       "      <th>hdi_3%</th>\n",
       "      <th>hdi_97%</th>\n",
       "      <th>mcse_mean</th>\n",
       "      <th>mcse_sd</th>\n",
       "      <th>ess_mean</th>\n",
       "      <th>ess_sd</th>\n",
       "      <th>ess_bulk</th>\n",
       "      <th>ess_tail</th>\n",
       "      <th>r_hat</th>\n",
       "    </tr>\n",
       "  </thead>\n",
       "  <tbody>\n",
       "    <tr>\n",
       "      <th>alpha</th>\n",
       "      <td>97.247</td>\n",
       "      <td>1.591</td>\n",
       "      <td>94.430</td>\n",
       "      <td>100.198</td>\n",
       "      <td>0.045</td>\n",
       "      <td>0.032</td>\n",
       "      <td>1269.0</td>\n",
       "      <td>1267.0</td>\n",
       "      <td>1257.0</td>\n",
       "      <td>709.0</td>\n",
       "      <td>1.01</td>\n",
       "    </tr>\n",
       "    <tr>\n",
       "      <th>beta</th>\n",
       "      <td>9.991</td>\n",
       "      <td>1.448</td>\n",
       "      <td>7.692</td>\n",
       "      <td>13.044</td>\n",
       "      <td>0.040</td>\n",
       "      <td>0.028</td>\n",
       "      <td>1323.0</td>\n",
       "      <td>1310.0</td>\n",
       "      <td>1316.0</td>\n",
       "      <td>762.0</td>\n",
       "      <td>1.00</td>\n",
       "    </tr>\n",
       "    <tr>\n",
       "      <th>sigma</th>\n",
       "      <td>15.616</td>\n",
       "      <td>1.181</td>\n",
       "      <td>13.608</td>\n",
       "      <td>17.822</td>\n",
       "      <td>0.035</td>\n",
       "      <td>0.025</td>\n",
       "      <td>1113.0</td>\n",
       "      <td>1112.0</td>\n",
       "      <td>1087.0</td>\n",
       "      <td>779.0</td>\n",
       "      <td>1.00</td>\n",
       "    </tr>\n",
       "  </tbody>\n",
       "</table>\n",
       "</div>"
      ],
      "text/plain": [
       "         mean     sd  hdi_3%  hdi_97%  mcse_mean  mcse_sd  ess_mean  ess_sd  \\\n",
       "alpha  97.247  1.591  94.430  100.198      0.045    0.032    1269.0  1267.0   \n",
       "beta    9.991  1.448   7.692   13.044      0.040    0.028    1323.0  1310.0   \n",
       "sigma  15.616  1.181  13.608   17.822      0.035    0.025    1113.0  1112.0   \n",
       "\n",
       "       ess_bulk  ess_tail  r_hat  \n",
       "alpha    1257.0     709.0   1.01  \n",
       "beta     1316.0     762.0   1.00  \n",
       "sigma    1087.0     779.0   1.00  "
      ]
     },
     "execution_count": 7,
     "metadata": {},
     "output_type": "execute_result"
    }
   ],
   "source": [
    "#fit the univariate linear regression\n",
    "with pm.Model() as Linreg:\n",
    "    alpha = pm.Normal('alpha', mu=0, sd=15)#prior on alpha\n",
    "    beta = pm.Normal(\"beta\", mu=0,sd=5)#prior on beta\n",
    "    sigma = pm.Uniform(\"sigma\",0,50)#prior on sigma\n",
    "    mu = alpha + beta*(Scale_PIN)\n",
    "    ChildIQ = pm.Normal('ChildIQ', mu=mu, sd=sigma, observed=CIQ)#likelihood of the data\n",
    "    mean_q = pm.find_MAP()\n",
    "    #print(mean_q)\n",
    "    Hess = pm.find_hessian(mean_q, vars=[alpha, beta,sigma])#find the hessian matrix\n",
    "    sample = pm.sample(draws= 250, chains = 4)#1000 random samples on 4 chains\n",
    "    #get summary reports from the MCMC\n",
    "    #pm.traceplot(sample)\n",
    "pm.summary(sample)"
   ]
  },
  {
   "cell_type": "code",
   "execution_count": 8,
   "metadata": {},
   "outputs": [
    {
     "name": "stderr",
     "output_type": "stream",
     "text": [
      "/home/aidan/anaconda3/envs/Bayes/lib/python3.8/site-packages/arviz/data/io_pymc3.py:85: FutureWarning: Using `from_pymc3` without the model will be deprecated in a future release. Not using the model will return less accurate and less useful results. Make sure you use the model argument or call from_pymc3 within a model context.\n",
      "  warnings.warn(\n"
     ]
    },
    {
     "data": {
      "text/plain": [
       "array([<AxesSubplot:title={'center':'94.0% HDI'}>], dtype=object)"
      ]
     },
     "execution_count": 8,
     "metadata": {},
     "output_type": "execute_result"
    },
    {
     "data": {
      "image/png": "[encoded data removed]",
      "text/plain": [
       "<Figure size 432x316.8 with 1 Axes>"
      ]
     },
     "metadata": {
      "needs_background": "light"
     },
     "output_type": "display_data"
    }
   ],
   "source": [
    "pm.forestplot(sample, var_names=[\"beta\"])"
   ]
  },
  {
   "cell_type": "markdown",
   "metadata": {},
   "source": [
    "We can see that there's a relatively strong association between parential income and child's IQ if we don't factor any other variables into the data. Now let's factor in both variables together"
   ]
  },
  {
   "cell_type": "code",
   "execution_count": 9,
   "metadata": {
    "scrolled": true
   },
   "outputs": [
    {
     "data": {
      "text/html": [
       "\n",
       "    <div>\n",
       "        <style>\n",
       "            /* Turns off some styling */\n",
       "            progress {\n",
       "                /* gets rid of default border in Firefox and Opera. */\n",
       "                border: none;\n",
       "                /* Needs to be in here for Safari polyfill so background images work as expected. */\n",
       "                background-size: auto;\n",
       "            }\n",
       "            .progress-bar-interrupted, .progress-bar-interrupted::-webkit-progress-bar {\n",
       "                background: #F44336;\n",
       "            }\n",
       "        </style>\n",
       "      <progress value='17' class='' max='17' style='width:300px; height:20px; vertical-align: middle;'></progress>\n",
       "      100.00% [17/17 00:00<00:00 logp = -533.68, ||grad|| = 1.1486]\n",
       "    </div>\n",
       "    "
      ],
      "text/plain": [
       "<IPython.core.display.HTML object>"
      ]
     },
     "metadata": {},
     "output_type": "display_data"
    },
    {
     "name": "stderr",
     "output_type": "stream",
     "text": [
      "Only 250 samples in chain.\n",
      "Auto-assigning NUTS sampler...\n",
      "Initializing NUTS using jitter+adapt_diag...\n"
     ]
    },
    {
     "name": "stdout",
     "output_type": "stream",
     "text": [
      "\n"
     ]
    },
    {
     "name": "stderr",
     "output_type": "stream",
     "text": [
      "Multiprocess sampling (4 chains in 4 jobs)\n",
      "NUTS: [sigma, beta2, beta1, alpha]\n"
     ]
    },
    {
     "data": {
      "text/html": [
       "\n",
       "    <div>\n",
       "        <style>\n",
       "            /* Turns off some styling */\n",
       "            progress {\n",
       "                /* gets rid of default border in Firefox and Opera. */\n",
       "                border: none;\n",
       "                /* Needs to be in here for Safari polyfill so background images work as expected. */\n",
       "                background-size: auto;\n",
       "            }\n",
       "            .progress-bar-interrupted, .progress-bar-interrupted::-webkit-progress-bar {\n",
       "                background: #F44336;\n",
       "            }\n",
       "        </style>\n",
       "      <progress value='5000' class='' max='5000' style='width:300px; height:20px; vertical-align: middle;'></progress>\n",
       "      100.00% [5000/5000 00:02<00:00 Sampling 4 chains, 0 divergences]\n",
       "    </div>\n",
       "    "
      ],
      "text/plain": [
       "<IPython.core.display.HTML object>"
      ]
     },
     "metadata": {},
     "output_type": "display_data"
    },
    {
     "name": "stderr",
     "output_type": "stream",
     "text": [
      "Sampling 4 chains for 1_000 tune and 250 draw iterations (4_000 + 1_000 draws total) took 2 seconds.\n",
      "/home/aidan/anaconda3/envs/Bayes/lib/python3.8/site-packages/arviz/data/io_pymc3.py:85: FutureWarning: Using `from_pymc3` without the model will be deprecated in a future release. Not using the model will return less accurate and less useful results. Make sure you use the model argument or call from_pymc3 within a model context.\n",
      "  warnings.warn(\n"
     ]
    },
    {
     "data": {
      "text/html": [
       "<div>\n",
       "<style scoped>\n",
       "    .dataframe tbody tr th:only-of-type {\n",
       "        vertical-align: middle;\n",
       "    }\n",
       "\n",
       "    .dataframe tbody tr th {\n",
       "        vertical-align: top;\n",
       "    }\n",
       "\n",
       "    .dataframe thead th {\n",
       "        text-align: right;\n",
       "    }\n",
       "</style>\n",
       "<table border=\"1\" class=\"dataframe\">\n",
       "  <thead>\n",
       "    <tr style=\"text-align: right;\">\n",
       "      <th></th>\n",
       "      <th>mean</th>\n",
       "      <th>sd</th>\n",
       "      <th>hdi_3%</th>\n",
       "      <th>hdi_97%</th>\n",
       "      <th>mcse_mean</th>\n",
       "      <th>mcse_sd</th>\n",
       "      <th>ess_mean</th>\n",
       "      <th>ess_sd</th>\n",
       "      <th>ess_bulk</th>\n",
       "      <th>ess_tail</th>\n",
       "      <th>r_hat</th>\n",
       "    </tr>\n",
       "  </thead>\n",
       "  <tbody>\n",
       "    <tr>\n",
       "      <th>alpha</th>\n",
       "      <td>97.899</td>\n",
       "      <td>0.889</td>\n",
       "      <td>96.246</td>\n",
       "      <td>99.465</td>\n",
       "      <td>0.027</td>\n",
       "      <td>0.019</td>\n",
       "      <td>1115.0</td>\n",
       "      <td>1113.0</td>\n",
       "      <td>1130.0</td>\n",
       "      <td>778.0</td>\n",
       "      <td>1.0</td>\n",
       "    </tr>\n",
       "    <tr>\n",
       "      <th>beta1</th>\n",
       "      <td>1.560</td>\n",
       "      <td>1.109</td>\n",
       "      <td>-0.527</td>\n",
       "      <td>3.716</td>\n",
       "      <td>0.042</td>\n",
       "      <td>0.031</td>\n",
       "      <td>698.0</td>\n",
       "      <td>647.0</td>\n",
       "      <td>682.0</td>\n",
       "      <td>734.0</td>\n",
       "      <td>1.0</td>\n",
       "    </tr>\n",
       "    <tr>\n",
       "      <th>beta2</th>\n",
       "      <td>15.167</td>\n",
       "      <td>1.143</td>\n",
       "      <td>13.174</td>\n",
       "      <td>17.450</td>\n",
       "      <td>0.045</td>\n",
       "      <td>0.032</td>\n",
       "      <td>637.0</td>\n",
       "      <td>637.0</td>\n",
       "      <td>643.0</td>\n",
       "      <td>522.0</td>\n",
       "      <td>1.0</td>\n",
       "    </tr>\n",
       "    <tr>\n",
       "      <th>sigma</th>\n",
       "      <td>8.972</td>\n",
       "      <td>0.698</td>\n",
       "      <td>7.652</td>\n",
       "      <td>10.231</td>\n",
       "      <td>0.025</td>\n",
       "      <td>0.018</td>\n",
       "      <td>794.0</td>\n",
       "      <td>794.0</td>\n",
       "      <td>766.0</td>\n",
       "      <td>688.0</td>\n",
       "      <td>1.0</td>\n",
       "    </tr>\n",
       "  </tbody>\n",
       "</table>\n",
       "</div>"
      ],
      "text/plain": [
       "         mean     sd  hdi_3%  hdi_97%  mcse_mean  mcse_sd  ess_mean  ess_sd  \\\n",
       "alpha  97.899  0.889  96.246   99.465      0.027    0.019    1115.0  1113.0   \n",
       "beta1   1.560  1.109  -0.527    3.716      0.042    0.031     698.0   647.0   \n",
       "beta2  15.167  1.143  13.174   17.450      0.045    0.032     637.0   637.0   \n",
       "sigma   8.972  0.698   7.652   10.231      0.025    0.018     794.0   794.0   \n",
       "\n",
       "       ess_bulk  ess_tail  r_hat  \n",
       "alpha    1130.0     778.0    1.0  \n",
       "beta1     682.0     734.0    1.0  \n",
       "beta2     643.0     522.0    1.0  \n",
       "sigma     766.0     688.0    1.0  "
      ]
     },
     "execution_count": 9,
     "metadata": {},
     "output_type": "execute_result"
    }
   ],
   "source": [
    "#running a multivariate linear regression\n",
    "with pm.Model() as Linreg:\n",
    "    alpha = pm.Normal('alpha', mu=0, sd=15)#prior on alpha\n",
    "    beta1 = pm.Normal(\"beta1\", mu=0,sd=5)#prior on beta1\n",
    "    beta2 = pm.Normal(\"beta2\", mu=0,sd=5)#prior on beta2\n",
    "    sigma = pm.Uniform(\"sigma\",0,50)#prior on sigma\n",
    "    mu = alpha + beta1*Scale_PIN + beta2 * Scale_PIQ\n",
    "    ChildIQ = pm.Normal('ChildIQ', mu=mu, sd=sigma, observed=CIQ)#likelihood of the data\n",
    "    mean_q = pm.find_MAP()\n",
    "    #print(mean_q)\n",
    "    #Hess = pm.find_hessian(mean_q, vars=[alpha, beta,sigma])#find the hessian matrix\n",
    "    sample = pm.sample(draws= 250, chains = 4)#1000 random samples on 4 chains\n",
    "    #get summary reports from the MCMC\n",
    "    #pm.traceplot(sample)\n",
    "pm.summary(sample)"
   ]
  },
  {
   "cell_type": "code",
   "execution_count": 10,
   "metadata": {
    "scrolled": false
   },
   "outputs": [
    {
     "name": "stderr",
     "output_type": "stream",
     "text": [
      "/home/aidan/anaconda3/envs/Bayes/lib/python3.8/site-packages/arviz/data/io_pymc3.py:85: FutureWarning: Using `from_pymc3` without the model will be deprecated in a future release. Not using the model will return less accurate and less useful results. Make sure you use the model argument or call from_pymc3 within a model context.\n",
      "  warnings.warn(\n"
     ]
    },
    {
     "data": {
      "text/plain": [
       "array([<AxesSubplot:title={'center':'94.0% HDI'}>], dtype=object)"
      ]
     },
     "execution_count": 10,
     "metadata": {},
     "output_type": "execute_result"
    },
    {
     "data": {
      "image/png": "[encoded data removed]",
      "text/plain": [
       "<Figure size 432x417.6 with 1 Axes>"
      ]
     },
     "metadata": {
      "needs_background": "light"
     },
     "output_type": "display_data"
    }
   ],
   "source": [
    "pm.forestplot(sample, var_names=[\"beta1\",\"beta2\"])"
   ]
  },
  {
   "cell_type": "markdown",
   "metadata": {},
   "source": [
    "We can inspect the posterior credible intervals the 4 random samples of the posterior distribution that was run. Clear $\\beta_1$ is now consistent with equalling zero, whilst $\\beta_2$ does not, all reflecting the spurious nature of the associtation."
   ]
  },
  {
   "cell_type": "markdown",
   "metadata": {},
   "source": [
    "5M2. Invent your own example of a masked relationship. An outcome variable should be correlated with both predictor variables, but in opposite directions. And the two predictor variables should be correlated with one another.\n",
    "\n",
    "Answer: I'm going to be boring on this one and just call the variables X,Y,Z. The causal diagram below shows what has a causal impact on what else. Here we will make X and Y be inversely correlated, but make X and Y both have a positive causal relationship with Z."
   ]
  },
  {
   "cell_type": "code",
   "execution_count": 11,
   "metadata": {},
   "outputs": [
    {
     "data": {
      "image/svg+xml": [
       "<?xml version=\"1.0\" encoding=\"UTF-8\" standalone=\"no\"?>\n",
       "<!DOCTYPE svg PUBLIC \"-//W3C//DTD SVG 1.1//EN\"\n",
       " \"http://www.w3.org/Graphics/SVG/1.1/DTD/svg11.dtd\">\n",
       "<!-- Generated by graphviz version 2.40.1 (20161225.0304)\n",
       " -->\n",
       "<!-- Title: %3 Pages: 1 -->\n",
       "<svg width=\"89pt\" height=\"188pt\"\n",
       " viewBox=\"0.00 0.00 89.00 188.00\" xmlns=\"http://www.w3.org/2000/svg\" xmlns:xlink=\"http://www.w3.org/1999/xlink\">\n",
       "<g id=\"graph0\" class=\"graph\" transform=\"scale(1 1) rotate(0) translate(4 184)\">\n",
       "<title>%3</title>\n",
       "<polygon fill=\"#ffffff\" stroke=\"transparent\" points=\"-4,4 -4,-184 85,-184 85,4 -4,4\"/>\n",
       "<!-- Y -->\n",
       "<g id=\"node1\" class=\"node\">\n",
       "<title>Y</title>\n",
       "<ellipse fill=\"none\" stroke=\"#000000\" cx=\"27\" cy=\"-90\" rx=\"27\" ry=\"18\"/>\n",
       "<text text-anchor=\"middle\" x=\"27\" y=\"-86.3\" font-family=\"Times,serif\" font-size=\"14.00\" fill=\"#000000\">Y</text>\n",
       "</g>\n",
       "<!-- Z -->\n",
       "<g id=\"node2\" class=\"node\">\n",
       "<title>Z</title>\n",
       "<ellipse fill=\"none\" stroke=\"#000000\" cx=\"54\" cy=\"-18\" rx=\"27\" ry=\"18\"/>\n",
       "<text text-anchor=\"middle\" x=\"54\" y=\"-14.3\" font-family=\"Times,serif\" font-size=\"14.00\" fill=\"#000000\">Z</text>\n",
       "</g>\n",
       "<!-- Y&#45;&gt;Z -->\n",
       "<g id=\"edge3\" class=\"edge\">\n",
       "<title>Y&#45;&gt;Z</title>\n",
       "<path fill=\"none\" stroke=\"#000000\" d=\"M33.6742,-72.2022C36.7476,-64.0064 40.4616,-54.1024 43.8695,-45.0145\"/>\n",
       "<polygon fill=\"#000000\" stroke=\"#000000\" points=\"47.1685,-46.1853 47.4026,-35.593 40.6142,-43.7274 47.1685,-46.1853\"/>\n",
       "</g>\n",
       "<!-- X -->\n",
       "<g id=\"node3\" class=\"node\">\n",
       "<title>X</title>\n",
       "<ellipse fill=\"none\" stroke=\"#000000\" cx=\"54\" cy=\"-162\" rx=\"27\" ry=\"18\"/>\n",
       "<text text-anchor=\"middle\" x=\"54\" y=\"-158.3\" font-family=\"Times,serif\" font-size=\"14.00\" fill=\"#000000\">X</text>\n",
       "</g>\n",
       "<!-- X&#45;&gt;Y -->\n",
       "<g id=\"edge1\" class=\"edge\">\n",
       "<title>X&#45;&gt;Y</title>\n",
       "<path fill=\"none\" stroke=\"#000000\" d=\"M47.3258,-144.2022C44.2524,-136.0064 40.5384,-126.1024 37.1305,-117.0145\"/>\n",
       "<polygon fill=\"#000000\" stroke=\"#000000\" points=\"40.3858,-115.7274 33.5974,-107.593 33.8315,-118.1853 40.3858,-115.7274\"/>\n",
       "</g>\n",
       "<!-- X&#45;&gt;Z -->\n",
       "<g id=\"edge2\" class=\"edge\">\n",
       "<title>X&#45;&gt;Z</title>\n",
       "<path fill=\"none\" stroke=\"#000000\" d=\"M57.7474,-144.0931C59.7466,-133.6241 61.9966,-120.1241 63,-108 64.3197,-92.0545 64.3197,-87.9455 63,-72 62.2945,-63.4753 60.9727,-54.2703 59.5551,-45.917\"/>\n",
       "<polygon fill=\"#000000\" stroke=\"#000000\" points=\"62.9689,-45.1258 57.7474,-35.9069 56.0803,-46.3698 62.9689,-45.1258\"/>\n",
       "</g>\n",
       "</g>\n",
       "</svg>\n"
      ],
      "text/plain": [
       "<graphviz.dot.Digraph at 0x7f36dacb6880>"
      ]
     },
     "execution_count": 11,
     "metadata": {},
     "output_type": "execute_result"
    }
   ],
   "source": [
    "from causalgraphicalmodels import CausalGraphicalModel\n",
    "\n",
    "Relation = CausalGraphicalModel(\n",
    "    nodes=[\"X\", \"Y\", \"Z\"],\n",
    "    edges=[\n",
    "        (\"X\",\"Y\"),\n",
    "        (\"X\", \"Z\"),\n",
    "        (\"Y\",\"Z\")\n",
    "    ]\n",
    ")\n",
    "\n",
    "# draw return a graphviz `dot` object, which jupyter can render\n",
    "Relation.draw()"
   ]
  },
  {
   "cell_type": "markdown",
   "metadata": {},
   "source": [
    "I'll fit 2 models to investigate the effect of X on Z. The univaritae and then the multivariate.\n",
    "\n",
    "### Model 1\n",
    "\n",
    "\n",
    "\n",
    "$Z$ ~ $N(\\mu_i,\\sigma^2)$\n",
    "\n",
    "$\\mu_i = \\alpha + \\beta(X - \\bar{X})$\n",
    "\n",
    "$\\alpha$ ~ $N(0,1)$ \n",
    "\n",
    "$\\beta$ ~ $N(0,1)$ The relationships are presumed to have positive slopes, as seen by eyeing the scatter plots\n",
    "\n",
    "$\\sigma$ ~ $Unif(0,5)$\n",
    "\n",
    "### Model 2\n",
    "\n",
    "$CIQ_i$ ~ $N(\\mu_i,\\sigma^2)$\n",
    "\n",
    "$\\mu_i = \\alpha + \\beta_{X} (X - \\bar{X}) + \\beta_{Y}(Y - \\bar{Y})  $\n",
    "\n",
    "$\\alpha$ ~ $N(1,10)$ \n",
    "\n",
    "$\\beta_{X}$ ~ $N(0,1)$ This our priors must reflect the fact that we think the relationship could be zero or slightly negative when we factor for other variables. This we change from a log-normal to a normal prior\n",
    "\n",
    "$\\beta_{Y}$ ~ $N(0,1)$ \n",
    "\n",
    "$\\sigma$ ~ $Unif(0,10)$\n"
   ]
  },
  {
   "cell_type": "code",
   "execution_count": null,
   "metadata": {},
   "outputs": [],
   "source": []
  },
  {
   "cell_type": "code",
   "execution_count": 12,
   "metadata": {},
   "outputs": [],
   "source": [
    "#simultate the data\n",
    "X = np.random.normal(size=50)\n",
    "Y = np.random.normal(loc=-X)\n",
    "Z = np.random.normal(2*X+2*Y)"
   ]
  },
  {
   "cell_type": "code",
   "execution_count": 13,
   "metadata": {},
   "outputs": [
    {
     "data": {
      "image/png": "[encoded data removed]",
      "text/plain": [
       "<Figure size 432x288 with 1 Axes>"
      ]
     },
     "metadata": {
      "needs_background": "light"
     },
     "output_type": "display_data"
    }
   ],
   "source": [
    "plt.scatter(X,Z)\n",
    "plt.xlabel(\"X\")\n",
    "plt.ylabel(\"Z\")\n",
    "plt.title(\"No obvious relationship between X and Y\")\n",
    "plt.show()"
   ]
  },
  {
   "cell_type": "code",
   "execution_count": 14,
   "metadata": {},
   "outputs": [
    {
     "data": {
      "text/html": [
       "\n",
       "    <div>\n",
       "        <style>\n",
       "            /* Turns off some styling */\n",
       "            progress {\n",
       "                /* gets rid of default border in Firefox and Opera. */\n",
       "                border: none;\n",
       "                /* Needs to be in here for Safari polyfill so background images work as expected. */\n",
       "                background-size: auto;\n",
       "            }\n",
       "            .progress-bar-interrupted, .progress-bar-interrupted::-webkit-progress-bar {\n",
       "                background: #F44336;\n",
       "            }\n",
       "        </style>\n",
       "      <progress value='11' class='' max='11' style='width:300px; height:20px; vertical-align: middle;'></progress>\n",
       "      100.00% [11/11 00:00<00:00 logp = -110.16, ||grad|| = 7.0587e-05]\n",
       "    </div>\n",
       "    "
      ],
      "text/plain": [
       "<IPython.core.display.HTML object>"
      ]
     },
     "metadata": {},
     "output_type": "display_data"
    },
    {
     "name": "stdout",
     "output_type": "stream",
     "text": [
      "\n"
     ]
    },
    {
     "name": "stderr",
     "output_type": "stream",
     "text": [
      "Only 250 samples in chain.\n",
      "Auto-assigning NUTS sampler...\n",
      "Initializing NUTS using jitter+adapt_diag...\n",
      "Multiprocess sampling (4 chains in 4 jobs)\n",
      "NUTS: [sigma, beta, alpha]\n"
     ]
    },
    {
     "data": {
      "text/html": [
       "\n",
       "    <div>\n",
       "        <style>\n",
       "            /* Turns off some styling */\n",
       "            progress {\n",
       "                /* gets rid of default border in Firefox and Opera. */\n",
       "                border: none;\n",
       "                /* Needs to be in here for Safari polyfill so background images work as expected. */\n",
       "                background-size: auto;\n",
       "            }\n",
       "            .progress-bar-interrupted, .progress-bar-interrupted::-webkit-progress-bar {\n",
       "                background: #F44336;\n",
       "            }\n",
       "        </style>\n",
       "      <progress value='5000' class='' max='5000' style='width:300px; height:20px; vertical-align: middle;'></progress>\n",
       "      100.00% [5000/5000 00:01<00:00 Sampling 4 chains, 0 divergences]\n",
       "    </div>\n",
       "    "
      ],
      "text/plain": [
       "<IPython.core.display.HTML object>"
      ]
     },
     "metadata": {},
     "output_type": "display_data"
    },
    {
     "name": "stderr",
     "output_type": "stream",
     "text": [
      "Sampling 4 chains for 1_000 tune and 250 draw iterations (4_000 + 1_000 draws total) took 2 seconds.\n",
      "/home/aidan/anaconda3/envs/Bayes/lib/python3.8/site-packages/arviz/data/io_pymc3.py:85: FutureWarning: Using `from_pymc3` without the model will be deprecated in a future release. Not using the model will return less accurate and less useful results. Make sure you use the model argument or call from_pymc3 within a model context.\n",
      "  warnings.warn(\n"
     ]
    },
    {
     "data": {
      "text/html": [
       "<div>\n",
       "<style scoped>\n",
       "    .dataframe tbody tr th:only-of-type {\n",
       "        vertical-align: middle;\n",
       "    }\n",
       "\n",
       "    .dataframe tbody tr th {\n",
       "        vertical-align: top;\n",
       "    }\n",
       "\n",
       "    .dataframe thead th {\n",
       "        text-align: right;\n",
       "    }\n",
       "</style>\n",
       "<table border=\"1\" class=\"dataframe\">\n",
       "  <thead>\n",
       "    <tr style=\"text-align: right;\">\n",
       "      <th></th>\n",
       "      <th>mean</th>\n",
       "      <th>sd</th>\n",
       "      <th>hdi_3%</th>\n",
       "      <th>hdi_97%</th>\n",
       "      <th>mcse_mean</th>\n",
       "      <th>mcse_sd</th>\n",
       "      <th>ess_mean</th>\n",
       "      <th>ess_sd</th>\n",
       "      <th>ess_bulk</th>\n",
       "      <th>ess_tail</th>\n",
       "      <th>r_hat</th>\n",
       "    </tr>\n",
       "  </thead>\n",
       "  <tbody>\n",
       "    <tr>\n",
       "      <th>alpha</th>\n",
       "      <td>0.057</td>\n",
       "      <td>0.286</td>\n",
       "      <td>-0.485</td>\n",
       "      <td>0.611</td>\n",
       "      <td>0.008</td>\n",
       "      <td>0.008</td>\n",
       "      <td>1403.0</td>\n",
       "      <td>691.0</td>\n",
       "      <td>1398.0</td>\n",
       "      <td>910.0</td>\n",
       "      <td>1.01</td>\n",
       "    </tr>\n",
       "    <tr>\n",
       "      <th>beta</th>\n",
       "      <td>-0.120</td>\n",
       "      <td>0.295</td>\n",
       "      <td>-0.654</td>\n",
       "      <td>0.411</td>\n",
       "      <td>0.009</td>\n",
       "      <td>0.008</td>\n",
       "      <td>1163.0</td>\n",
       "      <td>610.0</td>\n",
       "      <td>1171.0</td>\n",
       "      <td>838.0</td>\n",
       "      <td>1.00</td>\n",
       "    </tr>\n",
       "    <tr>\n",
       "      <th>sigma</th>\n",
       "      <td>2.103</td>\n",
       "      <td>0.215</td>\n",
       "      <td>1.743</td>\n",
       "      <td>2.518</td>\n",
       "      <td>0.006</td>\n",
       "      <td>0.004</td>\n",
       "      <td>1256.0</td>\n",
       "      <td>1239.0</td>\n",
       "      <td>1237.0</td>\n",
       "      <td>799.0</td>\n",
       "      <td>1.00</td>\n",
       "    </tr>\n",
       "  </tbody>\n",
       "</table>\n",
       "</div>"
      ],
      "text/plain": [
       "        mean     sd  hdi_3%  hdi_97%  mcse_mean  mcse_sd  ess_mean  ess_sd  \\\n",
       "alpha  0.057  0.286  -0.485    0.611      0.008    0.008    1403.0   691.0   \n",
       "beta  -0.120  0.295  -0.654    0.411      0.009    0.008    1163.0   610.0   \n",
       "sigma  2.103  0.215   1.743    2.518      0.006    0.004    1256.0  1239.0   \n",
       "\n",
       "       ess_bulk  ess_tail  r_hat  \n",
       "alpha    1398.0     910.0   1.01  \n",
       "beta     1171.0     838.0   1.00  \n",
       "sigma    1237.0     799.0   1.00  "
      ]
     },
     "execution_count": 14,
     "metadata": {},
     "output_type": "execute_result"
    }
   ],
   "source": [
    "#Fit the model\n",
    "with pm.Model() as Linreg:\n",
    "    alpha = pm.Normal('alpha', mu=0, sd=1)#prior on alpha\n",
    "    beta = pm.Normal(\"beta\", mu=0,sd=1)#prior on beta\n",
    "    sigma = pm.Uniform(\"sigma\",0,10)#prior on sigma\n",
    "    mu = alpha + beta*(X - np.mean(X))\n",
    "    Z_vals = pm.Normal('Z_vals', mu=mu, sd=sigma, observed=Z)#likelihood of the data\n",
    "    mean_q = pm.find_MAP()\n",
    "    #print(mean_q)\n",
    "    Hess = pm.find_hessian(mean_q, vars=[alpha, beta,sigma])#find the hessian matrix\n",
    "    sample = pm.sample(draws= 250, chains = 4)#1000 random samples on 4 chains\n",
    "    #get summary reports from the MCMC\n",
    "    #pm.traceplot(sample)\n",
    "pm.summary(sample)"
   ]
  },
  {
   "cell_type": "code",
   "execution_count": 15,
   "metadata": {},
   "outputs": [
    {
     "name": "stderr",
     "output_type": "stream",
     "text": [
      "/home/aidan/anaconda3/envs/Bayes/lib/python3.8/site-packages/arviz/data/io_pymc3.py:85: FutureWarning: Using `from_pymc3` without the model will be deprecated in a future release. Not using the model will return less accurate and less useful results. Make sure you use the model argument or call from_pymc3 within a model context.\n",
      "  warnings.warn(\n"
     ]
    },
    {
     "data": {
      "text/plain": [
       "array([<AxesSubplot:title={'center':'94.0% HDI'}>], dtype=object)"
      ]
     },
     "execution_count": 15,
     "metadata": {},
     "output_type": "execute_result"
    },
    {
     "data": {
      "image/png": "[encoded data removed]",
      "text/plain": [
       "<Figure size 432x316.8 with 1 Axes>"
      ]
     },
     "metadata": {
      "needs_background": "light"
     },
     "output_type": "display_data"
    }
   ],
   "source": [
    "pm.forestplot(sample, var_names=[\"beta\"])"
   ]
  },
  {
   "cell_type": "markdown",
   "metadata": {},
   "source": [
    "Clearly this looks like the there is very little evidence for an association between X and Z, as the $\\beta$ hpdi show considerable overlap with zero."
   ]
  },
  {
   "cell_type": "code",
   "execution_count": 16,
   "metadata": {},
   "outputs": [
    {
     "data": {
      "text/html": [
       "\n",
       "    <div>\n",
       "        <style>\n",
       "            /* Turns off some styling */\n",
       "            progress {\n",
       "                /* gets rid of default border in Firefox and Opera. */\n",
       "                border: none;\n",
       "                /* Needs to be in here for Safari polyfill so background images work as expected. */\n",
       "                background-size: auto;\n",
       "            }\n",
       "            .progress-bar-interrupted, .progress-bar-interrupted::-webkit-progress-bar {\n",
       "                background: #F44336;\n",
       "            }\n",
       "        </style>\n",
       "      <progress value='20' class='' max='20' style='width:300px; height:20px; vertical-align: middle;'></progress>\n",
       "      100.00% [20/20 00:00<00:00 logp = -79.154, ||grad|| = 24.901]\n",
       "    </div>\n",
       "    "
      ],
      "text/plain": [
       "<IPython.core.display.HTML object>"
      ]
     },
     "metadata": {},
     "output_type": "display_data"
    },
    {
     "name": "stderr",
     "output_type": "stream",
     "text": [
      "Only 250 samples in chain.\n",
      "Auto-assigning NUTS sampler...\n",
      "Initializing NUTS using jitter+adapt_diag...\n"
     ]
    },
    {
     "name": "stdout",
     "output_type": "stream",
     "text": [
      "\n"
     ]
    },
    {
     "name": "stderr",
     "output_type": "stream",
     "text": [
      "Multiprocess sampling (4 chains in 4 jobs)\n",
      "NUTS: [sigma, beta_y, beta_x, alpha]\n"
     ]
    },
    {
     "data": {
      "text/html": [
       "\n",
       "    <div>\n",
       "        <style>\n",
       "            /* Turns off some styling */\n",
       "            progress {\n",
       "                /* gets rid of default border in Firefox and Opera. */\n",
       "                border: none;\n",
       "                /* Needs to be in here for Safari polyfill so background images work as expected. */\n",
       "                background-size: auto;\n",
       "            }\n",
       "            .progress-bar-interrupted, .progress-bar-interrupted::-webkit-progress-bar {\n",
       "                background: #F44336;\n",
       "            }\n",
       "        </style>\n",
       "      <progress value='5000' class='' max='5000' style='width:300px; height:20px; vertical-align: middle;'></progress>\n",
       "      100.00% [5000/5000 00:01<00:00 Sampling 4 chains, 0 divergences]\n",
       "    </div>\n",
       "    "
      ],
      "text/plain": [
       "<IPython.core.display.HTML object>"
      ]
     },
     "metadata": {},
     "output_type": "display_data"
    },
    {
     "name": "stderr",
     "output_type": "stream",
     "text": [
      "Sampling 4 chains for 1_000 tune and 250 draw iterations (4_000 + 1_000 draws total) took 2 seconds.\n",
      "/home/aidan/anaconda3/envs/Bayes/lib/python3.8/site-packages/arviz/data/io_pymc3.py:85: FutureWarning: Using `from_pymc3` without the model will be deprecated in a future release. Not using the model will return less accurate and less useful results. Make sure you use the model argument or call from_pymc3 within a model context.\n",
      "  warnings.warn(\n"
     ]
    },
    {
     "data": {
      "text/html": [
       "<div>\n",
       "<style scoped>\n",
       "    .dataframe tbody tr th:only-of-type {\n",
       "        vertical-align: middle;\n",
       "    }\n",
       "\n",
       "    .dataframe tbody tr th {\n",
       "        vertical-align: top;\n",
       "    }\n",
       "\n",
       "    .dataframe thead th {\n",
       "        text-align: right;\n",
       "    }\n",
       "</style>\n",
       "<table border=\"1\" class=\"dataframe\">\n",
       "  <thead>\n",
       "    <tr style=\"text-align: right;\">\n",
       "      <th></th>\n",
       "      <th>mean</th>\n",
       "      <th>sd</th>\n",
       "      <th>hdi_3%</th>\n",
       "      <th>hdi_97%</th>\n",
       "      <th>mcse_mean</th>\n",
       "      <th>mcse_sd</th>\n",
       "      <th>ess_mean</th>\n",
       "      <th>ess_sd</th>\n",
       "      <th>ess_bulk</th>\n",
       "      <th>ess_tail</th>\n",
       "      <th>r_hat</th>\n",
       "    </tr>\n",
       "  </thead>\n",
       "  <tbody>\n",
       "    <tr>\n",
       "      <th>alpha</th>\n",
       "      <td>0.059</td>\n",
       "      <td>0.142</td>\n",
       "      <td>-0.185</td>\n",
       "      <td>0.360</td>\n",
       "      <td>0.005</td>\n",
       "      <td>0.005</td>\n",
       "      <td>696.0</td>\n",
       "      <td>475.0</td>\n",
       "      <td>687.0</td>\n",
       "      <td>584.0</td>\n",
       "      <td>1.00</td>\n",
       "    </tr>\n",
       "    <tr>\n",
       "      <th>beta_x</th>\n",
       "      <td>1.783</td>\n",
       "      <td>0.218</td>\n",
       "      <td>1.334</td>\n",
       "      <td>2.146</td>\n",
       "      <td>0.010</td>\n",
       "      <td>0.007</td>\n",
       "      <td>485.0</td>\n",
       "      <td>485.0</td>\n",
       "      <td>485.0</td>\n",
       "      <td>574.0</td>\n",
       "      <td>1.00</td>\n",
       "    </tr>\n",
       "    <tr>\n",
       "      <th>beta_y</th>\n",
       "      <td>1.759</td>\n",
       "      <td>0.146</td>\n",
       "      <td>1.468</td>\n",
       "      <td>2.012</td>\n",
       "      <td>0.006</td>\n",
       "      <td>0.004</td>\n",
       "      <td>544.0</td>\n",
       "      <td>544.0</td>\n",
       "      <td>548.0</td>\n",
       "      <td>673.0</td>\n",
       "      <td>1.00</td>\n",
       "    </tr>\n",
       "    <tr>\n",
       "      <th>sigma</th>\n",
       "      <td>0.972</td>\n",
       "      <td>0.109</td>\n",
       "      <td>0.772</td>\n",
       "      <td>1.174</td>\n",
       "      <td>0.004</td>\n",
       "      <td>0.003</td>\n",
       "      <td>629.0</td>\n",
       "      <td>629.0</td>\n",
       "      <td>611.0</td>\n",
       "      <td>401.0</td>\n",
       "      <td>1.01</td>\n",
       "    </tr>\n",
       "  </tbody>\n",
       "</table>\n",
       "</div>"
      ],
      "text/plain": [
       "         mean     sd  hdi_3%  hdi_97%  mcse_mean  mcse_sd  ess_mean  ess_sd  \\\n",
       "alpha   0.059  0.142  -0.185    0.360      0.005    0.005     696.0   475.0   \n",
       "beta_x  1.783  0.218   1.334    2.146      0.010    0.007     485.0   485.0   \n",
       "beta_y  1.759  0.146   1.468    2.012      0.006    0.004     544.0   544.0   \n",
       "sigma   0.972  0.109   0.772    1.174      0.004    0.003     629.0   629.0   \n",
       "\n",
       "        ess_bulk  ess_tail  r_hat  \n",
       "alpha      687.0     584.0   1.00  \n",
       "beta_x     485.0     574.0   1.00  \n",
       "beta_y     548.0     673.0   1.00  \n",
       "sigma      611.0     401.0   1.01  "
      ]
     },
     "execution_count": 16,
     "metadata": {},
     "output_type": "execute_result"
    }
   ],
   "source": [
    "#Fit the multivariate model\n",
    "with pm.Model() as Linreg:\n",
    "    alpha = pm.Normal('alpha', mu=0, sd=1)#prior on alpha\n",
    "    beta_x = pm.Normal(\"beta_x\", mu=0,sd=1)#prior on beta_x\n",
    "    beta_y = pm.Normal(\"beta_y\", mu=0,sd=1)#prior on beta_y\n",
    "    sigma = pm.Uniform(\"sigma\",0,10)#prior on sigma\n",
    "    mu = alpha + beta_x*(X - np.mean(X)) + beta_y *(Y-np.mean(Y))\n",
    "    Z_vals = pm.Normal('Z_vals', mu=mu, sd=sigma, observed=Z)#likelihood of the data\n",
    "    mean_q = pm.find_MAP()\n",
    "    sample = pm.sample(draws= 250, chains = 4)#1000 random samples on 4 chains\n",
    "    #get summary reports from the MCMC\n",
    "    #pm.traceplot(sample)\n",
    "pm.summary(sample)"
   ]
  },
  {
   "cell_type": "code",
   "execution_count": 17,
   "metadata": {},
   "outputs": [
    {
     "name": "stderr",
     "output_type": "stream",
     "text": [
      "/home/aidan/anaconda3/envs/Bayes/lib/python3.8/site-packages/arviz/data/io_pymc3.py:85: FutureWarning: Using `from_pymc3` without the model will be deprecated in a future release. Not using the model will return less accurate and less useful results. Make sure you use the model argument or call from_pymc3 within a model context.\n",
      "  warnings.warn(\n"
     ]
    },
    {
     "data": {
      "text/plain": [
       "array([<AxesSubplot:title={'center':'94.0% HDI'}>], dtype=object)"
      ]
     },
     "execution_count": 17,
     "metadata": {},
     "output_type": "execute_result"
    },
    {
     "data": {
      "image/png": "[encoded data removed]",
      "text/plain": [
       "<Figure size 432x417.6 with 1 Axes>"
      ]
     },
     "metadata": {
      "needs_background": "light"
     },
     "output_type": "display_data"
    }
   ],
   "source": [
    "pm.forestplot(sample, var_names=[\"beta_x\",\"beta_y\"])"
   ]
  },
  {
   "cell_type": "markdown",
   "metadata": {},
   "source": [
    "When both variables are factored in, there's a positve association between X and Z. Thus, performing both regressions demonstrates the relationship between the two was being masked."
   ]
  },
  {
   "cell_type": "markdown",
   "metadata": {},
   "source": [
    "5M3. It is sometimes observed that the best predictor of fire risk is the presence of firefighters States and localities with many firefighters also have more fires. Presumably firefighters do not cause\n",
    "fires. Nevertheless, this is not a spurious correlation. Instead fires cause firefighters. Consider the same reversal of causal inference in the context of the divorce and marriage data. How might a high divorce rate cause a higher marriage rate? Can you think of a way to evaluate this relationship, using multiple regression?\n",
    "\n",
    "Answer: It's plausible that high divorce rate increases the marriage rate via something like the following mechanism. High divorce rate increase the number of people who are available to get married. That is, the high marriage rate is dragged up by people being divorced. This is not immediately testable with multiple regression as that only allows one to test for the presence of a causal relation ship, but doesn't tell us which way the arrow of causality points."
   ]
  },
  {
   "cell_type": "markdown",
   "metadata": {},
   "source": [
    "5M4. In the divorce data, States with high numbers of members of the Church of Jesus Christ of Latter-day Saints (LDS) have much lower divorce rates than the regression models expected. Find a list of LDS population by State and use those numbers as a predictor variable, predicting divorce rate using marriage rate, median age at marriage, and percent LDS population (possibly standardized). You may want to consider transformations of the raw percent LDS variable."
   ]
  },
  {
   "cell_type": "markdown",
   "metadata": {},
   "source": [
    "I found LDS population data on wikipedia at https://en.wikipedia.org/wiki/The_Church_of_Jesus_Christ_of_Latter-day_Saints_membership_statistics_(United_States). Accessed on 20/09/2020."
   ]
  },
  {
   "cell_type": "code",
   "execution_count": 18,
   "metadata": {},
   "outputs": [],
   "source": [
    "data = pd.read_csv(\"./data/WaffleDivorce.csv\",delimiter=\";\")"
   ]
  },
  {
   "cell_type": "code",
   "execution_count": 19,
   "metadata": {},
   "outputs": [],
   "source": [
    "LDS = pd.read_csv(\"./data/wikipedia_lds.csv\")"
   ]
  },
  {
   "cell_type": "code",
   "execution_count": 20,
   "metadata": {},
   "outputs": [],
   "source": [
    "#Rename the column names to make data sets cohere\n",
    "col_names = LDS.columns.values\n",
    "col_names[0] = \"Location\"\n",
    "LDS.columns = col_names"
   ]
  },
  {
   "cell_type": "code",
   "execution_count": 21,
   "metadata": {},
   "outputs": [
    {
     "ename": "NameError",
     "evalue": "name 'pop' is not defined",
     "output_type": "error",
     "traceback": [
      "\u001b[0;31m---------------------------------------------------------------------------\u001b[0m",
      "\u001b[0;31mNameError\u001b[0m                                 Traceback (most recent call last)",
      "\u001b[0;32m<ipython-input-21-be505eb71465>\u001b[0m in \u001b[0;36m<module>\u001b[0;34m\u001b[0m\n\u001b[0;32m----> 1\u001b[0;31m \u001b[0mdata\u001b[0m\u001b[0;34m.\u001b[0m\u001b[0mshape\u001b[0m\u001b[0;34m,\u001b[0m \u001b[0mpop\u001b[0m\u001b[0;34m.\u001b[0m\u001b[0mshape\u001b[0m\u001b[0;34m\u001b[0m\u001b[0;34m\u001b[0m\u001b[0m\n\u001b[0m",
      "\u001b[0;31mNameError\u001b[0m: name 'pop' is not defined"
     ]
    }
   ],
   "source": [
    "data.shape, pop.shape"
   ]
  },
  {
   "cell_type": "code",
   "execution_count": null,
   "metadata": {},
   "outputs": [],
   "source": [
    "data.head(5)\n",
    "pop.head(5)"
   ]
  },
  {
   "cell_type": "code",
   "execution_count": 22,
   "metadata": {},
   "outputs": [],
   "source": [
    "#combine data and retain only the states that are in both data sets\n",
    "combined = pd.merge(data,LDS, on=[\"Location\"])"
   ]
  },
  {
   "cell_type": "code",
   "execution_count": null,
   "metadata": {},
   "outputs": [],
   "source": []
  },
  {
   "cell_type": "code",
   "execution_count": 23,
   "metadata": {},
   "outputs": [
    {
     "data": {
      "text/html": [
       "<div>\n",
       "<style scoped>\n",
       "    .dataframe tbody tr th:only-of-type {\n",
       "        vertical-align: middle;\n",
       "    }\n",
       "\n",
       "    .dataframe tbody tr th {\n",
       "        vertical-align: top;\n",
       "    }\n",
       "\n",
       "    .dataframe thead th {\n",
       "        text-align: right;\n",
       "    }\n",
       "</style>\n",
       "<table border=\"1\" class=\"dataframe\">\n",
       "  <thead>\n",
       "    <tr style=\"text-align: right;\">\n",
       "      <th></th>\n",
       "      <th>Location</th>\n",
       "      <th>Loc</th>\n",
       "      <th>Population_x</th>\n",
       "      <th>MedianAgeMarriage</th>\n",
       "      <th>Marriage</th>\n",
       "      <th>Marriage SE</th>\n",
       "      <th>Divorce</th>\n",
       "      <th>Divorce SE</th>\n",
       "      <th>WaffleHouses</th>\n",
       "      <th>South</th>\n",
       "      <th>...</th>\n",
       "      <th>Population_y</th>\n",
       "      <th>LDS</th>\n",
       "      <th>Temples</th>\n",
       "      <th>Missions</th>\n",
       "      <th>Districts</th>\n",
       "      <th>Stakes</th>\n",
       "      <th>Wards</th>\n",
       "      <th>Branches</th>\n",
       "      <th>Congregations</th>\n",
       "      <th>Family History Centers</th>\n",
       "    </tr>\n",
       "  </thead>\n",
       "  <tbody>\n",
       "    <tr>\n",
       "      <th>0</th>\n",
       "      <td>Alabama</td>\n",
       "      <td>AL</td>\n",
       "      <td>4.78</td>\n",
       "      <td>25.3</td>\n",
       "      <td>20.2</td>\n",
       "      <td>1.27</td>\n",
       "      <td>12.7</td>\n",
       "      <td>0.79</td>\n",
       "      <td>128</td>\n",
       "      <td>1</td>\n",
       "      <td>...</td>\n",
       "      <td>4,903,185</td>\n",
       "      <td>0.77%</td>\n",
       "      <td>1</td>\n",
       "      <td>1</td>\n",
       "      <td>0</td>\n",
       "      <td>8</td>\n",
       "      <td>48</td>\n",
       "      <td>28</td>\n",
       "      <td>76</td>\n",
       "      <td>44</td>\n",
       "    </tr>\n",
       "    <tr>\n",
       "      <th>1</th>\n",
       "      <td>Alaska</td>\n",
       "      <td>AK</td>\n",
       "      <td>0.71</td>\n",
       "      <td>25.2</td>\n",
       "      <td>26.0</td>\n",
       "      <td>2.93</td>\n",
       "      <td>12.5</td>\n",
       "      <td>2.05</td>\n",
       "      <td>0</td>\n",
       "      <td>0</td>\n",
       "      <td>...</td>\n",
       "      <td>731,545</td>\n",
       "      <td>4.58%</td>\n",
       "      <td>1</td>\n",
       "      <td>1</td>\n",
       "      <td>0</td>\n",
       "      <td>8</td>\n",
       "      <td>59</td>\n",
       "      <td>21</td>\n",
       "      <td>80</td>\n",
       "      <td>15</td>\n",
       "    </tr>\n",
       "    <tr>\n",
       "      <th>2</th>\n",
       "      <td>Arizona</td>\n",
       "      <td>AZ</td>\n",
       "      <td>6.33</td>\n",
       "      <td>25.8</td>\n",
       "      <td>20.3</td>\n",
       "      <td>0.98</td>\n",
       "      <td>10.8</td>\n",
       "      <td>0.74</td>\n",
       "      <td>18</td>\n",
       "      <td>0</td>\n",
       "      <td>...</td>\n",
       "      <td>7,278,717</td>\n",
       "      <td>6.00%</td>\n",
       "      <td>6</td>\n",
       "      <td>6</td>\n",
       "      <td>0</td>\n",
       "      <td>115</td>\n",
       "      <td>842</td>\n",
       "      <td>84</td>\n",
       "      <td>926</td>\n",
       "      <td>74</td>\n",
       "    </tr>\n",
       "    <tr>\n",
       "      <th>3</th>\n",
       "      <td>Arkansas</td>\n",
       "      <td>AR</td>\n",
       "      <td>2.92</td>\n",
       "      <td>24.3</td>\n",
       "      <td>26.4</td>\n",
       "      <td>1.70</td>\n",
       "      <td>13.5</td>\n",
       "      <td>1.22</td>\n",
       "      <td>41</td>\n",
       "      <td>1</td>\n",
       "      <td>...</td>\n",
       "      <td>3,017,804</td>\n",
       "      <td>1.07%</td>\n",
       "      <td>0</td>\n",
       "      <td>2</td>\n",
       "      <td>0</td>\n",
       "      <td>7</td>\n",
       "      <td>46</td>\n",
       "      <td>23</td>\n",
       "      <td>69</td>\n",
       "      <td>25</td>\n",
       "    </tr>\n",
       "    <tr>\n",
       "      <th>4</th>\n",
       "      <td>California</td>\n",
       "      <td>CA</td>\n",
       "      <td>37.25</td>\n",
       "      <td>26.8</td>\n",
       "      <td>19.1</td>\n",
       "      <td>0.39</td>\n",
       "      <td>8.0</td>\n",
       "      <td>0.24</td>\n",
       "      <td>0</td>\n",
       "      <td>0</td>\n",
       "      <td>...</td>\n",
       "      <td>39,512,223</td>\n",
       "      <td>1.91%</td>\n",
       "      <td>7</td>\n",
       "      <td>15</td>\n",
       "      <td>0</td>\n",
       "      <td>153</td>\n",
       "      <td>1,092</td>\n",
       "      <td>137</td>\n",
       "      <td>1,229</td>\n",
       "      <td>228</td>\n",
       "    </tr>\n",
       "  </tbody>\n",
       "</table>\n",
       "<p>5 rows × 24 columns</p>\n",
       "</div>"
      ],
      "text/plain": [
       "     Location Loc  Population_x  MedianAgeMarriage  Marriage  Marriage SE  \\\n",
       "0     Alabama  AL          4.78               25.3      20.2         1.27   \n",
       "1      Alaska  AK          0.71               25.2      26.0         2.93   \n",
       "2     Arizona  AZ          6.33               25.8      20.3         0.98   \n",
       "3    Arkansas  AR          2.92               24.3      26.4         1.70   \n",
       "4  California  CA         37.25               26.8      19.1         0.39   \n",
       "\n",
       "   Divorce  Divorce SE  WaffleHouses  South  ...  Population_y    LDS  \\\n",
       "0     12.7        0.79           128      1  ...     4,903,185  0.77%   \n",
       "1     12.5        2.05             0      0  ...       731,545  4.58%   \n",
       "2     10.8        0.74            18      0  ...     7,278,717  6.00%   \n",
       "3     13.5        1.22            41      1  ...     3,017,804  1.07%   \n",
       "4      8.0        0.24             0      0  ...    39,512,223  1.91%   \n",
       "\n",
       "   Temples Missions Districts Stakes  Wards  Branches  Congregations  \\\n",
       "0        1        1         0      8     48        28             76   \n",
       "1        1        1         0      8     59        21             80   \n",
       "2        6        6         0    115    842        84            926   \n",
       "3        0        2         0      7     46        23             69   \n",
       "4        7       15         0    153  1,092       137          1,229   \n",
       "\n",
       "  Family History Centers  \n",
       "0                     44  \n",
       "1                     15  \n",
       "2                     74  \n",
       "3                     25  \n",
       "4                    228  \n",
       "\n",
       "[5 rows x 24 columns]"
      ]
     },
     "execution_count": 23,
     "metadata": {},
     "output_type": "execute_result"
    }
   ],
   "source": [
    "combined.head(5)"
   ]
  },
  {
   "cell_type": "markdown",
   "metadata": {},
   "source": [
    "We can now attempt to factor the LDS data as an additional predictor variable of divorce rate using the following model:\n",
    "\n",
    "$CIQ_i$ ~ $N(\\mu_i,\\sigma^2)$\n",
    "\n",
    "$\\mu_i = \\alpha + \\beta_{M}M_i + \\beta_{A}A_i + \\beta_L L_i  $\n",
    "\n",
    "$\\alpha$ ~ $N(0,0.2)$ \n",
    "\n",
    "$\\beta_{M}$ ~ $N(0,0.5)$ \n",
    "\n",
    "$\\beta_{A}$ ~ $N(0,0.5)$\n",
    "\n",
    "$\\beta_{L}$ ~ $N(0,0.5)$\n",
    "\n",
    "$\\sigma$ ~ $Exp(1)$\n",
    "\n"
   ]
  },
  {
   "cell_type": "code",
   "execution_count": 24,
   "metadata": {},
   "outputs": [],
   "source": [
    "scaled_age = (combined.MedianAgeMarriage.values - np.mean(combined.MedianAgeMarriage))/np.std(combined.MedianAgeMarriage)\n",
    "scaled_marriage = (combined.Marriage.values - np.mean(combined.Marriage))/np.std(combined.Marriage)"
   ]
  },
  {
   "cell_type": "code",
   "execution_count": 25,
   "metadata": {},
   "outputs": [
    {
     "data": {
      "text/plain": [
       "array(['0.77%', '4.58%', '6.00%', '1.07%', '1.91%', '2.61%', '0.45%',\n",
       "       '0.58%', '0.45%', '0.75%', '0.82%', '5.30%', '25.86%', '0.45%',\n",
       "       '0.68%', '0.90%', '1.32%', '0.80%', '0.64%', '0.82%', '0.72%',\n",
       "       '0.41%', '0.45%', '0.59%', '0.73%', '1.18%', '4.73%', '1.30%',\n",
       "       '0.65%', '0.38%', '3.31%', '0.43%', '0.85%', '1.52%', '0.54%',\n",
       "       '1.24%', '3.64%', '0.41%', '0.40%', '0.80%', '1.20%', '0.77%',\n",
       "       '1.25%', '66.32%', '0.74%', '1.13%', '3.80%', '0.96%', '0.47%',\n",
       "       '11.70%'], dtype=object)"
      ]
     },
     "execution_count": 25,
     "metadata": {},
     "output_type": "execute_result"
    }
   ],
   "source": [
    "combined.LDS.values"
   ]
  },
  {
   "cell_type": "code",
   "execution_count": 26,
   "metadata": {},
   "outputs": [],
   "source": [
    "LDS = np.array([float(word[:-1]) for word in combined.LDS.values])"
   ]
  },
  {
   "cell_type": "code",
   "execution_count": 27,
   "metadata": {},
   "outputs": [],
   "source": [
    "scaled_LDS = (LDS-np.mean(LDS))/np.std(LDS)"
   ]
  },
  {
   "cell_type": "code",
   "execution_count": 28,
   "metadata": {},
   "outputs": [
    {
     "name": "stderr",
     "output_type": "stream",
     "text": [
      "Auto-assigning NUTS sampler...\n",
      "Initializing NUTS using jitter+adapt_diag...\n",
      "Multiprocess sampling (4 chains in 4 jobs)\n",
      "NUTS: [sigma, beta_L, beta_A, beta_M, alpha]\n"
     ]
    },
    {
     "data": {
      "text/html": [
       "\n",
       "    <div>\n",
       "        <style>\n",
       "            /* Turns off some styling */\n",
       "            progress {\n",
       "                /* gets rid of default border in Firefox and Opera. */\n",
       "                border: none;\n",
       "                /* Needs to be in here for Safari polyfill so background images work as expected. */\n",
       "                background-size: auto;\n",
       "            }\n",
       "            .progress-bar-interrupted, .progress-bar-interrupted::-webkit-progress-bar {\n",
       "                background: #F44336;\n",
       "            }\n",
       "        </style>\n",
       "      <progress value='8000' class='' max='8000' style='width:300px; height:20px; vertical-align: middle;'></progress>\n",
       "      100.00% [8000/8000 00:03<00:00 Sampling 4 chains, 0 divergences]\n",
       "    </div>\n",
       "    "
      ],
      "text/plain": [
       "<IPython.core.display.HTML object>"
      ]
     },
     "metadata": {},
     "output_type": "display_data"
    },
    {
     "name": "stderr",
     "output_type": "stream",
     "text": [
      "Sampling 4 chains for 1_000 tune and 1_000 draw iterations (4_000 + 4_000 draws total) took 4 seconds.\n",
      "/home/aidan/anaconda3/envs/Bayes/lib/python3.8/site-packages/arviz/data/io_pymc3.py:85: FutureWarning: Using `from_pymc3` without the model will be deprecated in a future release. Not using the model will return less accurate and less useful results. Make sure you use the model argument or call from_pymc3 within a model context.\n",
      "  warnings.warn(\n"
     ]
    },
    {
     "data": {
      "text/html": [
       "<div>\n",
       "<style scoped>\n",
       "    .dataframe tbody tr th:only-of-type {\n",
       "        vertical-align: middle;\n",
       "    }\n",
       "\n",
       "    .dataframe tbody tr th {\n",
       "        vertical-align: top;\n",
       "    }\n",
       "\n",
       "    .dataframe thead th {\n",
       "        text-align: right;\n",
       "    }\n",
       "</style>\n",
       "<table border=\"1\" class=\"dataframe\">\n",
       "  <thead>\n",
       "    <tr style=\"text-align: right;\">\n",
       "      <th></th>\n",
       "      <th>mean</th>\n",
       "      <th>sd</th>\n",
       "      <th>hdi_3%</th>\n",
       "      <th>hdi_97%</th>\n",
       "      <th>mcse_mean</th>\n",
       "      <th>mcse_sd</th>\n",
       "      <th>ess_mean</th>\n",
       "      <th>ess_sd</th>\n",
       "      <th>ess_bulk</th>\n",
       "      <th>ess_tail</th>\n",
       "      <th>r_hat</th>\n",
       "    </tr>\n",
       "  </thead>\n",
       "  <tbody>\n",
       "    <tr>\n",
       "      <th>alpha</th>\n",
       "      <td>9.269</td>\n",
       "      <td>0.238</td>\n",
       "      <td>8.830</td>\n",
       "      <td>9.700</td>\n",
       "      <td>0.004</td>\n",
       "      <td>0.003</td>\n",
       "      <td>3203.0</td>\n",
       "      <td>3203.0</td>\n",
       "      <td>3596.0</td>\n",
       "      <td>2193.0</td>\n",
       "      <td>1.0</td>\n",
       "    </tr>\n",
       "    <tr>\n",
       "      <th>beta_M</th>\n",
       "      <td>0.159</td>\n",
       "      <td>0.261</td>\n",
       "      <td>-0.370</td>\n",
       "      <td>0.619</td>\n",
       "      <td>0.005</td>\n",
       "      <td>0.004</td>\n",
       "      <td>2602.0</td>\n",
       "      <td>2480.0</td>\n",
       "      <td>2589.0</td>\n",
       "      <td>2773.0</td>\n",
       "      <td>1.0</td>\n",
       "    </tr>\n",
       "    <tr>\n",
       "      <th>beta_A</th>\n",
       "      <td>-0.999</td>\n",
       "      <td>0.257</td>\n",
       "      <td>-1.478</td>\n",
       "      <td>-0.507</td>\n",
       "      <td>0.005</td>\n",
       "      <td>0.004</td>\n",
       "      <td>2541.0</td>\n",
       "      <td>2541.0</td>\n",
       "      <td>2545.0</td>\n",
       "      <td>2713.0</td>\n",
       "      <td>1.0</td>\n",
       "    </tr>\n",
       "    <tr>\n",
       "      <th>beta_L</th>\n",
       "      <td>-0.446</td>\n",
       "      <td>0.222</td>\n",
       "      <td>-0.866</td>\n",
       "      <td>-0.026</td>\n",
       "      <td>0.004</td>\n",
       "      <td>0.003</td>\n",
       "      <td>2741.0</td>\n",
       "      <td>2559.0</td>\n",
       "      <td>2750.0</td>\n",
       "      <td>2516.0</td>\n",
       "      <td>1.0</td>\n",
       "    </tr>\n",
       "    <tr>\n",
       "      <th>sigma</th>\n",
       "      <td>1.497</td>\n",
       "      <td>0.179</td>\n",
       "      <td>1.202</td>\n",
       "      <td>1.855</td>\n",
       "      <td>0.003</td>\n",
       "      <td>0.002</td>\n",
       "      <td>2675.0</td>\n",
       "      <td>2627.0</td>\n",
       "      <td>2752.0</td>\n",
       "      <td>2805.0</td>\n",
       "      <td>1.0</td>\n",
       "    </tr>\n",
       "  </tbody>\n",
       "</table>\n",
       "</div>"
      ],
      "text/plain": [
       "         mean     sd  hdi_3%  hdi_97%  mcse_mean  mcse_sd  ess_mean  ess_sd  \\\n",
       "alpha   9.269  0.238   8.830    9.700      0.004    0.003    3203.0  3203.0   \n",
       "beta_M  0.159  0.261  -0.370    0.619      0.005    0.004    2602.0  2480.0   \n",
       "beta_A -0.999  0.257  -1.478   -0.507      0.005    0.004    2541.0  2541.0   \n",
       "beta_L -0.446  0.222  -0.866   -0.026      0.004    0.003    2741.0  2559.0   \n",
       "sigma   1.497  0.179   1.202    1.855      0.003    0.002    2675.0  2627.0   \n",
       "\n",
       "        ess_bulk  ess_tail  r_hat  \n",
       "alpha     3596.0    2193.0    1.0  \n",
       "beta_M    2589.0    2773.0    1.0  \n",
       "beta_A    2545.0    2713.0    1.0  \n",
       "beta_L    2750.0    2516.0    1.0  \n",
       "sigma     2752.0    2805.0    1.0  "
      ]
     },
     "execution_count": 28,
     "metadata": {},
     "output_type": "execute_result"
    }
   ],
   "source": [
    "#Fit the multivariate model\n",
    "with pm.Model() as Linreg:\n",
    "    alpha = pm.Normal('alpha', mu=0, sd=1)#prior on alpha\n",
    "    beta_M = pm.Normal(\"beta_M\", mu=0,sd=0.5)#prior on beta_M\n",
    "    beta_A = pm.Normal(\"beta_A\", mu=0,sd=0.5)#prior on beta_A\n",
    "    beta_L = pm.Normal(\"beta_L\", mu=0,sd=0.5)#prior on beta_L\n",
    "    sigma = pm.Exponential(\"sigma\",lam=1)#prior on sigma\n",
    "    mu = alpha + beta_M*scaled_marriage + beta_A * scaled_age + beta_L * scaled_LDS\n",
    "    divorce = pm.Normal('divorce', mu=mu, sd=sigma, observed=combined.Divorce)#likelihood of the data\n",
    "    sample = pm.sample(draws= 1000, chains = 4)#1000 random samples on 4 chains\n",
    "    #get summary reports from the MCMC\n",
    "    #pm.traceplot(sample)\n",
    "pm.summary(sample)"
   ]
  },
  {
   "cell_type": "code",
   "execution_count": 29,
   "metadata": {},
   "outputs": [
    {
     "name": "stderr",
     "output_type": "stream",
     "text": [
      "/home/aidan/anaconda3/envs/Bayes/lib/python3.8/site-packages/arviz/data/io_pymc3.py:85: FutureWarning: Using `from_pymc3` without the model will be deprecated in a future release. Not using the model will return less accurate and less useful results. Make sure you use the model argument or call from_pymc3 within a model context.\n",
      "  warnings.warn(\n"
     ]
    },
    {
     "data": {
      "text/plain": [
       "array([<AxesSubplot:title={'center':'94.0% HDI'}>], dtype=object)"
      ]
     },
     "execution_count": 29,
     "metadata": {},
     "output_type": "execute_result"
    },
    {
     "data": {
      "image/png": "[encoded data removed]",
      "text/plain": [
       "<Figure size 432x518.4 with 1 Axes>"
      ]
     },
     "metadata": {
      "needs_background": "light"
     },
     "output_type": "display_data"
    }
   ],
   "source": [
    "pm.forestplot(sample, var_names=[\"beta_M\",\"beta_A\",\"beta_L\"])"
   ]
  },
  {
   "cell_type": "markdown",
   "metadata": {},
   "source": [
    "This corroborates the claim the states with higher LDS proportions have lower divorce rates. The HPDI for $\\beta_l$ lies below and excludes the null value from being plausable when considering all of these factors."
   ]
  },
  {
   "cell_type": "markdown",
   "metadata": {},
   "source": [
    "5M5. One way to reason through multiple causation hypotheses is to imagine detailed mechanisms through which predictor variables may influence outcomes. For example, it is sometimes argued that the price of gasoline (predictor variable) is positively associated with lower obesity rates (outcome\n",
    "variable). However, there are at least two important mechanisms by which the price of gas could reduce obesity. First, it could lead to less driving and therefore more exercise. Second, it could lead to less driving, which leads to less eating out, which leads to less consumption of huge restaurant meals.\n",
    "Can you outline one or more multiple regressions that address these two mechanisms? Assume you can have any predictor data you need."
   ]
  },
  {
   "cell_type": "markdown",
   "metadata": {},
   "source": [
    "We can can define the following random variables\n",
    "GP: Gas price\n",
    "\n",
    "DR: Driving rate\n",
    "\n",
    "E: Amount of exersice \n",
    "\n",
    "O: Obesity Rate\n",
    "\n",
    "EO: Eating out\n",
    "\n",
    "The two mechanisms posed in the question can be represented through the following DAGs"
   ]
  },
  {
   "cell_type": "code",
   "execution_count": 30,
   "metadata": {},
   "outputs": [
    {
     "data": {
      "image/svg+xml": [
       "<?xml version=\"1.0\" encoding=\"UTF-8\" standalone=\"no\"?>\n",
       "<!DOCTYPE svg PUBLIC \"-//W3C//DTD SVG 1.1//EN\"\n",
       " \"http://www.w3.org/Graphics/SVG/1.1/DTD/svg11.dtd\">\n",
       "<!-- Generated by graphviz version 2.40.1 (20161225.0304)\n",
       " -->\n",
       "<!-- Title: %3 Pages: 1 -->\n",
       "<svg width=\"62pt\" height=\"260pt\"\n",
       " viewBox=\"0.00 0.00 62.00 260.00\" xmlns=\"http://www.w3.org/2000/svg\" xmlns:xlink=\"http://www.w3.org/1999/xlink\">\n",
       "<g id=\"graph0\" class=\"graph\" transform=\"scale(1 1) rotate(0) translate(4 256)\">\n",
       "<title>%3</title>\n",
       "<polygon fill=\"#ffffff\" stroke=\"transparent\" points=\"-4,4 -4,-256 58,-256 58,4 -4,4\"/>\n",
       "<!-- E -->\n",
       "<g id=\"node1\" class=\"node\">\n",
       "<title>E</title>\n",
       "<ellipse fill=\"none\" stroke=\"#000000\" cx=\"27\" cy=\"-90\" rx=\"27\" ry=\"18\"/>\n",
       "<text text-anchor=\"middle\" x=\"27\" y=\"-86.3\" font-family=\"Times,serif\" font-size=\"14.00\" fill=\"#000000\">E</text>\n",
       "</g>\n",
       "<!-- O -->\n",
       "<g id=\"node4\" class=\"node\">\n",
       "<title>O</title>\n",
       "<ellipse fill=\"none\" stroke=\"#000000\" cx=\"27\" cy=\"-18\" rx=\"27\" ry=\"18\"/>\n",
       "<text text-anchor=\"middle\" x=\"27\" y=\"-14.3\" font-family=\"Times,serif\" font-size=\"14.00\" fill=\"#000000\">O</text>\n",
       "</g>\n",
       "<!-- E&#45;&gt;O -->\n",
       "<g id=\"edge3\" class=\"edge\">\n",
       "<title>E&#45;&gt;O</title>\n",
       "<path fill=\"none\" stroke=\"#000000\" d=\"M27,-71.8314C27,-64.131 27,-54.9743 27,-46.4166\"/>\n",
       "<polygon fill=\"#000000\" stroke=\"#000000\" points=\"30.5001,-46.4132 27,-36.4133 23.5001,-46.4133 30.5001,-46.4132\"/>\n",
       "</g>\n",
       "<!-- GP -->\n",
       "<g id=\"node2\" class=\"node\">\n",
       "<title>GP</title>\n",
       "<ellipse fill=\"none\" stroke=\"#000000\" cx=\"27\" cy=\"-234\" rx=\"27\" ry=\"18\"/>\n",
       "<text text-anchor=\"middle\" x=\"27\" y=\"-230.3\" font-family=\"Times,serif\" font-size=\"14.00\" fill=\"#000000\">GP</text>\n",
       "</g>\n",
       "<!-- DR -->\n",
       "<g id=\"node3\" class=\"node\">\n",
       "<title>DR</title>\n",
       "<ellipse fill=\"none\" stroke=\"#000000\" cx=\"27\" cy=\"-162\" rx=\"27\" ry=\"18\"/>\n",
       "<text text-anchor=\"middle\" x=\"27\" y=\"-158.3\" font-family=\"Times,serif\" font-size=\"14.00\" fill=\"#000000\">DR</text>\n",
       "</g>\n",
       "<!-- GP&#45;&gt;DR -->\n",
       "<g id=\"edge1\" class=\"edge\">\n",
       "<title>GP&#45;&gt;DR</title>\n",
       "<path fill=\"none\" stroke=\"#000000\" d=\"M27,-215.8314C27,-208.131 27,-198.9743 27,-190.4166\"/>\n",
       "<polygon fill=\"#000000\" stroke=\"#000000\" points=\"30.5001,-190.4132 27,-180.4133 23.5001,-190.4133 30.5001,-190.4132\"/>\n",
       "</g>\n",
       "<!-- DR&#45;&gt;E -->\n",
       "<g id=\"edge2\" class=\"edge\">\n",
       "<title>DR&#45;&gt;E</title>\n",
       "<path fill=\"none\" stroke=\"#000000\" d=\"M27,-143.8314C27,-136.131 27,-126.9743 27,-118.4166\"/>\n",
       "<polygon fill=\"#000000\" stroke=\"#000000\" points=\"30.5001,-118.4132 27,-108.4133 23.5001,-118.4133 30.5001,-118.4132\"/>\n",
       "</g>\n",
       "</g>\n",
       "</svg>\n"
      ],
      "text/plain": [
       "<graphviz.dot.Digraph at 0x7f36cc3a1940>"
      ]
     },
     "execution_count": 30,
     "metadata": {},
     "output_type": "execute_result"
    }
   ],
   "source": [
    "from causalgraphicalmodels import CausalGraphicalModel\n",
    "\n",
    "Mechanism1 = CausalGraphicalModel(\n",
    "    nodes=[\"GP\", \"DR\", \"E\", \"O\"],\n",
    "    edges=[\n",
    "        (\"GP\",\"DR\"),\n",
    "        (\"DR\", \"E\"),\n",
    "        (\"E\",\"O\")\n",
    "    ]\n",
    ")\n",
    "\n",
    "# draw return a graphviz `dot` object, which jupyter can render\n",
    "Mechanism1.draw()"
   ]
  },
  {
   "cell_type": "code",
   "execution_count": 172,
   "metadata": {},
   "outputs": [
    {
     "data": {
      "image/svg+xml": [
       "<?xml version=\"1.0\" encoding=\"UTF-8\" standalone=\"no\"?>\n",
       "<!DOCTYPE svg PUBLIC \"-//W3C//DTD SVG 1.1//EN\"\n",
       " \"http://www.w3.org/Graphics/SVG/1.1/DTD/svg11.dtd\">\n",
       "<!-- Generated by graphviz version 2.40.1 (20161225.0304)\n",
       " -->\n",
       "<!-- Title: %3 Pages: 1 -->\n",
       "<svg width=\"62pt\" height=\"260pt\"\n",
       " viewBox=\"0.00 0.00 62.00 260.00\" xmlns=\"http://www.w3.org/2000/svg\" xmlns:xlink=\"http://www.w3.org/1999/xlink\">\n",
       "<g id=\"graph0\" class=\"graph\" transform=\"scale(1 1) rotate(0) translate(4 256)\">\n",
       "<title>%3</title>\n",
       "<polygon fill=\"#ffffff\" stroke=\"transparent\" points=\"-4,4 -4,-256 58,-256 58,4 -4,4\"/>\n",
       "<!-- EO -->\n",
       "<g id=\"node1\" class=\"node\">\n",
       "<title>EO</title>\n",
       "<ellipse fill=\"none\" stroke=\"#000000\" cx=\"27\" cy=\"-90\" rx=\"27\" ry=\"18\"/>\n",
       "<text text-anchor=\"middle\" x=\"27\" y=\"-86.3\" font-family=\"Times,serif\" font-size=\"14.00\" fill=\"#000000\">EO</text>\n",
       "</g>\n",
       "<!-- O -->\n",
       "<g id=\"node2\" class=\"node\">\n",
       "<title>O</title>\n",
       "<ellipse fill=\"none\" stroke=\"#000000\" cx=\"27\" cy=\"-18\" rx=\"27\" ry=\"18\"/>\n",
       "<text text-anchor=\"middle\" x=\"27\" y=\"-14.3\" font-family=\"Times,serif\" font-size=\"14.00\" fill=\"#000000\">O</text>\n",
       "</g>\n",
       "<!-- EO&#45;&gt;O -->\n",
       "<g id=\"edge3\" class=\"edge\">\n",
       "<title>EO&#45;&gt;O</title>\n",
       "<path fill=\"none\" stroke=\"#000000\" d=\"M27,-71.8314C27,-64.131 27,-54.9743 27,-46.4166\"/>\n",
       "<polygon fill=\"#000000\" stroke=\"#000000\" points=\"30.5001,-46.4132 27,-36.4133 23.5001,-46.4133 30.5001,-46.4132\"/>\n",
       "</g>\n",
       "<!-- GP -->\n",
       "<g id=\"node3\" class=\"node\">\n",
       "<title>GP</title>\n",
       "<ellipse fill=\"none\" stroke=\"#000000\" cx=\"27\" cy=\"-234\" rx=\"27\" ry=\"18\"/>\n",
       "<text text-anchor=\"middle\" x=\"27\" y=\"-230.3\" font-family=\"Times,serif\" font-size=\"14.00\" fill=\"#000000\">GP</text>\n",
       "</g>\n",
       "<!-- DR -->\n",
       "<g id=\"node4\" class=\"node\">\n",
       "<title>DR</title>\n",
       "<ellipse fill=\"none\" stroke=\"#000000\" cx=\"27\" cy=\"-162\" rx=\"27\" ry=\"18\"/>\n",
       "<text text-anchor=\"middle\" x=\"27\" y=\"-158.3\" font-family=\"Times,serif\" font-size=\"14.00\" fill=\"#000000\">DR</text>\n",
       "</g>\n",
       "<!-- GP&#45;&gt;DR -->\n",
       "<g id=\"edge1\" class=\"edge\">\n",
       "<title>GP&#45;&gt;DR</title>\n",
       "<path fill=\"none\" stroke=\"#000000\" d=\"M27,-215.8314C27,-208.131 27,-198.9743 27,-190.4166\"/>\n",
       "<polygon fill=\"#000000\" stroke=\"#000000\" points=\"30.5001,-190.4132 27,-180.4133 23.5001,-190.4133 30.5001,-190.4132\"/>\n",
       "</g>\n",
       "<!-- DR&#45;&gt;EO -->\n",
       "<g id=\"edge2\" class=\"edge\">\n",
       "<title>DR&#45;&gt;EO</title>\n",
       "<path fill=\"none\" stroke=\"#000000\" d=\"M27,-143.8314C27,-136.131 27,-126.9743 27,-118.4166\"/>\n",
       "<polygon fill=\"#000000\" stroke=\"#000000\" points=\"30.5001,-118.4132 27,-108.4133 23.5001,-118.4133 30.5001,-118.4132\"/>\n",
       "</g>\n",
       "</g>\n",
       "</svg>\n"
      ],
      "text/plain": [
       "<graphviz.dot.Digraph at 0x7f6cc4682220>"
      ]
     },
     "execution_count": 172,
     "metadata": {},
     "output_type": "execute_result"
    }
   ],
   "source": [
    "from causalgraphicalmodels import CausalGraphicalModel\n",
    "\n",
    "Mechanism2 = CausalGraphicalModel(\n",
    "    nodes=[\"GP\", \"DR\", \"EO\", \"O\"],\n",
    "    edges=[\n",
    "        (\"GP\",\"DR\"),\n",
    "        (\"DR\", \"EO\"),\n",
    "        (\"EO\",\"O\")\n",
    "    ]\n",
    ")\n",
    "\n",
    "# draw return a graphviz `dot` object, which jupyter can render\n",
    "Mechanism2.draw()"
   ]
  },
  {
   "cell_type": "markdown",
   "metadata": {},
   "source": [
    "5H1. In the divorce example, suppose the DAG is: M → A → D. What are the implied conditional independencies of the graph? Are the data consistent with it?\n",
    "\n",
    "Answer: Given A, D is independent of M. That is because M's impact on D is mediated through A in this model, and holding A constant should mean M has no impact on D.\n"
   ]
  },
  {
   "cell_type": "code",
   "execution_count": 32,
   "metadata": {},
   "outputs": [
    {
     "name": "stderr",
     "output_type": "stream",
     "text": [
      "Auto-assigning NUTS sampler...\n",
      "Initializing NUTS using jitter+adapt_diag...\n",
      "Multiprocess sampling (4 chains in 4 jobs)\n",
      "NUTS: [sigma, beta_A, beta_M, alpha]\n"
     ]
    },
    {
     "data": {
      "text/html": [
       "\n",
       "    <div>\n",
       "        <style>\n",
       "            /* Turns off some styling */\n",
       "            progress {\n",
       "                /* gets rid of default border in Firefox and Opera. */\n",
       "                border: none;\n",
       "                /* Needs to be in here for Safari polyfill so background images work as expected. */\n",
       "                background-size: auto;\n",
       "            }\n",
       "            .progress-bar-interrupted, .progress-bar-interrupted::-webkit-progress-bar {\n",
       "                background: #F44336;\n",
       "            }\n",
       "        </style>\n",
       "      <progress value='8000' class='' max='8000' style='width:300px; height:20px; vertical-align: middle;'></progress>\n",
       "      100.00% [8000/8000 00:03<00:00 Sampling 4 chains, 0 divergences]\n",
       "    </div>\n",
       "    "
      ],
      "text/plain": [
       "<IPython.core.display.HTML object>"
      ]
     },
     "metadata": {},
     "output_type": "display_data"
    },
    {
     "name": "stderr",
     "output_type": "stream",
     "text": [
      "Sampling 4 chains for 1_000 tune and 1_000 draw iterations (4_000 + 4_000 draws total) took 4 seconds.\n",
      "/home/aidan/anaconda3/envs/Bayes/lib/python3.8/site-packages/arviz/data/io_pymc3.py:85: FutureWarning: Using `from_pymc3` without the model will be deprecated in a future release. Not using the model will return less accurate and less useful results. Make sure you use the model argument or call from_pymc3 within a model context.\n",
      "  warnings.warn(\n"
     ]
    },
    {
     "data": {
      "text/html": [
       "<div>\n",
       "<style scoped>\n",
       "    .dataframe tbody tr th:only-of-type {\n",
       "        vertical-align: middle;\n",
       "    }\n",
       "\n",
       "    .dataframe tbody tr th {\n",
       "        vertical-align: top;\n",
       "    }\n",
       "\n",
       "    .dataframe thead th {\n",
       "        text-align: right;\n",
       "    }\n",
       "</style>\n",
       "<table border=\"1\" class=\"dataframe\">\n",
       "  <thead>\n",
       "    <tr style=\"text-align: right;\">\n",
       "      <th></th>\n",
       "      <th>mean</th>\n",
       "      <th>sd</th>\n",
       "      <th>hdi_3%</th>\n",
       "      <th>hdi_97%</th>\n",
       "      <th>mcse_mean</th>\n",
       "      <th>mcse_sd</th>\n",
       "      <th>ess_mean</th>\n",
       "      <th>ess_sd</th>\n",
       "      <th>ess_bulk</th>\n",
       "      <th>ess_tail</th>\n",
       "      <th>r_hat</th>\n",
       "    </tr>\n",
       "  </thead>\n",
       "  <tbody>\n",
       "    <tr>\n",
       "      <th>alpha</th>\n",
       "      <td>9.218</td>\n",
       "      <td>0.246</td>\n",
       "      <td>8.785</td>\n",
       "      <td>9.701</td>\n",
       "      <td>0.005</td>\n",
       "      <td>0.003</td>\n",
       "      <td>2910.0</td>\n",
       "      <td>2910.0</td>\n",
       "      <td>3003.0</td>\n",
       "      <td>2456.0</td>\n",
       "      <td>1.0</td>\n",
       "    </tr>\n",
       "    <tr>\n",
       "      <th>beta_M</th>\n",
       "      <td>0.042</td>\n",
       "      <td>0.252</td>\n",
       "      <td>-0.407</td>\n",
       "      <td>0.544</td>\n",
       "      <td>0.005</td>\n",
       "      <td>0.004</td>\n",
       "      <td>2340.0</td>\n",
       "      <td>2340.0</td>\n",
       "      <td>2351.0</td>\n",
       "      <td>2775.0</td>\n",
       "      <td>1.0</td>\n",
       "    </tr>\n",
       "    <tr>\n",
       "      <th>beta_A</th>\n",
       "      <td>-0.867</td>\n",
       "      <td>0.261</td>\n",
       "      <td>-1.344</td>\n",
       "      <td>-0.371</td>\n",
       "      <td>0.006</td>\n",
       "      <td>0.004</td>\n",
       "      <td>2019.0</td>\n",
       "      <td>2019.0</td>\n",
       "      <td>2052.0</td>\n",
       "      <td>2778.0</td>\n",
       "      <td>1.0</td>\n",
       "    </tr>\n",
       "    <tr>\n",
       "      <th>sigma</th>\n",
       "      <td>1.590</td>\n",
       "      <td>0.183</td>\n",
       "      <td>1.264</td>\n",
       "      <td>1.919</td>\n",
       "      <td>0.004</td>\n",
       "      <td>0.003</td>\n",
       "      <td>2312.0</td>\n",
       "      <td>2217.0</td>\n",
       "      <td>2486.0</td>\n",
       "      <td>2284.0</td>\n",
       "      <td>1.0</td>\n",
       "    </tr>\n",
       "  </tbody>\n",
       "</table>\n",
       "</div>"
      ],
      "text/plain": [
       "         mean     sd  hdi_3%  hdi_97%  mcse_mean  mcse_sd  ess_mean  ess_sd  \\\n",
       "alpha   9.218  0.246   8.785    9.701      0.005    0.003    2910.0  2910.0   \n",
       "beta_M  0.042  0.252  -0.407    0.544      0.005    0.004    2340.0  2340.0   \n",
       "beta_A -0.867  0.261  -1.344   -0.371      0.006    0.004    2019.0  2019.0   \n",
       "sigma   1.590  0.183   1.264    1.919      0.004    0.003    2312.0  2217.0   \n",
       "\n",
       "        ess_bulk  ess_tail  r_hat  \n",
       "alpha     3003.0    2456.0    1.0  \n",
       "beta_M    2351.0    2775.0    1.0  \n",
       "beta_A    2052.0    2778.0    1.0  \n",
       "sigma     2486.0    2284.0    1.0  "
      ]
     },
     "execution_count": 32,
     "metadata": {},
     "output_type": "execute_result"
    }
   ],
   "source": [
    "#Fit the multivariate model\n",
    "with pm.Model() as Linreg:\n",
    "    alpha = pm.Normal('alpha', mu=0, sd=1)#prior on alpha\n",
    "    beta_M = pm.Normal(\"beta_M\", mu=0,sd=0.5)#prior on beta_M\n",
    "    beta_A = pm.Normal(\"beta_A\", mu=0,sd=0.5)#prior on beta_A\n",
    "    sigma = pm.Exponential(\"sigma\",lam=1)#prior on sigma\n",
    "    mu = alpha + beta_M*scaled_marriage + beta_A * scaled_age\n",
    "    divorce = pm.Normal('divorce', mu=mu, sd=sigma, observed=data.Divorce)#likelihood of the data\n",
    "    sample = pm.sample(draws= 1000, chains = 4)#1000 random samples on 4 chains\n",
    "    #get summary reports from the MCMC\n",
    "    #pm.traceplot(sample)\n",
    "pm.summary(sample)"
   ]
  },
  {
   "cell_type": "code",
   "execution_count": 33,
   "metadata": {
    "scrolled": true
   },
   "outputs": [
    {
     "name": "stderr",
     "output_type": "stream",
     "text": [
      "/home/aidan/anaconda3/envs/Bayes/lib/python3.8/site-packages/arviz/data/io_pymc3.py:85: FutureWarning: Using `from_pymc3` without the model will be deprecated in a future release. Not using the model will return less accurate and less useful results. Make sure you use the model argument or call from_pymc3 within a model context.\n",
      "  warnings.warn(\n"
     ]
    },
    {
     "data": {
      "text/plain": [
       "array([<AxesSubplot:title={'center':'94.0% HDI'}>], dtype=object)"
      ]
     },
     "execution_count": 33,
     "metadata": {},
     "output_type": "execute_result"
    },
    {
     "data": {
      "image/png": "[encoded data removed]",
      "text/plain": [
       "<Figure size 432x417.6 with 1 Axes>"
      ]
     },
     "metadata": {
      "needs_background": "light"
     },
     "output_type": "display_data"
    }
   ],
   "source": [
    "pm.forestplot(sample, var_names=[\"beta_M\",\"beta_A\"])"
   ]
  },
  {
   "cell_type": "markdown",
   "metadata": {},
   "source": [
    "As can be seen, this is consistent with M being conditionally independent of D, as the posterior value on the strength of the association is very consistent with there being no association between M when A is factored in."
   ]
  },
  {
   "cell_type": "markdown",
   "metadata": {},
   "source": [
    "5H2. Assuming that the DAG for the divorce example is indeed M → A → D, fit a new model and use it to estimate the counterfactual effect of halving a State’s marriage rate M. Use the counterfactual example from the chapter (starting on page 140) as a template."
   ]
  },
  {
   "cell_type": "markdown",
   "metadata": {},
   "source": [
    "In order to produce the counter factual plots, one needs to measure the strength of all the associations as implied by the model. We need to find the strength of the dependencies between M and A, then the strength of the association beween A and D. Then we can modify the value of M and see how this propagates through the DAG. I'll be using the quadratic approximation to obtain the predictive plots."
   ]
  },
  {
   "cell_type": "code",
   "execution_count": null,
   "metadata": {},
   "outputs": [],
   "source": []
  },
  {
   "cell_type": "code",
   "execution_count": 34,
   "metadata": {},
   "outputs": [
    {
     "name": "stderr",
     "output_type": "stream",
     "text": [
      "Only 100 samples in chain.\n",
      "Auto-assigning NUTS sampler...\n",
      "Initializing NUTS using jitter+adapt_diag...\n",
      "Multiprocess sampling (4 chains in 4 jobs)\n",
      "NUTS: [sigma, beta_M, alpha]\n"
     ]
    },
    {
     "data": {
      "text/html": [
       "\n",
       "    <div>\n",
       "        <style>\n",
       "            /* Turns off some styling */\n",
       "            progress {\n",
       "                /* gets rid of default border in Firefox and Opera. */\n",
       "                border: none;\n",
       "                /* Needs to be in here for Safari polyfill so background images work as expected. */\n",
       "                background-size: auto;\n",
       "            }\n",
       "            .progress-bar-interrupted, .progress-bar-interrupted::-webkit-progress-bar {\n",
       "                background: #F44336;\n",
       "            }\n",
       "        </style>\n",
       "      <progress value='4400' class='' max='4400' style='width:300px; height:20px; vertical-align: middle;'></progress>\n",
       "      100.00% [4400/4400 00:01<00:00 Sampling 4 chains, 0 divergences]\n",
       "    </div>\n",
       "    "
      ],
      "text/plain": [
       "<IPython.core.display.HTML object>"
      ]
     },
     "metadata": {},
     "output_type": "display_data"
    },
    {
     "name": "stderr",
     "output_type": "stream",
     "text": [
      "Sampling 4 chains for 1_000 tune and 100 draw iterations (4_000 + 400 draws total) took 2 seconds.\n",
      "/home/aidan/anaconda3/envs/Bayes/lib/python3.8/site-packages/arviz/data/io_pymc3.py:85: FutureWarning: Using `from_pymc3` without the model will be deprecated in a future release. Not using the model will return less accurate and less useful results. Make sure you use the model argument or call from_pymc3 within a model context.\n",
      "  warnings.warn(\n"
     ]
    },
    {
     "data": {
      "text/html": [
       "<div>\n",
       "<style scoped>\n",
       "    .dataframe tbody tr th:only-of-type {\n",
       "        vertical-align: middle;\n",
       "    }\n",
       "\n",
       "    .dataframe tbody tr th {\n",
       "        vertical-align: top;\n",
       "    }\n",
       "\n",
       "    .dataframe thead th {\n",
       "        text-align: right;\n",
       "    }\n",
       "</style>\n",
       "<table border=\"1\" class=\"dataframe\">\n",
       "  <thead>\n",
       "    <tr style=\"text-align: right;\">\n",
       "      <th></th>\n",
       "      <th>mean</th>\n",
       "      <th>sd</th>\n",
       "      <th>hdi_3%</th>\n",
       "      <th>hdi_97%</th>\n",
       "      <th>mcse_mean</th>\n",
       "      <th>mcse_sd</th>\n",
       "      <th>ess_mean</th>\n",
       "      <th>ess_sd</th>\n",
       "      <th>ess_bulk</th>\n",
       "      <th>ess_tail</th>\n",
       "      <th>r_hat</th>\n",
       "    </tr>\n",
       "  </thead>\n",
       "  <tbody>\n",
       "    <tr>\n",
       "      <th>alpha</th>\n",
       "      <td>0.000</td>\n",
       "      <td>0.109</td>\n",
       "      <td>-0.221</td>\n",
       "      <td>0.190</td>\n",
       "      <td>0.005</td>\n",
       "      <td>0.005</td>\n",
       "      <td>580.0</td>\n",
       "      <td>230.0</td>\n",
       "      <td>572.0</td>\n",
       "      <td>290.0</td>\n",
       "      <td>1.00</td>\n",
       "    </tr>\n",
       "    <tr>\n",
       "      <th>beta_M</th>\n",
       "      <td>-0.696</td>\n",
       "      <td>0.106</td>\n",
       "      <td>-0.893</td>\n",
       "      <td>-0.509</td>\n",
       "      <td>0.004</td>\n",
       "      <td>0.003</td>\n",
       "      <td>603.0</td>\n",
       "      <td>555.0</td>\n",
       "      <td>607.0</td>\n",
       "      <td>296.0</td>\n",
       "      <td>1.02</td>\n",
       "    </tr>\n",
       "    <tr>\n",
       "      <th>sigma</th>\n",
       "      <td>0.724</td>\n",
       "      <td>0.076</td>\n",
       "      <td>0.590</td>\n",
       "      <td>0.873</td>\n",
       "      <td>0.004</td>\n",
       "      <td>0.003</td>\n",
       "      <td>429.0</td>\n",
       "      <td>409.0</td>\n",
       "      <td>460.0</td>\n",
       "      <td>312.0</td>\n",
       "      <td>1.01</td>\n",
       "    </tr>\n",
       "  </tbody>\n",
       "</table>\n",
       "</div>"
      ],
      "text/plain": [
       "         mean     sd  hdi_3%  hdi_97%  mcse_mean  mcse_sd  ess_mean  ess_sd  \\\n",
       "alpha   0.000  0.109  -0.221    0.190      0.005    0.005     580.0   230.0   \n",
       "beta_M -0.696  0.106  -0.893   -0.509      0.004    0.003     603.0   555.0   \n",
       "sigma   0.724  0.076   0.590    0.873      0.004    0.003     429.0   409.0   \n",
       "\n",
       "        ess_bulk  ess_tail  r_hat  \n",
       "alpha      572.0     290.0   1.00  \n",
       "beta_M     607.0     296.0   1.02  \n",
       "sigma      460.0     312.0   1.01  "
      ]
     },
     "execution_count": 34,
     "metadata": {},
     "output_type": "execute_result"
    }
   ],
   "source": [
    "#Fit model1 M-> A\n",
    "with pm.Model() as Linreg1:\n",
    "    alpha = pm.Normal('alpha', mu=0, sd=1)#prior on alpha\n",
    "    beta_M = pm.Normal(\"beta_M\", mu=0,sd=0.5)#prior on beta_M\n",
    "    sigma = pm.Exponential(\"sigma\",lam=1)#prior on sigma\n",
    "    mu = alpha + beta_M*scaled_marriage\n",
    "    Age = pm.Normal('age', mu=mu, sd=sigma, observed=scaled_age)#likelihood of the data\n",
    "    model1_post = pm.sample(draws= 100, chains = 4)#100 random samples on 4 chains\n",
    "    #get summary reports from the MCMC\n",
    "    #pm.traceplot(sample)\n",
    "pm.summary(model1_post)"
   ]
  },
  {
   "cell_type": "code",
   "execution_count": 35,
   "metadata": {
    "scrolled": true
   },
   "outputs": [
    {
     "name": "stderr",
     "output_type": "stream",
     "text": [
      "Only 100 samples in chain.\n",
      "Auto-assigning NUTS sampler...\n",
      "Initializing NUTS using jitter+adapt_diag...\n",
      "Multiprocess sampling (4 chains in 4 jobs)\n",
      "NUTS: [sigma, beta_A, alpha]\n"
     ]
    },
    {
     "data": {
      "text/html": [
       "\n",
       "    <div>\n",
       "        <style>\n",
       "            /* Turns off some styling */\n",
       "            progress {\n",
       "                /* gets rid of default border in Firefox and Opera. */\n",
       "                border: none;\n",
       "                /* Needs to be in here for Safari polyfill so background images work as expected. */\n",
       "                background-size: auto;\n",
       "            }\n",
       "            .progress-bar-interrupted, .progress-bar-interrupted::-webkit-progress-bar {\n",
       "                background: #F44336;\n",
       "            }\n",
       "        </style>\n",
       "      <progress value='4400' class='' max='4400' style='width:300px; height:20px; vertical-align: middle;'></progress>\n",
       "      100.00% [4400/4400 00:01<00:00 Sampling 4 chains, 0 divergences]\n",
       "    </div>\n",
       "    "
      ],
      "text/plain": [
       "<IPython.core.display.HTML object>"
      ]
     },
     "metadata": {},
     "output_type": "display_data"
    },
    {
     "name": "stderr",
     "output_type": "stream",
     "text": [
      "Sampling 4 chains for 1_000 tune and 100 draw iterations (4_000 + 400 draws total) took 2 seconds.\n",
      "The acceptance probability does not match the target. It is 0.8835181298595873, but should be close to 0.8. Try to increase the number of tuning steps.\n",
      "/home/aidan/anaconda3/envs/Bayes/lib/python3.8/site-packages/arviz/data/io_pymc3.py:85: FutureWarning: Using `from_pymc3` without the model will be deprecated in a future release. Not using the model will return less accurate and less useful results. Make sure you use the model argument or call from_pymc3 within a model context.\n",
      "  warnings.warn(\n"
     ]
    },
    {
     "data": {
      "text/html": [
       "<div>\n",
       "<style scoped>\n",
       "    .dataframe tbody tr th:only-of-type {\n",
       "        vertical-align: middle;\n",
       "    }\n",
       "\n",
       "    .dataframe tbody tr th {\n",
       "        vertical-align: top;\n",
       "    }\n",
       "\n",
       "    .dataframe thead th {\n",
       "        text-align: right;\n",
       "    }\n",
       "</style>\n",
       "<table border=\"1\" class=\"dataframe\">\n",
       "  <thead>\n",
       "    <tr style=\"text-align: right;\">\n",
       "      <th></th>\n",
       "      <th>mean</th>\n",
       "      <th>sd</th>\n",
       "      <th>hdi_3%</th>\n",
       "      <th>hdi_97%</th>\n",
       "      <th>mcse_mean</th>\n",
       "      <th>mcse_sd</th>\n",
       "      <th>ess_mean</th>\n",
       "      <th>ess_sd</th>\n",
       "      <th>ess_bulk</th>\n",
       "      <th>ess_tail</th>\n",
       "      <th>r_hat</th>\n",
       "    </tr>\n",
       "  </thead>\n",
       "  <tbody>\n",
       "    <tr>\n",
       "      <th>alpha</th>\n",
       "      <td>9.198</td>\n",
       "      <td>0.255</td>\n",
       "      <td>8.747</td>\n",
       "      <td>9.720</td>\n",
       "      <td>0.014</td>\n",
       "      <td>0.010</td>\n",
       "      <td>319.0</td>\n",
       "      <td>319.0</td>\n",
       "      <td>346.0</td>\n",
       "      <td>267.0</td>\n",
       "      <td>1.01</td>\n",
       "    </tr>\n",
       "    <tr>\n",
       "      <th>beta_A</th>\n",
       "      <td>-0.897</td>\n",
       "      <td>0.211</td>\n",
       "      <td>-1.283</td>\n",
       "      <td>-0.512</td>\n",
       "      <td>0.010</td>\n",
       "      <td>0.007</td>\n",
       "      <td>417.0</td>\n",
       "      <td>399.0</td>\n",
       "      <td>403.0</td>\n",
       "      <td>304.0</td>\n",
       "      <td>1.00</td>\n",
       "    </tr>\n",
       "    <tr>\n",
       "      <th>sigma</th>\n",
       "      <td>1.593</td>\n",
       "      <td>0.190</td>\n",
       "      <td>1.273</td>\n",
       "      <td>1.921</td>\n",
       "      <td>0.011</td>\n",
       "      <td>0.008</td>\n",
       "      <td>305.0</td>\n",
       "      <td>287.0</td>\n",
       "      <td>330.0</td>\n",
       "      <td>290.0</td>\n",
       "      <td>1.01</td>\n",
       "    </tr>\n",
       "  </tbody>\n",
       "</table>\n",
       "</div>"
      ],
      "text/plain": [
       "         mean     sd  hdi_3%  hdi_97%  mcse_mean  mcse_sd  ess_mean  ess_sd  \\\n",
       "alpha   9.198  0.255   8.747    9.720      0.014    0.010     319.0   319.0   \n",
       "beta_A -0.897  0.211  -1.283   -0.512      0.010    0.007     417.0   399.0   \n",
       "sigma   1.593  0.190   1.273    1.921      0.011    0.008     305.0   287.0   \n",
       "\n",
       "        ess_bulk  ess_tail  r_hat  \n",
       "alpha      346.0     267.0   1.01  \n",
       "beta_A     403.0     304.0   1.00  \n",
       "sigma      330.0     290.0   1.01  "
      ]
     },
     "execution_count": 35,
     "metadata": {},
     "output_type": "execute_result"
    }
   ],
   "source": [
    "#Fit model2 A -> D\n",
    "with pm.Model() as Linreg1:\n",
    "    alpha = pm.Normal('alpha', mu=0, sd=1)#prior on alpha\n",
    "    beta_A = pm.Normal(\"beta_A\", mu=0,sd=0.5)#prior on beta_M\n",
    "    sigma = pm.Exponential(\"sigma\",lam=1)#prior on sigma\n",
    "    mu = alpha + beta_A*scaled_age\n",
    "    divorce = pm.Normal('divorce', mu=mu, sd=sigma, observed=data.Divorce)#likelihood of the data\n",
    "    model2_post = pm.sample(draws= 100, chains = 4)#100 random samples on 4 chains\n",
    "    #get summary reports from the MCMC\n",
    "    #pm.traceplot(sample)\n",
    "pm.summary(model2_post)"
   ]
  },
  {
   "cell_type": "markdown",
   "metadata": {},
   "source": [
    "We now have the posterior distributions for the two relationships in the causal model. We can now start to investigate the impact of interventions under this causal model. Namely, if we set the marriage rate at a certain level in a given state how would this alter the divorce rate, when divorce rate is mediated through age."
   ]
  },
  {
   "cell_type": "code",
   "execution_count": 36,
   "metadata": {},
   "outputs": [
    {
     "data": {
      "text/plain": [
       "(-1.7591667404919278, 2.815624299190736)"
      ]
     },
     "execution_count": 36,
     "metadata": {},
     "output_type": "execute_result"
    }
   ],
   "source": [
    "#Find a suitable range\n",
    "np.min(scaled_marriage), np.max(scaled_marriage)"
   ]
  },
  {
   "cell_type": "code",
   "execution_count": null,
   "metadata": {},
   "outputs": [],
   "source": [
    "y = np.outer(MR,model1_post[\"beta_M\"]) +  model1_post[\"alpha\"]"
   ]
  },
  {
   "cell_type": "code",
   "execution_count": null,
   "metadata": {},
   "outputs": [],
   "source": [
    "1.15759881 + model1_post[\"alpha\"][0]"
   ]
  },
  {
   "cell_type": "code",
   "execution_count": null,
   "metadata": {},
   "outputs": [],
   "source": [
    "model1_post[\"alpha\"][0]"
   ]
  },
  {
   "cell_type": "code",
   "execution_count": 46,
   "metadata": {},
   "outputs": [],
   "source": [
    "#range from 12 to 32\n",
    "MR = np.linspace(-2,3) #marriage rate\n",
    "#get the predicted marriages ages\n",
    "MA= np.outer(MR,model1_post[\"beta_M\"]) +  model1_post[\"alpha\"]#each row is intervention variable\n",
    "Predictions = np.array([ np.array(np.outer(MA[row,:],model2_post[\"beta_A\"]) +  model2_post[\"alpha\"]).ravel() for row in range(MA.shape[0])])"
   ]
  },
  {
   "cell_type": "code",
   "execution_count": 51,
   "metadata": {},
   "outputs": [],
   "source": [
    "mean_pred = np.mean(Predictions,axis = 1)\n",
    "low_pred = np.quantile(Predictions, 0.055,axis =1)\n",
    "upper_pred = np.quantile(Predictions, 0.945,axis =1)"
   ]
  },
  {
   "cell_type": "code",
   "execution_count": 56,
   "metadata": {},
   "outputs": [],
   "source": [
    "unscaled_MR = MR*np.std(data.Marriage) + np.mean(data.Marriage)"
   ]
  },
  {
   "cell_type": "code",
   "execution_count": 59,
   "metadata": {},
   "outputs": [
    {
     "data": {
      "text/plain": [
       "Text(0.5, 1.0, 'Counter Factual plot of MR on DR')"
      ]
     },
     "execution_count": 59,
     "metadata": {},
     "output_type": "execute_result"
    },
    {
     "data": {
      "image/png": "[encoded data removed]",
      "text/plain": [
       "<Figure size 432x288 with 1 Axes>"
      ]
     },
     "metadata": {
      "needs_background": "light"
     },
     "output_type": "display_data"
    }
   ],
   "source": [
    "plt.plot(unscaled_MR, mean_pred)\n",
    "plt.fill_between(unscaled_MR, y1=low_pred,y2=upper_pred, alpha=0.5)\n",
    "plt.xlabel(\"Marriage rate\")\n",
    "plt.ylabel(\"Divorce rate\")\n",
    "plt.title(\"Counter Factual plot of MR on DR\")"
   ]
  },
  {
   "cell_type": "markdown",
   "metadata": {},
   "source": [
    "5H3. Return to the milk energy model, m5.7. Suppose that the true causal relationship among the variables is: (see below)\n",
    "\n",
    "\n",
    "Now compute the counterfactual effect on K of doubling M. You will need to account for both the\n",
    "direct and indirect paths of causation. Use the counterfactual example from the chapter (starting on page 140) as a template"
   ]
  },
  {
   "cell_type": "code",
   "execution_count": 61,
   "metadata": {},
   "outputs": [
    {
     "data": {
      "image/svg+xml": [
       "<?xml version=\"1.0\" encoding=\"UTF-8\" standalone=\"no\"?>\n",
       "<!DOCTYPE svg PUBLIC \"-//W3C//DTD SVG 1.1//EN\"\n",
       " \"http://www.w3.org/Graphics/SVG/1.1/DTD/svg11.dtd\">\n",
       "<!-- Generated by graphviz version 2.40.1 (20161225.0304)\n",
       " -->\n",
       "<!-- Title: %3 Pages: 1 -->\n",
       "<svg width=\"89pt\" height=\"188pt\"\n",
       " viewBox=\"0.00 0.00 89.00 188.00\" xmlns=\"http://www.w3.org/2000/svg\" xmlns:xlink=\"http://www.w3.org/1999/xlink\">\n",
       "<g id=\"graph0\" class=\"graph\" transform=\"scale(1 1) rotate(0) translate(4 184)\">\n",
       "<title>%3</title>\n",
       "<polygon fill=\"#ffffff\" stroke=\"transparent\" points=\"-4,4 -4,-184 85,-184 85,4 -4,4\"/>\n",
       "<!-- N -->\n",
       "<g id=\"node1\" class=\"node\">\n",
       "<title>N</title>\n",
       "<ellipse fill=\"none\" stroke=\"#000000\" cx=\"27\" cy=\"-90\" rx=\"27\" ry=\"18\"/>\n",
       "<text text-anchor=\"middle\" x=\"27\" y=\"-86.3\" font-family=\"Times,serif\" font-size=\"14.00\" fill=\"#000000\">N</text>\n",
       "</g>\n",
       "<!-- K -->\n",
       "<g id=\"node3\" class=\"node\">\n",
       "<title>K</title>\n",
       "<ellipse fill=\"none\" stroke=\"#000000\" cx=\"54\" cy=\"-18\" rx=\"27\" ry=\"18\"/>\n",
       "<text text-anchor=\"middle\" x=\"54\" y=\"-14.3\" font-family=\"Times,serif\" font-size=\"14.00\" fill=\"#000000\">K</text>\n",
       "</g>\n",
       "<!-- N&#45;&gt;K -->\n",
       "<g id=\"edge3\" class=\"edge\">\n",
       "<title>N&#45;&gt;K</title>\n",
       "<path fill=\"none\" stroke=\"#000000\" d=\"M33.6742,-72.2022C36.7476,-64.0064 40.4616,-54.1024 43.8695,-45.0145\"/>\n",
       "<polygon fill=\"#000000\" stroke=\"#000000\" points=\"47.1685,-46.1853 47.4026,-35.593 40.6142,-43.7274 47.1685,-46.1853\"/>\n",
       "</g>\n",
       "<!-- M -->\n",
       "<g id=\"node2\" class=\"node\">\n",
       "<title>M</title>\n",
       "<ellipse fill=\"none\" stroke=\"#000000\" cx=\"54\" cy=\"-162\" rx=\"27\" ry=\"18\"/>\n",
       "<text text-anchor=\"middle\" x=\"54\" y=\"-158.3\" font-family=\"Times,serif\" font-size=\"14.00\" fill=\"#000000\">M</text>\n",
       "</g>\n",
       "<!-- M&#45;&gt;N -->\n",
       "<g id=\"edge1\" class=\"edge\">\n",
       "<title>M&#45;&gt;N</title>\n",
       "<path fill=\"none\" stroke=\"#000000\" d=\"M47.3258,-144.2022C44.2524,-136.0064 40.5384,-126.1024 37.1305,-117.0145\"/>\n",
       "<polygon fill=\"#000000\" stroke=\"#000000\" points=\"40.3858,-115.7274 33.5974,-107.593 33.8315,-118.1853 40.3858,-115.7274\"/>\n",
       "</g>\n",
       "<!-- M&#45;&gt;K -->\n",
       "<g id=\"edge2\" class=\"edge\">\n",
       "<title>M&#45;&gt;K</title>\n",
       "<path fill=\"none\" stroke=\"#000000\" d=\"M57.7474,-144.0931C59.7466,-133.6241 61.9966,-120.1241 63,-108 64.3197,-92.0545 64.3197,-87.9455 63,-72 62.2945,-63.4753 60.9727,-54.2703 59.5551,-45.917\"/>\n",
       "<polygon fill=\"#000000\" stroke=\"#000000\" points=\"62.9689,-45.1258 57.7474,-35.9069 56.0803,-46.3698 62.9689,-45.1258\"/>\n",
       "</g>\n",
       "</g>\n",
       "</svg>\n"
      ],
      "text/plain": [
       "<graphviz.dot.Digraph at 0x7f36c5ca0a30>"
      ]
     },
     "execution_count": 61,
     "metadata": {},
     "output_type": "execute_result"
    }
   ],
   "source": [
    "h3 = CausalGraphicalModel(\n",
    "    nodes=[\"M\", \"N\", \"K\"],\n",
    "    edges=[\n",
    "        (\"M\",\"N\"),\n",
    "        (\"M\", \"K\"),\n",
    "        (\"N\",\"K\")\n",
    "    ]\n",
    ")\n",
    "\n",
    "# draw return a graphviz `dot` object, which jupyter can render\n",
    "h3.draw()"
   ]
  },
  {
   "cell_type": "code",
   "execution_count": 64,
   "metadata": {},
   "outputs": [],
   "source": [
    "milk = pd.read_csv(\"./data/milk.csv\", delimiter=\";\")"
   ]
  },
  {
   "cell_type": "markdown",
   "metadata": {},
   "source": [
    "2 models needed here. The effect of M on N. Then the joint effect of N and M on K is also needed. I'll run 3 MCMC models on the data."
   ]
  },
  {
   "cell_type": "code",
   "execution_count": 67,
   "metadata": {},
   "outputs": [],
   "source": [
    "milk = milk[~np.isnan(milk[\"neocortex.perc\"])] #perform complete case analysis\n",
    "scale_M = (milk[\"mass\"] - np.mean(milk[\"mass\"]))/np.std(milk[\"mass\"])\n",
    "scale_N = (milk[\"neocortex.perc\"] - np.mean(milk[\"neocortex.perc\"]))/np.std(milk[\"neocortex.perc\"])\n"
   ]
  },
  {
   "cell_type": "code",
   "execution_count": 232,
   "metadata": {},
   "outputs": [
    {
     "name": "stderr",
     "output_type": "stream",
     "text": [
      "Auto-assigning NUTS sampler...\n",
      "Initializing NUTS using jitter+adapt_diag...\n",
      "Multiprocess sampling (4 chains in 4 jobs)\n",
      "NUTS: [sigma, beta_M, alpha]\n"
     ]
    },
    {
     "data": {
      "text/html": [
       "\n",
       "    <div>\n",
       "        <style>\n",
       "            /* Turns off some styling */\n",
       "            progress {\n",
       "                /* gets rid of default border in Firefox and Opera. */\n",
       "                border: none;\n",
       "                /* Needs to be in here for Safari polyfill so background images work as expected. */\n",
       "                background-size: auto;\n",
       "            }\n",
       "            .progress-bar-interrupted, .progress-bar-interrupted::-webkit-progress-bar {\n",
       "                background: #F44336;\n",
       "            }\n",
       "        </style>\n",
       "      <progress value='6000' class='' max='6000' style='width:300px; height:20px; vertical-align: middle;'></progress>\n",
       "      100.00% [6000/6000 00:01<00:00 Sampling 4 chains, 0 divergences]\n",
       "    </div>\n",
       "    "
      ],
      "text/plain": [
       "<IPython.core.display.HTML object>"
      ]
     },
     "metadata": {},
     "output_type": "display_data"
    },
    {
     "name": "stderr",
     "output_type": "stream",
     "text": [
      "Sampling 4 chains for 1_000 tune and 500 draw iterations (4_000 + 2_000 draws total) took 2 seconds.\n",
      "/home/aidan/anaconda3/envs/Bayes/lib/python3.8/site-packages/arviz/data/io_pymc3.py:85: FutureWarning: Using `from_pymc3` without the model will be deprecated in a future release. Not using the model will return less accurate and less useful results. Make sure you use the model argument or call from_pymc3 within a model context.\n",
      "  warnings.warn(\n"
     ]
    },
    {
     "data": {
      "text/html": [
       "<div>\n",
       "<style scoped>\n",
       "    .dataframe tbody tr th:only-of-type {\n",
       "        vertical-align: middle;\n",
       "    }\n",
       "\n",
       "    .dataframe tbody tr th {\n",
       "        vertical-align: top;\n",
       "    }\n",
       "\n",
       "    .dataframe thead th {\n",
       "        text-align: right;\n",
       "    }\n",
       "</style>\n",
       "<table border=\"1\" class=\"dataframe\">\n",
       "  <thead>\n",
       "    <tr style=\"text-align: right;\">\n",
       "      <th></th>\n",
       "      <th>mean</th>\n",
       "      <th>sd</th>\n",
       "      <th>hdi_3%</th>\n",
       "      <th>hdi_97%</th>\n",
       "      <th>mcse_mean</th>\n",
       "      <th>mcse_sd</th>\n",
       "      <th>ess_mean</th>\n",
       "      <th>ess_sd</th>\n",
       "      <th>ess_bulk</th>\n",
       "      <th>ess_tail</th>\n",
       "      <th>r_hat</th>\n",
       "    </tr>\n",
       "  </thead>\n",
       "  <tbody>\n",
       "    <tr>\n",
       "      <th>alpha</th>\n",
       "      <td>-0.002</td>\n",
       "      <td>0.214</td>\n",
       "      <td>-0.410</td>\n",
       "      <td>0.402</td>\n",
       "      <td>0.005</td>\n",
       "      <td>0.005</td>\n",
       "      <td>1973.0</td>\n",
       "      <td>1008.0</td>\n",
       "      <td>2000.0</td>\n",
       "      <td>1242.0</td>\n",
       "      <td>1.0</td>\n",
       "    </tr>\n",
       "    <tr>\n",
       "      <th>beta_M</th>\n",
       "      <td>0.514</td>\n",
       "      <td>0.199</td>\n",
       "      <td>0.112</td>\n",
       "      <td>0.884</td>\n",
       "      <td>0.005</td>\n",
       "      <td>0.003</td>\n",
       "      <td>1872.0</td>\n",
       "      <td>1872.0</td>\n",
       "      <td>1907.0</td>\n",
       "      <td>1376.0</td>\n",
       "      <td>1.0</td>\n",
       "    </tr>\n",
       "    <tr>\n",
       "      <th>sigma</th>\n",
       "      <td>0.885</td>\n",
       "      <td>0.181</td>\n",
       "      <td>0.603</td>\n",
       "      <td>1.218</td>\n",
       "      <td>0.005</td>\n",
       "      <td>0.003</td>\n",
       "      <td>1529.0</td>\n",
       "      <td>1437.0</td>\n",
       "      <td>1642.0</td>\n",
       "      <td>1195.0</td>\n",
       "      <td>1.0</td>\n",
       "    </tr>\n",
       "  </tbody>\n",
       "</table>\n",
       "</div>"
      ],
      "text/plain": [
       "         mean     sd  hdi_3%  hdi_97%  mcse_mean  mcse_sd  ess_mean  ess_sd  \\\n",
       "alpha  -0.002  0.214  -0.410    0.402      0.005    0.005    1973.0  1008.0   \n",
       "beta_M  0.514  0.199   0.112    0.884      0.005    0.003    1872.0  1872.0   \n",
       "sigma   0.885  0.181   0.603    1.218      0.005    0.003    1529.0  1437.0   \n",
       "\n",
       "        ess_bulk  ess_tail  r_hat  \n",
       "alpha     2000.0    1242.0    1.0  \n",
       "beta_M    1907.0    1376.0    1.0  \n",
       "sigma     1642.0    1195.0    1.0  "
      ]
     },
     "execution_count": 232,
     "metadata": {},
     "output_type": "execute_result"
    }
   ],
   "source": [
    "#Fit model1 M-> N\n",
    "with pm.Model() as Linreg1:\n",
    "    alpha = pm.Normal('alpha', mu=0, sd=1)#prior on alpha\n",
    "    beta_M = pm.Normal(\"beta_M\", mu=0,sd=0.5)#prior on beta_M\n",
    "    sigma = pm.Exponential(\"sigma\",lam=1)#prior on sigma\n",
    "    mu = alpha + beta_M*scale_M\n",
    "    neo = pm.Normal('neo', mu=mu, sd=sigma, observed=scale_N)#likelihood of the data\n",
    "    model1_post = pm.sample(draws= 500, chains = 4)#100 random samples on 4 chains\n",
    "    #get summary reports from the MCMC\n",
    "    #pm.traceplot(sample)\n",
    "pm.summary(model1_post)"
   ]
  },
  {
   "cell_type": "code",
   "execution_count": 233,
   "metadata": {},
   "outputs": [
    {
     "name": "stderr",
     "output_type": "stream",
     "text": [
      "Auto-assigning NUTS sampler...\n",
      "Initializing NUTS using jitter+adapt_diag...\n",
      "Multiprocess sampling (4 chains in 4 jobs)\n",
      "NUTS: [sigma, beta_N, beta_M, alpha]\n"
     ]
    },
    {
     "data": {
      "text/html": [
       "\n",
       "    <div>\n",
       "        <style>\n",
       "            /* Turns off some styling */\n",
       "            progress {\n",
       "                /* gets rid of default border in Firefox and Opera. */\n",
       "                border: none;\n",
       "                /* Needs to be in here for Safari polyfill so background images work as expected. */\n",
       "                background-size: auto;\n",
       "            }\n",
       "            .progress-bar-interrupted, .progress-bar-interrupted::-webkit-progress-bar {\n",
       "                background: #F44336;\n",
       "            }\n",
       "        </style>\n",
       "      <progress value='6000' class='' max='6000' style='width:300px; height:20px; vertical-align: middle;'></progress>\n",
       "      100.00% [6000/6000 00:02<00:00 Sampling 4 chains, 0 divergences]\n",
       "    </div>\n",
       "    "
      ],
      "text/plain": [
       "<IPython.core.display.HTML object>"
      ]
     },
     "metadata": {},
     "output_type": "display_data"
    },
    {
     "name": "stderr",
     "output_type": "stream",
     "text": [
      "Sampling 4 chains for 1_000 tune and 500 draw iterations (4_000 + 2_000 draws total) took 2 seconds.\n",
      "/home/aidan/anaconda3/envs/Bayes/lib/python3.8/site-packages/arviz/data/io_pymc3.py:85: FutureWarning: Using `from_pymc3` without the model will be deprecated in a future release. Not using the model will return less accurate and less useful results. Make sure you use the model argument or call from_pymc3 within a model context.\n",
      "  warnings.warn(\n"
     ]
    },
    {
     "data": {
      "text/html": [
       "<div>\n",
       "<style scoped>\n",
       "    .dataframe tbody tr th:only-of-type {\n",
       "        vertical-align: middle;\n",
       "    }\n",
       "\n",
       "    .dataframe tbody tr th {\n",
       "        vertical-align: top;\n",
       "    }\n",
       "\n",
       "    .dataframe thead th {\n",
       "        text-align: right;\n",
       "    }\n",
       "</style>\n",
       "<table border=\"1\" class=\"dataframe\">\n",
       "  <thead>\n",
       "    <tr style=\"text-align: right;\">\n",
       "      <th></th>\n",
       "      <th>mean</th>\n",
       "      <th>sd</th>\n",
       "      <th>hdi_3%</th>\n",
       "      <th>hdi_97%</th>\n",
       "      <th>mcse_mean</th>\n",
       "      <th>mcse_sd</th>\n",
       "      <th>ess_mean</th>\n",
       "      <th>ess_sd</th>\n",
       "      <th>ess_bulk</th>\n",
       "      <th>ess_tail</th>\n",
       "      <th>r_hat</th>\n",
       "    </tr>\n",
       "  </thead>\n",
       "  <tbody>\n",
       "    <tr>\n",
       "      <th>alpha</th>\n",
       "      <td>0.658</td>\n",
       "      <td>0.040</td>\n",
       "      <td>0.586</td>\n",
       "      <td>0.737</td>\n",
       "      <td>0.001</td>\n",
       "      <td>0.001</td>\n",
       "      <td>1343.0</td>\n",
       "      <td>1328.0</td>\n",
       "      <td>1382.0</td>\n",
       "      <td>1034.0</td>\n",
       "      <td>1.00</td>\n",
       "    </tr>\n",
       "    <tr>\n",
       "      <th>beta_M</th>\n",
       "      <td>-0.121</td>\n",
       "      <td>0.050</td>\n",
       "      <td>-0.210</td>\n",
       "      <td>-0.024</td>\n",
       "      <td>0.001</td>\n",
       "      <td>0.001</td>\n",
       "      <td>1170.0</td>\n",
       "      <td>1132.0</td>\n",
       "      <td>1183.0</td>\n",
       "      <td>1071.0</td>\n",
       "      <td>1.00</td>\n",
       "    </tr>\n",
       "    <tr>\n",
       "      <th>beta_N</th>\n",
       "      <td>0.100</td>\n",
       "      <td>0.048</td>\n",
       "      <td>0.010</td>\n",
       "      <td>0.187</td>\n",
       "      <td>0.001</td>\n",
       "      <td>0.001</td>\n",
       "      <td>1066.0</td>\n",
       "      <td>1066.0</td>\n",
       "      <td>1070.0</td>\n",
       "      <td>1115.0</td>\n",
       "      <td>1.00</td>\n",
       "    </tr>\n",
       "    <tr>\n",
       "      <th>sigma</th>\n",
       "      <td>0.161</td>\n",
       "      <td>0.034</td>\n",
       "      <td>0.108</td>\n",
       "      <td>0.224</td>\n",
       "      <td>0.001</td>\n",
       "      <td>0.001</td>\n",
       "      <td>1052.0</td>\n",
       "      <td>1031.0</td>\n",
       "      <td>1080.0</td>\n",
       "      <td>1039.0</td>\n",
       "      <td>1.01</td>\n",
       "    </tr>\n",
       "  </tbody>\n",
       "</table>\n",
       "</div>"
      ],
      "text/plain": [
       "         mean     sd  hdi_3%  hdi_97%  mcse_mean  mcse_sd  ess_mean  ess_sd  \\\n",
       "alpha   0.658  0.040   0.586    0.737      0.001    0.001    1343.0  1328.0   \n",
       "beta_M -0.121  0.050  -0.210   -0.024      0.001    0.001    1170.0  1132.0   \n",
       "beta_N  0.100  0.048   0.010    0.187      0.001    0.001    1066.0  1066.0   \n",
       "sigma   0.161  0.034   0.108    0.224      0.001    0.001    1052.0  1031.0   \n",
       "\n",
       "        ess_bulk  ess_tail  r_hat  \n",
       "alpha     1382.0    1034.0   1.00  \n",
       "beta_M    1183.0    1071.0   1.00  \n",
       "beta_N    1070.0    1115.0   1.00  \n",
       "sigma     1080.0    1039.0   1.01  "
      ]
     },
     "execution_count": 233,
     "metadata": {},
     "output_type": "execute_result"
    }
   ],
   "source": [
    "#Fit model2 A -> D\n",
    "with pm.Model() as Linreg1:\n",
    "    alpha = pm.Normal('alpha', mu=0, sd=1)#prior on alpha\n",
    "    beta_M = pm.Normal(\"beta_M\", mu=0,sd=0.5)#prior on beta_M\n",
    "    beta_N = pm.Normal(\"beta_N\", mu=0,sd=0.5)#prior on beta_N\n",
    "    sigma = pm.Exponential(\"sigma\",lam=1)#prior on sigma\n",
    "    mu = alpha + beta_M*scale_M + beta_N * scale_N\n",
    "    kcal = pm.Normal('kcal', mu=mu, sd=sigma, observed=milk[\"kcal.per.g\"])#likelihood of the data\n",
    "    model2_post = pm.sample(draws= 500, chains = 4)#1000 random samples on 4 chains\n",
    "    #get summary reports from the MCMC\n",
    "    #pm.traceplot(sample)\n",
    "pm.summary(model2_post)"
   ]
  },
  {
   "cell_type": "code",
   "execution_count": 234,
   "metadata": {},
   "outputs": [
    {
     "name": "stderr",
     "output_type": "stream",
     "text": [
      "/home/aidan/anaconda3/envs/Bayes/lib/python3.8/site-packages/arviz/data/io_pymc3.py:85: FutureWarning: Using `from_pymc3` without the model will be deprecated in a future release. Not using the model will return less accurate and less useful results. Make sure you use the model argument or call from_pymc3 within a model context.\n",
      "  warnings.warn(\n"
     ]
    },
    {
     "data": {
      "text/plain": [
       "array([<AxesSubplot:title={'center':'94.0% HDI'}>], dtype=object)"
      ]
     },
     "execution_count": 234,
     "metadata": {},
     "output_type": "execute_result"
    },
    {
     "data": {
      "image/png": "[encoded data removed]",
      "text/plain": [
       "<Figure size 432x518.4 with 1 Axes>"
      ]
     },
     "metadata": {
      "needs_background": "light"
     },
     "output_type": "display_data"
    },
    {
     "data": {
      "image/png": "[encoded data removed]",
      "text/plain": [
       "<Figure size 432x619.2 with 1 Axes>"
      ]
     },
     "metadata": {
      "needs_background": "light"
     },
     "output_type": "display_data"
    }
   ],
   "source": [
    "pm.forestplot(model1_post)#model 1 interval\n",
    "pm.forestplot(model2_post)#model 2 intervals"
   ]
  },
  {
   "cell_type": "markdown",
   "metadata": {},
   "source": [
    "We now compute the counterfactual plots as follow:"
   ]
  },
  {
   "cell_type": "code",
   "execution_count": 235,
   "metadata": {},
   "outputs": [
    {
     "data": {
      "text/plain": [
       "(-0.7219815310503496, 2.7446354164897317)"
      ]
     },
     "execution_count": 235,
     "metadata": {},
     "output_type": "execute_result"
    }
   ],
   "source": [
    "#find a sensible range of prediction values\n",
    "np.min(scale_M), np.max(scale_M)"
   ]
  },
  {
   "cell_type": "code",
   "execution_count": 236,
   "metadata": {},
   "outputs": [],
   "source": [
    "def N_func(M): return model1_post[\"alpha\"] + M * model1_post[\"beta_M\"]\n",
    "def K_func(M,N): return model2_post[\"alpha\"] + M * model2_post[\"beta_M\"] + np.multiply(N,model2_post[\"beta_N\"])"
   ]
  },
  {
   "cell_type": "code",
   "execution_count": 237,
   "metadata": {},
   "outputs": [],
   "source": [
    "K = np.array([K_func(M,N_func(M)) for M in np.linspace(-1,3)])"
   ]
  },
  {
   "cell_type": "code",
   "execution_count": 238,
   "metadata": {},
   "outputs": [],
   "source": [
    "#get unscaled Marriage coords\n",
    "Mass = np.linspace(-1,3)*np.std(milk[\"mass\"]) + np.mean(milk[\"mass\"])"
   ]
  },
  {
   "cell_type": "code",
   "execution_count": 239,
   "metadata": {},
   "outputs": [
    {
     "data": {
      "text/plain": [
       "Text(0.5, 1.0, 'Counterfactual of M for K')"
      ]
     },
     "execution_count": 239,
     "metadata": {},
     "output_type": "execute_result"
    },
    {
     "data": {
      "image/png": "[encoded data removed]",
      "text/plain": [
       "<Figure size 432x288 with 1 Axes>"
      ]
     },
     "metadata": {
      "needs_background": "light"
     },
     "output_type": "display_data"
    }
   ],
   "source": [
    "plt.plot(Mass, np.mean(K,axis=1))\n",
    "plt.fill_between(Mass, np.quantile(K,0.055,axis=1),np.quantile(K,0.945,axis=1),alpha = 0.5)\n",
    "plt.xlabel(\"Mass\")\n",
    "plt.ylabel(\"Kcal\")\n",
    "plt.title(\"Counterfactual of M for K\")"
   ]
  }
 ],
 "metadata": {
  "kernelspec": {
   "display_name": "Bayes",
   "language": "python",
   "name": "bayes"
  },
  "language_info": {
   "codemirror_mode": {
    "name": "ipython",
    "version": 3
   },
   "file_extension": ".py",
   "mimetype": "text/x-python",
   "name": "python",
   "nbconvert_exporter": "python",
   "pygments_lexer": "ipython3",
   "version": "3.8.5"
  }
 },
 "nbformat": 4,
 "nbformat_minor": 2
}
