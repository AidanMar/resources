{
 "cells": [
  {
   "cell_type": "code",
   "execution_count": 1,
   "metadata": {},
   "outputs": [],
   "source": [
    "import numpy as np\n",
    "import matplotlib.pylab as plt\n",
    "import scipy.stats as stats\n",
    "import pymc3 as pm\n",
    "import pandas as pd\n",
    "import seaborn as sns\n",
    "import arviz as az\n",
    "from causalgraphicalmodels import CausalGraphicalModel"
   ]
  },
  {
   "cell_type": "markdown",
   "metadata": {},
   "source": [
    "# Chapter 8 - CONDITIONAL MANATEES"
   ]
  },
  {
   "cell_type": "markdown",
   "metadata": {},
   "source": [
    "## End of Chapter Problems"
   ]
  },
  {
   "cell_type": "markdown",
   "metadata": {},
   "source": [
    "8E1. For each of the causal relationships below, name a hypothetical third variable that would lead\n",
    "to an interaction effect.\n",
    "\n",
    "(1) Bread dough rises because of yeast.\n",
    "\n",
    "(2) Education leads to higher income.\n",
    "\n",
    "(3) Gasoline makes a car go.\n",
    "\n",
    "Answer: \n",
    "\n",
    "1) Temperature as a third variable would lead to an interaction effect with the yeast. Presumably fairly non-linear. Temperature would increase the impact of yeast on bread rising, but only up to a point. Beyond this point, temperature would start to kill the yeast, and probably fairly abruptly.\n",
    "\n",
    "2) Peer group at 17 years old. Presumably this interaction would go in both directions. Having a network of friends who are into academic things would presumably bolster your academic performance, and having a good academic education is probably going to make it more likely that you would have this kind of peer group. Similarly, both of these things increase the likelihood that you would have better career outcomes, and due to the impacts of social capital on life outcomes, presumably education and your adult peer network interact in some way.\n",
    "\n",
    "3) Strange one. Mundane variable about whether the ignition of the car has been used would interact with gasoline. In words, the interaction could be something like: The degree to which the car goes, given that it's got gasoline, depends on ignition use. Conversley, given the ignition has been used the degree to which the car go will varys depending on gasoline being in the car.\n"
   ]
  },
  {
   "cell_type": "markdown",
   "metadata": {},
   "source": [
    "8E2. Which of the following explanations invokes an interaction?\n",
    "\n",
    "(1) Caramelizing onions requires cooking over low heat and making sure the onions do not\n",
    "dry out.\n",
    "\n",
    "(2) A car will go faster when it has more cylinders or when it has a better fuel injector.\n",
    "\n",
    "(3) Most people acquire their political beliefs from their parents, unless they get them instead\n",
    "from their friends.\n",
    "\n",
    "(4) Intelligent animal species tend to be either highly social or have manipulative appendages\n",
    "(hands, tentacles, etc.).\n",
    "\n",
    "\n",
    "Answer: \n",
    "\n",
    "1) The degree of caramelizing depends on both factors intreacting. If you just let the heat go up, and they dry out, then it won't caramelize\n",
    "\n",
    "2) Each of these effects on the car is independent of the other, and there's no reason to think the synnergy is going to be more than the sum of the parts\n",
    "\n",
    "3) Interaction. Increasing the influence of friends will decrease the influence of parents and vice versa. It's plausible that this could even be modelled quite well by a symmetric interaction\n",
    "\n",
    "4) Unsure how to parse this one"
   ]
  },
  {
   "cell_type": "markdown",
   "metadata": {},
   "source": [
    "8E3. For each of the explanations in 8E2, write a linear model that expresses the stated relationship.\n",
    "\n",
    "Answer: Let's just stick with the basic linear symmetric interaction paradigm for this model.\n",
    "\n",
    "1)  $\\mu_i = \\alpha + \\beta_H H_i + \\beta_D D_i + \\beta_{HD}H_i D_i $\n",
    "\n",
    "$\\beta_{HD}$ will be positive to some degree. Why? because $\\beta_H$ will be negative, increasing the heat, should reduce the amount of impact that dryness will have, as extreme heat will make caramelization virtually impossible.\n",
    "\n",
    "2)  $\\mu_i = \\alpha + \\beta_C C_i + \\beta_I I_i $\n",
    "\n",
    "No intercation\n",
    "\n",
    "3)  $\\mu_i = \\alpha + \\beta_P P_i + \\beta_F F_i + \\beta_{PF}F_i P_i $\n",
    "\n",
    "$\\mu$ is the mean of the variable describing how close you are to your parents belief at the high end and friends at the low end.\n",
    "Let's say that $\\beta_P$ and $\\beta_F$ are the effect size of exposure to parents and friends political beliefs respectively. For simplicity, assume large exposure swings you more towards the influencing group. So $\\beta_P$ would be positive in this setup and $\\beta_F$ negative.\n",
    "\n",
    "$\\beta_{FP}$ should be a negative interaction effect as you could imagine that increasing time spent with friends would moderate the impact that time spent would parents would have, and vice versa. Symmetry in the interaction is nice in this toy model because the friends and the parents are all competing for time with you.\n",
    "\n",
    "(4) This one is soo weird. I'm unsure how I'd write that interaction term down"
   ]
  },
  {
   "cell_type": "markdown",
   "metadata": {},
   "source": [
    "8M1. Recall the tulips example from the chapter. Suppose another set of treatments adjusted the\n",
    "temperature in the greenhouse over two levels: cold and hot. The data in the chapter were collected\n",
    "at the cold temperature. You find none of the plants grown under the hot temperature developed\n",
    "any blooms at all, regardless of the water and shade levels. Can you explain this result in terms of\n",
    "interactions between water, shade, and temperature?"
   ]
  },
  {
   "cell_type": "markdown",
   "metadata": {},
   "source": [
    "Answer: One imagines that there would be something like a 3-way interaction between all 3 and separate pairwise interactions between the variables, as this would allow each direction of the interactions to impact one another to different degrees."
   ]
  },
  {
   "cell_type": "markdown",
   "metadata": {},
   "source": [
    "8M2. Can you invent a regression equation that would make the bloom size zero, whenever the\n",
    "temperature is hot?\n",
    "\n",
    "In general the three way interaction would look something like this:\n",
    "\n",
    "$\\mu_i = \\alpha + \\beta_1 x_1 + \\beta_2 x_2 + \\beta_3 x_3 + \\beta_{12} x_1x_2 + \\beta_{13} x_1x_3 + \\beta_{23} x_12x_3 + \\beta_{123} x_1x_2x_3$\n",
    "\n",
    "Imagining using a temperature scale ranging from 0 to 1, 1 being a the hot end of the scale. When the temperature reaches 1, then the following equation would ensure that the mean bloom is zero when the temperature is zero.\n",
    "\n",
    "$\\mu_i = \\alpha_2 - \\alpha_2 T + (\\beta \\alpha_1  + \\beta \\beta_S S + \\beta \\beta_{W} W +\\beta \\beta_{SW}S W)  - T(\\beta \\alpha_1  + \\beta \\beta_S S + \\beta \\beta_{W} W +\\beta \\beta_{SW}S W) $\n",
    "\n",
    "This can be further massaged to fit the general framework, but I leave that out here."
   ]
  },
  {
   "cell_type": "markdown",
   "metadata": {},
   "source": [
    "8.3 Too open ended for now"
   ]
  },
  {
   "cell_type": "markdown",
   "metadata": {},
   "source": [
    "8M4. Repeat the tulips analysis, but this time use priors that constrain the effect of water to be positive and the effect of shade to be negative. Use prior predictive simulation. What do these prior\n",
    "assumptions mean for the interaction prior, if anything?"
   ]
  },
  {
   "cell_type": "code",
   "execution_count": 33,
   "metadata": {},
   "outputs": [],
   "source": [
    "Tulip = pd.read_csv(\"./data/tulips.csv\", delimiter=\";\")"
   ]
  },
  {
   "cell_type": "markdown",
   "metadata": {},
   "source": [
    "Answer: So we use precisely the same model as model m8.5 in the text, except I'll be using expontential random variables for the prior distributions to impose the constraints mentioned in the question. Why the exponential? I considered the log-normal, but this seemed far too week over the ranges considered. Using an exponential witha range 0.25 seems far more sensible. There is the unusual quirk of the exponential random variable in that it has the same mean and standard deviation. Thus in picking a $\\lambda$ value for your prior distribution, you're simultanteously making a statement about the expeted value of the parameter and the range of values you expect it to take. This might not always be reasonable, but at least in the current situation, picking $\\lambda = 0.5$ doesn't seem crazy, as it's: Constrained to be positivve; relavtively broad over the range of association strengths in the data; Yet it still expects that strenght of association to be less than 1 around 80% of the time (look up the cdf of the exponential random variable to get what I mean here).\n",
    "\n",
    "NB: To impose the negative constrain, I make the coefficient of the shade negative in the mean line itself"
   ]
  },
  {
   "cell_type": "code",
   "execution_count": 34,
   "metadata": {},
   "outputs": [],
   "source": [
    "#make the unit transformations found in the book\n",
    "Tulip[\"s_blooms\"] = Tulip.blooms.values/np.max(Tulip.blooms.values)\n",
    "Tulip[\"s_water\"] = Tulip.water - np.mean(Tulip.water)\n",
    "Tulip[\"s_shade\"] = Tulip.shade - np.mean(Tulip.shade)"
   ]
  },
  {
   "cell_type": "code",
   "execution_count": 35,
   "metadata": {},
   "outputs": [],
   "source": [
    "with pm.Model() as Bloom:\n",
    "    alpha = pm.Normal(\"alpha\",0,0.2)#alpha prior\n",
    "    beta= pm.Exponential(\"beta\",2, shape = 2)#beta prior\n",
    "    betaWS = pm.Normal(\"betaWS\",0,0.25, )#interation prior\n",
    "    sigma = pm.Exponential(\"sigma\",1)\n",
    "    mu = alpha + beta[0]*Tulip.s_water - beta[1]*Tulip.s_shade + betaWS*Tulip.s_shade.values*Tulip.s_water.values\n",
    "    rev = pm.Normal(\"rev\", mu=mu,sd=sigma,observed=Tulip.s_blooms)\n",
    "    prior_sample = pm.sample_prior_predictive(samples=500)\n",
    "    #first_sample = pm.sample(draws=500, chains=4)\n",
    "    "
   ]
  },
  {
   "cell_type": "code",
   "execution_count": 66,
   "metadata": {},
   "outputs": [
    {
     "data": {
      "text/plain": [
       "0   -1.0\n",
       "1    0.0\n",
       "2    1.0\n",
       "Name: s_shade, dtype: float64"
      ]
     },
     "execution_count": 66,
     "metadata": {},
     "output_type": "execute_result"
    }
   ],
   "source": [
    "Tulip.s_shade.drop_duplicates()"
   ]
  },
  {
   "cell_type": "code",
   "execution_count": 67,
   "metadata": {},
   "outputs": [],
   "source": [
    "#Handy function for plotting the lines\n",
    "def line(alpha,beta1,beta2,beta12):\n",
    "    return lambda x1,x2 : alpha + x1*beta1 - x2*beta2 + x1*x2*beta12"
   ]
  },
  {
   "cell_type": "code",
   "execution_count": 74,
   "metadata": {},
   "outputs": [
    {
     "data": {
      "image/png": "[encoded data removed]",
      "text/plain": [
       "<Figure size 1080x360 with 3 Axes>"
      ]
     },
     "metadata": {
      "needs_background": "light"
     },
     "output_type": "display_data"
    }
   ],
   "source": [
    "fig, axs = plt.subplots(1,3, figsize=(15,5))\n",
    "plt.suptitle(\"The interaction effect\", fontsize=12)\n",
    "\n",
    "for a,b1,b2,b12 in zip(prior_sample[\"alpha\"],prior_sample[\"beta\"][:,0],prior_sample[\"beta\"][:,1],prior_sample[\"betaWS\"]):\n",
    "    axs[0].plot(Tulip.s_water, line(a,b1,b2,b12)(Tulip.s_water,-np.ones(Tulip.shape[0])))\n",
    "    axs[1].plot(Tulip.s_water, line(a,b1,b2,b12)(Tulip.s_water,0))\n",
    "    axs[2].plot(Tulip.s_water, line(a,b1,b2,b12)(Tulip.s_water,np.ones(Tulip.shape[0])))\n",
    "\n",
    "axs[0].set_title(\"Shade = -1\")\n",
    "axs[1].set_title(\"Shade = 0\")\n",
    "axs[2].set_title(\"Shade = 1\")\n",
    "\n",
    "axs[0].set_xlabel(\"Water\")\n",
    "axs[1].set_xlabel(\"Water\")\n",
    "axs[2].set_xlabel(\"Water\")\n",
    "\n",
    "axs[0].set_ylabel(\"Blooms\")\n",
    "axs[1].set_ylabel(\"Blooms\")\n",
    "axs[2].set_ylabel(\"Blooms\")\n",
    "\n",
    "plt.show()"
   ]
  },
  {
   "cell_type": "markdown",
   "metadata": {},
   "source": [
    "It's hard to unravel how impactful the interaction is on the prior as the lines are so scattered. Ofcourse, the prior now prohibits negative relationships between water and blooms and that is reflecteed in the priors. However it's really hard to "
   ]
  },
  {
   "cell_type": "code",
   "execution_count": 76,
   "metadata": {},
   "outputs": [
    {
     "data": {
      "image/png": "[encoded data removed]",
      "text/plain": [
       "<Figure size 432x288 with 1 Axes>"
      ]
     },
     "metadata": {
      "needs_background": "light"
     },
     "output_type": "display_data"
    }
   ],
   "source": [
    "plt.title(\"Beta WS prior\")\n",
    "plt.hist(prior_sample[\"betaWS\"])\n",
    "plt.show()"
   ]
  },
  {
   "cell_type": "markdown",
   "metadata": {},
   "source": [
    "The prior is broadly symmetric. This changes imposed shouldn't mean anything for the interaction prior. Firstly, I didn't change a thing about the model that would impact this explicitly. If you were to think harder about this then would it really change anything? I don't think so"
   ]
  },
  {
   "cell_type": "markdown",
   "metadata": {},
   "source": [
    "8H1. Return to the data(tulips) example in the chapter. Now include the bed variable as a predictor in the interaction model. Don’t interact bed with the other predictors; just include it as a main\n",
    "effect. Note that bed is categorical. So to use it properly, you will need to either construct dummy\n",
    "variables or rather an index variable, as explained in Chapter 5.\n",
    "\n",
    "\n",
    "Answer: pymc3 lets you vectorise the categorical variable parameters quite nicely."
   ]
  },
  {
   "cell_type": "code",
   "execution_count": 4,
   "metadata": {},
   "outputs": [],
   "source": [
    "#map the bed categories to an index\n",
    "ind = Tulip.bed.astype(\"category\").cat.codes"
   ]
  },
  {
   "cell_type": "code",
   "execution_count": 5,
   "metadata": {},
   "outputs": [
    {
     "name": "stderr",
     "output_type": "stream",
     "text": [
      "Auto-assigning NUTS sampler...\n",
      "Initializing NUTS using jitter+adapt_diag...\n",
      "Multiprocess sampling (4 chains in 4 jobs)\n",
      "NUTS: [sigma, betaWS, alpha]\n"
     ]
    },
    {
     "data": {
      "text/html": [
       "\n",
       "    <div>\n",
       "        <style>\n",
       "            /* Turns off some styling */\n",
       "            progress {\n",
       "                /* gets rid of default border in Firefox and Opera. */\n",
       "                border: none;\n",
       "                /* Needs to be in here for Safari polyfill so background images work as expected. */\n",
       "                background-size: auto;\n",
       "            }\n",
       "            .progress-bar-interrupted, .progress-bar-interrupted::-webkit-progress-bar {\n",
       "                background: #F44336;\n",
       "            }\n",
       "        </style>\n",
       "      <progress value='6000' class='' max='6000' style='width:300px; height:20px; vertical-align: middle;'></progress>\n",
       "      100.00% [6000/6000 00:03<00:00 Sampling 4 chains, 0 divergences]\n",
       "    </div>\n",
       "    "
      ],
      "text/plain": [
       "<IPython.core.display.HTML object>"
      ]
     },
     "metadata": {},
     "output_type": "display_data"
    },
    {
     "name": "stderr",
     "output_type": "stream",
     "text": [
      "Sampling 4 chains for 1_000 tune and 500 draw iterations (4_000 + 2_000 draws total) took 5 seconds.\n"
     ]
    }
   ],
   "source": [
    "with pm.Model() as Categorical_Bloom:\n",
    "    alpha = pm.Normal(\"alpha\",0,0.2)#alpha prior\n",
    "    beta = pm.Normal(\"betaWS\",0,0.25,shape = (3,3) )#beta priors\n",
    "    sigma = pm.Exponential(\"sigma\",1)\n",
    "    mu = alpha + beta[0,ind]*Tulip.s_water + beta[1,ind]*Tulip.s_shade + beta[2,ind]*Tulip.s_shade.values*Tulip.s_water.values\n",
    "    rev = pm.Normal(\"rev\", mu=mu,sd=sigma,observed=Tulip.s_blooms)\n",
    "    #prior_sample = pm.sample_prior_predictive(samples=500)\n",
    "    Cat_bloom_sample = pm.sample(draws=500, chains=4)"
   ]
  },
  {
   "cell_type": "markdown",
   "metadata": {},
   "source": [
    "8H2. Use WAIC to compare the model from 8H1 to a model that omits bed. What do you infer\n",
    "from this comparison? Can you reconcile the WAIC results with the posterior distribution of the bed\n",
    "coefficients?"
   ]
  },
  {
   "cell_type": "markdown",
   "metadata": {},
   "source": [
    "Answer: The model below is identical to the interaction model in the chapter"
   ]
  },
  {
   "cell_type": "code",
   "execution_count": 6,
   "metadata": {
    "scrolled": true
   },
   "outputs": [
    {
     "name": "stderr",
     "output_type": "stream",
     "text": [
      "Auto-assigning NUTS sampler...\n",
      "Initializing NUTS using jitter+adapt_diag...\n",
      "Multiprocess sampling (4 chains in 4 jobs)\n",
      "NUTS: [sigma, beta, alpha]\n"
     ]
    },
    {
     "data": {
      "text/html": [
       "\n",
       "    <div>\n",
       "        <style>\n",
       "            /* Turns off some styling */\n",
       "            progress {\n",
       "                /* gets rid of default border in Firefox and Opera. */\n",
       "                border: none;\n",
       "                /* Needs to be in here for Safari polyfill so background images work as expected. */\n",
       "                background-size: auto;\n",
       "            }\n",
       "            .progress-bar-interrupted, .progress-bar-interrupted::-webkit-progress-bar {\n",
       "                background: #F44336;\n",
       "            }\n",
       "        </style>\n",
       "      <progress value='6000' class='' max='6000' style='width:300px; height:20px; vertical-align: middle;'></progress>\n",
       "      100.00% [6000/6000 00:02<00:00 Sampling 4 chains, 0 divergences]\n",
       "    </div>\n",
       "    "
      ],
      "text/plain": [
       "<IPython.core.display.HTML object>"
      ]
     },
     "metadata": {},
     "output_type": "display_data"
    },
    {
     "name": "stderr",
     "output_type": "stream",
     "text": [
      "Sampling 4 chains for 1_000 tune and 500 draw iterations (4_000 + 2_000 draws total) took 3 seconds.\n"
     ]
    }
   ],
   "source": [
    "with pm.Model() as m8_5:\n",
    "    alpha = pm.Normal(\"alpha\",0,0.2)#alpha prior\n",
    "    beta = pm.Normal(\"beta\",0,0.25, shape=3)#interation prior\n",
    "    sigma = pm.Exponential(\"sigma\",1)\n",
    "    mu = alpha + beta[0]*Tulip.s_water + beta[1]*Tulip.s_shade + beta[2]*Tulip.s_shade.values*Tulip.s_water.values\n",
    "    rev = pm.Normal(\"rev\", mu=mu,sd=sigma,observed=Tulip.s_blooms)\n",
    "    #prior_sample = pm.sample_prior_predictive(samples=500)\n",
    "    bloom_sample = pm.sample(draws=500, chains=4)"
   ]
  },
  {
   "cell_type": "code",
   "execution_count": 17,
   "metadata": {},
   "outputs": [
    {
     "name": "stderr",
     "output_type": "stream",
     "text": [
      "/home/aidan/anaconda3/envs/Bayes/lib/python3.8/site-packages/arviz/data/io_pymc3.py:85: FutureWarning: Using `from_pymc3` without the model will be deprecated in a future release. Not using the model will return less accurate and less useful results. Make sure you use the model argument or call from_pymc3 within a model context.\n",
      "  warnings.warn(\n",
      "/home/aidan/anaconda3/envs/Bayes/lib/python3.8/site-packages/arviz/stats/stats.py:1413: UserWarning: For one or more samples the posterior variance of the log predictive densities exceeds 0.4. This could be indication of WAIC starting to fail. \n",
      "See http://arxiv.org/abs/1507.04544 for details\n",
      "  warnings.warn(\n"
     ]
    },
    {
     "data": {
      "text/html": [
       "<div>\n",
       "<style scoped>\n",
       "    .dataframe tbody tr th:only-of-type {\n",
       "        vertical-align: middle;\n",
       "    }\n",
       "\n",
       "    .dataframe tbody tr th {\n",
       "        vertical-align: top;\n",
       "    }\n",
       "\n",
       "    .dataframe thead th {\n",
       "        text-align: right;\n",
       "    }\n",
       "</style>\n",
       "<table border=\"1\" class=\"dataframe\">\n",
       "  <thead>\n",
       "    <tr style=\"text-align: right;\">\n",
       "      <th></th>\n",
       "      <th>rank</th>\n",
       "      <th>waic</th>\n",
       "      <th>p_waic</th>\n",
       "      <th>d_waic</th>\n",
       "      <th>weight</th>\n",
       "      <th>se</th>\n",
       "      <th>dse</th>\n",
       "      <th>warning</th>\n",
       "      <th>waic_scale</th>\n",
       "    </tr>\n",
       "  </thead>\n",
       "  <tbody>\n",
       "    <tr>\n",
       "      <th>m8_5</th>\n",
       "      <td>0</td>\n",
       "      <td>12.289</td>\n",
       "      <td>4.443</td>\n",
       "      <td>0</td>\n",
       "      <td>0.696829</td>\n",
       "      <td>2.92848</td>\n",
       "      <td>0</td>\n",
       "      <td>True</td>\n",
       "      <td>log</td>\n",
       "    </tr>\n",
       "    <tr>\n",
       "      <th>Categorical_Bloom</th>\n",
       "      <td>1</td>\n",
       "      <td>10.967</td>\n",
       "      <td>7.09896</td>\n",
       "      <td>1.32203</td>\n",
       "      <td>0.303171</td>\n",
       "      <td>3.37612</td>\n",
       "      <td>1.86528</td>\n",
       "      <td>True</td>\n",
       "      <td>log</td>\n",
       "    </tr>\n",
       "  </tbody>\n",
       "</table>\n",
       "</div>"
      ],
      "text/plain": [
       "                  rank    waic   p_waic   d_waic    weight       se      dse  \\\n",
       "m8_5                 0  12.289    4.443        0  0.696829  2.92848        0   \n",
       "Categorical_Bloom    1  10.967  7.09896  1.32203  0.303171  3.37612  1.86528   \n",
       "\n",
       "                  warning waic_scale  \n",
       "m8_5                 True        log  \n",
       "Categorical_Bloom    True        log  "
      ]
     },
     "execution_count": 17,
     "metadata": {},
     "output_type": "execute_result"
    }
   ],
   "source": [
    "df_comp_WAIC = pm.compare({'Categorical_Bloom': Cat_bloom_sample, 'm8_5': bloom_sample}, ic=\"WAIC\")\n",
    "df_comp_WAIC"
   ]
  },
  {
   "cell_type": "markdown",
   "metadata": {},
   "source": [
    "The simpler model from the chapter performed better than the one which included the bed categorical variables inside the model."
   ]
  },
  {
   "cell_type": "code",
   "execution_count": 18,
   "metadata": {},
   "outputs": [
    {
     "name": "stderr",
     "output_type": "stream",
     "text": [
      "/home/aidan/anaconda3/envs/Bayes/lib/python3.8/site-packages/arviz/data/io_pymc3.py:85: FutureWarning: Using `from_pymc3` without the model will be deprecated in a future release. Not using the model will return less accurate and less useful results. Make sure you use the model argument or call from_pymc3 within a model context.\n",
      "  warnings.warn(\n"
     ]
    },
    {
     "data": {
      "text/html": [
       "<div>\n",
       "<style scoped>\n",
       "    .dataframe tbody tr th:only-of-type {\n",
       "        vertical-align: middle;\n",
       "    }\n",
       "\n",
       "    .dataframe tbody tr th {\n",
       "        vertical-align: top;\n",
       "    }\n",
       "\n",
       "    .dataframe thead th {\n",
       "        text-align: right;\n",
       "    }\n",
       "</style>\n",
       "<table border=\"1\" class=\"dataframe\">\n",
       "  <thead>\n",
       "    <tr style=\"text-align: right;\">\n",
       "      <th></th>\n",
       "      <th>alpha</th>\n",
       "      <th>beta[0]</th>\n",
       "      <th>beta[1]</th>\n",
       "      <th>beta[2]</th>\n",
       "      <th>sigma</th>\n",
       "    </tr>\n",
       "  </thead>\n",
       "  <tbody>\n",
       "    <tr>\n",
       "      <th>mean</th>\n",
       "      <td>0.350</td>\n",
       "      <td>0.205</td>\n",
       "      <td>-0.113</td>\n",
       "      <td>-0.142</td>\n",
       "      <td>0.144</td>\n",
       "    </tr>\n",
       "    <tr>\n",
       "      <th>sd</th>\n",
       "      <td>0.028</td>\n",
       "      <td>0.034</td>\n",
       "      <td>0.036</td>\n",
       "      <td>0.042</td>\n",
       "      <td>0.023</td>\n",
       "    </tr>\n",
       "    <tr>\n",
       "      <th>hdi_3%</th>\n",
       "      <td>0.301</td>\n",
       "      <td>0.139</td>\n",
       "      <td>-0.184</td>\n",
       "      <td>-0.219</td>\n",
       "      <td>0.102</td>\n",
       "    </tr>\n",
       "    <tr>\n",
       "      <th>hdi_97%</th>\n",
       "      <td>0.407</td>\n",
       "      <td>0.266</td>\n",
       "      <td>-0.047</td>\n",
       "      <td>-0.068</td>\n",
       "      <td>0.185</td>\n",
       "    </tr>\n",
       "    <tr>\n",
       "      <th>mcse_mean</th>\n",
       "      <td>0.001</td>\n",
       "      <td>0.001</td>\n",
       "      <td>0.001</td>\n",
       "      <td>0.001</td>\n",
       "      <td>0.001</td>\n",
       "    </tr>\n",
       "    <tr>\n",
       "      <th>mcse_sd</th>\n",
       "      <td>0.000</td>\n",
       "      <td>0.000</td>\n",
       "      <td>0.000</td>\n",
       "      <td>0.001</td>\n",
       "      <td>0.000</td>\n",
       "    </tr>\n",
       "    <tr>\n",
       "      <th>ess_mean</th>\n",
       "      <td>2511.000</td>\n",
       "      <td>2361.000</td>\n",
       "      <td>2916.000</td>\n",
       "      <td>2246.000</td>\n",
       "      <td>1477.000</td>\n",
       "    </tr>\n",
       "    <tr>\n",
       "      <th>ess_sd</th>\n",
       "      <td>2505.000</td>\n",
       "      <td>2361.000</td>\n",
       "      <td>2916.000</td>\n",
       "      <td>2246.000</td>\n",
       "      <td>1450.000</td>\n",
       "    </tr>\n",
       "    <tr>\n",
       "      <th>ess_bulk</th>\n",
       "      <td>2521.000</td>\n",
       "      <td>2419.000</td>\n",
       "      <td>3011.000</td>\n",
       "      <td>2268.000</td>\n",
       "      <td>1518.000</td>\n",
       "    </tr>\n",
       "    <tr>\n",
       "      <th>ess_tail</th>\n",
       "      <td>1288.000</td>\n",
       "      <td>1395.000</td>\n",
       "      <td>1775.000</td>\n",
       "      <td>1394.000</td>\n",
       "      <td>1393.000</td>\n",
       "    </tr>\n",
       "    <tr>\n",
       "      <th>r_hat</th>\n",
       "      <td>1.000</td>\n",
       "      <td>1.000</td>\n",
       "      <td>1.000</td>\n",
       "      <td>1.000</td>\n",
       "      <td>1.000</td>\n",
       "    </tr>\n",
       "  </tbody>\n",
       "</table>\n",
       "</div>"
      ],
      "text/plain": [
       "              alpha   beta[0]   beta[1]   beta[2]     sigma\n",
       "mean          0.350     0.205    -0.113    -0.142     0.144\n",
       "sd            0.028     0.034     0.036     0.042     0.023\n",
       "hdi_3%        0.301     0.139    -0.184    -0.219     0.102\n",
       "hdi_97%       0.407     0.266    -0.047    -0.068     0.185\n",
       "mcse_mean     0.001     0.001     0.001     0.001     0.001\n",
       "mcse_sd       0.000     0.000     0.000     0.001     0.000\n",
       "ess_mean   2511.000  2361.000  2916.000  2246.000  1477.000\n",
       "ess_sd     2505.000  2361.000  2916.000  2246.000  1450.000\n",
       "ess_bulk   2521.000  2419.000  3011.000  2268.000  1518.000\n",
       "ess_tail   1288.000  1395.000  1775.000  1394.000  1393.000\n",
       "r_hat         1.000     1.000     1.000     1.000     1.000"
      ]
     },
     "execution_count": 18,
     "metadata": {},
     "output_type": "execute_result"
    }
   ],
   "source": [
    "pm.summary(bloom_sample).T"
   ]
  },
  {
   "cell_type": "code",
   "execution_count": 14,
   "metadata": {},
   "outputs": [
    {
     "name": "stderr",
     "output_type": "stream",
     "text": [
      "/home/aidan/anaconda3/envs/Bayes/lib/python3.8/site-packages/arviz/data/io_pymc3.py:85: FutureWarning: Using `from_pymc3` without the model will be deprecated in a future release. Not using the model will return less accurate and less useful results. Make sure you use the model argument or call from_pymc3 within a model context.\n",
      "  warnings.warn(\n"
     ]
    },
    {
     "data": {
      "text/html": [
       "<div>\n",
       "<style scoped>\n",
       "    .dataframe tbody tr th:only-of-type {\n",
       "        vertical-align: middle;\n",
       "    }\n",
       "\n",
       "    .dataframe tbody tr th {\n",
       "        vertical-align: top;\n",
       "    }\n",
       "\n",
       "    .dataframe thead th {\n",
       "        text-align: right;\n",
       "    }\n",
       "</style>\n",
       "<table border=\"1\" class=\"dataframe\">\n",
       "  <thead>\n",
       "    <tr style=\"text-align: right;\">\n",
       "      <th></th>\n",
       "      <th>alpha</th>\n",
       "      <th>betaWS[0,0]</th>\n",
       "      <th>betaWS[0,1]</th>\n",
       "      <th>betaWS[0,2]</th>\n",
       "      <th>betaWS[1,0]</th>\n",
       "      <th>betaWS[1,1]</th>\n",
       "      <th>betaWS[1,2]</th>\n",
       "      <th>betaWS[2,0]</th>\n",
       "      <th>betaWS[2,1]</th>\n",
       "      <th>betaWS[2,2]</th>\n",
       "      <th>sigma</th>\n",
       "    </tr>\n",
       "  </thead>\n",
       "  <tbody>\n",
       "    <tr>\n",
       "      <th>mean</th>\n",
       "      <td>0.350</td>\n",
       "      <td>0.148</td>\n",
       "      <td>0.223</td>\n",
       "      <td>0.229</td>\n",
       "      <td>-0.037</td>\n",
       "      <td>-0.191</td>\n",
       "      <td>-0.099</td>\n",
       "      <td>-0.128</td>\n",
       "      <td>-0.106</td>\n",
       "      <td>-0.173</td>\n",
       "      <td>0.141</td>\n",
       "    </tr>\n",
       "    <tr>\n",
       "      <th>sd</th>\n",
       "      <td>0.026</td>\n",
       "      <td>0.056</td>\n",
       "      <td>0.055</td>\n",
       "      <td>0.059</td>\n",
       "      <td>0.058</td>\n",
       "      <td>0.056</td>\n",
       "      <td>0.056</td>\n",
       "      <td>0.065</td>\n",
       "      <td>0.068</td>\n",
       "      <td>0.067</td>\n",
       "      <td>0.025</td>\n",
       "    </tr>\n",
       "    <tr>\n",
       "      <th>hdi_3%</th>\n",
       "      <td>0.300</td>\n",
       "      <td>0.037</td>\n",
       "      <td>0.120</td>\n",
       "      <td>0.112</td>\n",
       "      <td>-0.139</td>\n",
       "      <td>-0.298</td>\n",
       "      <td>-0.206</td>\n",
       "      <td>-0.249</td>\n",
       "      <td>-0.230</td>\n",
       "      <td>-0.304</td>\n",
       "      <td>0.100</td>\n",
       "    </tr>\n",
       "    <tr>\n",
       "      <th>hdi_97%</th>\n",
       "      <td>0.400</td>\n",
       "      <td>0.242</td>\n",
       "      <td>0.325</td>\n",
       "      <td>0.335</td>\n",
       "      <td>0.074</td>\n",
       "      <td>-0.088</td>\n",
       "      <td>0.004</td>\n",
       "      <td>-0.001</td>\n",
       "      <td>0.022</td>\n",
       "      <td>-0.054</td>\n",
       "      <td>0.189</td>\n",
       "    </tr>\n",
       "    <tr>\n",
       "      <th>mcse_mean</th>\n",
       "      <td>0.000</td>\n",
       "      <td>0.001</td>\n",
       "      <td>0.001</td>\n",
       "      <td>0.001</td>\n",
       "      <td>0.001</td>\n",
       "      <td>0.001</td>\n",
       "      <td>0.001</td>\n",
       "      <td>0.001</td>\n",
       "      <td>0.001</td>\n",
       "      <td>0.001</td>\n",
       "      <td>0.001</td>\n",
       "    </tr>\n",
       "    <tr>\n",
       "      <th>mcse_sd</th>\n",
       "      <td>0.000</td>\n",
       "      <td>0.001</td>\n",
       "      <td>0.001</td>\n",
       "      <td>0.001</td>\n",
       "      <td>0.001</td>\n",
       "      <td>0.001</td>\n",
       "      <td>0.001</td>\n",
       "      <td>0.001</td>\n",
       "      <td>0.001</td>\n",
       "      <td>0.001</td>\n",
       "      <td>0.001</td>\n",
       "    </tr>\n",
       "    <tr>\n",
       "      <th>ess_mean</th>\n",
       "      <td>3260.000</td>\n",
       "      <td>2459.000</td>\n",
       "      <td>2996.000</td>\n",
       "      <td>2756.000</td>\n",
       "      <td>2679.000</td>\n",
       "      <td>2260.000</td>\n",
       "      <td>3004.000</td>\n",
       "      <td>3403.000</td>\n",
       "      <td>2684.000</td>\n",
       "      <td>2693.000</td>\n",
       "      <td>1139.000</td>\n",
       "    </tr>\n",
       "    <tr>\n",
       "      <th>ess_sd</th>\n",
       "      <td>3260.000</td>\n",
       "      <td>2170.000</td>\n",
       "      <td>2937.000</td>\n",
       "      <td>2562.000</td>\n",
       "      <td>1435.000</td>\n",
       "      <td>2084.000</td>\n",
       "      <td>2259.000</td>\n",
       "      <td>2877.000</td>\n",
       "      <td>2012.000</td>\n",
       "      <td>2485.000</td>\n",
       "      <td>1139.000</td>\n",
       "    </tr>\n",
       "    <tr>\n",
       "      <th>ess_bulk</th>\n",
       "      <td>3373.000</td>\n",
       "      <td>2409.000</td>\n",
       "      <td>3038.000</td>\n",
       "      <td>2817.000</td>\n",
       "      <td>2688.000</td>\n",
       "      <td>2252.000</td>\n",
       "      <td>3031.000</td>\n",
       "      <td>3381.000</td>\n",
       "      <td>2694.000</td>\n",
       "      <td>2683.000</td>\n",
       "      <td>1052.000</td>\n",
       "    </tr>\n",
       "    <tr>\n",
       "      <th>ess_tail</th>\n",
       "      <td>1218.000</td>\n",
       "      <td>1428.000</td>\n",
       "      <td>1680.000</td>\n",
       "      <td>1361.000</td>\n",
       "      <td>1339.000</td>\n",
       "      <td>1546.000</td>\n",
       "      <td>1273.000</td>\n",
       "      <td>1596.000</td>\n",
       "      <td>1460.000</td>\n",
       "      <td>1635.000</td>\n",
       "      <td>1158.000</td>\n",
       "    </tr>\n",
       "    <tr>\n",
       "      <th>r_hat</th>\n",
       "      <td>1.010</td>\n",
       "      <td>1.010</td>\n",
       "      <td>1.000</td>\n",
       "      <td>1.000</td>\n",
       "      <td>1.000</td>\n",
       "      <td>1.000</td>\n",
       "      <td>1.000</td>\n",
       "      <td>1.000</td>\n",
       "      <td>1.000</td>\n",
       "      <td>1.000</td>\n",
       "      <td>1.000</td>\n",
       "    </tr>\n",
       "  </tbody>\n",
       "</table>\n",
       "</div>"
      ],
      "text/plain": [
       "              alpha  betaWS[0,0]  betaWS[0,1]  betaWS[0,2]  betaWS[1,0]  \\\n",
       "mean          0.350        0.148        0.223        0.229       -0.037   \n",
       "sd            0.026        0.056        0.055        0.059        0.058   \n",
       "hdi_3%        0.300        0.037        0.120        0.112       -0.139   \n",
       "hdi_97%       0.400        0.242        0.325        0.335        0.074   \n",
       "mcse_mean     0.000        0.001        0.001        0.001        0.001   \n",
       "mcse_sd       0.000        0.001        0.001        0.001        0.001   \n",
       "ess_mean   3260.000     2459.000     2996.000     2756.000     2679.000   \n",
       "ess_sd     3260.000     2170.000     2937.000     2562.000     1435.000   \n",
       "ess_bulk   3373.000     2409.000     3038.000     2817.000     2688.000   \n",
       "ess_tail   1218.000     1428.000     1680.000     1361.000     1339.000   \n",
       "r_hat         1.010        1.010        1.000        1.000        1.000   \n",
       "\n",
       "           betaWS[1,1]  betaWS[1,2]  betaWS[2,0]  betaWS[2,1]  betaWS[2,2]  \\\n",
       "mean            -0.191       -0.099       -0.128       -0.106       -0.173   \n",
       "sd               0.056        0.056        0.065        0.068        0.067   \n",
       "hdi_3%          -0.298       -0.206       -0.249       -0.230       -0.304   \n",
       "hdi_97%         -0.088        0.004       -0.001        0.022       -0.054   \n",
       "mcse_mean        0.001        0.001        0.001        0.001        0.001   \n",
       "mcse_sd          0.001        0.001        0.001        0.001        0.001   \n",
       "ess_mean      2260.000     3004.000     3403.000     2684.000     2693.000   \n",
       "ess_sd        2084.000     2259.000     2877.000     2012.000     2485.000   \n",
       "ess_bulk      2252.000     3031.000     3381.000     2694.000     2683.000   \n",
       "ess_tail      1546.000     1273.000     1596.000     1460.000     1635.000   \n",
       "r_hat            1.000        1.000        1.000        1.000        1.000   \n",
       "\n",
       "              sigma  \n",
       "mean          0.141  \n",
       "sd            0.025  \n",
       "hdi_3%        0.100  \n",
       "hdi_97%       0.189  \n",
       "mcse_mean     0.001  \n",
       "mcse_sd       0.001  \n",
       "ess_mean   1139.000  \n",
       "ess_sd     1139.000  \n",
       "ess_bulk   1052.000  \n",
       "ess_tail   1158.000  \n",
       "r_hat         1.000  "
      ]
     },
     "execution_count": 14,
     "metadata": {},
     "output_type": "execute_result"
    }
   ],
   "source": [
    "#inspect the bed model posterior\n",
    "pm.summary(Cat_bloom_sample).T"
   ]
  },
  {
   "cell_type": "markdown",
   "metadata": {},
   "source": [
    "Introducing indexed effect sizes for each bed category introduces a lot of variables, which estimates of predictive accuracy penalise. This penality is overcome if there's a lot of gained predictive power coming out of the additional variables. Looking at the posterior summary for the bed variables however indicates that many of the additional parameters are consistent with being close to having zero predictive acurracy. Thus using the bed model seems to introduce further uncertainty into our model without the compensatory increase in predictive power."
   ]
  },
  {
   "cell_type": "markdown",
   "metadata": {},
   "source": [
    "8H3. Consider again the data(rugged) data on economic development and terrain ruggedness,\n",
    "examined in this chapter. One of the African countries in that example, Seychelles, is far outside\n",
    "the cloud of other nations, being a rare country with both relatively high GDP and high ruggedness.\n",
    "Seychelles is also unusual, in that it is a group of islands far from the coast of mainland Africa, and\n",
    "its main economic activity is tourism.\n",
    "\n",
    "(a) Focus on model m8.5 from the chapter. Use WAIC pointwise penalties and PSIS Pareto k\n",
    "values to measure relative influence of each country. By these criteria, is Seychelles influencing the\n",
    "results? Are there other nations that are relatively influential? If so, can you explain why?\n",
    "\n",
    "(b) Now use robust regression, as described in the previous chapter. Modify m8.5 to use a\n",
    "Student-t distribution with ν = 2. Does this change the results in a substantial way?"
   ]
  },
  {
   "cell_type": "markdown",
   "metadata": {},
   "source": [
    "Answer: \n",
    "\n",
    "He says m8.5 in the book. I think he must mean m8.3, as m8.5 is the tulip model, whilst m8.3 is for the country data, where the model uses different slopes and intercepts depending upon whether you are inside or outside of Africa - $\\mu_i = \\alpha_{CID[i]} + \\beta_{CID[i]}(r_i-\\bar{r})$ - CID[i] being the categorical indicator variable."
   ]
  },
  {
   "cell_type": "code",
   "execution_count": 53,
   "metadata": {},
   "outputs": [],
   "source": [
    "Rugged = pd.read_csv(\"./data/rugged.csv\", delimiter=\";\")"
   ]
  },
  {
   "cell_type": "code",
   "execution_count": 60,
   "metadata": {},
   "outputs": [
    {
     "data": {
      "text/plain": [
       "(234, 51)"
      ]
     },
     "execution_count": 60,
     "metadata": {},
     "output_type": "execute_result"
    }
   ],
   "source": [
    "#pre shape check\n",
    "Rugged.shape"
   ]
  },
  {
   "cell_type": "code",
   "execution_count": 58,
   "metadata": {},
   "outputs": [],
   "source": [
    "#get the complete cases \n",
    "Complete = Rugged.dropna(axis=0, subset=[\"rgdppc_2000\"])"
   ]
  },
  {
   "cell_type": "code",
   "execution_count": 62,
   "metadata": {},
   "outputs": [
    {
     "data": {
      "text/plain": [
       "(170, 51)"
      ]
     },
     "execution_count": 62,
     "metadata": {},
     "output_type": "execute_result"
    }
   ],
   "source": [
    "#compare shape after dropping the Nans\n",
    "Complete.shape"
   ]
  },
  {
   "cell_type": "code",
   "execution_count": 66,
   "metadata": {
    "scrolled": false
   },
   "outputs": [
    {
     "name": "stderr",
     "output_type": "stream",
     "text": [
      "<ipython-input-66-48819bad8701>:2: SettingWithCopyWarning: \n",
      "A value is trying to be set on a copy of a slice from a DataFrame.\n",
      "Try using .loc[row_indexer,col_indexer] = value instead\n",
      "\n",
      "See the caveats in the documentation: https://pandas.pydata.org/pandas-docs/stable/user_guide/indexing.html#returning-a-view-versus-a-copy\n",
      "  Complete[\"log_gdp\"] = np.log(Complete[\"rgdppc_2000\"])\n",
      "<ipython-input-66-48819bad8701>:3: SettingWithCopyWarning: \n",
      "A value is trying to be set on a copy of a slice from a DataFrame.\n",
      "Try using .loc[row_indexer,col_indexer] = value instead\n",
      "\n",
      "See the caveats in the documentation: https://pandas.pydata.org/pandas-docs/stable/user_guide/indexing.html#returning-a-view-versus-a-copy\n",
      "  Complete[\"s_log_gdp\"] = Complete[\"log_gdp\"]/np.mean(Complete[\"log_gdp\"])\n",
      "<ipython-input-66-48819bad8701>:4: SettingWithCopyWarning: \n",
      "A value is trying to be set on a copy of a slice from a DataFrame.\n",
      "Try using .loc[row_indexer,col_indexer] = value instead\n",
      "\n",
      "See the caveats in the documentation: https://pandas.pydata.org/pandas-docs/stable/user_guide/indexing.html#returning-a-view-versus-a-copy\n",
      "  Complete[\"s_rugged\"] = Complete[\"rugged\"]/np.max(Complete[\"rugged\"])\n"
     ]
    }
   ],
   "source": [
    "#lets standardise the variables like how he does in the book\n",
    "Complete[\"log_gdp\"] = np.log(Complete[\"rgdppc_2000\"])\n",
    "Complete[\"s_log_gdp\"] = Complete[\"log_gdp\"]/np.mean(Complete[\"log_gdp\"])\n",
    "Complete[\"s_rugged\"] = Complete[\"rugged\"]/np.max(Complete[\"rugged\"])"
   ]
  },
  {
   "cell_type": "markdown",
   "metadata": {},
   "source": [
    "Now we've standardised the data, let's reimplement model m8.3, the interaction model from the book."
   ]
  },
  {
   "cell_type": "code",
   "execution_count": 324,
   "metadata": {},
   "outputs": [
    {
     "name": "stderr",
     "output_type": "stream",
     "text": [
      "Only 250 samples in chain.\n",
      "Auto-assigning NUTS sampler...\n",
      "Initializing NUTS using jitter+adapt_diag...\n",
      "Multiprocess sampling (4 chains in 4 jobs)\n",
      "NUTS: [sigma, beta, alpha]\n"
     ]
    },
    {
     "data": {
      "text/html": [
       "\n",
       "    <div>\n",
       "        <style>\n",
       "            /* Turns off some styling */\n",
       "            progress {\n",
       "                /* gets rid of default border in Firefox and Opera. */\n",
       "                border: none;\n",
       "                /* Needs to be in here for Safari polyfill so background images work as expected. */\n",
       "                background-size: auto;\n",
       "            }\n",
       "            .progress-bar-interrupted, .progress-bar-interrupted::-webkit-progress-bar {\n",
       "                background: #F44336;\n",
       "            }\n",
       "        </style>\n",
       "      <progress value='5000' class='' max='5000' style='width:300px; height:20px; vertical-align: middle;'></progress>\n",
       "      100.00% [5000/5000 00:02<00:00 Sampling 4 chains, 0 divergences]\n",
       "    </div>\n",
       "    "
      ],
      "text/plain": [
       "<IPython.core.display.HTML object>"
      ]
     },
     "metadata": {},
     "output_type": "display_data"
    },
    {
     "name": "stderr",
     "output_type": "stream",
     "text": [
      "Sampling 4 chains for 1_000 tune and 250 draw iterations (4_000 + 1_000 draws total) took 3 seconds.\n",
      "/home/aidan/anaconda3/envs/Bayes/lib/python3.8/site-packages/pymc3/sampling.py:1707: UserWarning: samples parameter is smaller than nchains times ndraws, some draws and/or chains may not be represented in the returned posterior predictive sample\n",
      "  warnings.warn(\n"
     ]
    },
    {
     "data": {
      "text/html": [
       "\n",
       "    <div>\n",
       "        <style>\n",
       "            /* Turns off some styling */\n",
       "            progress {\n",
       "                /* gets rid of default border in Firefox and Opera. */\n",
       "                border: none;\n",
       "                /* Needs to be in here for Safari polyfill so background images work as expected. */\n",
       "                background-size: auto;\n",
       "            }\n",
       "            .progress-bar-interrupted, .progress-bar-interrupted::-webkit-progress-bar {\n",
       "                background: #F44336;\n",
       "            }\n",
       "        </style>\n",
       "      <progress value='100' class='' max='100' style='width:300px; height:20px; vertical-align: middle;'></progress>\n",
       "      100.00% [100/100 00:00<00:00]\n",
       "    </div>\n",
       "    "
      ],
      "text/plain": [
       "<IPython.core.display.HTML object>"
      ]
     },
     "metadata": {},
     "output_type": "display_data"
    }
   ],
   "source": [
    "with pm.Model() as m8_3:\n",
    "    alpha = pm.Normal(\"alpha\", 1,0.1, shape = 2)#alpha prior\n",
    "    beta = pm.Normal(\"beta\", 1,0.3, shape = 2)#beta prior\n",
    "    sigma = pm.Exponential(\"sigma\", 1)\n",
    "    mu = alpha[Complete.cont_africa] + beta[Complete.cont_africa]*(Complete.s_rugged - 0.215)\n",
    "    l_gdp = pm.Normal(\"l_gdp\", mu=mu, sd= sigma, observed=Complete.s_log_gdp)\n",
    "    m8_3_samples = pm.sample(draws= 250, chains = 4)\n",
    "    m8_3_post_samples = pm.sample_posterior_predictive(trace = m8_3_samples,samples= 100)"
   ]
  },
  {
   "cell_type": "code",
   "execution_count": 239,
   "metadata": {},
   "outputs": [
    {
     "name": "stderr",
     "output_type": "stream",
     "text": [
      "/home/aidan/anaconda3/envs/Bayes/lib/python3.8/site-packages/arviz/data/io_pymc3.py:85: FutureWarning: Using `from_pymc3` without the model will be deprecated in a future release. Not using the model will return less accurate and less useful results. Make sure you use the model argument or call from_pymc3 within a model context.\n",
      "  warnings.warn(\n"
     ]
    },
    {
     "data": {
      "text/html": [
       "<div>\n",
       "<style scoped>\n",
       "    .dataframe tbody tr th:only-of-type {\n",
       "        vertical-align: middle;\n",
       "    }\n",
       "\n",
       "    .dataframe tbody tr th {\n",
       "        vertical-align: top;\n",
       "    }\n",
       "\n",
       "    .dataframe thead th {\n",
       "        text-align: right;\n",
       "    }\n",
       "</style>\n",
       "<table border=\"1\" class=\"dataframe\">\n",
       "  <thead>\n",
       "    <tr style=\"text-align: right;\">\n",
       "      <th></th>\n",
       "      <th>mean</th>\n",
       "      <th>sd</th>\n",
       "      <th>hdi_3%</th>\n",
       "      <th>hdi_97%</th>\n",
       "      <th>mcse_mean</th>\n",
       "      <th>mcse_sd</th>\n",
       "      <th>ess_mean</th>\n",
       "      <th>ess_sd</th>\n",
       "      <th>ess_bulk</th>\n",
       "      <th>ess_tail</th>\n",
       "      <th>r_hat</th>\n",
       "    </tr>\n",
       "  </thead>\n",
       "  <tbody>\n",
       "    <tr>\n",
       "      <th>alpha[0]</th>\n",
       "      <td>1.050</td>\n",
       "      <td>0.010</td>\n",
       "      <td>1.032</td>\n",
       "      <td>1.069</td>\n",
       "      <td>0.000</td>\n",
       "      <td>0.000</td>\n",
       "      <td>1359.0</td>\n",
       "      <td>1359.0</td>\n",
       "      <td>1359.0</td>\n",
       "      <td>836.0</td>\n",
       "      <td>1.00</td>\n",
       "    </tr>\n",
       "    <tr>\n",
       "      <th>alpha[1]</th>\n",
       "      <td>0.888</td>\n",
       "      <td>0.016</td>\n",
       "      <td>0.860</td>\n",
       "      <td>0.920</td>\n",
       "      <td>0.000</td>\n",
       "      <td>0.000</td>\n",
       "      <td>1418.0</td>\n",
       "      <td>1407.0</td>\n",
       "      <td>1417.0</td>\n",
       "      <td>862.0</td>\n",
       "      <td>1.00</td>\n",
       "    </tr>\n",
       "    <tr>\n",
       "      <th>beta[0]</th>\n",
       "      <td>-0.108</td>\n",
       "      <td>0.055</td>\n",
       "      <td>-0.210</td>\n",
       "      <td>-0.004</td>\n",
       "      <td>0.001</td>\n",
       "      <td>0.001</td>\n",
       "      <td>1928.0</td>\n",
       "      <td>1544.0</td>\n",
       "      <td>1896.0</td>\n",
       "      <td>806.0</td>\n",
       "      <td>1.01</td>\n",
       "    </tr>\n",
       "    <tr>\n",
       "      <th>beta[1]</th>\n",
       "      <td>0.197</td>\n",
       "      <td>0.076</td>\n",
       "      <td>0.034</td>\n",
       "      <td>0.322</td>\n",
       "      <td>0.002</td>\n",
       "      <td>0.002</td>\n",
       "      <td>1501.0</td>\n",
       "      <td>1250.0</td>\n",
       "      <td>1513.0</td>\n",
       "      <td>760.0</td>\n",
       "      <td>1.00</td>\n",
       "    </tr>\n",
       "    <tr>\n",
       "      <th>sigma</th>\n",
       "      <td>0.112</td>\n",
       "      <td>0.006</td>\n",
       "      <td>0.101</td>\n",
       "      <td>0.124</td>\n",
       "      <td>0.000</td>\n",
       "      <td>0.000</td>\n",
       "      <td>1737.0</td>\n",
       "      <td>1720.0</td>\n",
       "      <td>1738.0</td>\n",
       "      <td>949.0</td>\n",
       "      <td>1.00</td>\n",
       "    </tr>\n",
       "  </tbody>\n",
       "</table>\n",
       "</div>"
      ],
      "text/plain": [
       "           mean     sd  hdi_3%  hdi_97%  mcse_mean  mcse_sd  ess_mean  ess_sd  \\\n",
       "alpha[0]  1.050  0.010   1.032    1.069      0.000    0.000    1359.0  1359.0   \n",
       "alpha[1]  0.888  0.016   0.860    0.920      0.000    0.000    1418.0  1407.0   \n",
       "beta[0]  -0.108  0.055  -0.210   -0.004      0.001    0.001    1928.0  1544.0   \n",
       "beta[1]   0.197  0.076   0.034    0.322      0.002    0.002    1501.0  1250.0   \n",
       "sigma     0.112  0.006   0.101    0.124      0.000    0.000    1737.0  1720.0   \n",
       "\n",
       "          ess_bulk  ess_tail  r_hat  \n",
       "alpha[0]    1359.0     836.0   1.00  \n",
       "alpha[1]    1417.0     862.0   1.00  \n",
       "beta[0]     1896.0     806.0   1.01  \n",
       "beta[1]     1513.0     760.0   1.00  \n",
       "sigma       1738.0     949.0   1.00  "
      ]
     },
     "execution_count": 239,
     "metadata": {},
     "output_type": "execute_result"
    }
   ],
   "source": [
    "pm.summary(m8_3_samples)"
   ]
  },
  {
   "cell_type": "markdown",
   "metadata": {},
   "source": [
    "The parameter means and standard deviations match well with those given in the book (though the indices are exchanged)."
   ]
  },
  {
   "cell_type": "markdown",
   "metadata": {},
   "source": [
    "We have our model, so let's plot it. First let's check the model implemented above reproduces what was done in the book."
   ]
  },
  {
   "cell_type": "code",
   "execution_count": 275,
   "metadata": {},
   "outputs": [
    {
     "name": "stderr",
     "output_type": "stream",
     "text": [
      "/home/aidan/anaconda3/envs/Bayes/lib/python3.8/site-packages/arviz/stats/stats.py:483: FutureWarning: hdi currently interprets 2d data as (draw, shape) but this will change in a future release to (chain, draw) for coherence with other functions\n",
      "  warnings.warn(\n",
      "/home/aidan/anaconda3/envs/Bayes/lib/python3.8/site-packages/arviz/stats/stats.py:483: FutureWarning: hdi currently interprets 2d data as (draw, shape) but this will change in a future release to (chain, draw) for coherence with other functions\n",
      "  warnings.warn(\n"
     ]
    },
    {
     "data": {
      "image/png": "[encoded data removed]",
      "text/plain": [
       "<Figure size 1080x504 with 2 Axes>"
      ]
     },
     "metadata": {
      "needs_background": "light"
     },
     "output_type": "display_data"
    }
   ],
   "source": [
    "fig, axs = plt.subplots(1,2,figsize=(15,7))\n",
    "\n",
    "fig.suptitle(\"Posterior density plots\", fontsize=15)\n",
    "\n",
    "x = np.linspace(0,1)\n",
    "\n",
    "sns.scatterplot(x=\"s_rugged\", y=\"s_log_gdp\", data=Complete[Complete.cont_africa==1], ax=axs[0])\n",
    "#get the average posterior\n",
    "mu1 = m8_3_samples[\"alpha\"][:,1] + np.outer(x-0.215,m8_3_samples[\"beta\"][:,1])\n",
    "axs[0].plot(x, np.mean(mu1,axis=1))\n",
    "az.plot_hpd(\n",
    "    x,\n",
    "    mu1.T,\n",
    "    ax=axs[0],\n",
    "    fill_kwargs={\"alpha\": 0.8, \"label\": \"Mean outcome 94% HPD\"},\n",
    ")\n",
    "axs[0].set_title(\"African nations\")\n",
    "\n",
    "\n",
    "sns.scatterplot(x=\"s_rugged\", y=\"s_log_gdp\", data=Complete[Complete.cont_africa==0], ax=axs[1])\n",
    "mu2 = m8_3_samples[\"alpha\"][:,0] + np.outer(x-0.215,m8_3_samples[\"beta\"][:,0])\n",
    "axs[1].plot(x, np.mean(mu2,axis=1))\n",
    "az.plot_hpd(\n",
    "    x,\n",
    "    mu2.T,\n",
    "    ax=axs[1],\n",
    "    fill_kwargs={\"alpha\": 0.8, \"label\": \"Mean outcome 94% HPD\"},\n",
    ")\n",
    "axs[1].set_title(\"Other nations\")\n",
    "\n",
    "plt.show()"
   ]
  },
  {
   "cell_type": "code",
   "execution_count": 277,
   "metadata": {},
   "outputs": [
    {
     "name": "stderr",
     "output_type": "stream",
     "text": [
      "/home/aidan/anaconda3/envs/Bayes/lib/python3.8/site-packages/arviz/data/io_pymc3.py:85: FutureWarning: Using `from_pymc3` without the model will be deprecated in a future release. Not using the model will return less accurate and less useful results. Make sure you use the model argument or call from_pymc3 within a model context.\n",
      "  warnings.warn(\n",
      "/home/aidan/anaconda3/envs/Bayes/lib/python3.8/site-packages/arviz/stats/stats.py:1413: UserWarning: For one or more samples the posterior variance of the log predictive densities exceeds 0.4. This could be indication of WAIC starting to fail. \n",
      "See http://arxiv.org/abs/1507.04544 for details\n",
      "  warnings.warn(\n"
     ]
    }
   ],
   "source": [
    "#compute the waic and psis on the deviance scale\n",
    "m8_3_waic = az.waic(m8_3_samples, pointwise=True, scale=\"deviance\")\n",
    "m8_3_LOO = az.loo(m8_3_samples, pointwise=True, scale=\"deviance\")"
   ]
  },
  {
   "cell_type": "code",
   "execution_count": 283,
   "metadata": {},
   "outputs": [],
   "source": [
    "#get the pointwise values for these distributions\n",
    "pareto_k = m8_3_LOO.pareto_k.values"
   ]
  },
  {
   "cell_type": "code",
   "execution_count": 290,
   "metadata": {},
   "outputs": [
    {
     "data": {
      "text/plain": [
       "0.6600385219580095"
      ]
     },
     "execution_count": 290,
     "metadata": {},
     "output_type": "execute_result"
    }
   ],
   "source": [
    "pareto_k.max()"
   ]
  },
  {
   "cell_type": "code",
   "execution_count": 313,
   "metadata": {},
   "outputs": [],
   "source": [
    "#get the places with the biggish pareto_k values\n",
    "big = Complete[pareto_k >= 0.5]"
   ]
  },
  {
   "cell_type": "code",
   "execution_count": 314,
   "metadata": {},
   "outputs": [
    {
     "name": "stderr",
     "output_type": "stream",
     "text": [
      "/home/aidan/anaconda3/envs/Bayes/lib/python3.8/site-packages/arviz/stats/stats.py:483: FutureWarning: hdi currently interprets 2d data as (draw, shape) but this will change in a future release to (chain, draw) for coherence with other functions\n",
      "  warnings.warn(\n",
      "/home/aidan/anaconda3/envs/Bayes/lib/python3.8/site-packages/arviz/stats/stats.py:483: FutureWarning: hdi currently interprets 2d data as (draw, shape) but this will change in a future release to (chain, draw) for coherence with other functions\n",
      "  warnings.warn(\n"
     ]
    },
    {
     "data": {
      "image/png": "[encoded data removed]",
      "text/plain": [
       "<Figure size 1080x504 with 2 Axes>"
      ]
     },
     "metadata": {
      "needs_background": "light"
     },
     "output_type": "display_data"
    }
   ],
   "source": [
    "#Plot the posterior predictive intervals on the data\n",
    "\n",
    "\n",
    "fig, axs = plt.subplots(1,2,figsize=(15,7))\n",
    "\n",
    "fig.suptitle(\"Posterior predictive plots\", fontsize=15)\n",
    "\n",
    "x = Complete.s_rugged.values\n",
    "\n",
    "sns.scatterplot(x=\"s_rugged\", y=\"s_log_gdp\", data=Complete[Complete.cont_africa==1], ax=axs[0])\n",
    "#get the average posterior\n",
    "mu1 = m8_3_samples[\"alpha\"][:,1] + np.outer(x-0.215,m8_3_samples[\"beta\"][:,1])\n",
    "axs[0].plot(x, np.mean(mu1,axis=1))\n",
    "az.plot_hpd(\n",
    "    Complete[Complete.cont_africa==1].s_rugged,\n",
    "    m8_3_post_samples[\"l_gdp\"].T[Complete.cont_africa==1].T,\n",
    "    ax=axs[0],\n",
    "    fill_kwargs={\"alpha\": 0.5, \"label\": \"Predictive 94% interval\"},\n",
    ")\n",
    "axs[0].set_title(\"African nations\")\n",
    "for i in big[big.cont_africa == 1].country.values:\n",
    "    axs[0].scatter(big[big.country==i].s_rugged,big[big.country==i].s_log_gdp,label=i)\n",
    "axs[0].legend()\n",
    "\n",
    "\n",
    "sns.scatterplot(x=\"s_rugged\", y=\"s_log_gdp\", data=Complete[Complete.cont_africa==0], ax=axs[1])\n",
    "x = Complete[Complete.cont_africa==0].s_rugged\n",
    "mu2 = m8_3_samples[\"alpha\"][:,0] + np.outer(x-0.215,m8_3_samples[\"beta\"][:,0])\n",
    "axs[1].plot(x, np.mean(mu2,axis=1))\n",
    "az.plot_hpd(\n",
    "    Complete[Complete.cont_africa==0].s_rugged,\n",
    "    m8_3_post_samples[\"l_gdp\"].T[Complete.cont_africa==0].T,\n",
    "    ax=axs[1],\n",
    "    fill_kwargs={\"alpha\": 0.5, \"label\": \"Mean outcome 94% HPD\"},\n",
    ")\n",
    "axs[1].set_title(\"Other nations\")\n",
    "\n",
    "plt.show()"
   ]
  },
  {
   "cell_type": "markdown",
   "metadata": {},
   "source": [
    "The highest pareto k value occurs for Lesotho. At first glance, this may seem fairly surprising as it appears fairly closer to the mean than the point immediately to the left of it. However, the PSIS is averaged over the posterior, and the posterior is much broader for Letsotho than other points, as the sparsity of data means the typical log likelihood of this particular value will be quite small. But we don't have much data around this point, meaning we don't have a good out of sample estimate for points like Lesotho as it's so far away from the bulk of our data points, limiting our predictive power here."
   ]
  },
  {
   "cell_type": "markdown",
   "metadata": {},
   "source": [
    "Answer to b):"
   ]
  },
  {
   "cell_type": "code",
   "execution_count": 316,
   "metadata": {},
   "outputs": [
    {
     "name": "stderr",
     "output_type": "stream",
     "text": [
      "Only 250 samples in chain.\n",
      "Auto-assigning NUTS sampler...\n",
      "Initializing NUTS using jitter+adapt_diag...\n",
      "Multiprocess sampling (4 chains in 4 jobs)\n",
      "NUTS: [sigma, beta, alpha]\n"
     ]
    },
    {
     "data": {
      "text/html": [
       "\n",
       "    <div>\n",
       "        <style>\n",
       "            /* Turns off some styling */\n",
       "            progress {\n",
       "                /* gets rid of default border in Firefox and Opera. */\n",
       "                border: none;\n",
       "                /* Needs to be in here for Safari polyfill so background images work as expected. */\n",
       "                background-size: auto;\n",
       "            }\n",
       "            .progress-bar-interrupted, .progress-bar-interrupted::-webkit-progress-bar {\n",
       "                background: #F44336;\n",
       "            }\n",
       "        </style>\n",
       "      <progress value='5000' class='' max='5000' style='width:300px; height:20px; vertical-align: middle;'></progress>\n",
       "      100.00% [5000/5000 00:02<00:00 Sampling 4 chains, 0 divergences]\n",
       "    </div>\n",
       "    "
      ],
      "text/plain": [
       "<IPython.core.display.HTML object>"
      ]
     },
     "metadata": {},
     "output_type": "display_data"
    },
    {
     "name": "stderr",
     "output_type": "stream",
     "text": [
      "Sampling 4 chains for 1_000 tune and 250 draw iterations (4_000 + 1_000 draws total) took 3 seconds.\n",
      "/home/aidan/anaconda3/envs/Bayes/lib/python3.8/site-packages/pymc3/sampling.py:1707: UserWarning: samples parameter is smaller than nchains times ndraws, some draws and/or chains may not be represented in the returned posterior predictive sample\n",
      "  warnings.warn(\n"
     ]
    },
    {
     "data": {
      "text/html": [
       "\n",
       "    <div>\n",
       "        <style>\n",
       "            /* Turns off some styling */\n",
       "            progress {\n",
       "                /* gets rid of default border in Firefox and Opera. */\n",
       "                border: none;\n",
       "                /* Needs to be in here for Safari polyfill so background images work as expected. */\n",
       "                background-size: auto;\n",
       "            }\n",
       "            .progress-bar-interrupted, .progress-bar-interrupted::-webkit-progress-bar {\n",
       "                background: #F44336;\n",
       "            }\n",
       "        </style>\n",
       "      <progress value='100' class='' max='100' style='width:300px; height:20px; vertical-align: middle;'></progress>\n",
       "      100.00% [100/100 00:00<00:00]\n",
       "    </div>\n",
       "    "
      ],
      "text/plain": [
       "<IPython.core.display.HTML object>"
      ]
     },
     "metadata": {},
     "output_type": "display_data"
    }
   ],
   "source": [
    "with pm.Model() as Robust_m8_3:\n",
    "    alpha = pm.Normal(\"alpha\", 1,0.1, shape = 2)#alpha prior\n",
    "    beta = pm.Normal(\"beta\", 1,0.3, shape = 2)#beta prior\n",
    "    sigma = pm.Exponential(\"sigma\", 1)\n",
    "    mu = alpha[Complete.cont_africa] + beta[Complete.cont_africa]*(Complete.s_rugged - 0.215)\n",
    "    l_gdp = pm.StudentT(\"l_gdp\", nu =2,mu=mu, sd= sigma, observed=Complete.s_log_gdp)\n",
    "    Robust_m8_3_samples = pm.sample(draws= 250, chains = 4)\n",
    "    Robust_m8_3_post_samples = pm.sample_posterior_predictive(trace = m8_3_samples,samples= 100)"
   ]
  },
  {
   "cell_type": "code",
   "execution_count": 326,
   "metadata": {},
   "outputs": [
    {
     "name": "stderr",
     "output_type": "stream",
     "text": [
      "/home/aidan/anaconda3/envs/Bayes/lib/python3.8/site-packages/arviz/data/io_pymc3.py:85: FutureWarning: Using `from_pymc3` without the model will be deprecated in a future release. Not using the model will return less accurate and less useful results. Make sure you use the model argument or call from_pymc3 within a model context.\n",
      "  warnings.warn(\n"
     ]
    },
    {
     "data": {
      "image/png": "[encoded data removed]",
      "text/plain": [
       "<Figure size 1080x360 with 2 Axes>"
      ]
     },
     "metadata": {
      "needs_background": "light"
     },
     "output_type": "display_data"
    }
   ],
   "source": [
    "fig, axs = plt.subplots(1,2,figsize=(15,5))\n",
    "\n",
    "axs[0].set_title(\"Standard Linear regression\")\n",
    "pm.forestplot(m8_3_samples, ax = axs[0])\n",
    "axs[1].set_title(\"Robust Linear regression\")\n",
    "pm.forestplot(Robust_m8_3_samples, ax = axs[1])\n",
    "plt.show()"
   ]
  },
  {
   "cell_type": "markdown",
   "metadata": {},
   "source": [
    "These models are not spectacularly different from one another, that is, non of the data had a major impact on the parameter posteriors. The standard regression is on the left hand side whilst the robust regression is on the right hand side. There's been a marginal increase in the mean of the $\\beta_1$ parameter of Africa. This is possibly becuase Lesotho is marginally less influential in the robust regression model as the mean line doesn't \"dragged\" around as much by this vaguely, weakly (not even really) extreme value."
   ]
  },
  {
   "cell_type": "code",
   "execution_count": 329,
   "metadata": {},
   "outputs": [
    {
     "name": "stderr",
     "output_type": "stream",
     "text": [
      "/home/aidan/anaconda3/envs/Bayes/lib/python3.8/site-packages/arviz/stats/stats.py:483: FutureWarning: hdi currently interprets 2d data as (draw, shape) but this will change in a future release to (chain, draw) for coherence with other functions\n",
      "  warnings.warn(\n",
      "/home/aidan/anaconda3/envs/Bayes/lib/python3.8/site-packages/arviz/stats/stats.py:483: FutureWarning: hdi currently interprets 2d data as (draw, shape) but this will change in a future release to (chain, draw) for coherence with other functions\n",
      "  warnings.warn(\n",
      "/home/aidan/anaconda3/envs/Bayes/lib/python3.8/site-packages/arviz/stats/stats.py:483: FutureWarning: hdi currently interprets 2d data as (draw, shape) but this will change in a future release to (chain, draw) for coherence with other functions\n",
      "  warnings.warn(\n",
      "/home/aidan/anaconda3/envs/Bayes/lib/python3.8/site-packages/arviz/stats/stats.py:483: FutureWarning: hdi currently interprets 2d data as (draw, shape) but this will change in a future release to (chain, draw) for coherence with other functions\n",
      "  warnings.warn(\n"
     ]
    },
    {
     "data": {
      "image/png": "[encoded data removed]",
      "text/plain": [
       "<Figure size 1080x720 with 4 Axes>"
      ]
     },
     "metadata": {
      "needs_background": "light"
     },
     "output_type": "display_data"
    }
   ],
   "source": [
    "fig, axs = plt.subplots(2,2,figsize=(15,10))\n",
    "\n",
    "fig.suptitle(\"Posterior density plots\", fontsize=15)\n",
    "\n",
    "x = np.linspace(0,1)\n",
    "\n",
    "sns.scatterplot(x=\"s_rugged\", y=\"s_log_gdp\", data=Complete[Complete.cont_africa==1], ax=axs[0,0])\n",
    "#get the average posterior\n",
    "mu1 = m8_3_samples[\"alpha\"][:,1] + np.outer(x-0.215,m8_3_samples[\"beta\"][:,1])\n",
    "axs[0,0].plot(x, np.mean(mu1,axis=1))\n",
    "az.plot_hpd(\n",
    "    x,\n",
    "    mu1.T,\n",
    "    ax=axs[0,0],\n",
    "    fill_kwargs={\"alpha\": 0.8, \"label\": \"Mean outcome 94% HPD\"},\n",
    ")\n",
    "axs[0,0].set_title(\"African nations\")\n",
    "\n",
    "\n",
    "sns.scatterplot(x=\"s_rugged\", y=\"s_log_gdp\", data=Complete[Complete.cont_africa==0], ax=axs[0,1])\n",
    "mu2 = m8_3_samples[\"alpha\"][:,0] + np.outer(x-0.215,m8_3_samples[\"beta\"][:,0])\n",
    "axs[0,1].plot(x, np.mean(mu2,axis=1))\n",
    "az.plot_hpd(\n",
    "    x,\n",
    "    mu2.T,\n",
    "    ax=axs[0,1],\n",
    "    fill_kwargs={\"alpha\": 0.8, \"label\": \"Mean outcome 94% HPD\"},\n",
    ")\n",
    "axs[0,1].set_title(\"Other nations\")\n",
    "\n",
    "\n",
    "\n",
    "sns.scatterplot(x=\"s_rugged\", y=\"s_log_gdp\", data=Complete[Complete.cont_africa==1], ax=axs[1,0])\n",
    "#get the average posterior\n",
    "mu1 = Robust_m8_3_samples[\"alpha\"][:,1] + np.outer(x-0.215,Robust_m8_3_samples[\"beta\"][:,1])\n",
    "axs[1,0].plot(x, np.mean(mu1,axis=1))\n",
    "az.plot_hpd(\n",
    "    x,\n",
    "    mu1.T,\n",
    "    ax=axs[1,0],\n",
    "    fill_kwargs={\"alpha\": 0.8, \"label\": \"Mean outcome 94% HPD\"},\n",
    ")\n",
    "axs[1,0].set_title(\"African nations (ROBUST)\")\n",
    "\n",
    "\n",
    "sns.scatterplot(x=\"s_rugged\", y=\"s_log_gdp\", data=Complete[Complete.cont_africa==0], ax=axs[1,1])\n",
    "mu2 = Robust_m8_3_samples[\"alpha\"][:,0] + np.outer(x-0.215,Robust_m8_3_samples[\"beta\"][:,0])\n",
    "axs[1,1].plot(x, np.mean(mu2,axis=1))\n",
    "az.plot_hpd(\n",
    "    x,\n",
    "    mu2.T,\n",
    "    ax=axs[1,1],\n",
    "    fill_kwargs={\"alpha\": 0.8, \"label\": \"Mean outcome 94% HPD\"},\n",
    ")\n",
    "axs[1,1].set_title(\"Other nations (ROBUST)\")\n",
    "\n",
    "plt.show()"
   ]
  },
  {
   "cell_type": "markdown",
   "metadata": {},
   "source": [
    "It's literally so difficult to tell the difference by eye here."
   ]
  },
  {
   "cell_type": "markdown",
   "metadata": {},
   "source": [
    "8H4. The values in data(nettle) are data on language diversity in 74 nations.143 The meaning of\n",
    "each column is given below.\n",
    "\n",
    "(1) country: Name of the country\n",
    "\n",
    "(2) num.lang: Number of recognized languages spoken\n",
    "\n",
    "(3) area: Area in square kilometers\n",
    "\n",
    "(4) k.pop: Population, in thousands\n",
    "\n",
    "(5) num.stations: Number of weather stations that provided data for the next two columns\n",
    "\n",
    "(6) mean.growing.season: Average length of growing season, in months\n",
    "\n",
    "(7) sd.growing.season: Standard deviation of length of growing season, in months\n",
    "\n",
    "Use these data to evaluate the hypothesis that language diversity is partly a product of food security. The notion is that, in productive ecologies, people don’t need large social networks to buffer them\n",
    "against risk of food shortfalls. This means cultural groups can be smaller and more self-sufficient,\n",
    "leading to more languages per capita. Use the number of languages per capita as the outcome:\n"
   ]
  },
  {
   "cell_type": "code",
   "execution_count": 330,
   "metadata": {},
   "outputs": [
    {
     "data": {
      "text/plain": [
       "'\\nd$lang.per.cap <- d$num.lang / d$k.pop    (#citing the R code. Will use python)\\n'"
      ]
     },
     "execution_count": 330,
     "metadata": {},
     "output_type": "execute_result"
    }
   ],
   "source": [
    "\"\"\"\n",
    "d$lang.per.cap <- d$num.lang / d$k.pop    (#citing the R code. Will use python)\n",
    "\"\"\""
   ]
  },
  {
   "cell_type": "markdown",
   "metadata": {},
   "source": [
    "Use the logarithm of this new variable as your regression outcome. (A count model would be better here, but you’ll learn those later, in Chapter 11.) This problem is open ended, allowing you to\n",
    "decide how you address the hypotheses and the uncertain advice the modeling provides. If you\n",
    "think you need to use WAIC anyplace, please do. If you think you need certain priors, argue for\n",
    "them. If you think you need to plot predictions in a certain way, please do. Just try to honestly\n",
    "evaluate the main effects of both mean.growing.season and sd.growing.season, as well as their\n",
    "two-way interaction. Here are three parts to help. (a) Evaluate the hypothesis that language diversity,\n",
    "as measured by log(lang.per.cap), is positively associated with the average length of the growing season, mean.growing.season. Consider log(area) in your regression(s) as a covariate (not\n",
    "an interaction). Interpret your results. (b) Now evaluate the hypothesis that language diversity is\n",
    "negatively associated with the standard deviation of length of growing season, sd.growing.season.\n",
    "This hypothesis follows from uncertainty in harvest favoring social insurance through larger social\n",
    "networks and therefore fewer languages. Again, consider log(area) as a covariate (not an interaction). Interpret your results. (c) Finally, evaluate the hypothesis that mean.growing.season and\n",
    "sd.growing.season interact to synergistically reduce language diversity. The idea is that, in nations\n",
    "with longer average growing seasons, high variance makes storage and redistribution even more important than it would be otherwise. That way, people can cooperate to preserve and protect windfalls\n",
    "to be used during the droughts."
   ]
  },
  {
   "cell_type": "code",
   "execution_count": 333,
   "metadata": {},
   "outputs": [],
   "source": [
    "nettle = pd.read_csv(\"./data/nettle.csv\", delimiter=\";\")"
   ]
  },
  {
   "cell_type": "code",
   "execution_count": 335,
   "metadata": {},
   "outputs": [],
   "source": [
    "nettle[\"lang_per_cap\"] = nettle[\"num.lang\"]/nettle[\"k.pop\"]"
   ]
  },
  {
   "cell_type": "markdown",
   "metadata": {},
   "source": [
    "# Answer: Very open ended. Don't have time right now"
   ]
  },
  {
   "cell_type": "markdown",
   "metadata": {},
   "source": [
    "8H5. Consider the data(Wines2012) data table. These data are expert ratings of 20 different French\n",
    "and American wines by 9 different French and American judges. Your goal is to model score, the\n",
    "subjective rating assigned by each judge to each wine. I recommend standardizing it. In this problem,\n",
    "consider only variation among judges and wines. Construct index variables of judge and wine and\n",
    "then use these index variables to construct a linear regression model. Justify your priors. You should\n",
    "end up with 9 judge parameters and 20 wine parameters. How do you interpret the variation among\n",
    "individual judges and individual wines? Do you notice any patterns, just by plotting the differences?\n",
    "Which judges gave the highest/lowest ratings? Which wines were rated worst/best on average?"
   ]
  },
  {
   "cell_type": "code",
   "execution_count": 9,
   "metadata": {},
   "outputs": [],
   "source": [
    "wine = pd.read_csv(\"./data/Wines2012.csv\",delimiter=\";\")"
   ]
  },
  {
   "cell_type": "code",
   "execution_count": 10,
   "metadata": {},
   "outputs": [
    {
     "data": {
      "text/html": [
       "<div>\n",
       "<style scoped>\n",
       "    .dataframe tbody tr th:only-of-type {\n",
       "        vertical-align: middle;\n",
       "    }\n",
       "\n",
       "    .dataframe tbody tr th {\n",
       "        vertical-align: top;\n",
       "    }\n",
       "\n",
       "    .dataframe thead th {\n",
       "        text-align: right;\n",
       "    }\n",
       "</style>\n",
       "<table border=\"1\" class=\"dataframe\">\n",
       "  <thead>\n",
       "    <tr style=\"text-align: right;\">\n",
       "      <th></th>\n",
       "      <th>judge</th>\n",
       "      <th>flight</th>\n",
       "      <th>wine</th>\n",
       "      <th>score</th>\n",
       "      <th>wine.amer</th>\n",
       "      <th>judge.amer</th>\n",
       "    </tr>\n",
       "  </thead>\n",
       "  <tbody>\n",
       "    <tr>\n",
       "      <th>0</th>\n",
       "      <td>Jean-M Cardebat</td>\n",
       "      <td>white</td>\n",
       "      <td>A1</td>\n",
       "      <td>10.0</td>\n",
       "      <td>1</td>\n",
       "      <td>0</td>\n",
       "    </tr>\n",
       "    <tr>\n",
       "      <th>1</th>\n",
       "      <td>Jean-M Cardebat</td>\n",
       "      <td>white</td>\n",
       "      <td>B1</td>\n",
       "      <td>13.0</td>\n",
       "      <td>1</td>\n",
       "      <td>0</td>\n",
       "    </tr>\n",
       "    <tr>\n",
       "      <th>2</th>\n",
       "      <td>Jean-M Cardebat</td>\n",
       "      <td>white</td>\n",
       "      <td>C1</td>\n",
       "      <td>14.0</td>\n",
       "      <td>0</td>\n",
       "      <td>0</td>\n",
       "    </tr>\n",
       "    <tr>\n",
       "      <th>3</th>\n",
       "      <td>Jean-M Cardebat</td>\n",
       "      <td>white</td>\n",
       "      <td>D1</td>\n",
       "      <td>15.0</td>\n",
       "      <td>0</td>\n",
       "      <td>0</td>\n",
       "    </tr>\n",
       "    <tr>\n",
       "      <th>4</th>\n",
       "      <td>Jean-M Cardebat</td>\n",
       "      <td>white</td>\n",
       "      <td>E1</td>\n",
       "      <td>8.0</td>\n",
       "      <td>1</td>\n",
       "      <td>0</td>\n",
       "    </tr>\n",
       "    <tr>\n",
       "      <th>...</th>\n",
       "      <td>...</td>\n",
       "      <td>...</td>\n",
       "      <td>...</td>\n",
       "      <td>...</td>\n",
       "      <td>...</td>\n",
       "      <td>...</td>\n",
       "    </tr>\n",
       "    <tr>\n",
       "      <th>175</th>\n",
       "      <td>Francis Schott</td>\n",
       "      <td>red</td>\n",
       "      <td>F2</td>\n",
       "      <td>12.0</td>\n",
       "      <td>1</td>\n",
       "      <td>1</td>\n",
       "    </tr>\n",
       "    <tr>\n",
       "      <th>176</th>\n",
       "      <td>Francis Schott</td>\n",
       "      <td>red</td>\n",
       "      <td>G2</td>\n",
       "      <td>15.0</td>\n",
       "      <td>0</td>\n",
       "      <td>1</td>\n",
       "    </tr>\n",
       "    <tr>\n",
       "      <th>177</th>\n",
       "      <td>Francis Schott</td>\n",
       "      <td>red</td>\n",
       "      <td>H2</td>\n",
       "      <td>16.0</td>\n",
       "      <td>1</td>\n",
       "      <td>1</td>\n",
       "    </tr>\n",
       "    <tr>\n",
       "      <th>178</th>\n",
       "      <td>Francis Schott</td>\n",
       "      <td>red</td>\n",
       "      <td>I2</td>\n",
       "      <td>7.0</td>\n",
       "      <td>1</td>\n",
       "      <td>1</td>\n",
       "    </tr>\n",
       "    <tr>\n",
       "      <th>179</th>\n",
       "      <td>Francis Schott</td>\n",
       "      <td>red</td>\n",
       "      <td>J2</td>\n",
       "      <td>17.0</td>\n",
       "      <td>0</td>\n",
       "      <td>1</td>\n",
       "    </tr>\n",
       "  </tbody>\n",
       "</table>\n",
       "<p>180 rows × 6 columns</p>\n",
       "</div>"
      ],
      "text/plain": [
       "               judge flight wine  score  wine.amer  judge.amer\n",
       "0    Jean-M Cardebat  white   A1   10.0          1           0\n",
       "1    Jean-M Cardebat  white   B1   13.0          1           0\n",
       "2    Jean-M Cardebat  white   C1   14.0          0           0\n",
       "3    Jean-M Cardebat  white   D1   15.0          0           0\n",
       "4    Jean-M Cardebat  white   E1    8.0          1           0\n",
       "..               ...    ...  ...    ...        ...         ...\n",
       "175   Francis Schott    red   F2   12.0          1           1\n",
       "176   Francis Schott    red   G2   15.0          0           1\n",
       "177   Francis Schott    red   H2   16.0          1           1\n",
       "178   Francis Schott    red   I2    7.0          1           1\n",
       "179   Francis Schott    red   J2   17.0          0           1\n",
       "\n",
       "[180 rows x 6 columns]"
      ]
     },
     "execution_count": 10,
     "metadata": {},
     "output_type": "execute_result"
    }
   ],
   "source": [
    "wine"
   ]
  },
  {
   "cell_type": "code",
   "execution_count": 11,
   "metadata": {},
   "outputs": [
    {
     "data": {
      "text/plain": [
       "(7.0, 19.5, 14.2)"
      ]
     },
     "execution_count": 11,
     "metadata": {},
     "output_type": "execute_result"
    }
   ],
   "source": [
    "np.min(wine.score), np.max(wine.score), np.mean(wine.score)"
   ]
  },
  {
   "cell_type": "code",
   "execution_count": 12,
   "metadata": {},
   "outputs": [],
   "source": [
    "#turn these wordy categories into numbers we can work with\n",
    "wine.judge = pd.Categorical(wine.judge)\n",
    "wine[\"judge_index\"] = wine.judge.cat.codes\n",
    "\n",
    "wine.wine = pd.Categorical(wine.wine)\n",
    "wine[\"wine_index\"] = wine.wine.cat.codes"
   ]
  },
  {
   "cell_type": "code",
   "execution_count": 13,
   "metadata": {},
   "outputs": [
    {
     "data": {
      "text/html": [
       "<div>\n",
       "<style scoped>\n",
       "    .dataframe tbody tr th:only-of-type {\n",
       "        vertical-align: middle;\n",
       "    }\n",
       "\n",
       "    .dataframe tbody tr th {\n",
       "        vertical-align: top;\n",
       "    }\n",
       "\n",
       "    .dataframe thead th {\n",
       "        text-align: right;\n",
       "    }\n",
       "</style>\n",
       "<table border=\"1\" class=\"dataframe\">\n",
       "  <thead>\n",
       "    <tr style=\"text-align: right;\">\n",
       "      <th></th>\n",
       "      <th>judge</th>\n",
       "      <th>flight</th>\n",
       "      <th>wine</th>\n",
       "      <th>score</th>\n",
       "      <th>wine.amer</th>\n",
       "      <th>judge.amer</th>\n",
       "      <th>judge_index</th>\n",
       "      <th>wine_index</th>\n",
       "    </tr>\n",
       "  </thead>\n",
       "  <tbody>\n",
       "    <tr>\n",
       "      <th>0</th>\n",
       "      <td>Jean-M Cardebat</td>\n",
       "      <td>white</td>\n",
       "      <td>A1</td>\n",
       "      <td>10.0</td>\n",
       "      <td>1</td>\n",
       "      <td>0</td>\n",
       "      <td>3</td>\n",
       "      <td>0</td>\n",
       "    </tr>\n",
       "    <tr>\n",
       "      <th>1</th>\n",
       "      <td>Jean-M Cardebat</td>\n",
       "      <td>white</td>\n",
       "      <td>B1</td>\n",
       "      <td>13.0</td>\n",
       "      <td>1</td>\n",
       "      <td>0</td>\n",
       "      <td>3</td>\n",
       "      <td>2</td>\n",
       "    </tr>\n",
       "    <tr>\n",
       "      <th>2</th>\n",
       "      <td>Jean-M Cardebat</td>\n",
       "      <td>white</td>\n",
       "      <td>C1</td>\n",
       "      <td>14.0</td>\n",
       "      <td>0</td>\n",
       "      <td>0</td>\n",
       "      <td>3</td>\n",
       "      <td>4</td>\n",
       "    </tr>\n",
       "    <tr>\n",
       "      <th>3</th>\n",
       "      <td>Jean-M Cardebat</td>\n",
       "      <td>white</td>\n",
       "      <td>D1</td>\n",
       "      <td>15.0</td>\n",
       "      <td>0</td>\n",
       "      <td>0</td>\n",
       "      <td>3</td>\n",
       "      <td>6</td>\n",
       "    </tr>\n",
       "    <tr>\n",
       "      <th>4</th>\n",
       "      <td>Jean-M Cardebat</td>\n",
       "      <td>white</td>\n",
       "      <td>E1</td>\n",
       "      <td>8.0</td>\n",
       "      <td>1</td>\n",
       "      <td>0</td>\n",
       "      <td>3</td>\n",
       "      <td>8</td>\n",
       "    </tr>\n",
       "    <tr>\n",
       "      <th>...</th>\n",
       "      <td>...</td>\n",
       "      <td>...</td>\n",
       "      <td>...</td>\n",
       "      <td>...</td>\n",
       "      <td>...</td>\n",
       "      <td>...</td>\n",
       "      <td>...</td>\n",
       "      <td>...</td>\n",
       "    </tr>\n",
       "    <tr>\n",
       "      <th>175</th>\n",
       "      <td>Francis Schott</td>\n",
       "      <td>red</td>\n",
       "      <td>F2</td>\n",
       "      <td>12.0</td>\n",
       "      <td>1</td>\n",
       "      <td>1</td>\n",
       "      <td>1</td>\n",
       "      <td>11</td>\n",
       "    </tr>\n",
       "    <tr>\n",
       "      <th>176</th>\n",
       "      <td>Francis Schott</td>\n",
       "      <td>red</td>\n",
       "      <td>G2</td>\n",
       "      <td>15.0</td>\n",
       "      <td>0</td>\n",
       "      <td>1</td>\n",
       "      <td>1</td>\n",
       "      <td>13</td>\n",
       "    </tr>\n",
       "    <tr>\n",
       "      <th>177</th>\n",
       "      <td>Francis Schott</td>\n",
       "      <td>red</td>\n",
       "      <td>H2</td>\n",
       "      <td>16.0</td>\n",
       "      <td>1</td>\n",
       "      <td>1</td>\n",
       "      <td>1</td>\n",
       "      <td>15</td>\n",
       "    </tr>\n",
       "    <tr>\n",
       "      <th>178</th>\n",
       "      <td>Francis Schott</td>\n",
       "      <td>red</td>\n",
       "      <td>I2</td>\n",
       "      <td>7.0</td>\n",
       "      <td>1</td>\n",
       "      <td>1</td>\n",
       "      <td>1</td>\n",
       "      <td>17</td>\n",
       "    </tr>\n",
       "    <tr>\n",
       "      <th>179</th>\n",
       "      <td>Francis Schott</td>\n",
       "      <td>red</td>\n",
       "      <td>J2</td>\n",
       "      <td>17.0</td>\n",
       "      <td>0</td>\n",
       "      <td>1</td>\n",
       "      <td>1</td>\n",
       "      <td>19</td>\n",
       "    </tr>\n",
       "  </tbody>\n",
       "</table>\n",
       "<p>180 rows × 8 columns</p>\n",
       "</div>"
      ],
      "text/plain": [
       "               judge flight wine  score  wine.amer  judge.amer  judge_index  \\\n",
       "0    Jean-M Cardebat  white   A1   10.0          1           0            3   \n",
       "1    Jean-M Cardebat  white   B1   13.0          1           0            3   \n",
       "2    Jean-M Cardebat  white   C1   14.0          0           0            3   \n",
       "3    Jean-M Cardebat  white   D1   15.0          0           0            3   \n",
       "4    Jean-M Cardebat  white   E1    8.0          1           0            3   \n",
       "..               ...    ...  ...    ...        ...         ...          ...   \n",
       "175   Francis Schott    red   F2   12.0          1           1            1   \n",
       "176   Francis Schott    red   G2   15.0          0           1            1   \n",
       "177   Francis Schott    red   H2   16.0          1           1            1   \n",
       "178   Francis Schott    red   I2    7.0          1           1            1   \n",
       "179   Francis Schott    red   J2   17.0          0           1            1   \n",
       "\n",
       "     wine_index  \n",
       "0             0  \n",
       "1             2  \n",
       "2             4  \n",
       "3             6  \n",
       "4             8  \n",
       "..          ...  \n",
       "175          11  \n",
       "176          13  \n",
       "177          15  \n",
       "178          17  \n",
       "179          19  \n",
       "\n",
       "[180 rows x 8 columns]"
      ]
     },
     "execution_count": 13,
     "metadata": {},
     "output_type": "execute_result"
    }
   ],
   "source": [
    "wine"
   ]
  },
  {
   "cell_type": "code",
   "execution_count": 14,
   "metadata": {},
   "outputs": [
    {
     "data": {
      "text/plain": [
       "((20,), (9,))"
      ]
     },
     "execution_count": 14,
     "metadata": {},
     "output_type": "execute_result"
    }
   ],
   "source": [
    "wine[\"wine_index\"].drop_duplicates().shape, wine[\"judge_index\"].drop_duplicates().shape "
   ]
  },
  {
   "cell_type": "markdown",
   "metadata": {},
   "source": [
    "Let's scale the score in the wine model such that min = 0 and max = 1"
   ]
  },
  {
   "cell_type": "code",
   "execution_count": 15,
   "metadata": {},
   "outputs": [],
   "source": [
    "wine[\"s_score\"] = (wine.score - np.min(wine.score))/(np.max(wine.score)-np.min(wine.score))#scale the"
   ]
  },
  {
   "cell_type": "markdown",
   "metadata": {},
   "source": [
    "Let's turn the wine scores into z-scores."
   ]
  },
  {
   "cell_type": "code",
   "execution_count": 16,
   "metadata": {},
   "outputs": [],
   "source": [
    "wine[\"s_score\"] = (wine.score - np.mean(wine.score))/np.std(wine.score)"
   ]
  },
  {
   "cell_type": "code",
   "execution_count": 17,
   "metadata": {},
   "outputs": [
    {
     "data": {
      "text/plain": [
       "0       0\n",
       "1       2\n",
       "2       4\n",
       "3       6\n",
       "4       8\n",
       "       ..\n",
       "175    11\n",
       "176    13\n",
       "177    15\n",
       "178    17\n",
       "179    19\n",
       "Name: wine_index, Length: 180, dtype: int8"
      ]
     },
     "execution_count": 17,
     "metadata": {},
     "output_type": "execute_result"
    }
   ],
   "source": [
    "wine.wine_index"
   ]
  },
  {
   "cell_type": "code",
   "execution_count": 18,
   "metadata": {},
   "outputs": [
    {
     "data": {
      "text/plain": [
       "Index(['judge', 'flight', 'wine', 'score', 'wine.amer', 'judge.amer',\n",
       "       'judge_index', 'wine_index', 's_score'],\n",
       "      dtype='object')"
      ]
     },
     "execution_count": 18,
     "metadata": {},
     "output_type": "execute_result"
    }
   ],
   "source": [
    "wine.columns"
   ]
  },
  {
   "cell_type": "code",
   "execution_count": 19,
   "metadata": {},
   "outputs": [
    {
     "data": {
      "text/plain": [
       "Text(0, 0.5, 'Wine Score')"
      ]
     },
     "execution_count": 19,
     "metadata": {},
     "output_type": "execute_result"
    },
    {
     "data": {
      "image/png": "[encoded data removed]",
      "text/plain": [
       "<Figure size 720x504 with 2 Axes>"
      ]
     },
     "metadata": {
      "needs_background": "light"
     },
     "output_type": "display_data"
    }
   ],
   "source": [
    "fig, axs = plt.subplots(1,2, figsize=(10,7))\n",
    "\n",
    "plt.suptitle(\"Eyeballing the data\")\n",
    "\n",
    "axs[0].scatter(wine.judge_index,wine[\"s_score\"])\n",
    "axs[0].set_title(\"Judge to predict score\")\n",
    "axs[0].set_xlabel(\"Judge index\")\n",
    "axs[0].set_ylabel(\"Wine Score\")\n",
    "\n",
    "axs[1].scatter(wine.wine_index,wine[\"s_score\"])\n",
    "axs[1].set_title(\"Wine to predict score\")\n",
    "axs[1].set_xlabel(\"Wine index\")\n",
    "axs[1].set_ylabel(\"Wine Score\")\n",
    "\n"
   ]
  },
  {
   "cell_type": "markdown",
   "metadata": {},
   "source": [
    "As can be seen from the above data, knowing the wine by itself doesn't seem to obviously narrow down what you'd expect to see in the data. However, know which judge you have might be useful information. As seen for judges 4 and 6, you might expect any generic wine that you give them to get an above average rating. They've sampled 20 wines, which isn't a phenomenal amount, but it should be enough to do some inference. But perhaps the model shouldn't get too excited by the data, as maybe there's some other magic variable determining what's going on with those \"overly positive\" judges. Maybe thye just won the lottery. In future they might have a bad day, in which case they'd be the opposite. So I'll use a model"
   ]
  },
  {
   "cell_type": "markdown",
   "metadata": {},
   "source": [
    "Let's define our linear model in this instance. Let's make a DAG to go with it to help aid our interpretation of what we're actually doing. The model proposed in the question presumes that score is \"caused\" by some combination of score and "
   ]
  },
  {
   "cell_type": "code",
   "execution_count": 20,
   "metadata": {},
   "outputs": [
    {
     "data": {
      "image/svg+xml": [
       "<?xml version=\"1.0\" encoding=\"UTF-8\" standalone=\"no\"?>\n",
       "<!DOCTYPE svg PUBLIC \"-//W3C//DTD SVG 1.1//EN\"\n",
       " \"http://www.w3.org/Graphics/SVG/1.1/DTD/svg11.dtd\">\n",
       "<!-- Generated by graphviz version 2.40.1 (20161225.0304)\n",
       " -->\n",
       "<!-- Title: %3 Pages: 1 -->\n",
       "<svg width=\"170pt\" height=\"116pt\"\n",
       " viewBox=\"0.00 0.00 170.14 116.00\" xmlns=\"http://www.w3.org/2000/svg\" xmlns:xlink=\"http://www.w3.org/1999/xlink\">\n",
       "<g id=\"graph0\" class=\"graph\" transform=\"scale(1 1) rotate(0) translate(4 112)\">\n",
       "<title>%3</title>\n",
       "<polygon fill=\"#ffffff\" stroke=\"transparent\" points=\"-4,4 -4,-112 166.1436,-112 166.1436,4 -4,4\"/>\n",
       "<!-- Judge -->\n",
       "<g id=\"node1\" class=\"node\">\n",
       "<title>Judge</title>\n",
       "<ellipse fill=\"none\" stroke=\"#000000\" cx=\"37.6967\" cy=\"-90\" rx=\"37.8943\" ry=\"18\"/>\n",
       "<text text-anchor=\"middle\" x=\"37.6967\" y=\"-86.3\" font-family=\"Times,serif\" font-size=\"14.00\" fill=\"#000000\">Judge</text>\n",
       "</g>\n",
       "<!-- Score -->\n",
       "<g id=\"node2\" class=\"node\">\n",
       "<title>Score</title>\n",
       "<ellipse fill=\"none\" stroke=\"#000000\" cx=\"82.6967\" cy=\"-18\" rx=\"37.8943\" ry=\"18\"/>\n",
       "<text text-anchor=\"middle\" x=\"82.6967\" y=\"-14.3\" font-family=\"Times,serif\" font-size=\"14.00\" fill=\"#000000\">Score</text>\n",
       "</g>\n",
       "<!-- Judge&#45;&gt;Score -->\n",
       "<g id=\"edge1\" class=\"edge\">\n",
       "<title>Judge&#45;&gt;Score</title>\n",
       "<path fill=\"none\" stroke=\"#000000\" d=\"M48.5899,-72.5708C53.9515,-63.9922 60.524,-53.4762 66.4634,-43.9732\"/>\n",
       "<polygon fill=\"#000000\" stroke=\"#000000\" points=\"69.5717,-45.6037 71.9037,-35.2687 63.6357,-41.8937 69.5717,-45.6037\"/>\n",
       "</g>\n",
       "<!-- Wine -->\n",
       "<g id=\"node3\" class=\"node\">\n",
       "<title>Wine</title>\n",
       "<ellipse fill=\"none\" stroke=\"#000000\" cx=\"127.6967\" cy=\"-90\" rx=\"34.394\" ry=\"18\"/>\n",
       "<text text-anchor=\"middle\" x=\"127.6967\" y=\"-86.3\" font-family=\"Times,serif\" font-size=\"14.00\" fill=\"#000000\">Wine</text>\n",
       "</g>\n",
       "<!-- Wine&#45;&gt;Score -->\n",
       "<g id=\"edge2\" class=\"edge\">\n",
       "<title>Wine&#45;&gt;Score</title>\n",
       "<path fill=\"none\" stroke=\"#000000\" d=\"M116.8034,-72.5708C111.4418,-63.9922 104.8693,-53.4762 98.9299,-43.9732\"/>\n",
       "<polygon fill=\"#000000\" stroke=\"#000000\" points=\"101.7576,-41.8937 93.4896,-35.2687 95.8216,-45.6037 101.7576,-41.8937\"/>\n",
       "</g>\n",
       "</g>\n",
       "</svg>\n"
      ],
      "text/plain": [
       "<graphviz.dot.Digraph at 0x7ffee518efd0>"
      ]
     },
     "execution_count": 20,
     "metadata": {},
     "output_type": "execute_result"
    }
   ],
   "source": [
    "from causalgraphicalmodels import CausalGraphicalModel\n",
    "\n",
    "Dag = CausalGraphicalModel(\n",
    "    nodes=[\"Judge\",\"Wine\",\"Score\"],\n",
    "    edges=[\n",
    "        (\"Judge\",\"Score\"),\n",
    "        (\"Wine\", \"Score\")\n",
    "    ]\n",
    ")\n",
    "\n",
    "# draw return a graphviz `dot` object, which jupyter can render\n",
    "\n",
    "Dag.draw()"
   ]
  },
  {
   "cell_type": "markdown",
   "metadata": {},
   "source": [
    "And we give it this regression model, and add Gaussian noise around the middle\n",
    "\n",
    "$\\mu_i = \\alpha_{CIV[i]} + \\beta_{CIV[i]}$\n",
    "\n",
    "Where $\\alpha$ is the effect of being a certain judge, and $\\beta$ is the effect of being a certain wine on the score outcome. We assume no interaction in the model at this point\n",
    "\n",
    "# Check this interpretation of parameters\n",
    "\n",
    "Basically we have categorical inputs to help us predict the score. As we're using this to predict Z-scores, I think the correct interpretation of what each of these parameters is saying is as follows: $\\mu_i = \\alpha_{CIV[i]} + \\beta_{CIV[i]}$ tells us the mean score that we'd expect to see given that we know that the relevant judges and wines went into producing the score. The categorical indicators would be zero for any wine or judge not in our model, or if you simply decline to tell the model who the judge is or what the wine is. Thus I interpret any $\\alpha$ parameter to be the mean value the model would take on given that the model knows nothing about the wine, and vis versa for the $\\beta$ parameters, when the model doesn't know who is judging, but does know the wine."
   ]
  },
  {
   "cell_type": "code",
   "execution_count": 21,
   "metadata": {},
   "outputs": [
    {
     "data": {
      "text/plain": [
       "(0.3391405978089046, 0.5568056851777015)"
      ]
     },
     "execution_count": 21,
     "metadata": {},
     "output_type": "execute_result"
    }
   ],
   "source": [
    "wine.groupby(\"wine\").mean()[\"s_score\"].std(), wine.groupby(\"judge\").mean()[\"s_score\"].std()"
   ]
  },
  {
   "cell_type": "markdown",
   "metadata": {},
   "source": [
    "Given these interpretations and the scatter plots above, we now have the task of assigning priors. Judging from the scatters, the mean for any candidate should be around zero. I could assign poorly formed, broad priors of around 2. This means that you'd expect about 33% (see 67-95-99 rule) of the judges to assign to have mean Z-scores of more than 2. This is proposterously large. Even using 1 here seems silly. Looking at the code above, we can see that the standard deviation in the average score of the each wine, is 0.33 and of the judges is around 0.55. These are more informed priors (maybe I somehow double counted by forming a prior in this way). It seems plausible the knowing the judge is more informative than the wine itself. I'll use these as weakly \"regularizing\" priors\n",
    "\n",
    "I'll run two models, one with std of one on the priors and another with the regularization and compare them to see what comes out of the other side.\n",
    "\n",
    "As these are z scores, we expect a maximum standard deviation of around 1 given that we knew nothing else about the data. For obvious information theoretic reasons, the data cannot become more dispersed on average once we know the wine or the judge. At worst the wine and judge can be independent of the score, in which case we're just guessing z-scores at random. This places an upper bound on our expectations of the noise about $\\mu$. To encode this in the model, we can just make sigma ~ Exp(1).\n",
    "\n",
    "I'm also throwing in an \"over-regularized\" model just to see what happens. Basically, I'm just putting unreasonably narrow priors on the degree alpha and beta parameters."
   ]
  },
  {
   "cell_type": "code",
   "execution_count": 22,
   "metadata": {},
   "outputs": [
    {
     "name": "stderr",
     "output_type": "stream",
     "text": [
      "INFO (theano.gof.compilelock): Refreshing lock /home/aidan/.theano/compiledir_Linux-4.4--Microsoft-x86_64-with-glibc2.10-x86_64-3.8.5-64/lock_dir/lock\n",
      "Auto-assigning NUTS sampler...\n",
      "Initializing NUTS using jitter+adapt_diag...\n",
      "Multiprocess sampling (4 chains in 4 jobs)\n",
      "NUTS: [sigma, beta, alpha]\n"
     ]
    },
    {
     "data": {
      "text/html": [
       "\n",
       "    <div>\n",
       "        <style>\n",
       "            /* Turns off some styling */\n",
       "            progress {\n",
       "                /* gets rid of default border in Firefox and Opera. */\n",
       "                border: none;\n",
       "                /* Needs to be in here for Safari polyfill so background images work as expected. */\n",
       "                background-size: auto;\n",
       "            }\n",
       "            .progress-bar-interrupted, .progress-bar-interrupted::-webkit-progress-bar {\n",
       "                background: #F44336;\n",
       "            }\n",
       "        </style>\n",
       "      <progress value='8000' class='' max='8000' style='width:300px; height:20px; vertical-align: middle;'></progress>\n",
       "      100.00% [8000/8000 00:05<00:00 Sampling 4 chains, 0 divergences]\n",
       "    </div>\n",
       "    "
      ],
      "text/plain": [
       "<IPython.core.display.HTML object>"
      ]
     },
     "metadata": {},
     "output_type": "display_data"
    },
    {
     "name": "stderr",
     "output_type": "stream",
     "text": [
      "Sampling 4 chains for 1_000 tune and 1_000 draw iterations (4_000 + 4_000 draws total) took 6 seconds.\n",
      "The number of effective samples is smaller than 25% for some parameters.\n",
      "Auto-assigning NUTS sampler...\n",
      "Initializing NUTS using jitter+adapt_diag...\n",
      "Multiprocess sampling (4 chains in 4 jobs)\n",
      "NUTS: [sigma, beta, alpha]\n"
     ]
    },
    {
     "data": {
      "text/html": [
       "\n",
       "    <div>\n",
       "        <style>\n",
       "            /* Turns off some styling */\n",
       "            progress {\n",
       "                /* gets rid of default border in Firefox and Opera. */\n",
       "                border: none;\n",
       "                /* Needs to be in here for Safari polyfill so background images work as expected. */\n",
       "                background-size: auto;\n",
       "            }\n",
       "            .progress-bar-interrupted, .progress-bar-interrupted::-webkit-progress-bar {\n",
       "                background: #F44336;\n",
       "            }\n",
       "        </style>\n",
       "      <progress value='8000' class='' max='8000' style='width:300px; height:20px; vertical-align: middle;'></progress>\n",
       "      100.00% [8000/8000 00:04<00:00 Sampling 4 chains, 0 divergences]\n",
       "    </div>\n",
       "    "
      ],
      "text/plain": [
       "<IPython.core.display.HTML object>"
      ]
     },
     "metadata": {},
     "output_type": "display_data"
    },
    {
     "name": "stderr",
     "output_type": "stream",
     "text": [
      "Sampling 4 chains for 1_000 tune and 1_000 draw iterations (4_000 + 4_000 draws total) took 5 seconds.\n",
      "Auto-assigning NUTS sampler...\n",
      "Initializing NUTS using jitter+adapt_diag...\n",
      "Multiprocess sampling (4 chains in 4 jobs)\n",
      "NUTS: [sigma, beta, alpha]\n"
     ]
    },
    {
     "data": {
      "text/html": [
       "\n",
       "    <div>\n",
       "        <style>\n",
       "            /* Turns off some styling */\n",
       "            progress {\n",
       "                /* gets rid of default border in Firefox and Opera. */\n",
       "                border: none;\n",
       "                /* Needs to be in here for Safari polyfill so background images work as expected. */\n",
       "                background-size: auto;\n",
       "            }\n",
       "            .progress-bar-interrupted, .progress-bar-interrupted::-webkit-progress-bar {\n",
       "                background: #F44336;\n",
       "            }\n",
       "        </style>\n",
       "      <progress value='8000' class='' max='8000' style='width:300px; height:20px; vertical-align: middle;'></progress>\n",
       "      100.00% [8000/8000 00:04<00:00 Sampling 4 chains, 0 divergences]\n",
       "    </div>\n",
       "    "
      ],
      "text/plain": [
       "<IPython.core.display.HTML object>"
      ]
     },
     "metadata": {},
     "output_type": "display_data"
    },
    {
     "name": "stderr",
     "output_type": "stream",
     "text": [
      "Sampling 4 chains for 1_000 tune and 1_000 draw iterations (4_000 + 4_000 draws total) took 5 seconds.\n"
     ]
    }
   ],
   "source": [
    "with pm.Model() as wine_score:\n",
    "    alpha = pm.Normal(\"alpha\", 0,1,shape=(9))\n",
    "    beta = pm.Normal(\"beta\", 0,1,shape=(20))\n",
    "    sigma = pm.Exponential(\"sigma\", 1)\n",
    "    mu = alpha[wine.judge_index]  + beta[wine.wine_index,]\n",
    "    wine_score = pm.Normal(\"wine_score\", mu=mu, sd=sigma, observed=wine.s_score)\n",
    "    wine_post = pm.sample(draws = 1000, chains=4)\n",
    "    \n",
    "with pm.Model() as regularized_wine_score:\n",
    "    alpha = pm.Normal(\"alpha\", 0,0.55,shape=(9))\n",
    "    beta = pm.Normal(\"beta\", 0,0.33,shape=(20))\n",
    "    sigma = pm.Exponential(\"sigma\", 1)\n",
    "    mu = alpha[wine.judge_index]  + beta[wine.wine_index,]\n",
    "    regularized_wine_score = pm.Normal(\"wine_score\", mu=mu, sd=sigma, observed=wine.s_score)\n",
    "    regularized_wine_post = pm.sample(draws = 1000, chains=4)\n",
    "    \n",
    "with pm.Model() as over_regularized_wine_score:\n",
    "    alpha = pm.Normal(\"alpha\", 0,0.1,shape=(9))\n",
    "    beta = pm.Normal(\"beta\", 0,0.1,shape=(20))\n",
    "    sigma = pm.Exponential(\"sigma\", 1)\n",
    "    mu = alpha[wine.judge_index]  + beta[wine.wine_index,]\n",
    "    over_regularized_wine_score = pm.Normal(\"wine_score\", mu=mu, sd=sigma, observed=wine.s_score)\n",
    "    over_regularized_wine_post = pm.sample(draws = 1000, chains=4)"
   ]
  },
  {
   "cell_type": "code",
   "execution_count": 23,
   "metadata": {},
   "outputs": [
    {
     "name": "stderr",
     "output_type": "stream",
     "text": [
      "/home/aidan/anaconda3/envs/Bayes/lib/python3.8/site-packages/arviz/data/io_pymc3.py:85: FutureWarning: Using `from_pymc3` without the model will be deprecated in a future release. Not using the model will return less accurate and less useful results. Make sure you use the model argument or call from_pymc3 within a model context.\n",
      "  warnings.warn(\n",
      "/home/aidan/anaconda3/envs/Bayes/lib/python3.8/site-packages/arviz/stats/stats.py:1413: UserWarning: For one or more samples the posterior variance of the log predictive densities exceeds 0.4. This could be indication of WAIC starting to fail. \n",
      "See http://arxiv.org/abs/1507.04544 for details\n",
      "  warnings.warn(\n"
     ]
    },
    {
     "data": {
      "text/html": [
       "<div>\n",
       "<style scoped>\n",
       "    .dataframe tbody tr th:only-of-type {\n",
       "        vertical-align: middle;\n",
       "    }\n",
       "\n",
       "    .dataframe tbody tr th {\n",
       "        vertical-align: top;\n",
       "    }\n",
       "\n",
       "    .dataframe thead th {\n",
       "        text-align: right;\n",
       "    }\n",
       "</style>\n",
       "<table border=\"1\" class=\"dataframe\">\n",
       "  <thead>\n",
       "    <tr style=\"text-align: right;\">\n",
       "      <th></th>\n",
       "      <th>rank</th>\n",
       "      <th>waic</th>\n",
       "      <th>p_waic</th>\n",
       "      <th>d_waic</th>\n",
       "      <th>weight</th>\n",
       "      <th>se</th>\n",
       "      <th>dse</th>\n",
       "      <th>warning</th>\n",
       "      <th>waic_scale</th>\n",
       "    </tr>\n",
       "  </thead>\n",
       "  <tbody>\n",
       "    <tr>\n",
       "      <th>regularized_wine_score</th>\n",
       "      <td>0</td>\n",
       "      <td>472.257</td>\n",
       "      <td>19.0243</td>\n",
       "      <td>0</td>\n",
       "      <td>0.936798</td>\n",
       "      <td>18.8941</td>\n",
       "      <td>0</td>\n",
       "      <td>True</td>\n",
       "      <td>deviance</td>\n",
       "    </tr>\n",
       "    <tr>\n",
       "      <th>wine_score</th>\n",
       "      <td>1</td>\n",
       "      <td>481.526</td>\n",
       "      <td>25.1336</td>\n",
       "      <td>9.26862</td>\n",
       "      <td>0.0503522</td>\n",
       "      <td>19.4595</td>\n",
       "      <td>4.45146</td>\n",
       "      <td>True</td>\n",
       "      <td>deviance</td>\n",
       "    </tr>\n",
       "    <tr>\n",
       "      <th>over_regularized_wine_score</th>\n",
       "      <td>2</td>\n",
       "      <td>498.516</td>\n",
       "      <td>4.09224</td>\n",
       "      <td>26.2589</td>\n",
       "      <td>0.0128495</td>\n",
       "      <td>17.6057</td>\n",
       "      <td>10.5139</td>\n",
       "      <td>False</td>\n",
       "      <td>deviance</td>\n",
       "    </tr>\n",
       "  </tbody>\n",
       "</table>\n",
       "</div>"
      ],
      "text/plain": [
       "                            rank     waic   p_waic   d_waic     weight  \\\n",
       "regularized_wine_score         0  472.257  19.0243        0   0.936798   \n",
       "wine_score                     1  481.526  25.1336  9.26862  0.0503522   \n",
       "over_regularized_wine_score    2  498.516  4.09224  26.2589  0.0128495   \n",
       "\n",
       "                                  se      dse warning waic_scale  \n",
       "regularized_wine_score       18.8941        0    True   deviance  \n",
       "wine_score                   19.4595  4.45146    True   deviance  \n",
       "over_regularized_wine_score  17.6057  10.5139   False   deviance  "
      ]
     },
     "execution_count": 23,
     "metadata": {},
     "output_type": "execute_result"
    }
   ],
   "source": [
    "compare_df = az.compare(\n",
    "    {\"wine_score\": wine_post, \"regularized_wine_score\": regularized_wine_post,\"over_regularized_wine_score\": over_regularized_wine_post},\n",
    "    ic=\"waic\",\n",
    "    scale=\"deviance\"\n",
    ")\n",
    "compare_df"
   ]
  },
  {
   "cell_type": "markdown",
   "metadata": {},
   "source": [
    "As can be seen, my sensiblish model performed best, the stupid broad priors come in second place, whilst the over regularized model does real bad. This suggests that my informed regularization worked as intended. The overregularized model essentially just refuses to believe that know the wine or the judge is in anyway helpful for knowing the score, in spite of evidence to the contrary, hence it will make poor predictions about future, out of sample data."
   ]
  },
  {
   "cell_type": "code",
   "execution_count": 24,
   "metadata": {},
   "outputs": [
    {
     "name": "stderr",
     "output_type": "stream",
     "text": [
      "/home/aidan/anaconda3/envs/Bayes/lib/python3.8/site-packages/arviz/data/io_pymc3.py:85: FutureWarning: Using `from_pymc3` without the model will be deprecated in a future release. Not using the model will return less accurate and less useful results. Make sure you use the model argument or call from_pymc3 within a model context.\n",
      "  warnings.warn(\n",
      "/home/aidan/anaconda3/envs/Bayes/lib/python3.8/site-packages/arviz/data/io_pymc3.py:85: FutureWarning: Using `from_pymc3` without the model will be deprecated in a future release. Not using the model will return less accurate and less useful results. Make sure you use the model argument or call from_pymc3 within a model context.\n",
      "  warnings.warn(\n"
     ]
    }
   ],
   "source": [
    "alpha_summary = pm.summary(regularized_wine_post,var_names=[\"alpha\"])\n",
    "beta_summary = pm.summary(regularized_wine_post,var_names=[\"beta\"])"
   ]
  },
  {
   "cell_type": "code",
   "execution_count": 25,
   "metadata": {},
   "outputs": [],
   "source": [
    "#make hacky data frames to use in the middle\n",
    "tempdf = wine[[\"judge_index\",\"judge.amer\"]].drop_duplicates().sort_values(by=[\"judge_index\"])\n",
    "tempdf2 = wine[[\"wine_index\",\"wine.amer\"]].drop_duplicates().sort_values(by=[\"wine_index\"])"
   ]
  },
  {
   "cell_type": "code",
   "execution_count": 26,
   "metadata": {},
   "outputs": [],
   "source": [
    "#match up the wine and judges with their associated effect size\n",
    "tempdf[\"judge_effect\"] = alpha_summary[\"mean\"].values\n",
    "tempdf2[\"wine_effect\"] = beta_summary[\"mean\"].values"
   ]
  },
  {
   "cell_type": "markdown",
   "metadata": {},
   "source": [
    "We now have data frames matching the judges and wine scores as to whether or not they're American"
   ]
  },
  {
   "cell_type": "code",
   "execution_count": 27,
   "metadata": {},
   "outputs": [
    {
     "data": {
      "image/png": "[encoded data removed]",
      "text/plain": [
       "<Figure size 720x720 with 6 Axes>"
      ]
     },
     "metadata": {
      "needs_background": "light"
     },
     "output_type": "display_data"
    }
   ],
   "source": [
    "fig, axs = plt.subplots(3,2,figsize=(10,10))\n",
    "\n",
    "axs[0,0].hist(alpha_summary[\"mean\"])\n",
    "axs[0,0].set_title(\"Judge predictor effect sizes\")\n",
    "\n",
    "axs[0,1].set_title(\"Wine predictor effect sizes\")\n",
    "axs[0,1].hist(beta_summary[\"mean\"])\n",
    "\n",
    "\n",
    "\n",
    "axs[1,0].hist(tempdf[tempdf[\"judge.amer\"] == 1].judge_effect)\n",
    "axs[1,0].set_title(\"AMERICAN Judge predictor effect sizes\")\n",
    "\n",
    "axs[1,1].set_title(\"AMERICAN Wine predictor effect sizes\")\n",
    "axs[1,1].hist(tempdf2[tempdf2[\"wine.amer\"] == 1].wine_effect)\n",
    "\n",
    "\n",
    "\n",
    "axs[2,0].hist(tempdf[tempdf[\"judge.amer\"] == 0].judge_effect)\n",
    "axs[2,0].set_title(\"FRENCH Judge predictor effect sizes\")\n",
    "\n",
    "axs[2,1].set_title(\"FRENCH Wine predictor effect sizes\")\n",
    "axs[2,1].hist(tempdf2[tempdf2[\"wine.amer\"] == 0].wine_effect)\n",
    "\n",
    "plt.tight_layout()"
   ]
  },
  {
   "cell_type": "markdown",
   "metadata": {},
   "source": [
    "As can be sen here there's a fairly broad dispersion in effect sizes for the judges. Some having hugely positive and some having hugely negative tendancies for their scoring. The wine however appears to be fairly tightly clustered around zero. This indicates the score is more determined by the judges than by the wine. There is however one quite negative outlier. A plausible explanation is that most wines are in fact fairly similar to each other, but truly awful wine commands agreement amongst the judges for the producing a very low score. Entertainingly, the very bad wine is American.\n",
    "There's vague tendancy for both American wines and judges to have a considerable range of predictive powers in the models. In general the french wines appear to have a slightly positive predictive effect on the score in this model. But these are all tiny and there doesn't appear to be too much information contained within the model here."
   ]
  },
  {
   "cell_type": "markdown",
   "metadata": {},
   "source": [
    "8H6. Now consider three features of the wines and judges:\n",
    "\n",
    "(1) flight: Whether the wine is red or white.\n",
    "\n",
    "(2) wine.amer: Indicator variable for American wines.\n",
    "\n",
    "(3) judge.amer: Indicator variable for American judges.\n",
    "\n",
    "Use indicator or index variables to model the influence of these features on the scores. Omit the\n",
    "individual judge and wine index variables from Problem 1. Do not include interaction effects yet.\n",
    "Again justify your priors. What do you conclude about the differences among the wines and judges?\n",
    "Try to relate the results to the inferences in the previous problem."
   ]
  },
  {
   "cell_type": "markdown",
   "metadata": {},
   "source": [
    "I'm presuming something broadly like the model that's shown below, where WN is wine nationality, JN is judge nationality, and f is the \"flight\"."
   ]
  },
  {
   "cell_type": "code",
   "execution_count": 28,
   "metadata": {},
   "outputs": [
    {
     "data": {
      "image/svg+xml": [
       "<?xml version=\"1.0\" encoding=\"UTF-8\" standalone=\"no\"?>\n",
       "<!DOCTYPE svg PUBLIC \"-//W3C//DTD SVG 1.1//EN\"\n",
       " \"http://www.w3.org/Graphics/SVG/1.1/DTD/svg11.dtd\">\n",
       "<!-- Generated by graphviz version 2.40.1 (20161225.0304)\n",
       " -->\n",
       "<!-- Title: %3 Pages: 1 -->\n",
       "<svg width=\"210pt\" height=\"116pt\"\n",
       " viewBox=\"0.00 0.00 209.60 116.00\" xmlns=\"http://www.w3.org/2000/svg\" xmlns:xlink=\"http://www.w3.org/1999/xlink\">\n",
       "<g id=\"graph0\" class=\"graph\" transform=\"scale(1 1) rotate(0) translate(4 112)\">\n",
       "<title>%3</title>\n",
       "<polygon fill=\"#ffffff\" stroke=\"transparent\" points=\"-4,4 -4,-112 205.5975,-112 205.5975,4 -4,4\"/>\n",
       "<!-- JN -->\n",
       "<g id=\"node1\" class=\"node\">\n",
       "<title>JN</title>\n",
       "<ellipse fill=\"none\" stroke=\"#000000\" cx=\"27\" cy=\"-90\" rx=\"27\" ry=\"18\"/>\n",
       "<text text-anchor=\"middle\" x=\"27\" y=\"-86.3\" font-family=\"Times,serif\" font-size=\"14.00\" fill=\"#000000\">JN</text>\n",
       "</g>\n",
       "<!-- Score -->\n",
       "<g id=\"node4\" class=\"node\">\n",
       "<title>Score</title>\n",
       "<ellipse fill=\"none\" stroke=\"#000000\" cx=\"99\" cy=\"-18\" rx=\"37.8943\" ry=\"18\"/>\n",
       "<text text-anchor=\"middle\" x=\"99\" y=\"-14.3\" font-family=\"Times,serif\" font-size=\"14.00\" fill=\"#000000\">Score</text>\n",
       "</g>\n",
       "<!-- JN&#45;&gt;Score -->\n",
       "<g id=\"edge1\" class=\"edge\">\n",
       "<title>JN&#45;&gt;Score</title>\n",
       "<path fill=\"none\" stroke=\"#000000\" d=\"M42.2693,-74.7307C51.9287,-65.0713 64.6085,-52.3915 75.5304,-41.4696\"/>\n",
       "<polygon fill=\"#000000\" stroke=\"#000000\" points=\"78.1558,-43.794 82.752,-34.248 73.206,-38.8442 78.1558,-43.794\"/>\n",
       "</g>\n",
       "<!-- F -->\n",
       "<g id=\"node2\" class=\"node\">\n",
       "<title>F</title>\n",
       "<ellipse fill=\"none\" stroke=\"#000000\" cx=\"99\" cy=\"-90\" rx=\"27\" ry=\"18\"/>\n",
       "<text text-anchor=\"middle\" x=\"99\" y=\"-86.3\" font-family=\"Times,serif\" font-size=\"14.00\" fill=\"#000000\">F</text>\n",
       "</g>\n",
       "<!-- F&#45;&gt;Score -->\n",
       "<g id=\"edge3\" class=\"edge\">\n",
       "<title>F&#45;&gt;Score</title>\n",
       "<path fill=\"none\" stroke=\"#000000\" d=\"M99,-71.8314C99,-64.131 99,-54.9743 99,-46.4166\"/>\n",
       "<polygon fill=\"#000000\" stroke=\"#000000\" points=\"102.5001,-46.4132 99,-36.4133 95.5001,-46.4133 102.5001,-46.4132\"/>\n",
       "</g>\n",
       "<!-- WN -->\n",
       "<g id=\"node3\" class=\"node\">\n",
       "<title>WN</title>\n",
       "<ellipse fill=\"none\" stroke=\"#000000\" cx=\"173\" cy=\"-90\" rx=\"28.6953\" ry=\"18\"/>\n",
       "<text text-anchor=\"middle\" x=\"173\" y=\"-86.3\" font-family=\"Times,serif\" font-size=\"14.00\" fill=\"#000000\">WN</text>\n",
       "</g>\n",
       "<!-- WN&#45;&gt;Score -->\n",
       "<g id=\"edge2\" class=\"edge\">\n",
       "<title>WN&#45;&gt;Score</title>\n",
       "<path fill=\"none\" stroke=\"#000000\" d=\"M157.3065,-74.7307C147.3789,-65.0713 134.3468,-52.3915 123.1216,-41.4696\"/>\n",
       "<polygon fill=\"#000000\" stroke=\"#000000\" points=\"125.3074,-38.713 115.6993,-34.248 120.4258,-43.7301 125.3074,-38.713\"/>\n",
       "</g>\n",
       "</g>\n",
       "</svg>\n"
      ],
      "text/plain": [
       "<graphviz.dot.Digraph at 0x7ffee5ca9070>"
      ]
     },
     "execution_count": 28,
     "metadata": {},
     "output_type": "execute_result"
    }
   ],
   "source": [
    "from causalgraphicalmodels import CausalGraphicalModel\n",
    "\n",
    "Dag = CausalGraphicalModel(\n",
    "    nodes=[\"JN\",\"WN\", \"F\",\"Score\"],\n",
    "    edges=[\n",
    "        (\"JN\",\"Score\"),\n",
    "        (\"WN\", \"Score\"),\n",
    "        (\"F\", \"Score\")\n",
    "    ]\n",
    ")\n",
    "\n",
    "# draw return a graphviz `dot` object, which jupyter can render\n",
    "\n",
    "Dag.draw()"
   ]
  },
  {
   "cell_type": "code",
   "execution_count": 31,
   "metadata": {},
   "outputs": [],
   "source": [
    "wine.flight.Cat"
   ]
  },
  {
   "cell_type": "markdown",
   "metadata": {},
   "source": [
    "The regression model this time looks something like $\\mu_i = \\alpha_{CIV[i]} + \\beta_{CIV[i]} + \\gamma_{CIV[i]}$\n",
    "\n",
    "where $\\alpha, \\beta, \\gamma$ are the effect sizes for JN, WN, and F respectively, each being index variables, because the effect size depends on whether or not you're American."
   ]
  },
  {
   "cell_type": "markdown",
   "metadata": {},
   "source": [
    "Putting priors onto this model is challenging. The same information theoretic  argument regarding the noise around $\\mu$ from last time holds here. It's hard to imagine that the mean score conditional on these binary random variables could shift that substantially away from the mean. Inspecting the data we can get a rough idea of the effect sizes we'd expect (AGAIN, I think this could be a completely illegitimate way actually form priors). I'm going to use N(0,0.1) as my prior on all of these index variables."
   ]
  },
  {
   "cell_type": "code",
   "execution_count": 33,
   "metadata": {},
   "outputs": [
    {
     "data": {
      "text/plain": [
       "<matplotlib.collections.PathCollection at 0x7ffedf884730>"
      ]
     },
     "execution_count": 33,
     "metadata": {},
     "output_type": "execute_result"
    },
    {
     "data": {
      "image/png": "[encoded data removed]",
      "text/plain": [
       "<Figure size 432x288 with 1 Axes>"
      ]
     },
     "metadata": {
      "needs_background": "light"
     },
     "output_type": "display_data"
    }
   ],
   "source": [
    "plt.scatter(wine[\"judge.amer\"], wine[\"s_score\"])"
   ]
  },
  {
   "cell_type": "code",
   "execution_count": 34,
   "metadata": {},
   "outputs": [],
   "source": [
    "wine.flight = pd.Categorical(wine.flight)\n",
    "wine[\"flight_index\"] = wine.flight.cat.codes"
   ]
  },
  {
   "cell_type": "code",
   "execution_count": 35,
   "metadata": {},
   "outputs": [
    {
     "data": {
      "text/plain": [
       "(judge.amer\n",
       " 0   -0.138808\n",
       " 1    0.111047\n",
       " Name: s_score, dtype: float64,\n",
       " wine.amer\n",
       " 0    0.115543\n",
       " 1   -0.077029\n",
       " Name: s_score, dtype: float64,\n",
       " flight_index\n",
       " 0   -0.002091\n",
       " 1    0.002091\n",
       " Name: s_score, dtype: float64)"
      ]
     },
     "execution_count": 35,
     "metadata": {},
     "output_type": "execute_result"
    }
   ],
   "source": [
    "wine.groupby(\"judge.amer\").s_score.mean(), wine.groupby(\"wine.amer\").s_score.mean(), wine.groupby(\"flight_index\").s_score.mean()"
   ]
  },
  {
   "cell_type": "code",
   "execution_count": 41,
   "metadata": {},
   "outputs": [
    {
     "name": "stderr",
     "output_type": "stream",
     "text": [
      "Auto-assigning NUTS sampler...\n",
      "Initializing NUTS using jitter+adapt_diag...\n",
      "Multiprocess sampling (4 chains in 4 jobs)\n",
      "NUTS: [sigma, gamma, beta, alpha]\n"
     ]
    },
    {
     "data": {
      "text/html": [
       "\n",
       "    <div>\n",
       "        <style>\n",
       "            /* Turns off some styling */\n",
       "            progress {\n",
       "                /* gets rid of default border in Firefox and Opera. */\n",
       "                border: none;\n",
       "                /* Needs to be in here for Safari polyfill so background images work as expected. */\n",
       "                background-size: auto;\n",
       "            }\n",
       "            .progress-bar-interrupted, .progress-bar-interrupted::-webkit-progress-bar {\n",
       "                background: #F44336;\n",
       "            }\n",
       "        </style>\n",
       "      <progress value='8000' class='' max='8000' style='width:300px; height:20px; vertical-align: middle;'></progress>\n",
       "      100.00% [8000/8000 00:04<00:00 Sampling 4 chains, 0 divergences]\n",
       "    </div>\n",
       "    "
      ],
      "text/plain": [
       "<IPython.core.display.HTML object>"
      ]
     },
     "metadata": {},
     "output_type": "display_data"
    },
    {
     "name": "stderr",
     "output_type": "stream",
     "text": [
      "Sampling 4 chains for 1_000 tune and 1_000 draw iterations (4_000 + 4_000 draws total) took 4 seconds.\n"
     ]
    }
   ],
   "source": [
    "with pm.Model() as other_wine_score:\n",
    "    alpha = pm.Normal(\"alpha\", 0,0.1,shape=(2))\n",
    "    beta = pm.Normal(\"beta\", 0,0.1,shape=(2))\n",
    "    gamma = pm.Normal(\"gamma\", 0,0.1,shape=(2))\n",
    "    sigma = pm.Exponential(\"sigma\", 1)\n",
    "    mu = alpha[wine[\"judge.amer\"]] + beta[wine[\"wine.amer\"]] + gamma[wine.flight_index]\n",
    "    wine_score = pm.Normal(\"wine_score\", mu=mu, sd=sigma, observed=wine.s_score)\n",
    "    other_wine_post = pm.sample(draws = 1000, chains=4,cores=4)"
   ]
  },
  {
   "cell_type": "code",
   "execution_count": null,
   "metadata": {},
   "outputs": [],
   "source": [
    "pm.summary(wine_post)"
   ]
  },
  {
   "cell_type": "markdown",
   "metadata": {},
   "source": [
    "These predictor variables have 97% compatability intervals which surround 0 effect size, indicating there isn't a whole lot of predictive power in knowing these binary variables. This is seen further in that the mean sigma in this model is precisely one, the maximum value that it would take if z scores and these binary random variables were completely independent of one another. To summarise, this model, left as is, is terrible, matching expections found from our previous model."
   ]
  },
  {
   "cell_type": "markdown",
   "metadata": {},
   "source": [
    "8H7. Now consider two-way interactions among the three features. You should end up with three\n",
    "different interaction terms in your model. These will be easier to build, if you use indicator variables.\n",
    "Again justify your priors. Explain what each interaction means. Be sure to interpret the model’s\n",
    "predictions on the outcome scale (mu, the expected score), not on the scale of individual parameters.\n",
    "You can use link to help with this, or just use your knowledge of the linear model instead. What do\n",
    "you conclude about the features and the scores? Can you relate the results of your model(s) to the\n",
    "individual judge and wine inferences from 8H5?"
   ]
  },
  {
   "cell_type": "markdown",
   "metadata": {},
   "source": [
    "Using the indicator variables for this is challenging. It seems plausible that people would have a bias for or against wine from their own country. I don't really see how the nationality of a wine and it's colour would interact. I'm going to imagine that white french wines would get bonus points, as they're particularly good, and further more that French judges have a preference for white wines. I cannot imagine that these effects are large. They're encoded into the model in the following way: \n",
    "\n",
    "\n",
    "$\\mu_i = \\alpha_{CIV[i]} + \\beta_{CIV[i]} + \\gamma_{CIV[i]} + \\phi_{(J,W)} \\mathbb{1}_{(JN=WN)}  + \\phi{(W,F) }\\mathbb{1}_{(JN=0 \\cap F=W)} + \\phi_{(W,F)} \\mathbb{1}_{(W=0 \\cap F=W)} $"
   ]
  },
  {
   "cell_type": "markdown",
   "metadata": {},
   "source": [
    "These indicator functions encode mean the interaction only kicks in when the data is in the required sets as outlined above and the $\\phi$ terms encode the size of the interactions. I imagine these effect size to be small, but I'm still open minded so use the prior N(0,0.2)."
   ]
  },
  {
   "cell_type": "code",
   "execution_count": null,
   "metadata": {},
   "outputs": [],
   "source": [
    "wine"
   ]
  },
  {
   "cell_type": "code",
   "execution_count": null,
   "metadata": {},
   "outputs": [],
   "source": [
    "#create the features for the indicator functions\n",
    "cond0 = (wine[\"wine.amer\"] == wine[\"judge.amer\"])+0 #american wine and american judge\n",
    "cond1 = (wine[\"judge.amer\"] == 0) & (wine.flight_index ==1) #french judge and white wine\n",
    "cond2 = (wine[\"wine.amer\"] == 0) & (wine.flight_index ==1) #french wine and white wine"
   ]
  },
  {
   "cell_type": "code",
   "execution_count": null,
   "metadata": {},
   "outputs": [],
   "source": [
    "#write this interaction model\n",
    "\n",
    "with pm.Model() as Interacting_wine_score:\n",
    "    alpha = pm.Normal(\"alpha\", 0,0.1,shape=(2))\n",
    "    beta = pm.Normal(\"beta\", 0,0.1,shape=(2))\n",
    "    gamma = pm.Normal(\"gamma\", 0,0.1,shape=(2))\n",
    "    phi = pm.Normal(\"phi\", 0,0.2,shape=(3))\n",
    "    sigma = pm.Exponential(\"sigma\", 1)\n",
    "    \n",
    "    mu = alpha[wine[\"judge.amer\"]] + beta[wine[\"wine.amer\"]] + gamma[wine.flight_index] + phi[0]*cond0 + phi[1]*cond1 + phi[2]*cond2\n",
    "    wine_score = pm.Normal(\"wine_score\", mu=mu, sd=sigma, observed=wine.s_score)\n",
    "    interacting_wine_post = pm.sample(draws = 1000, chains=4)"
   ]
  },
  {
   "cell_type": "code",
   "execution_count": null,
   "metadata": {},
   "outputs": [],
   "source": [
    "pm.summary(interacting_wine_post)"
   ]
  },
  {
   "cell_type": "markdown",
   "metadata": {},
   "source": [
    "All of these effects are tiny!"
   ]
  },
  {
   "cell_type": "code",
   "execution_count": null,
   "metadata": {},
   "outputs": [],
   "source": [
    "#let's compare all of the models\n",
    "compare_df = az.compare(\n",
    "    {\"wine_score\": wine_post, \"regularized_wine_score\": regularized_wine_post,\"over_regularized_wine_score\": over_regularized_wine_post,\n",
    "    \"other_wine_score\": other_wine_post, \"Interacting_wine_score\": interacting_wine_post},\n",
    "    ic=\"waic\",\n",
    "    scale=\"deviance\"\n",
    ")\n",
    "compare_df"
   ]
  },
  {
   "cell_type": "markdown",
   "metadata": {},
   "source": [
    "These other models do wayyy worse than the original froms the earier model. These interactions terms beween the nationality of the wine and the judge etc, just don't have much of an overall effect on how everything goes."
   ]
  },
  {
   "cell_type": "markdown",
   "metadata": {},
   "source": [
    "In summary, having a model with 20 parameters can get a lot more predictive power of the Z-score than some noddy interaction model. Something like the persona of a judge and the character of the wine form a more predictive model than nationalistic tendancies."
   ]
  }
 ],
 "metadata": {
  "kernelspec": {
   "display_name": "Bayes",
   "language": "python",
   "name": "bayes"
  },
  "language_info": {
   "codemirror_mode": {
    "name": "ipython",
    "version": 3
   },
   "file_extension": ".py",
   "mimetype": "text/x-python",
   "name": "python",
   "nbconvert_exporter": "python",
   "pygments_lexer": "ipython3",
   "version": "3.8.5"
  }
 },
 "nbformat": 4,
 "nbformat_minor": 4
}
