{
 "cells": [
  {
   "cell_type": "code",
   "execution_count": 1,
   "metadata": {},
   "outputs": [],
   "source": [
    "import numpy as np\n",
    "import matplotlib.pylab as plt\n",
    "import scipy.stats as stats\n",
    "import pymc3 as pm\n",
    "import pandas as pd\n",
    "import seaborn as sns\n",
    "import arviz as az\n",
    "from causalgraphicalmodels import CausalGraphicalModel"
   ]
  },
  {
   "cell_type": "markdown",
   "metadata": {},
   "source": [
    "# Chapter 9 - MARKOV CHAIN MONTE CARLO"
   ]
  },
  {
   "cell_type": "markdown",
   "metadata": {},
   "source": [
    "Lets dive straight into the end of chapter problems on this one. Hopefully this chapter will illuminate some of the dramatic looking warning messages that pymc3 throws at you when sampling. But they should be helpful"
   ]
  },
  {
   "cell_type": "markdown",
   "metadata": {},
   "source": [
    "9E1. Which of the following is a requirement of the simple Metropolis algorithm?\n",
    "\n",
    "(1) The parameters must be discrete.\n",
    "\n",
    "(2) The likelihood function must be Gaussian.\n",
    "\n",
    "(3) The proposal distribution must be symmetric"
   ]
  },
  {
   "cell_type": "markdown",
   "metadata": {},
   "source": [
    "Answer: 3), The propposal distribution must be symmetric."
   ]
  },
  {
   "cell_type": "markdown",
   "metadata": {},
   "source": [
    "9E2. Gibbs sampling is more efficient than the Metropolis algorithm. How does it achieve this extra\n",
    "efficiency? Are there any limitations to the Gibbs sampling strategy?"
   ]
  },
  {
   "cell_type": "markdown",
   "metadata": {},
   "source": [
    "Answer: Adaptive proposals. Gibbs samplers can make dynamically modify the distribution of the next place it will explore in the distribution based on the models current location in parameter space."
   ]
  },
  {
   "cell_type": "markdown",
   "metadata": {},
   "source": [
    "9E3. Which sort of parameters can Hamiltonian Monte Carlo not handle? Can you explain why?\n",
    "\n",
    "Answer: It relies on doing classical mechanics style simulations. The important thing is that the particle should be able to stop at any point, which it can't in a discrete phases space.\n",
    "\n",
    "Conventionally Hamiltonians often have derivatives of their degrees of freedom (referred to as conjugate momenta). I presume there's some hassle in defining a derivative on a discrete space. Intuitively I don't see why this would be an insurmountable obstacle however. \n",
    "\n",
    "Moreover, I'm guessing the main drama is ensuring that total energy is conserved. This is because at some points along it's trajectory the parameter space \"particle\" should lose all of it's kinetic energy at some place that's intermediate between two points in the discrete space. So the model \"kicks\" this zero kinetic energy particle to the nearest available spot, either stealing from the total energy or giving the particle more total energy, breaking the conventional laws of physics. FUN!\n"
   ]
  },
  {
   "cell_type": "markdown",
   "metadata": {},
   "source": [
    "9E5. Which value should Rhat approach, when a chain is sampling the posterior distribution correctly?\n",
    "\n",
    "Answer: It should approach 1 from above\n"
   ]
  },
  {
   "cell_type": "markdown",
   "metadata": {},
   "source": [
    "9E6. Sketch a good trace plot for a Markov chain, one that is effectively sampling from the posterior\n",
    "distribution. What is good about its shape? Then sketch a trace plot for a malfunctioning Markov\n",
    "chain. What about its shape indicates malfunction?\n",
    "\n",
    "Answer: See answer to 7\n",
    "\n",
    "9E7. Repeat the problem above, but now for a trace rank plot\n",
    "\n",
    "Answer: I refuse to sketch"
   ]
  },
  {
   "cell_type": "markdown",
   "metadata": {},
   "source": [
    "9M1. Re-estimate the terrain ruggedness model from the chapter, but now using a uniform prior\n",
    "for the standard deviation, sigma. The uniform prior should be dunif(0,1). Use ulam to estimate\n",
    "the posterior. Does the different prior have any detectible influence on the posterior distribution of\n",
    "sigma? Why or why not?"
   ]
  },
  {
   "cell_type": "code",
   "execution_count": 7,
   "metadata": {},
   "outputs": [],
   "source": [
    "Rugged = pd.read_csv(\"./data/rugged.csv\",delimiter=\";\")"
   ]
  },
  {
   "cell_type": "code",
   "execution_count": 8,
   "metadata": {},
   "outputs": [
    {
     "name": "stderr",
     "output_type": "stream",
     "text": [
      "<ipython-input-8-7ea6789546aa>:4: SettingWithCopyWarning: \n",
      "A value is trying to be set on a copy of a slice from a DataFrame.\n",
      "Try using .loc[row_indexer,col_indexer] = value instead\n",
      "\n",
      "See the caveats in the documentation: https://pandas.pydata.org/pandas-docs/stable/user_guide/indexing.html#returning-a-view-versus-a-copy\n",
      "  Complete[\"log_gdp\"] = np.log(Complete[\"rgdppc_2000\"])\n",
      "<ipython-input-8-7ea6789546aa>:5: SettingWithCopyWarning: \n",
      "A value is trying to be set on a copy of a slice from a DataFrame.\n",
      "Try using .loc[row_indexer,col_indexer] = value instead\n",
      "\n",
      "See the caveats in the documentation: https://pandas.pydata.org/pandas-docs/stable/user_guide/indexing.html#returning-a-view-versus-a-copy\n",
      "  Complete[\"s_log_gdp\"] = Complete[\"log_gdp\"]/np.mean(Complete[\"log_gdp\"])\n",
      "<ipython-input-8-7ea6789546aa>:6: SettingWithCopyWarning: \n",
      "A value is trying to be set on a copy of a slice from a DataFrame.\n",
      "Try using .loc[row_indexer,col_indexer] = value instead\n",
      "\n",
      "See the caveats in the documentation: https://pandas.pydata.org/pandas-docs/stable/user_guide/indexing.html#returning-a-view-versus-a-copy\n",
      "  Complete[\"s_rugged\"] = Complete[\"rugged\"]/np.max(Complete[\"rugged\"])\n"
     ]
    }
   ],
   "source": [
    "#get the complete cases \n",
    "Complete = Rugged.dropna(axis=0, subset=[\"rgdppc_2000\"])\n",
    "#lets standardise the variables like how he does in the book\n",
    "Complete[\"log_gdp\"] = np.log(Complete[\"rgdppc_2000\"])\n",
    "Complete[\"s_log_gdp\"] = Complete[\"log_gdp\"]/np.mean(Complete[\"log_gdp\"])\n",
    "Complete[\"s_rugged\"] = Complete[\"rugged\"]/np.max(Complete[\"rugged\"])"
   ]
  },
  {
   "cell_type": "code",
   "execution_count": 11,
   "metadata": {},
   "outputs": [
    {
     "name": "stderr",
     "output_type": "stream",
     "text": [
      "Auto-assigning NUTS sampler...\n",
      "Initializing NUTS using jitter+adapt_diag...\n",
      "Multiprocess sampling (4 chains in 4 jobs)\n",
      "NUTS: [sigma, b, a]\n"
     ]
    },
    {
     "data": {
      "text/html": [
       "\n",
       "    <div>\n",
       "        <style>\n",
       "            /* Turns off some styling */\n",
       "            progress {\n",
       "                /* gets rid of default border in Firefox and Opera. */\n",
       "                border: none;\n",
       "                /* Needs to be in here for Safari polyfill so background images work as expected. */\n",
       "                background-size: auto;\n",
       "            }\n",
       "            .progress-bar-interrupted, .progress-bar-interrupted::-webkit-progress-bar {\n",
       "                background: #F44336;\n",
       "            }\n",
       "        </style>\n",
       "      <progress value='8000' class='' max='8000' style='width:300px; height:20px; vertical-align: middle;'></progress>\n",
       "      100.00% [8000/8000 00:03<00:00 Sampling 4 chains, 0 divergences]\n",
       "    </div>\n",
       "    "
      ],
      "text/plain": [
       "<IPython.core.display.HTML object>"
      ]
     },
     "metadata": {},
     "output_type": "display_data"
    },
    {
     "name": "stderr",
     "output_type": "stream",
     "text": [
      "Sampling 4 chains for 1_000 tune and 1_000 draw iterations (4_000 + 4_000 draws total) took 4 seconds.\n",
      "Auto-assigning NUTS sampler...\n",
      "Initializing NUTS using jitter+adapt_diag...\n",
      "Multiprocess sampling (4 chains in 4 jobs)\n",
      "NUTS: [sigma, b, a]\n"
     ]
    },
    {
     "data": {
      "text/html": [
       "\n",
       "    <div>\n",
       "        <style>\n",
       "            /* Turns off some styling */\n",
       "            progress {\n",
       "                /* gets rid of default border in Firefox and Opera. */\n",
       "                border: none;\n",
       "                /* Needs to be in here for Safari polyfill so background images work as expected. */\n",
       "                background-size: auto;\n",
       "            }\n",
       "            .progress-bar-interrupted, .progress-bar-interrupted::-webkit-progress-bar {\n",
       "                background: #F44336;\n",
       "            }\n",
       "        </style>\n",
       "      <progress value='8000' class='' max='8000' style='width:300px; height:20px; vertical-align: middle;'></progress>\n",
       "      100.00% [8000/8000 00:03<00:00 Sampling 4 chains, 0 divergences]\n",
       "    </div>\n",
       "    "
      ],
      "text/plain": [
       "<IPython.core.display.HTML object>"
      ]
     },
     "metadata": {},
     "output_type": "display_data"
    },
    {
     "name": "stderr",
     "output_type": "stream",
     "text": [
      "Sampling 4 chains for 1_000 tune and 1_000 draw iterations (4_000 + 4_000 draws total) took 4 seconds.\n"
     ]
    }
   ],
   "source": [
    "#just run the standard model m8_3\n",
    "\n",
    "with pm.Model() as m8_3:\n",
    "    a = pm.Normal(\"a\", 0, 0.1,shape=2)\n",
    "    b = pm.Normal(\"b\", 0 ,0.3,shape=2)\n",
    "    sigma = pm.Exponential(\"sigma\",1)\n",
    "    mu = a[Complete.cont_africa] + b[Complete.cont_africa]*(Complete[\"s_rugged\"] - 0.215)\n",
    "    lgdp_std = pm.Normal(\"lgdp_std\",mu=mu,sd=sigma,observed=Complete[\"s_log_gdp\"])\n",
    "    m8_3_sample = pm.sample(draws = 1000, chains =4)\n",
    "\n",
    "#run model m8_3 with a uniform prior\n",
    "\n",
    "with pm.Model() as unif_sig_m8_3:\n",
    "    a = pm.Normal(\"a\", 0, 0.1,shape=2)\n",
    "    b = pm.Normal(\"b\", 0 ,0.3,shape=2)\n",
    "    sigma = pm.Uniform(\"sigma\",0,1)\n",
    "    mu = a[Complete.cont_africa] + b[Complete.cont_africa]*(Complete[\"s_rugged\"] - 0.215)\n",
    "    lgdp_std = pm.Normal(\"lgdp_std\",mu=mu,sd=sigma,observed=Complete[\"s_log_gdp\"])\n",
    "    unif_sig_m8_3_sample = pm.sample(draws = 1000, chains =4)"
   ]
  },
  {
   "cell_type": "code",
   "execution_count": 12,
   "metadata": {},
   "outputs": [
    {
     "data": {
      "image/png": "[encoded data removed]",
      "text/plain": [
       "<Figure size 720x504 with 2 Axes>"
      ]
     },
     "metadata": {
      "needs_background": "light"
     },
     "output_type": "display_data"
    }
   ],
   "source": [
    "fig, axs = plt.subplots(1,2,figsize=(10,7))\n",
    "\n",
    "axs[0].hist(m8_3_sample[\"sigma\"],density=True)\n",
    "axs[0].set_title(\"Exponential prior on $\\sigma$\")\n",
    "\n",
    "axs[1].hist(unif_sig_m8_3_sample[\"sigma\"],density=True)\n",
    "axs[1].set_title(\"Uniform prior on $\\sigma$\")\n",
    "\n",
    "plt.show()"
   ]
  },
  {
   "cell_type": "code",
   "execution_count": 13,
   "metadata": {},
   "outputs": [
    {
     "name": "stderr",
     "output_type": "stream",
     "text": [
      "/home/aidan/anaconda3/envs/Bayes/lib/python3.8/site-packages/arviz/data/io_pymc3.py:85: FutureWarning: Using `from_pymc3` without the model will be deprecated in a future release. Not using the model will return less accurate and less useful results. Make sure you use the model argument or call from_pymc3 within a model context.\n",
      "  warnings.warn(\n"
     ]
    },
    {
     "data": {
      "text/html": [
       "<div>\n",
       "<style scoped>\n",
       "    .dataframe tbody tr th:only-of-type {\n",
       "        vertical-align: middle;\n",
       "    }\n",
       "\n",
       "    .dataframe tbody tr th {\n",
       "        vertical-align: top;\n",
       "    }\n",
       "\n",
       "    .dataframe thead th {\n",
       "        text-align: right;\n",
       "    }\n",
       "</style>\n",
       "<table border=\"1\" class=\"dataframe\">\n",
       "  <thead>\n",
       "    <tr style=\"text-align: right;\">\n",
       "      <th></th>\n",
       "      <th>mean</th>\n",
       "      <th>sd</th>\n",
       "      <th>hdi_3%</th>\n",
       "      <th>hdi_97%</th>\n",
       "      <th>mcse_mean</th>\n",
       "      <th>mcse_sd</th>\n",
       "      <th>ess_mean</th>\n",
       "      <th>ess_sd</th>\n",
       "      <th>ess_bulk</th>\n",
       "      <th>ess_tail</th>\n",
       "      <th>r_hat</th>\n",
       "    </tr>\n",
       "  </thead>\n",
       "  <tbody>\n",
       "    <tr>\n",
       "      <th>a[0]</th>\n",
       "      <td>1.040</td>\n",
       "      <td>0.010</td>\n",
       "      <td>1.021</td>\n",
       "      <td>1.059</td>\n",
       "      <td>0.000</td>\n",
       "      <td>0.000</td>\n",
       "      <td>5721.0</td>\n",
       "      <td>5715.0</td>\n",
       "      <td>5706.0</td>\n",
       "      <td>3396.0</td>\n",
       "      <td>1.0</td>\n",
       "    </tr>\n",
       "    <tr>\n",
       "      <th>a[1]</th>\n",
       "      <td>0.861</td>\n",
       "      <td>0.017</td>\n",
       "      <td>0.830</td>\n",
       "      <td>0.892</td>\n",
       "      <td>0.000</td>\n",
       "      <td>0.000</td>\n",
       "      <td>4856.0</td>\n",
       "      <td>4856.0</td>\n",
       "      <td>4868.0</td>\n",
       "      <td>3242.0</td>\n",
       "      <td>1.0</td>\n",
       "    </tr>\n",
       "    <tr>\n",
       "      <th>b[0]</th>\n",
       "      <td>-0.137</td>\n",
       "      <td>0.057</td>\n",
       "      <td>-0.240</td>\n",
       "      <td>-0.026</td>\n",
       "      <td>0.001</td>\n",
       "      <td>0.001</td>\n",
       "      <td>6723.0</td>\n",
       "      <td>6318.0</td>\n",
       "      <td>6775.0</td>\n",
       "      <td>3054.0</td>\n",
       "      <td>1.0</td>\n",
       "    </tr>\n",
       "    <tr>\n",
       "      <th>b[1]</th>\n",
       "      <td>0.110</td>\n",
       "      <td>0.077</td>\n",
       "      <td>-0.031</td>\n",
       "      <td>0.252</td>\n",
       "      <td>0.001</td>\n",
       "      <td>0.001</td>\n",
       "      <td>6067.0</td>\n",
       "      <td>4753.0</td>\n",
       "      <td>6074.0</td>\n",
       "      <td>3420.0</td>\n",
       "      <td>1.0</td>\n",
       "    </tr>\n",
       "    <tr>\n",
       "      <th>sigma</th>\n",
       "      <td>0.113</td>\n",
       "      <td>0.006</td>\n",
       "      <td>0.101</td>\n",
       "      <td>0.125</td>\n",
       "      <td>0.000</td>\n",
       "      <td>0.000</td>\n",
       "      <td>4871.0</td>\n",
       "      <td>4829.0</td>\n",
       "      <td>4877.0</td>\n",
       "      <td>3224.0</td>\n",
       "      <td>1.0</td>\n",
       "    </tr>\n",
       "  </tbody>\n",
       "</table>\n",
       "</div>"
      ],
      "text/plain": [
       "        mean     sd  hdi_3%  hdi_97%  mcse_mean  mcse_sd  ess_mean  ess_sd  \\\n",
       "a[0]   1.040  0.010   1.021    1.059      0.000    0.000    5721.0  5715.0   \n",
       "a[1]   0.861  0.017   0.830    0.892      0.000    0.000    4856.0  4856.0   \n",
       "b[0]  -0.137  0.057  -0.240   -0.026      0.001    0.001    6723.0  6318.0   \n",
       "b[1]   0.110  0.077  -0.031    0.252      0.001    0.001    6067.0  4753.0   \n",
       "sigma  0.113  0.006   0.101    0.125      0.000    0.000    4871.0  4829.0   \n",
       "\n",
       "       ess_bulk  ess_tail  r_hat  \n",
       "a[0]     5706.0    3396.0    1.0  \n",
       "a[1]     4868.0    3242.0    1.0  \n",
       "b[0]     6775.0    3054.0    1.0  \n",
       "b[1]     6074.0    3420.0    1.0  \n",
       "sigma    4877.0    3224.0    1.0  "
      ]
     },
     "execution_count": 13,
     "metadata": {},
     "output_type": "execute_result"
    }
   ],
   "source": [
    "pm.summary(m8_3_sample)"
   ]
  },
  {
   "cell_type": "code",
   "execution_count": 14,
   "metadata": {},
   "outputs": [
    {
     "name": "stderr",
     "output_type": "stream",
     "text": [
      "/home/aidan/anaconda3/envs/Bayes/lib/python3.8/site-packages/arviz/data/io_pymc3.py:85: FutureWarning: Using `from_pymc3` without the model will be deprecated in a future release. Not using the model will return less accurate and less useful results. Make sure you use the model argument or call from_pymc3 within a model context.\n",
      "  warnings.warn(\n"
     ]
    },
    {
     "data": {
      "text/html": [
       "<div>\n",
       "<style scoped>\n",
       "    .dataframe tbody tr th:only-of-type {\n",
       "        vertical-align: middle;\n",
       "    }\n",
       "\n",
       "    .dataframe tbody tr th {\n",
       "        vertical-align: top;\n",
       "    }\n",
       "\n",
       "    .dataframe thead th {\n",
       "        text-align: right;\n",
       "    }\n",
       "</style>\n",
       "<table border=\"1\" class=\"dataframe\">\n",
       "  <thead>\n",
       "    <tr style=\"text-align: right;\">\n",
       "      <th></th>\n",
       "      <th>mean</th>\n",
       "      <th>sd</th>\n",
       "      <th>hdi_3%</th>\n",
       "      <th>hdi_97%</th>\n",
       "      <th>mcse_mean</th>\n",
       "      <th>mcse_sd</th>\n",
       "      <th>ess_mean</th>\n",
       "      <th>ess_sd</th>\n",
       "      <th>ess_bulk</th>\n",
       "      <th>ess_tail</th>\n",
       "      <th>r_hat</th>\n",
       "    </tr>\n",
       "  </thead>\n",
       "  <tbody>\n",
       "    <tr>\n",
       "      <th>a[0]</th>\n",
       "      <td>1.040</td>\n",
       "      <td>0.010</td>\n",
       "      <td>1.021</td>\n",
       "      <td>1.059</td>\n",
       "      <td>0.000</td>\n",
       "      <td>0.000</td>\n",
       "      <td>6739.0</td>\n",
       "      <td>6739.0</td>\n",
       "      <td>6746.0</td>\n",
       "      <td>3122.0</td>\n",
       "      <td>1.0</td>\n",
       "    </tr>\n",
       "    <tr>\n",
       "      <th>a[1]</th>\n",
       "      <td>0.860</td>\n",
       "      <td>0.016</td>\n",
       "      <td>0.828</td>\n",
       "      <td>0.889</td>\n",
       "      <td>0.000</td>\n",
       "      <td>0.000</td>\n",
       "      <td>5437.0</td>\n",
       "      <td>5437.0</td>\n",
       "      <td>5460.0</td>\n",
       "      <td>3261.0</td>\n",
       "      <td>1.0</td>\n",
       "    </tr>\n",
       "    <tr>\n",
       "      <th>b[0]</th>\n",
       "      <td>-0.139</td>\n",
       "      <td>0.056</td>\n",
       "      <td>-0.246</td>\n",
       "      <td>-0.035</td>\n",
       "      <td>0.001</td>\n",
       "      <td>0.001</td>\n",
       "      <td>7234.0</td>\n",
       "      <td>5742.0</td>\n",
       "      <td>7224.0</td>\n",
       "      <td>3227.0</td>\n",
       "      <td>1.0</td>\n",
       "    </tr>\n",
       "    <tr>\n",
       "      <th>b[1]</th>\n",
       "      <td>0.110</td>\n",
       "      <td>0.078</td>\n",
       "      <td>-0.041</td>\n",
       "      <td>0.254</td>\n",
       "      <td>0.001</td>\n",
       "      <td>0.001</td>\n",
       "      <td>5456.0</td>\n",
       "      <td>3625.0</td>\n",
       "      <td>5502.0</td>\n",
       "      <td>2414.0</td>\n",
       "      <td>1.0</td>\n",
       "    </tr>\n",
       "    <tr>\n",
       "      <th>sigma</th>\n",
       "      <td>0.113</td>\n",
       "      <td>0.006</td>\n",
       "      <td>0.101</td>\n",
       "      <td>0.125</td>\n",
       "      <td>0.000</td>\n",
       "      <td>0.000</td>\n",
       "      <td>5242.0</td>\n",
       "      <td>5190.0</td>\n",
       "      <td>5300.0</td>\n",
       "      <td>3117.0</td>\n",
       "      <td>1.0</td>\n",
       "    </tr>\n",
       "  </tbody>\n",
       "</table>\n",
       "</div>"
      ],
      "text/plain": [
       "        mean     sd  hdi_3%  hdi_97%  mcse_mean  mcse_sd  ess_mean  ess_sd  \\\n",
       "a[0]   1.040  0.010   1.021    1.059      0.000    0.000    6739.0  6739.0   \n",
       "a[1]   0.860  0.016   0.828    0.889      0.000    0.000    5437.0  5437.0   \n",
       "b[0]  -0.139  0.056  -0.246   -0.035      0.001    0.001    7234.0  5742.0   \n",
       "b[1]   0.110  0.078  -0.041    0.254      0.001    0.001    5456.0  3625.0   \n",
       "sigma  0.113  0.006   0.101    0.125      0.000    0.000    5242.0  5190.0   \n",
       "\n",
       "       ess_bulk  ess_tail  r_hat  \n",
       "a[0]     6746.0    3122.0    1.0  \n",
       "a[1]     5460.0    3261.0    1.0  \n",
       "b[0]     7224.0    3227.0    1.0  \n",
       "b[1]     5502.0    2414.0    1.0  \n",
       "sigma    5300.0    3117.0    1.0  "
      ]
     },
     "execution_count": 14,
     "metadata": {},
     "output_type": "execute_result"
    }
   ],
   "source": [
    "pm.summary(unif_sig_m8_3_sample)"
   ]
  },
  {
   "cell_type": "markdown",
   "metadata": {},
   "source": [
    "Switching the $\\sigma$ prior from Exp(1) to Unif(0,1) really doesn't do a great deal to the model. We generally expect the model to choose a value less than one and this is what both of these priors anticapate, the exponential only partially (with 63% of it's mass for $\\sigma \\leq 1$ ), the uniform absolutely (With all of it's mass less than 1).\n",
    "\n",
    "Moreover, there's a lot of data for us to use, and as both of these priors have similar enough qualitative expectations, the data drowns out any of the differences."
   ]
  },
  {
   "cell_type": "markdown",
   "metadata": {},
   "source": [
    "9M2. Modify the terrain ruggedness model again. This time, change the prior for b[cid] to dexp(0.3).\n",
    "What does this do to the posterior distribution? Can you explain it?"
   ]
  },
  {
   "cell_type": "markdown",
   "metadata": {},
   "source": [
    "Answer: I presume he means change the original model, and not to add this change in addition to the uniform that we did above (Not that I think this would actually do very much). Before we actually run it though, we now know this new prior constrains b to only having positive values. This should allow us to anticapate what's coming. Let's do it"
   ]
  },
  {
   "cell_type": "code",
   "execution_count": 15,
   "metadata": {},
   "outputs": [
    {
     "name": "stderr",
     "output_type": "stream",
     "text": [
      "Auto-assigning NUTS sampler...\n",
      "Initializing NUTS using jitter+adapt_diag...\n",
      "Multiprocess sampling (4 chains in 4 jobs)\n",
      "NUTS: [sigma, b, a]\n"
     ]
    },
    {
     "data": {
      "text/html": [
       "\n",
       "    <div>\n",
       "        <style>\n",
       "            /* Turns off some styling */\n",
       "            progress {\n",
       "                /* gets rid of default border in Firefox and Opera. */\n",
       "                border: none;\n",
       "                /* Needs to be in here for Safari polyfill so background images work as expected. */\n",
       "                background-size: auto;\n",
       "            }\n",
       "            .progress-bar-interrupted, .progress-bar-interrupted::-webkit-progress-bar {\n",
       "                background: #F44336;\n",
       "            }\n",
       "        </style>\n",
       "      <progress value='8000' class='' max='8000' style='width:300px; height:20px; vertical-align: middle;'></progress>\n",
       "      100.00% [8000/8000 00:05<00:00 Sampling 4 chains, 44 divergences]\n",
       "    </div>\n",
       "    "
      ],
      "text/plain": [
       "<IPython.core.display.HTML object>"
      ]
     },
     "metadata": {},
     "output_type": "display_data"
    },
    {
     "name": "stderr",
     "output_type": "stream",
     "text": [
      "Sampling 4 chains for 1_000 tune and 1_000 draw iterations (4_000 + 4_000 draws total) took 5 seconds.\n",
      "There were 2 divergences after tuning. Increase `target_accept` or reparameterize.\n",
      "There were 42 divergences after tuning. Increase `target_accept` or reparameterize.\n"
     ]
    }
   ],
   "source": [
    "with pm.Model() as b_exp_m8_3:\n",
    "    a = pm.Normal(\"a\", 0, 0.1,shape=2)\n",
    "    b = pm.Exponential(\"b\", 0.3,shape=2)\n",
    "    sigma = pm.Exponential(\"sigma\",1)\n",
    "    mu = a[Complete.cont_africa] + b[Complete.cont_africa]*(Complete[\"s_rugged\"] - 0.215)\n",
    "    lgdp_std = pm.Normal(\"lgdp_std\",mu=mu,sd=sigma,observed=Complete[\"s_log_gdp\"])\n",
    "    b_exp_m8_3_sample = pm.sample(draws = 1000, chains =4)"
   ]
  },
  {
   "cell_type": "code",
   "execution_count": 16,
   "metadata": {},
   "outputs": [
    {
     "name": "stderr",
     "output_type": "stream",
     "text": [
      "/home/aidan/anaconda3/envs/Bayes/lib/python3.8/site-packages/arviz/data/io_pymc3.py:85: FutureWarning: Using `from_pymc3` without the model will be deprecated in a future release. Not using the model will return less accurate and less useful results. Make sure you use the model argument or call from_pymc3 within a model context.\n",
      "  warnings.warn(\n"
     ]
    },
    {
     "data": {
      "image/png": "[encoded data removed]",
      "text/plain": [
       "<Figure size 1080x360 with 2 Axes>"
      ]
     },
     "metadata": {
      "needs_background": "light"
     },
     "output_type": "display_data"
    }
   ],
   "source": [
    "fig, axs = plt.subplots(1,2,figsize=(15,5))\n",
    "\n",
    "\n",
    "pm.forestplot(m8_3_sample, ax = axs[0])\n",
    "\n",
    "pm.forestplot(b_exp_m8_3_sample, ax = axs[1])\n",
    "\n",
    "plt.show()"
   ]
  },
  {
   "cell_type": "code",
   "execution_count": 17,
   "metadata": {},
   "outputs": [
    {
     "data": {
      "image/png": "[encoded data removed]",
      "text/plain": [
       "<Figure size 1080x504 with 2 Axes>"
      ]
     },
     "metadata": {
      "needs_background": "light"
     },
     "output_type": "display_data"
    }
   ],
   "source": [
    "fig, axs = plt.subplots(1,2,figsize=(15,7))\n",
    "\n",
    "axs[0].hist(m8_3_sample[\"b\"][:,0],density=True, alpha = 0.5, label=\"Normal prior\")\n",
    "axs[0].hist(b_exp_m8_3_sample[\"b\"][:,0],density=True, alpha = 0.5, label=\"Exponential prior\")\n",
    "axs[0].set_title(\"Normal prior on b[0]\")\n",
    "\n",
    "axs[1].hist(m8_3_sample[\"b\"][:,1],density=True, alpha = 0.5, label=\"Normal prior\")\n",
    "axs[1].hist(b_exp_m8_3_sample[\"b\"][:,1],density=True, alpha = 0.5,label=\"Exponential prior\")\n",
    "axs[1].set_title(\"Exponential prior on b\")\n",
    "\n",
    "plt.legend()\n",
    "plt.show()"
   ]
  },
  {
   "cell_type": "markdown",
   "metadata": {},
   "source": [
    "This simply constrains the parameters to be positive, as I stated above. Nothing else too spooky has occurs here that I can observe."
   ]
  },
  {
   "cell_type": "markdown",
   "metadata": {},
   "source": [
    "9M3. Re-estimate one of the Stan models from the chapter, but at different numbers of warmup iterations. Be sure to use the same number of sampling iterations in each case. Compare the n_eff\n",
    "values. How much warmup is enough?\n",
    "\n",
    "Answers: Alright then. We're using pymc3 and not stan, so we'll have to improvise. \n",
    "\n",
    "To translate terms from the book into pymc3:\n",
    "\n",
    "n_eff = ess_mean\n",
    "\n",
    "Rhat4 = r_hat\n",
    "\n",
    "(source: https://github.com/pymc-devs/resources/blob/master/Rethinking_2/Chp_09.ipynb)\n",
    "\n",
    "Basically, I think this is what the \"tune\" parameter is for when you use pymc3. See this guide for more info: https://colcarroll.github.io/hmc_tuning_talk/.\n",
    "\n",
    "Let's draw random samples from the posterior a few times, each with different values for $\\textit{tune}$ and see what happens"
   ]
  },
  {
   "cell_type": "code",
   "execution_count": 18,
   "metadata": {},
   "outputs": [
    {
     "name": "stderr",
     "output_type": "stream",
     "text": [
      "Auto-assigning NUTS sampler...\n",
      "Initializing NUTS using jitter+adapt_diag...\n",
      "Multiprocess sampling (4 chains in 4 jobs)\n",
      "NUTS: [sigma, b, a]\n"
     ]
    },
    {
     "data": {
      "text/html": [
       "\n",
       "    <div>\n",
       "        <style>\n",
       "            /* Turns off some styling */\n",
       "            progress {\n",
       "                /* gets rid of default border in Firefox and Opera. */\n",
       "                border: none;\n",
       "                /* Needs to be in here for Safari polyfill so background images work as expected. */\n",
       "                background-size: auto;\n",
       "            }\n",
       "            .progress-bar-interrupted, .progress-bar-interrupted::-webkit-progress-bar {\n",
       "                background: #F44336;\n",
       "            }\n",
       "        </style>\n",
       "      <progress value='4040' class='' max='4040' style='width:300px; height:20px; vertical-align: middle;'></progress>\n",
       "      100.00% [4040/4040 00:03<00:00 Sampling 4 chains, 279 divergences]\n",
       "    </div>\n",
       "    "
      ],
      "text/plain": [
       "<IPython.core.display.HTML object>"
      ]
     },
     "metadata": {},
     "output_type": "display_data"
    },
    {
     "name": "stderr",
     "output_type": "stream",
     "text": [
      "Sampling 4 chains for 10 tune and 1_000 draw iterations (40 + 4_000 draws total) took 4 seconds.\n",
      "There were 279 divergences after tuning. Increase `target_accept` or reparameterize.\n",
      "The acceptance probability does not match the target. It is 0.36628365259258033, but should be close to 0.8. Try to increase the number of tuning steps.\n",
      "The number of effective samples is smaller than 10% for some parameters.\n",
      "Auto-assigning NUTS sampler...\n",
      "Initializing NUTS using jitter+adapt_diag...\n",
      "Multiprocess sampling (4 chains in 4 jobs)\n",
      "NUTS: [sigma, b, a]\n"
     ]
    },
    {
     "data": {
      "text/html": [
       "\n",
       "    <div>\n",
       "        <style>\n",
       "            /* Turns off some styling */\n",
       "            progress {\n",
       "                /* gets rid of default border in Firefox and Opera. */\n",
       "                border: none;\n",
       "                /* Needs to be in here for Safari polyfill so background images work as expected. */\n",
       "                background-size: auto;\n",
       "            }\n",
       "            .progress-bar-interrupted, .progress-bar-interrupted::-webkit-progress-bar {\n",
       "                background: #F44336;\n",
       "            }\n",
       "        </style>\n",
       "      <progress value='4400' class='' max='4400' style='width:300px; height:20px; vertical-align: middle;'></progress>\n",
       "      100.00% [4400/4400 00:07<00:00 Sampling 4 chains, 0 divergences]\n",
       "    </div>\n",
       "    "
      ],
      "text/plain": [
       "<IPython.core.display.HTML object>"
      ]
     },
     "metadata": {},
     "output_type": "display_data"
    },
    {
     "name": "stderr",
     "output_type": "stream",
     "text": [
      "Sampling 4 chains for 100 tune and 1_000 draw iterations (400 + 4_000 draws total) took 7 seconds.\n",
      "The acceptance probability does not match the target. It is 0.9371737191471339, but should be close to 0.8. Try to increase the number of tuning steps.\n",
      "The acceptance probability does not match the target. It is 0.9298014240684072, but should be close to 0.8. Try to increase the number of tuning steps.\n",
      "The acceptance probability does not match the target. It is 0.9316727994761608, but should be close to 0.8. Try to increase the number of tuning steps.\n",
      "The acceptance probability does not match the target. It is 0.9279297307640884, but should be close to 0.8. Try to increase the number of tuning steps.\n",
      "Auto-assigning NUTS sampler...\n",
      "Initializing NUTS using jitter+adapt_diag...\n",
      "Multiprocess sampling (4 chains in 4 jobs)\n",
      "NUTS: [sigma, b, a]\n"
     ]
    },
    {
     "data": {
      "text/html": [
       "\n",
       "    <div>\n",
       "        <style>\n",
       "            /* Turns off some styling */\n",
       "            progress {\n",
       "                /* gets rid of default border in Firefox and Opera. */\n",
       "                border: none;\n",
       "                /* Needs to be in here for Safari polyfill so background images work as expected. */\n",
       "                background-size: auto;\n",
       "            }\n",
       "            .progress-bar-interrupted, .progress-bar-interrupted::-webkit-progress-bar {\n",
       "                background: #F44336;\n",
       "            }\n",
       "        </style>\n",
       "      <progress value='6000' class='' max='6000' style='width:300px; height:20px; vertical-align: middle;'></progress>\n",
       "      100.00% [6000/6000 00:03<00:00 Sampling 4 chains, 0 divergences]\n",
       "    </div>\n",
       "    "
      ],
      "text/plain": [
       "<IPython.core.display.HTML object>"
      ]
     },
     "metadata": {},
     "output_type": "display_data"
    },
    {
     "name": "stderr",
     "output_type": "stream",
     "text": [
      "Sampling 4 chains for 500 tune and 1_000 draw iterations (2_000 + 4_000 draws total) took 4 seconds.\n",
      "The acceptance probability does not match the target. It is 0.8824986183857909, but should be close to 0.8. Try to increase the number of tuning steps.\n",
      "Auto-assigning NUTS sampler...\n",
      "Initializing NUTS using jitter+adapt_diag...\n",
      "Multiprocess sampling (4 chains in 4 jobs)\n",
      "NUTS: [sigma, b, a]\n"
     ]
    },
    {
     "data": {
      "text/html": [
       "\n",
       "    <div>\n",
       "        <style>\n",
       "            /* Turns off some styling */\n",
       "            progress {\n",
       "                /* gets rid of default border in Firefox and Opera. */\n",
       "                border: none;\n",
       "                /* Needs to be in here for Safari polyfill so background images work as expected. */\n",
       "                background-size: auto;\n",
       "            }\n",
       "            .progress-bar-interrupted, .progress-bar-interrupted::-webkit-progress-bar {\n",
       "                background: #F44336;\n",
       "            }\n",
       "        </style>\n",
       "      <progress value='8000' class='' max='8000' style='width:300px; height:20px; vertical-align: middle;'></progress>\n",
       "      100.00% [8000/8000 00:06<00:00 Sampling 4 chains, 0 divergences]\n",
       "    </div>\n",
       "    "
      ],
      "text/plain": [
       "<IPython.core.display.HTML object>"
      ]
     },
     "metadata": {},
     "output_type": "display_data"
    },
    {
     "name": "stderr",
     "output_type": "stream",
     "text": [
      "Sampling 4 chains for 1_000 tune and 1_000 draw iterations (4_000 + 4_000 draws total) took 7 seconds.\n",
      "Auto-assigning NUTS sampler...\n",
      "Initializing NUTS using jitter+adapt_diag...\n",
      "Multiprocess sampling (4 chains in 4 jobs)\n",
      "NUTS: [sigma, b, a]\n"
     ]
    },
    {
     "data": {
      "text/html": [
       "\n",
       "    <div>\n",
       "        <style>\n",
       "            /* Turns off some styling */\n",
       "            progress {\n",
       "                /* gets rid of default border in Firefox and Opera. */\n",
       "                border: none;\n",
       "                /* Needs to be in here for Safari polyfill so background images work as expected. */\n",
       "                background-size: auto;\n",
       "            }\n",
       "            .progress-bar-interrupted, .progress-bar-interrupted::-webkit-progress-bar {\n",
       "                background: #F44336;\n",
       "            }\n",
       "        </style>\n",
       "      <progress value='10000' class='' max='10000' style='width:300px; height:20px; vertical-align: middle;'></progress>\n",
       "      100.00% [10000/10000 00:05<00:00 Sampling 4 chains, 0 divergences]\n",
       "    </div>\n",
       "    "
      ],
      "text/plain": [
       "<IPython.core.display.HTML object>"
      ]
     },
     "metadata": {},
     "output_type": "display_data"
    },
    {
     "name": "stderr",
     "output_type": "stream",
     "text": [
      "Sampling 4 chains for 1_500 tune and 1_000 draw iterations (6_000 + 4_000 draws total) took 6 seconds.\n"
     ]
    }
   ],
   "source": [
    "#get samples with different amounts of tuning\n",
    "with m8_3:\n",
    "    tune10 = pm.sample(draws = 1000, chains=4, tune=10)\n",
    "    tune100 = pm.sample(draws = 1000, chains=4, tune=100)\n",
    "    tune500 = pm.sample(draws = 1000, chains=4, tune=500)\n",
    "    tune1000 = pm.sample(draws = 1000, chains=4, tune=1000)\n",
    "    tune1500 = pm.sample(draws = 1000, chains=4, tune=1500)"
   ]
  },
  {
   "cell_type": "markdown",
   "metadata": {},
   "source": [
    "As can be seen, some of the dramatic messages all now make sense. If you inspect the first run, we only had 100 tunning steps. This probably wasn't enough for the model to start running real well over all, and hence it couldn't get the step size right, which lead to a bad acceptance rate for the new samples, probably because the step size was set to a tiny tiny value. Once you reach around 500 tuning samples however, the system is able figure out a good step size allowing it to sample much much more effectively."
   ]
  },
  {
   "cell_type": "code",
   "execution_count": 19,
   "metadata": {},
   "outputs": [
    {
     "name": "stderr",
     "output_type": "stream",
     "text": [
      "/home/aidan/anaconda3/envs/Bayes/lib/python3.8/site-packages/arviz/data/io_pymc3.py:85: FutureWarning: Using `from_pymc3` without the model will be deprecated in a future release. Not using the model will return less accurate and less useful results. Make sure you use the model argument or call from_pymc3 within a model context.\n",
      "  warnings.warn(\n"
     ]
    },
    {
     "data": {
      "text/html": [
       "<div>\n",
       "<style scoped>\n",
       "    .dataframe tbody tr th:only-of-type {\n",
       "        vertical-align: middle;\n",
       "    }\n",
       "\n",
       "    .dataframe tbody tr th {\n",
       "        vertical-align: top;\n",
       "    }\n",
       "\n",
       "    .dataframe thead th {\n",
       "        text-align: right;\n",
       "    }\n",
       "</style>\n",
       "<table border=\"1\" class=\"dataframe\">\n",
       "  <thead>\n",
       "    <tr style=\"text-align: right;\">\n",
       "      <th></th>\n",
       "      <th>mean</th>\n",
       "      <th>sd</th>\n",
       "      <th>hdi_3%</th>\n",
       "      <th>hdi_97%</th>\n",
       "      <th>mcse_mean</th>\n",
       "      <th>mcse_sd</th>\n",
       "      <th>ess_mean</th>\n",
       "      <th>ess_sd</th>\n",
       "      <th>ess_bulk</th>\n",
       "      <th>ess_tail</th>\n",
       "      <th>r_hat</th>\n",
       "    </tr>\n",
       "  </thead>\n",
       "  <tbody>\n",
       "    <tr>\n",
       "      <th>a[0]</th>\n",
       "      <td>1.040</td>\n",
       "      <td>0.011</td>\n",
       "      <td>1.019</td>\n",
       "      <td>1.059</td>\n",
       "      <td>0.000</td>\n",
       "      <td>0.000</td>\n",
       "      <td>2139.0</td>\n",
       "      <td>2139.0</td>\n",
       "      <td>2182.0</td>\n",
       "      <td>1185.0</td>\n",
       "      <td>1.00</td>\n",
       "    </tr>\n",
       "    <tr>\n",
       "      <th>a[1]</th>\n",
       "      <td>0.861</td>\n",
       "      <td>0.017</td>\n",
       "      <td>0.830</td>\n",
       "      <td>0.891</td>\n",
       "      <td>0.000</td>\n",
       "      <td>0.000</td>\n",
       "      <td>1714.0</td>\n",
       "      <td>1708.0</td>\n",
       "      <td>1736.0</td>\n",
       "      <td>1906.0</td>\n",
       "      <td>1.00</td>\n",
       "    </tr>\n",
       "    <tr>\n",
       "      <th>b[0]</th>\n",
       "      <td>-0.130</td>\n",
       "      <td>0.063</td>\n",
       "      <td>-0.251</td>\n",
       "      <td>-0.022</td>\n",
       "      <td>0.003</td>\n",
       "      <td>0.002</td>\n",
       "      <td>341.0</td>\n",
       "      <td>341.0</td>\n",
       "      <td>335.0</td>\n",
       "      <td>200.0</td>\n",
       "      <td>1.03</td>\n",
       "    </tr>\n",
       "    <tr>\n",
       "      <th>b[1]</th>\n",
       "      <td>0.125</td>\n",
       "      <td>0.081</td>\n",
       "      <td>-0.024</td>\n",
       "      <td>0.268</td>\n",
       "      <td>0.005</td>\n",
       "      <td>0.003</td>\n",
       "      <td>290.0</td>\n",
       "      <td>290.0</td>\n",
       "      <td>288.0</td>\n",
       "      <td>603.0</td>\n",
       "      <td>1.01</td>\n",
       "    </tr>\n",
       "    <tr>\n",
       "      <th>sigma</th>\n",
       "      <td>0.113</td>\n",
       "      <td>0.009</td>\n",
       "      <td>0.102</td>\n",
       "      <td>0.126</td>\n",
       "      <td>0.000</td>\n",
       "      <td>0.000</td>\n",
       "      <td>406.0</td>\n",
       "      <td>406.0</td>\n",
       "      <td>297.0</td>\n",
       "      <td>388.0</td>\n",
       "      <td>1.01</td>\n",
       "    </tr>\n",
       "  </tbody>\n",
       "</table>\n",
       "</div>"
      ],
      "text/plain": [
       "        mean     sd  hdi_3%  hdi_97%  mcse_mean  mcse_sd  ess_mean  ess_sd  \\\n",
       "a[0]   1.040  0.011   1.019    1.059      0.000    0.000    2139.0  2139.0   \n",
       "a[1]   0.861  0.017   0.830    0.891      0.000    0.000    1714.0  1708.0   \n",
       "b[0]  -0.130  0.063  -0.251   -0.022      0.003    0.002     341.0   341.0   \n",
       "b[1]   0.125  0.081  -0.024    0.268      0.005    0.003     290.0   290.0   \n",
       "sigma  0.113  0.009   0.102    0.126      0.000    0.000     406.0   406.0   \n",
       "\n",
       "       ess_bulk  ess_tail  r_hat  \n",
       "a[0]     2182.0    1185.0   1.00  \n",
       "a[1]     1736.0    1906.0   1.00  \n",
       "b[0]      335.0     200.0   1.03  \n",
       "b[1]      288.0     603.0   1.01  \n",
       "sigma     297.0     388.0   1.01  "
      ]
     },
     "execution_count": 19,
     "metadata": {},
     "output_type": "execute_result"
    }
   ],
   "source": [
    "pm.summary(tune10)"
   ]
  },
  {
   "cell_type": "markdown",
   "metadata": {},
   "source": [
    "For the model with ten, the numbe of effect sample is tiny. If you look at the warning message you can see that the acceptance rate swings around erratically for each of the four chains, some near 0, some near 1, but all off the pre-decided target acceptance rate of 0.8. (I don't know why 0.8 is the magic number)"
   ]
  },
  {
   "cell_type": "code",
   "execution_count": 20,
   "metadata": {},
   "outputs": [
    {
     "name": "stderr",
     "output_type": "stream",
     "text": [
      "/home/aidan/anaconda3/envs/Bayes/lib/python3.8/site-packages/arviz/data/io_pymc3.py:85: FutureWarning: Using `from_pymc3` without the model will be deprecated in a future release. Not using the model will return less accurate and less useful results. Make sure you use the model argument or call from_pymc3 within a model context.\n",
      "  warnings.warn(\n"
     ]
    },
    {
     "data": {
      "text/html": [
       "<div>\n",
       "<style scoped>\n",
       "    .dataframe tbody tr th:only-of-type {\n",
       "        vertical-align: middle;\n",
       "    }\n",
       "\n",
       "    .dataframe tbody tr th {\n",
       "        vertical-align: top;\n",
       "    }\n",
       "\n",
       "    .dataframe thead th {\n",
       "        text-align: right;\n",
       "    }\n",
       "</style>\n",
       "<table border=\"1\" class=\"dataframe\">\n",
       "  <thead>\n",
       "    <tr style=\"text-align: right;\">\n",
       "      <th></th>\n",
       "      <th>mean</th>\n",
       "      <th>sd</th>\n",
       "      <th>hdi_3%</th>\n",
       "      <th>hdi_97%</th>\n",
       "      <th>mcse_mean</th>\n",
       "      <th>mcse_sd</th>\n",
       "      <th>ess_mean</th>\n",
       "      <th>ess_sd</th>\n",
       "      <th>ess_bulk</th>\n",
       "      <th>ess_tail</th>\n",
       "      <th>r_hat</th>\n",
       "    </tr>\n",
       "  </thead>\n",
       "  <tbody>\n",
       "    <tr>\n",
       "      <th>a[0]</th>\n",
       "      <td>1.040</td>\n",
       "      <td>0.010</td>\n",
       "      <td>1.022</td>\n",
       "      <td>1.061</td>\n",
       "      <td>0.000</td>\n",
       "      <td>0.000</td>\n",
       "      <td>4151.0</td>\n",
       "      <td>4151.0</td>\n",
       "      <td>4168.0</td>\n",
       "      <td>2816.0</td>\n",
       "      <td>1.0</td>\n",
       "    </tr>\n",
       "    <tr>\n",
       "      <th>a[1]</th>\n",
       "      <td>0.860</td>\n",
       "      <td>0.017</td>\n",
       "      <td>0.828</td>\n",
       "      <td>0.891</td>\n",
       "      <td>0.000</td>\n",
       "      <td>0.000</td>\n",
       "      <td>4284.0</td>\n",
       "      <td>4284.0</td>\n",
       "      <td>4282.0</td>\n",
       "      <td>2831.0</td>\n",
       "      <td>1.0</td>\n",
       "    </tr>\n",
       "    <tr>\n",
       "      <th>b[0]</th>\n",
       "      <td>-0.135</td>\n",
       "      <td>0.057</td>\n",
       "      <td>-0.236</td>\n",
       "      <td>-0.026</td>\n",
       "      <td>0.001</td>\n",
       "      <td>0.001</td>\n",
       "      <td>1590.0</td>\n",
       "      <td>1589.0</td>\n",
       "      <td>1589.0</td>\n",
       "      <td>1675.0</td>\n",
       "      <td>1.0</td>\n",
       "    </tr>\n",
       "    <tr>\n",
       "      <th>b[1]</th>\n",
       "      <td>0.112</td>\n",
       "      <td>0.078</td>\n",
       "      <td>-0.022</td>\n",
       "      <td>0.271</td>\n",
       "      <td>0.002</td>\n",
       "      <td>0.002</td>\n",
       "      <td>1332.0</td>\n",
       "      <td>1211.0</td>\n",
       "      <td>1337.0</td>\n",
       "      <td>1389.0</td>\n",
       "      <td>1.0</td>\n",
       "    </tr>\n",
       "    <tr>\n",
       "      <th>sigma</th>\n",
       "      <td>0.113</td>\n",
       "      <td>0.006</td>\n",
       "      <td>0.101</td>\n",
       "      <td>0.124</td>\n",
       "      <td>0.000</td>\n",
       "      <td>0.000</td>\n",
       "      <td>3317.0</td>\n",
       "      <td>3303.0</td>\n",
       "      <td>3317.0</td>\n",
       "      <td>2636.0</td>\n",
       "      <td>1.0</td>\n",
       "    </tr>\n",
       "  </tbody>\n",
       "</table>\n",
       "</div>"
      ],
      "text/plain": [
       "        mean     sd  hdi_3%  hdi_97%  mcse_mean  mcse_sd  ess_mean  ess_sd  \\\n",
       "a[0]   1.040  0.010   1.022    1.061      0.000    0.000    4151.0  4151.0   \n",
       "a[1]   0.860  0.017   0.828    0.891      0.000    0.000    4284.0  4284.0   \n",
       "b[0]  -0.135  0.057  -0.236   -0.026      0.001    0.001    1590.0  1589.0   \n",
       "b[1]   0.112  0.078  -0.022    0.271      0.002    0.002    1332.0  1211.0   \n",
       "sigma  0.113  0.006   0.101    0.124      0.000    0.000    3317.0  3303.0   \n",
       "\n",
       "       ess_bulk  ess_tail  r_hat  \n",
       "a[0]     4168.0    2816.0    1.0  \n",
       "a[1]     4282.0    2831.0    1.0  \n",
       "b[0]     1589.0    1675.0    1.0  \n",
       "b[1]     1337.0    1389.0    1.0  \n",
       "sigma    3317.0    2636.0    1.0  "
      ]
     },
     "execution_count": 20,
     "metadata": {},
     "output_type": "execute_result"
    }
   ],
   "source": [
    "pm.summary(tune100)"
   ]
  },
  {
   "cell_type": "markdown",
   "metadata": {},
   "source": [
    "Increasing the tuning samples makes the number of effective samples for a, and sigma much better, nearer to the actual number of samples of 4000. But the numbers for b are still offensively small in comparison. I'm not totally sure why there are so many more effective samples for parameter a than parameter b. Given that they have a broader prior than a, I'd have thought there would be less of an issue for sampling well.\n",
    "\n",
    "# Have a better reason for why this happens"
   ]
  },
  {
   "cell_type": "code",
   "execution_count": 21,
   "metadata": {},
   "outputs": [
    {
     "name": "stderr",
     "output_type": "stream",
     "text": [
      "/home/aidan/anaconda3/envs/Bayes/lib/python3.8/site-packages/arviz/data/io_pymc3.py:85: FutureWarning: Using `from_pymc3` without the model will be deprecated in a future release. Not using the model will return less accurate and less useful results. Make sure you use the model argument or call from_pymc3 within a model context.\n",
      "  warnings.warn(\n"
     ]
    },
    {
     "data": {
      "text/html": [
       "<div>\n",
       "<style scoped>\n",
       "    .dataframe tbody tr th:only-of-type {\n",
       "        vertical-align: middle;\n",
       "    }\n",
       "\n",
       "    .dataframe tbody tr th {\n",
       "        vertical-align: top;\n",
       "    }\n",
       "\n",
       "    .dataframe thead th {\n",
       "        text-align: right;\n",
       "    }\n",
       "</style>\n",
       "<table border=\"1\" class=\"dataframe\">\n",
       "  <thead>\n",
       "    <tr style=\"text-align: right;\">\n",
       "      <th></th>\n",
       "      <th>mean</th>\n",
       "      <th>sd</th>\n",
       "      <th>hdi_3%</th>\n",
       "      <th>hdi_97%</th>\n",
       "      <th>mcse_mean</th>\n",
       "      <th>mcse_sd</th>\n",
       "      <th>ess_mean</th>\n",
       "      <th>ess_sd</th>\n",
       "      <th>ess_bulk</th>\n",
       "      <th>ess_tail</th>\n",
       "      <th>r_hat</th>\n",
       "    </tr>\n",
       "  </thead>\n",
       "  <tbody>\n",
       "    <tr>\n",
       "      <th>a[0]</th>\n",
       "      <td>1.040</td>\n",
       "      <td>0.010</td>\n",
       "      <td>1.021</td>\n",
       "      <td>1.060</td>\n",
       "      <td>0.000</td>\n",
       "      <td>0.000</td>\n",
       "      <td>4637.0</td>\n",
       "      <td>4637.0</td>\n",
       "      <td>4645.0</td>\n",
       "      <td>3124.0</td>\n",
       "      <td>1.0</td>\n",
       "    </tr>\n",
       "    <tr>\n",
       "      <th>a[1]</th>\n",
       "      <td>0.861</td>\n",
       "      <td>0.017</td>\n",
       "      <td>0.830</td>\n",
       "      <td>0.892</td>\n",
       "      <td>0.000</td>\n",
       "      <td>0.000</td>\n",
       "      <td>4074.0</td>\n",
       "      <td>4074.0</td>\n",
       "      <td>4114.0</td>\n",
       "      <td>3357.0</td>\n",
       "      <td>1.0</td>\n",
       "    </tr>\n",
       "    <tr>\n",
       "      <th>b[0]</th>\n",
       "      <td>-0.136</td>\n",
       "      <td>0.056</td>\n",
       "      <td>-0.245</td>\n",
       "      <td>-0.033</td>\n",
       "      <td>0.001</td>\n",
       "      <td>0.001</td>\n",
       "      <td>5724.0</td>\n",
       "      <td>5428.0</td>\n",
       "      <td>5744.0</td>\n",
       "      <td>3149.0</td>\n",
       "      <td>1.0</td>\n",
       "    </tr>\n",
       "    <tr>\n",
       "      <th>b[1]</th>\n",
       "      <td>0.112</td>\n",
       "      <td>0.078</td>\n",
       "      <td>-0.033</td>\n",
       "      <td>0.254</td>\n",
       "      <td>0.001</td>\n",
       "      <td>0.001</td>\n",
       "      <td>3889.0</td>\n",
       "      <td>3583.0</td>\n",
       "      <td>3895.0</td>\n",
       "      <td>3167.0</td>\n",
       "      <td>1.0</td>\n",
       "    </tr>\n",
       "    <tr>\n",
       "      <th>sigma</th>\n",
       "      <td>0.113</td>\n",
       "      <td>0.006</td>\n",
       "      <td>0.100</td>\n",
       "      <td>0.124</td>\n",
       "      <td>0.000</td>\n",
       "      <td>0.000</td>\n",
       "      <td>4208.0</td>\n",
       "      <td>4166.0</td>\n",
       "      <td>4267.0</td>\n",
       "      <td>3060.0</td>\n",
       "      <td>1.0</td>\n",
       "    </tr>\n",
       "  </tbody>\n",
       "</table>\n",
       "</div>"
      ],
      "text/plain": [
       "        mean     sd  hdi_3%  hdi_97%  mcse_mean  mcse_sd  ess_mean  ess_sd  \\\n",
       "a[0]   1.040  0.010   1.021    1.060      0.000    0.000    4637.0  4637.0   \n",
       "a[1]   0.861  0.017   0.830    0.892      0.000    0.000    4074.0  4074.0   \n",
       "b[0]  -0.136  0.056  -0.245   -0.033      0.001    0.001    5724.0  5428.0   \n",
       "b[1]   0.112  0.078  -0.033    0.254      0.001    0.001    3889.0  3583.0   \n",
       "sigma  0.113  0.006   0.100    0.124      0.000    0.000    4208.0  4166.0   \n",
       "\n",
       "       ess_bulk  ess_tail  r_hat  \n",
       "a[0]     4645.0    3124.0    1.0  \n",
       "a[1]     4114.0    3357.0    1.0  \n",
       "b[0]     5744.0    3149.0    1.0  \n",
       "b[1]     3895.0    3167.0    1.0  \n",
       "sigma    4267.0    3060.0    1.0  "
      ]
     },
     "execution_count": 21,
     "metadata": {},
     "output_type": "execute_result"
    }
   ],
   "source": [
    "pm.summary(tune500)"
   ]
  },
  {
   "cell_type": "code",
   "execution_count": 22,
   "metadata": {},
   "outputs": [
    {
     "name": "stderr",
     "output_type": "stream",
     "text": [
      "/home/aidan/anaconda3/envs/Bayes/lib/python3.8/site-packages/arviz/data/io_pymc3.py:85: FutureWarning: Using `from_pymc3` without the model will be deprecated in a future release. Not using the model will return less accurate and less useful results. Make sure you use the model argument or call from_pymc3 within a model context.\n",
      "  warnings.warn(\n"
     ]
    },
    {
     "data": {
      "text/html": [
       "<div>\n",
       "<style scoped>\n",
       "    .dataframe tbody tr th:only-of-type {\n",
       "        vertical-align: middle;\n",
       "    }\n",
       "\n",
       "    .dataframe tbody tr th {\n",
       "        vertical-align: top;\n",
       "    }\n",
       "\n",
       "    .dataframe thead th {\n",
       "        text-align: right;\n",
       "    }\n",
       "</style>\n",
       "<table border=\"1\" class=\"dataframe\">\n",
       "  <thead>\n",
       "    <tr style=\"text-align: right;\">\n",
       "      <th></th>\n",
       "      <th>mean</th>\n",
       "      <th>sd</th>\n",
       "      <th>hdi_3%</th>\n",
       "      <th>hdi_97%</th>\n",
       "      <th>mcse_mean</th>\n",
       "      <th>mcse_sd</th>\n",
       "      <th>ess_mean</th>\n",
       "      <th>ess_sd</th>\n",
       "      <th>ess_bulk</th>\n",
       "      <th>ess_tail</th>\n",
       "      <th>r_hat</th>\n",
       "    </tr>\n",
       "  </thead>\n",
       "  <tbody>\n",
       "    <tr>\n",
       "      <th>a[0]</th>\n",
       "      <td>1.040</td>\n",
       "      <td>0.010</td>\n",
       "      <td>1.019</td>\n",
       "      <td>1.057</td>\n",
       "      <td>0.000</td>\n",
       "      <td>0.000</td>\n",
       "      <td>6367.0</td>\n",
       "      <td>6367.0</td>\n",
       "      <td>6369.0</td>\n",
       "      <td>3228.0</td>\n",
       "      <td>1.0</td>\n",
       "    </tr>\n",
       "    <tr>\n",
       "      <th>a[1]</th>\n",
       "      <td>0.861</td>\n",
       "      <td>0.016</td>\n",
       "      <td>0.829</td>\n",
       "      <td>0.890</td>\n",
       "      <td>0.000</td>\n",
       "      <td>0.000</td>\n",
       "      <td>5454.0</td>\n",
       "      <td>5454.0</td>\n",
       "      <td>5471.0</td>\n",
       "      <td>3112.0</td>\n",
       "      <td>1.0</td>\n",
       "    </tr>\n",
       "    <tr>\n",
       "      <th>b[0]</th>\n",
       "      <td>-0.138</td>\n",
       "      <td>0.056</td>\n",
       "      <td>-0.238</td>\n",
       "      <td>-0.027</td>\n",
       "      <td>0.001</td>\n",
       "      <td>0.001</td>\n",
       "      <td>7536.0</td>\n",
       "      <td>6276.0</td>\n",
       "      <td>7549.0</td>\n",
       "      <td>3225.0</td>\n",
       "      <td>1.0</td>\n",
       "    </tr>\n",
       "    <tr>\n",
       "      <th>b[1]</th>\n",
       "      <td>0.112</td>\n",
       "      <td>0.076</td>\n",
       "      <td>-0.024</td>\n",
       "      <td>0.261</td>\n",
       "      <td>0.001</td>\n",
       "      <td>0.001</td>\n",
       "      <td>6065.0</td>\n",
       "      <td>4551.0</td>\n",
       "      <td>6079.0</td>\n",
       "      <td>3212.0</td>\n",
       "      <td>1.0</td>\n",
       "    </tr>\n",
       "    <tr>\n",
       "      <th>sigma</th>\n",
       "      <td>0.113</td>\n",
       "      <td>0.006</td>\n",
       "      <td>0.100</td>\n",
       "      <td>0.124</td>\n",
       "      <td>0.000</td>\n",
       "      <td>0.000</td>\n",
       "      <td>4700.0</td>\n",
       "      <td>4700.0</td>\n",
       "      <td>4709.0</td>\n",
       "      <td>3019.0</td>\n",
       "      <td>1.0</td>\n",
       "    </tr>\n",
       "  </tbody>\n",
       "</table>\n",
       "</div>"
      ],
      "text/plain": [
       "        mean     sd  hdi_3%  hdi_97%  mcse_mean  mcse_sd  ess_mean  ess_sd  \\\n",
       "a[0]   1.040  0.010   1.019    1.057      0.000    0.000    6367.0  6367.0   \n",
       "a[1]   0.861  0.016   0.829    0.890      0.000    0.000    5454.0  5454.0   \n",
       "b[0]  -0.138  0.056  -0.238   -0.027      0.001    0.001    7536.0  6276.0   \n",
       "b[1]   0.112  0.076  -0.024    0.261      0.001    0.001    6065.0  4551.0   \n",
       "sigma  0.113  0.006   0.100    0.124      0.000    0.000    4700.0  4700.0   \n",
       "\n",
       "       ess_bulk  ess_tail  r_hat  \n",
       "a[0]     6369.0    3228.0    1.0  \n",
       "a[1]     5471.0    3112.0    1.0  \n",
       "b[0]     7549.0    3225.0    1.0  \n",
       "b[1]     6079.0    3212.0    1.0  \n",
       "sigma    4709.0    3019.0    1.0  "
      ]
     },
     "execution_count": 22,
     "metadata": {},
     "output_type": "execute_result"
    }
   ],
   "source": [
    "pm.summary(tune1000)"
   ]
  },
  {
   "cell_type": "code",
   "execution_count": 23,
   "metadata": {},
   "outputs": [
    {
     "name": "stderr",
     "output_type": "stream",
     "text": [
      "/home/aidan/anaconda3/envs/Bayes/lib/python3.8/site-packages/arviz/data/io_pymc3.py:85: FutureWarning: Using `from_pymc3` without the model will be deprecated in a future release. Not using the model will return less accurate and less useful results. Make sure you use the model argument or call from_pymc3 within a model context.\n",
      "  warnings.warn(\n"
     ]
    },
    {
     "data": {
      "text/html": [
       "<div>\n",
       "<style scoped>\n",
       "    .dataframe tbody tr th:only-of-type {\n",
       "        vertical-align: middle;\n",
       "    }\n",
       "\n",
       "    .dataframe tbody tr th {\n",
       "        vertical-align: top;\n",
       "    }\n",
       "\n",
       "    .dataframe thead th {\n",
       "        text-align: right;\n",
       "    }\n",
       "</style>\n",
       "<table border=\"1\" class=\"dataframe\">\n",
       "  <thead>\n",
       "    <tr style=\"text-align: right;\">\n",
       "      <th></th>\n",
       "      <th>mean</th>\n",
       "      <th>sd</th>\n",
       "      <th>hdi_3%</th>\n",
       "      <th>hdi_97%</th>\n",
       "      <th>mcse_mean</th>\n",
       "      <th>mcse_sd</th>\n",
       "      <th>ess_mean</th>\n",
       "      <th>ess_sd</th>\n",
       "      <th>ess_bulk</th>\n",
       "      <th>ess_tail</th>\n",
       "      <th>r_hat</th>\n",
       "    </tr>\n",
       "  </thead>\n",
       "  <tbody>\n",
       "    <tr>\n",
       "      <th>a[0]</th>\n",
       "      <td>1.040</td>\n",
       "      <td>0.010</td>\n",
       "      <td>1.020</td>\n",
       "      <td>1.059</td>\n",
       "      <td>0.000</td>\n",
       "      <td>0.000</td>\n",
       "      <td>5894.0</td>\n",
       "      <td>5894.0</td>\n",
       "      <td>5946.0</td>\n",
       "      <td>3119.0</td>\n",
       "      <td>1.0</td>\n",
       "    </tr>\n",
       "    <tr>\n",
       "      <th>a[1]</th>\n",
       "      <td>0.861</td>\n",
       "      <td>0.016</td>\n",
       "      <td>0.827</td>\n",
       "      <td>0.890</td>\n",
       "      <td>0.000</td>\n",
       "      <td>0.000</td>\n",
       "      <td>6210.0</td>\n",
       "      <td>6210.0</td>\n",
       "      <td>6217.0</td>\n",
       "      <td>2866.0</td>\n",
       "      <td>1.0</td>\n",
       "    </tr>\n",
       "    <tr>\n",
       "      <th>b[0]</th>\n",
       "      <td>-0.137</td>\n",
       "      <td>0.056</td>\n",
       "      <td>-0.243</td>\n",
       "      <td>-0.033</td>\n",
       "      <td>0.001</td>\n",
       "      <td>0.001</td>\n",
       "      <td>6071.0</td>\n",
       "      <td>5271.0</td>\n",
       "      <td>6094.0</td>\n",
       "      <td>3273.0</td>\n",
       "      <td>1.0</td>\n",
       "    </tr>\n",
       "    <tr>\n",
       "      <th>b[1]</th>\n",
       "      <td>0.111</td>\n",
       "      <td>0.077</td>\n",
       "      <td>-0.035</td>\n",
       "      <td>0.256</td>\n",
       "      <td>0.001</td>\n",
       "      <td>0.001</td>\n",
       "      <td>5915.0</td>\n",
       "      <td>4560.0</td>\n",
       "      <td>5920.0</td>\n",
       "      <td>3325.0</td>\n",
       "      <td>1.0</td>\n",
       "    </tr>\n",
       "    <tr>\n",
       "      <th>sigma</th>\n",
       "      <td>0.113</td>\n",
       "      <td>0.006</td>\n",
       "      <td>0.101</td>\n",
       "      <td>0.124</td>\n",
       "      <td>0.000</td>\n",
       "      <td>0.000</td>\n",
       "      <td>5307.0</td>\n",
       "      <td>5205.0</td>\n",
       "      <td>5432.0</td>\n",
       "      <td>3144.0</td>\n",
       "      <td>1.0</td>\n",
       "    </tr>\n",
       "  </tbody>\n",
       "</table>\n",
       "</div>"
      ],
      "text/plain": [
       "        mean     sd  hdi_3%  hdi_97%  mcse_mean  mcse_sd  ess_mean  ess_sd  \\\n",
       "a[0]   1.040  0.010   1.020    1.059      0.000    0.000    5894.0  5894.0   \n",
       "a[1]   0.861  0.016   0.827    0.890      0.000    0.000    6210.0  6210.0   \n",
       "b[0]  -0.137  0.056  -0.243   -0.033      0.001    0.001    6071.0  5271.0   \n",
       "b[1]   0.111  0.077  -0.035    0.256      0.001    0.001    5915.0  4560.0   \n",
       "sigma  0.113  0.006   0.101    0.124      0.000    0.000    5307.0  5205.0   \n",
       "\n",
       "       ess_bulk  ess_tail  r_hat  \n",
       "a[0]     5946.0    3119.0    1.0  \n",
       "a[1]     6217.0    2866.0    1.0  \n",
       "b[0]     6094.0    3273.0    1.0  \n",
       "b[1]     5920.0    3325.0    1.0  \n",
       "sigma    5432.0    3144.0    1.0  "
      ]
     },
     "execution_count": 23,
     "metadata": {},
     "output_type": "execute_result"
    }
   ],
   "source": [
    "pm.summary(tune1500)"
   ]
  },
  {
   "cell_type": "markdown",
   "metadata": {},
   "source": [
    "We can see that after 500 tuning steps, the growth in the effective number of samples stops growing as rapidly, and that all are higher than the actual 4,000 samples that were actually done."
   ]
  },
  {
   "cell_type": "markdown",
   "metadata": {},
   "source": [
    "9H1. Run the model below and then inspect the posterior distribution and explain what it is accomplishing."
   ]
  },
  {
   "cell_type": "markdown",
   "metadata": {},
   "source": [
    "mp <- ulam(\n",
    "\n",
    "alist(\n",
    "\n",
    "a ~ dnorm(0,1),\n",
    "\n",
    "b ~ dcauchy(0,1)\n",
    "\n",
    "), data=list(y=1) , chains=1 )"
   ]
  },
  {
   "cell_type": "markdown",
   "metadata": {},
   "source": [
    "Compare the samples for the parameters a and b. Can you explain the different trace plots? If you are\n",
    "unfamiliar with the Cauchy distribution, you should look it up. The key feature to attend to is that it\n",
    "has no expected value. Can you connect this fact to the trace plot?"
   ]
  },
  {
   "cell_type": "markdown",
   "metadata": {},
   "source": [
    "Answer: This is a strange model. There's no likelihood model written into this. I'm not even sure you can write this in pymc3. The model doesn't make any connection between a,b and the data. It just specifies the priors. I think this model basically just samples the prior distributions, and the purpose of the question is to see how well MCMC can handle the two prior distributions. As we all know Cauchy distributions are fat tailed and the central limit theorems break down for these models, so we expect everything to go bonkers with the samples."
   ]
  },
  {
   "cell_type": "code",
   "execution_count": 33,
   "metadata": {},
   "outputs": [
    {
     "name": "stderr",
     "output_type": "stream",
     "text": [
      "Auto-assigning NUTS sampler...\n",
      "Initializing NUTS using jitter+adapt_diag...\n",
      "Sequential sampling (1 chains in 1 job)\n",
      "NUTS: [b, a]\n"
     ]
    },
    {
     "data": {
      "text/html": [
       "\n",
       "    <div>\n",
       "        <style>\n",
       "            /* Turns off some styling */\n",
       "            progress {\n",
       "                /* gets rid of default border in Firefox and Opera. */\n",
       "                border: none;\n",
       "                /* Needs to be in here for Safari polyfill so background images work as expected. */\n",
       "                background-size: auto;\n",
       "            }\n",
       "            .progress-bar-interrupted, .progress-bar-interrupted::-webkit-progress-bar {\n",
       "                background: #F44336;\n",
       "            }\n",
       "        </style>\n",
       "      <progress value='2000' class='' max='2000' style='width:300px; height:20px; vertical-align: middle;'></progress>\n",
       "      100.00% [2000/2000 00:03<00:00 Sampling chain 0, 0 divergences]\n",
       "    </div>\n",
       "    "
      ],
      "text/plain": [
       "<IPython.core.display.HTML object>"
      ]
     },
     "metadata": {},
     "output_type": "display_data"
    },
    {
     "name": "stderr",
     "output_type": "stream",
     "text": [
      "Sampling 1 chain for 1_000 tune and 1_000 draw iterations (1_000 + 1_000 draws total) took 3 seconds.\n",
      "The acceptance probability does not match the target. It is 0.2848097968728422, but should be close to 0.8. Try to increase the number of tuning steps.\n",
      "Only one chain was sampled, this makes it impossible to run some convergence checks\n"
     ]
    }
   ],
   "source": [
    "#run the model from question H1\n",
    "\n",
    "with pm.Model() as H1:\n",
    "    a = pm.Normal(\"a\", 0, 0.1)\n",
    "    b = pm.Cauchy(\"b\", 0,1)\n",
    "    y = 1\n",
    "    prior_sample = pm.sample_prior_predictive(samples = 1000)\n",
    "    H1_post_sample = pm.sample(draws = 1000,chains=1)"
   ]
  },
  {
   "cell_type": "code",
   "execution_count": 34,
   "metadata": {},
   "outputs": [
    {
     "name": "stderr",
     "output_type": "stream",
     "text": [
      "/home/aidan/anaconda3/envs/Bayes/lib/python3.8/site-packages/arviz/data/io_pymc3.py:85: FutureWarning: Using `from_pymc3` without the model will be deprecated in a future release. Not using the model will return less accurate and less useful results. Make sure you use the model argument or call from_pymc3 within a model context.\n",
      "  warnings.warn(\n"
     ]
    },
    {
     "data": {
      "text/plain": [
       "array([[<AxesSubplot:title={'center':'a'}>,\n",
       "        <AxesSubplot:title={'center':'a'}>],\n",
       "       [<AxesSubplot:title={'center':'b'}>,\n",
       "        <AxesSubplot:title={'center':'b'}>]], dtype=object)"
      ]
     },
     "execution_count": 34,
     "metadata": {},
     "output_type": "execute_result"
    },
    {
     "data": {
      "image/png": "[encoded data removed]",
      "text/plain": [
       "<Figure size 864x288 with 4 Axes>"
      ]
     },
     "metadata": {
      "needs_background": "light"
     },
     "output_type": "display_data"
    }
   ],
   "source": [
    "pm.traceplot(H1_post_sample)"
   ]
  },
  {
   "cell_type": "markdown",
   "metadata": {},
   "source": [
    "Indeed, the trace plot goes go bonkers for b, as we periodically get wild values. It breaks the stationarity criterion of a \"healthy\" chain. This all boils down to the Cauchy distribition being heavy tailed, so extreme outliers aren't too uncommon for this sample. Looking at parameter a, we see that the chain remains firmly located within a tiny narrow range of the sample space, as it should for a well behaving normal distribution."
   ]
  },
  {
   "cell_type": "markdown",
   "metadata": {},
   "source": [
    "9H2. Recall the divorce rate example from Chapter 5. Repeat that analysis, using ulam this time,\n",
    "fitting models m5.1, m5.2, and m5.3. Use compare to compare the models on the basis of WAIC\n",
    "or PSIS. To use WAIC or PSIS with ulam, you need add the argument log_log=TRUE. Explain the\n",
    "model comparison results."
   ]
  },
  {
   "cell_type": "markdown",
   "metadata": {},
   "source": [
    "Answer: So MCMC was what I was using all along (and that's more than okay). But now I've got to add the model comparison to the part to the code. This is straightforward in pymc3. We'll use PSIS to perform our model comparison."
   ]
  },
  {
   "cell_type": "code",
   "execution_count": 35,
   "metadata": {},
   "outputs": [],
   "source": [
    "#yoink the data\n",
    "data = pd.read_csv(\"./data/WaffleDivorce.csv\",delimiter=\";\")# load waffle data"
   ]
  },
  {
   "cell_type": "code",
   "execution_count": 36,
   "metadata": {},
   "outputs": [],
   "source": [
    "#scale all of the data\n",
    "scaled_M = (data.Marriage - np.mean(data.Marriage))/np.std(data.Marriage)\n",
    "scaled_A = (data.MedianAgeMarriage - np.mean(data.MedianAgeMarriage))/np.std(data.MedianAgeMarriage)\n",
    "scaled_D = (data.Divorce - np.mean(data.Divorce))/np.std(data.Divorce)"
   ]
  },
  {
   "cell_type": "markdown",
   "metadata": {},
   "source": [
    "One can peform linear regressions. I reproduce fig 5.2 showing the Bayesian linear regressions between Marriage rate and divorce rate asa well as Median Marriage age and divorce rate"
   ]
  },
  {
   "cell_type": "code",
   "execution_count": 39,
   "metadata": {
    "scrolled": true
   },
   "outputs": [
    {
     "name": "stderr",
     "output_type": "stream",
     "text": [
      "Only 250 samples in chain.\n",
      "Auto-assigning NUTS sampler...\n",
      "Initializing NUTS using jitter+adapt_diag...\n",
      "Multiprocess sampling (4 chains in 4 jobs)\n",
      "NUTS: [sigma, beta_A, alpha]\n"
     ]
    },
    {
     "data": {
      "text/html": [
       "\n",
       "    <div>\n",
       "        <style>\n",
       "            /* Turns off some styling */\n",
       "            progress {\n",
       "                /* gets rid of default border in Firefox and Opera. */\n",
       "                border: none;\n",
       "                /* Needs to be in here for Safari polyfill so background images work as expected. */\n",
       "                background-size: auto;\n",
       "            }\n",
       "            .progress-bar-interrupted, .progress-bar-interrupted::-webkit-progress-bar {\n",
       "                background: #F44336;\n",
       "            }\n",
       "        </style>\n",
       "      <progress value='5000' class='' max='5000' style='width:300px; height:20px; vertical-align: middle;'></progress>\n",
       "      100.00% [5000/5000 00:01<00:00 Sampling 4 chains, 0 divergences]\n",
       "    </div>\n",
       "    "
      ],
      "text/plain": [
       "<IPython.core.display.HTML object>"
      ]
     },
     "metadata": {},
     "output_type": "display_data"
    },
    {
     "name": "stderr",
     "output_type": "stream",
     "text": [
      "Sampling 4 chains for 1_000 tune and 250 draw iterations (4_000 + 1_000 draws total) took 2 seconds.\n",
      "Only 250 samples in chain.\n",
      "Auto-assigning NUTS sampler...\n",
      "Initializing NUTS using jitter+adapt_diag...\n",
      "Multiprocess sampling (4 chains in 4 jobs)\n",
      "NUTS: [sigma, beta_M, alpha]\n"
     ]
    },
    {
     "data": {
      "text/html": [
       "\n",
       "    <div>\n",
       "        <style>\n",
       "            /* Turns off some styling */\n",
       "            progress {\n",
       "                /* gets rid of default border in Firefox and Opera. */\n",
       "                border: none;\n",
       "                /* Needs to be in here for Safari polyfill so background images work as expected. */\n",
       "                background-size: auto;\n",
       "            }\n",
       "            .progress-bar-interrupted, .progress-bar-interrupted::-webkit-progress-bar {\n",
       "                background: #F44336;\n",
       "            }\n",
       "        </style>\n",
       "      <progress value='5000' class='' max='5000' style='width:300px; height:20px; vertical-align: middle;'></progress>\n",
       "      100.00% [5000/5000 00:01<00:00 Sampling 4 chains, 0 divergences]\n",
       "    </div>\n",
       "    "
      ],
      "text/plain": [
       "<IPython.core.display.HTML object>"
      ]
     },
     "metadata": {},
     "output_type": "display_data"
    },
    {
     "name": "stderr",
     "output_type": "stream",
     "text": [
      "Sampling 4 chains for 1_000 tune and 250 draw iterations (4_000 + 1_000 draws total) took 2 seconds.\n",
      "Only 250 samples in chain.\n",
      "Auto-assigning NUTS sampler...\n",
      "Initializing NUTS using jitter+adapt_diag...\n",
      "Multiprocess sampling (4 chains in 4 jobs)\n",
      "NUTS: [sigma, beta_M, alpha]\n"
     ]
    },
    {
     "data": {
      "text/html": [
       "\n",
       "    <div>\n",
       "        <style>\n",
       "            /* Turns off some styling */\n",
       "            progress {\n",
       "                /* gets rid of default border in Firefox and Opera. */\n",
       "                border: none;\n",
       "                /* Needs to be in here for Safari polyfill so background images work as expected. */\n",
       "                background-size: auto;\n",
       "            }\n",
       "            .progress-bar-interrupted, .progress-bar-interrupted::-webkit-progress-bar {\n",
       "                background: #F44336;\n",
       "            }\n",
       "        </style>\n",
       "      <progress value='5000' class='' max='5000' style='width:300px; height:20px; vertical-align: middle;'></progress>\n",
       "      100.00% [5000/5000 00:01<00:00 Sampling 4 chains, 0 divergences]\n",
       "    </div>\n",
       "    "
      ],
      "text/plain": [
       "<IPython.core.display.HTML object>"
      ]
     },
     "metadata": {},
     "output_type": "display_data"
    },
    {
     "name": "stderr",
     "output_type": "stream",
     "text": [
      "Sampling 4 chains for 1_000 tune and 250 draw iterations (4_000 + 1_000 draws total) took 2 seconds.\n",
      "The acceptance probability does not match the target. It is 0.8799517939538158, but should be close to 0.8. Try to increase the number of tuning steps.\n"
     ]
    }
   ],
   "source": [
    "#running a Age_divorce linear regression\n",
    "with pm.Model() as m5_1:\n",
    "    alpha = pm.Normal('alpha', mu=0, sd=0.2)#prior on alpha\n",
    "    beta = pm.Normal(\"beta_A\", mu=0,sd=0.5)#prior on beta\n",
    "    sigma = pm.Exponential(\"sigma\",lam = 1)#prior on sigma\n",
    "    mu = alpha + beta * scaled_A\n",
    "    Divorce = pm.Normal('Divorce', mu=mu, sd=sigma, observed=scaled_D)#likelihood of the data\n",
    "    m5_1_sample = pm.sample(draws= 250, chains = 4)#1000 random samples on 4 chains\n",
    "    \n",
    "    \n",
    "\n",
    "with pm.Model() as m5_2:\n",
    "    alpha = pm.Normal('alpha', mu=0, sd=0.2)#prior on alpha\n",
    "    beta = pm.Normal(\"beta_M\", mu=0,sd=0.5)#prior on beta\n",
    "    sigma = pm.Exponential(\"sigma\",lam = 1)#prior on sigma\n",
    "    mu = alpha + beta * scaled_M\n",
    "    Divorce = pm.Normal('Divorce', mu=mu, sd=sigma, observed=scaled_D)#likelihood of the data\n",
    "    m5_2_sample = pm.sample(draws= 250, chains = 4)#1000 random samples on 4 chains\n",
    "    \n",
    "    \n",
    "with pm.Model() as m5_3:\n",
    "    alpha = pm.Normal('alpha', mu=0, sd=0.2)#prior on alpha\n",
    "    beta = pm.Normal(\"beta_M\", mu=0,sd=0.5,shape=2)#prior on beta terms\n",
    "    sigma = pm.Exponential(\"sigma\",lam = 1)#prior on sigma\n",
    "    mu = alpha + beta[0] * scaled_A + beta[1] * scaled_M\n",
    "    Divorce = pm.Normal('Divorce', mu=mu, sd=sigma, observed=scaled_D)#likelihood of the data\n",
    "    m5_3_sample = pm.sample(draws= 250, chains = 4)#1000 random samples on 4 chains"
   ]
  },
  {
   "cell_type": "code",
   "execution_count": 46,
   "metadata": {
    "scrolled": true
   },
   "outputs": [
    {
     "name": "stderr",
     "output_type": "stream",
     "text": [
      "/home/aidan/anaconda3/envs/Bayes/lib/python3.8/site-packages/arviz/data/io_pymc3.py:85: FutureWarning: Using `from_pymc3` without the model will be deprecated in a future release. Not using the model will return less accurate and less useful results. Make sure you use the model argument or call from_pymc3 within a model context.\n",
      "  warnings.warn(\n",
      "/home/aidan/anaconda3/envs/Bayes/lib/python3.8/site-packages/arviz/stats/stats.py:682: UserWarning: Estimated shape parameter of Pareto distribution is greater than 0.7 for one or more samples. You should consider using a more robust model, this is because importance sampling is less likely to work well if the marginal posterior and LOO posterior are very different. This is more likely to happen with a non-robust model and highly influential observations.\n",
      "  warnings.warn(\n",
      "/home/aidan/anaconda3/envs/Bayes/lib/python3.8/site-packages/arviz/data/io_pymc3.py:85: FutureWarning: Using `from_pymc3` without the model will be deprecated in a future release. Not using the model will return less accurate and less useful results. Make sure you use the model argument or call from_pymc3 within a model context.\n",
      "  warnings.warn(\n",
      "/home/aidan/anaconda3/envs/Bayes/lib/python3.8/site-packages/arviz/data/io_pymc3.py:85: FutureWarning: Using `from_pymc3` without the model will be deprecated in a future release. Not using the model will return less accurate and less useful results. Make sure you use the model argument or call from_pymc3 within a model context.\n",
      "  warnings.warn(\n",
      "/home/aidan/anaconda3/envs/Bayes/lib/python3.8/site-packages/arviz/stats/stats.py:682: UserWarning: Estimated shape parameter of Pareto distribution is greater than 0.7 for one or more samples. You should consider using a more robust model, this is because importance sampling is less likely to work well if the marginal posterior and LOO posterior are very different. This is more likely to happen with a non-robust model and highly influential observations.\n",
      "  warnings.warn(\n"
     ]
    },
    {
     "data": {
      "text/html": [
       "<div>\n",
       "<style scoped>\n",
       "    .dataframe tbody tr th:only-of-type {\n",
       "        vertical-align: middle;\n",
       "    }\n",
       "\n",
       "    .dataframe tbody tr th {\n",
       "        vertical-align: top;\n",
       "    }\n",
       "\n",
       "    .dataframe thead th {\n",
       "        text-align: right;\n",
       "    }\n",
       "</style>\n",
       "<table border=\"1\" class=\"dataframe\">\n",
       "  <thead>\n",
       "    <tr style=\"text-align: right;\">\n",
       "      <th></th>\n",
       "      <th>rank</th>\n",
       "      <th>loo</th>\n",
       "      <th>p_loo</th>\n",
       "      <th>d_loo</th>\n",
       "      <th>weight</th>\n",
       "      <th>se</th>\n",
       "      <th>dse</th>\n",
       "      <th>warning</th>\n",
       "      <th>loo_scale</th>\n",
       "    </tr>\n",
       "  </thead>\n",
       "  <tbody>\n",
       "    <tr>\n",
       "      <th>m5_1</th>\n",
       "      <td>0</td>\n",
       "      <td>127.384</td>\n",
       "      <td>3.92256</td>\n",
       "      <td>0</td>\n",
       "      <td>0.610578</td>\n",
       "      <td>12.6974</td>\n",
       "      <td>0</td>\n",
       "      <td>True</td>\n",
       "      <td>deviance</td>\n",
       "    </tr>\n",
       "    <tr>\n",
       "      <th>m5_3</th>\n",
       "      <td>1</td>\n",
       "      <td>128.902</td>\n",
       "      <td>4.90116</td>\n",
       "      <td>1.51879</td>\n",
       "      <td>0.302998</td>\n",
       "      <td>9.90499</td>\n",
       "      <td>0.749617</td>\n",
       "      <td>True</td>\n",
       "      <td>deviance</td>\n",
       "    </tr>\n",
       "    <tr>\n",
       "      <th>m5_2</th>\n",
       "      <td>2</td>\n",
       "      <td>140.771</td>\n",
       "      <td>3.21094</td>\n",
       "      <td>13.3871</td>\n",
       "      <td>0.0864247</td>\n",
       "      <td>12.9066</td>\n",
       "      <td>9.34693</td>\n",
       "      <td>False</td>\n",
       "      <td>deviance</td>\n",
       "    </tr>\n",
       "  </tbody>\n",
       "</table>\n",
       "</div>"
      ],
      "text/plain": [
       "     rank      loo    p_loo    d_loo     weight       se       dse warning  \\\n",
       "m5_1    0  127.384  3.92256        0   0.610578  12.6974         0    True   \n",
       "m5_3    1  128.902  4.90116  1.51879   0.302998  9.90499  0.749617    True   \n",
       "m5_2    2  140.771  3.21094  13.3871  0.0864247  12.9066   9.34693   False   \n",
       "\n",
       "     loo_scale  \n",
       "m5_1  deviance  \n",
       "m5_3  deviance  \n",
       "m5_2  deviance  "
      ]
     },
     "execution_count": 46,
     "metadata": {},
     "output_type": "execute_result"
    }
   ],
   "source": [
    "az.compare({\"m5_1\": m5_1_sample, \"m5_2\": m5_2_sample, \"m5_3\": m5_3_sample},scale=\"deviance\")"
   ]
  },
  {
   "cell_type": "markdown",
   "metadata": {},
   "source": [
    "We can see that k>0.7 for one of the models in the system. This is probably due to some outliers within the data."
   ]
  },
  {
   "cell_type": "markdown",
   "metadata": {},
   "source": [
    "It can be seen that model 5.1 and 5.3 perform similarly in making predictions out of sample. Model 5.2 does much worse than the other two with a much larger deviance. Models 5.1 and 5.3 both include the age of the participants, but m5.3 also includes the Marriage rate. m5.2 performs much worse than the other two models and just uses age. This overall picture indicates that Marriage isn't a particalarly predictive variable, without making any reference to the causal structure of the model."
   ]
  },
  {
   "cell_type": "markdown",
   "metadata": {},
   "source": [
    "9H3. Sometimes changing a prior for one parameter has unanticipated effects on other parameters.\n",
    "This is because when a parameter is highly correlated with another parameter in the posterior, the\n",
    "prior influences both parameters. Here’s an example to work and think through.\n",
    "\n",
    "Go back to the leg length example in Chapter 6 and use the code there to simulate height and\n",
    "leg lengths for 100 imagined individuals. Below is the model you fit before, resulting in a highly\n",
    "correlated posterior for the two beta parameters. This time, fit the model using ulam:"
   ]
  },
  {
   "cell_type": "markdown",
   "metadata": {},
   "source": [
    "m5.8s <- ulam(\n",
    "\n",
    "alist(\n",
    "\n",
    "height ~ dnorm( mu , sigma ) ,\n",
    "\n",
    "mu <- a + bl*leg_left + br*leg_right ,\n",
    "\n",
    "a ~ dnorm( 10 , 100 ) ,\n",
    "\n",
    "bl ~ dnorm( 2 , 10 ) ,\n",
    "\n",
    "br ~ dnorm( 2 , 10 ) ,\n",
    "\n",
    "sigma ~ dexp( 1 )\n",
    "\n",
    ") , data=d, chains=4,\n",
    "\n",
    "start=list(a=10,bl=0,br=0.1,sigma=1) )"
   ]
  },
  {
   "cell_type": "markdown",
   "metadata": {},
   "source": [
    "Compare the posterior distribution produced by the code above to the posterior distribution produced when you change the prior for br so that it is strictly positive:\n"
   ]
  },
  {
   "cell_type": "markdown",
   "metadata": {},
   "source": [
    "m5.8s2 <- ulam(\n",
    "\n",
    "alist(\n",
    "\n",
    "height ~ dnorm( mu , sigma ) ,\n",
    "\n",
    "mu <- a + bl*leg_left + br*leg_right ,\n",
    "\n",
    "a ~ dnorm( 10 , 100 ) ,\n",
    "\n",
    "bl ~ dnorm( 2 , 10 ) ,\n",
    "\n",
    "br ~ dnorm( 2 , 10 ) ,\n",
    "\n",
    "sigma ~ dexp( 1 )\n",
    "\n",
    ") , data=d, chains=4,\n",
    "\n",
    "constraints=list(br=\"lower=0\"),\n",
    "\n",
    "start=list(a=10,bl=0,br=0.1,sigma=1) )"
   ]
  },
  {
   "cell_type": "markdown",
   "metadata": {},
   "source": [
    "Note the constraints list. What this does is constrain the prior distribution of br so that it has\n",
    "positive probability only above zero. In other words, that prior ensures that the posterior distribution\n",
    "for br will have no probability mass below zero. Compare the two posterior distributions for m5.8s\n",
    "and m5.8s2. What has changed in the posterior distribution of both beta parameters? Can you\n",
    "explain the change induced by the change in prior?"
   ]
  },
  {
   "cell_type": "markdown",
   "metadata": {},
   "source": [
    "Answer: First is the code to resimulate the leg data. I copied this code from (https://github.com/pymc-devs/resources/blob/master/Rethinking_2/Chp_06.ipynb) I don't want to reinvent the wheel here.\n",
    "\n",
    "Additionally, I believe that this (https://docs.pymc.io/api/bounds.html) is the way to incorporate the \"constraints\" that McElreaths Rethinking package uses. They're called bounds in pymc3.\n",
    "\n",
    "We can also incorporate the start point of the sampler by just setting the start value inside pm.sample.\n",
    "\n",
    "In order for the sampler to actually work well though, I had to really up the sampling level for the bounded model. I'm not totally sure what's causing it to get so buggy. Something about bounding removing the normalisastion could be the culprit\n",
    "\n",
    "Let's go!"
   ]
  },
  {
   "cell_type": "code",
   "execution_count": 87,
   "metadata": {},
   "outputs": [
    {
     "data": {
      "text/html": [
       "<div>\n",
       "<style scoped>\n",
       "    .dataframe tbody tr th:only-of-type {\n",
       "        vertical-align: middle;\n",
       "    }\n",
       "\n",
       "    .dataframe tbody tr th {\n",
       "        vertical-align: top;\n",
       "    }\n",
       "\n",
       "    .dataframe thead th {\n",
       "        text-align: right;\n",
       "    }\n",
       "</style>\n",
       "<table border=\"1\" class=\"dataframe\">\n",
       "  <thead>\n",
       "    <tr style=\"text-align: right;\">\n",
       "      <th></th>\n",
       "      <th>height</th>\n",
       "      <th>leg_left</th>\n",
       "      <th>leg_right</th>\n",
       "    </tr>\n",
       "  </thead>\n",
       "  <tbody>\n",
       "    <tr>\n",
       "      <th>0</th>\n",
       "      <td>13.659238</td>\n",
       "      <td>6.730655</td>\n",
       "      <td>6.732127</td>\n",
       "    </tr>\n",
       "    <tr>\n",
       "      <th>1</th>\n",
       "      <td>8.975462</td>\n",
       "      <td>4.073443</td>\n",
       "      <td>4.052875</td>\n",
       "    </tr>\n",
       "    <tr>\n",
       "      <th>2</th>\n",
       "      <td>12.400575</td>\n",
       "      <td>5.457053</td>\n",
       "      <td>5.419136</td>\n",
       "    </tr>\n",
       "    <tr>\n",
       "      <th>3</th>\n",
       "      <td>9.554562</td>\n",
       "      <td>4.143508</td>\n",
       "      <td>4.117397</td>\n",
       "    </tr>\n",
       "    <tr>\n",
       "      <th>4</th>\n",
       "      <td>12.528857</td>\n",
       "      <td>5.623830</td>\n",
       "      <td>5.648934</td>\n",
       "    </tr>\n",
       "  </tbody>\n",
       "</table>\n",
       "</div>"
      ],
      "text/plain": [
       "      height  leg_left  leg_right\n",
       "0  13.659238  6.730655   6.732127\n",
       "1   8.975462  4.073443   4.052875\n",
       "2  12.400575  5.457053   5.419136\n",
       "3   9.554562  4.143508   4.117397\n",
       "4  12.528857  5.623830   5.648934"
      ]
     },
     "execution_count": 87,
     "metadata": {},
     "output_type": "execute_result"
    }
   ],
   "source": [
    "#Stolen code for producing the simulated leg length data\n",
    "\n",
    "N = 100  # number of individuals\n",
    "height = np.random.normal(10, 2, N)  # sim total height of each\n",
    "leg_prop = np.random.uniform(0.4, 0.5, N)  # leg as proportion of height\n",
    "leg_left = leg_prop * height + np.random.normal(\n",
    "    0, 0.02, N\n",
    ")  # sim left leg as proportion + error\n",
    "leg_right = leg_prop * height + np.random.normal(\n",
    "    0, 0.02, N\n",
    ")  # sim right leg as proportion + error\n",
    "\n",
    "d = pd.DataFrame(\n",
    "    np.vstack([height, leg_left, leg_right]).T,\n",
    "    columns=[\"height\", \"leg_left\", \"leg_right\"],\n",
    ")  # combine into data frame\n",
    "\n",
    "d.head()"
   ]
  },
  {
   "cell_type": "code",
   "execution_count": 104,
   "metadata": {},
   "outputs": [
    {
     "name": "stderr",
     "output_type": "stream",
     "text": [
      "Auto-assigning NUTS sampler...\n",
      "Initializing NUTS using jitter+adapt_diag...\n",
      "Multiprocess sampling (4 chains in 4 jobs)\n",
      "NUTS: [sigma, br, bl, a]\n"
     ]
    },
    {
     "data": {
      "text/html": [
       "\n",
       "    <div>\n",
       "        <style>\n",
       "            /* Turns off some styling */\n",
       "            progress {\n",
       "                /* gets rid of default border in Firefox and Opera. */\n",
       "                border: none;\n",
       "                /* Needs to be in here for Safari polyfill so background images work as expected. */\n",
       "                background-size: auto;\n",
       "            }\n",
       "            .progress-bar-interrupted, .progress-bar-interrupted::-webkit-progress-bar {\n",
       "                background: #F44336;\n",
       "            }\n",
       "        </style>\n",
       "      <progress value='8000' class='' max='8000' style='width:300px; height:20px; vertical-align: middle;'></progress>\n",
       "      100.00% [8000/8000 01:51<00:00 Sampling 4 chains, 227 divergences]\n",
       "    </div>\n",
       "    "
      ],
      "text/plain": [
       "<IPython.core.display.HTML object>"
      ]
     },
     "metadata": {},
     "output_type": "display_data"
    },
    {
     "name": "stderr",
     "output_type": "stream",
     "text": [
      "Sampling 4 chains for 1_000 tune and 1_000 draw iterations (4_000 + 4_000 draws total) took 111 seconds.\n",
      "There were 81 divergences after tuning. Increase `target_accept` or reparameterize.\n",
      "There were 14 divergences after tuning. Increase `target_accept` or reparameterize.\n",
      "There were 62 divergences after tuning. Increase `target_accept` or reparameterize.\n",
      "There were 70 divergences after tuning. Increase `target_accept` or reparameterize.\n",
      "The estimated number of effective samples is smaller than 200 for some parameters.\n",
      "Auto-assigning NUTS sampler...\n",
      "Initializing NUTS using jitter+adapt_diag...\n",
      "Multiprocess sampling (4 chains in 4 jobs)\n",
      "NUTS: [sigma, br, bl, a]\n"
     ]
    },
    {
     "data": {
      "text/html": [
       "\n",
       "    <div>\n",
       "        <style>\n",
       "            /* Turns off some styling */\n",
       "            progress {\n",
       "                /* gets rid of default border in Firefox and Opera. */\n",
       "                border: none;\n",
       "                /* Needs to be in here for Safari polyfill so background images work as expected. */\n",
       "                background-size: auto;\n",
       "            }\n",
       "            .progress-bar-interrupted, .progress-bar-interrupted::-webkit-progress-bar {\n",
       "                background: #F44336;\n",
       "            }\n",
       "        </style>\n",
       "      <progress value='20000' class='' max='20000' style='width:300px; height:20px; vertical-align: middle;'></progress>\n",
       "      100.00% [20000/20000 00:19<00:00 Sampling 4 chains, 4,509 divergences]\n",
       "    </div>\n",
       "    "
      ],
      "text/plain": [
       "<IPython.core.display.HTML object>"
      ]
     },
     "metadata": {},
     "output_type": "display_data"
    },
    {
     "name": "stderr",
     "output_type": "stream",
     "text": [
      "Sampling 4 chains for 2_000 tune and 3_000 draw iterations (8_000 + 12_000 draws total) took 20 seconds.\n",
      "There were 1410 divergences after tuning. Increase `target_accept` or reparameterize.\n",
      "The acceptance probability does not match the target. It is 0.17588450199158176, but should be close to 0.8. Try to increase the number of tuning steps.\n",
      "There were 843 divergences after tuning. Increase `target_accept` or reparameterize.\n",
      "The acceptance probability does not match the target. It is 0.4050005013412494, but should be close to 0.8. Try to increase the number of tuning steps.\n",
      "There were 531 divergences after tuning. Increase `target_accept` or reparameterize.\n",
      "The acceptance probability does not match the target. It is 0.5651287888984559, but should be close to 0.8. Try to increase the number of tuning steps.\n",
      "There were 1725 divergences after tuning. Increase `target_accept` or reparameterize.\n",
      "The acceptance probability does not match the target. It is 0.11020572598345378, but should be close to 0.8. Try to increase the number of tuning steps.\n",
      "The rhat statistic is larger than 1.4 for some parameters. The sampler did not converge.\n",
      "The estimated number of effective samples is smaller than 200 for some parameters.\n"
     ]
    }
   ],
   "source": [
    "#run the basic model\n",
    "\n",
    "#define the sampling start point\n",
    "start = {\"a\": 10,\"bl\": 0,\"br\":0.1,\"sigma\":1}\n",
    "\n",
    "with pm.Model() as m5_8s:\n",
    "    a = pm.Normal(\"a\", 10, 100)\n",
    "    bl = pm.Normal(\"bl\", 2, 10)\n",
    "    br = pm.Normal(\"br\", 2, 10)\n",
    "    mu = a + bl * d.leg_left + br * d.leg_right\n",
    "    sigma = pm.Exponential(\"sigma\", 1)\n",
    "    height = pm.Normal(\"height\", mu=mu, sigma=sigma, observed=d.height)\n",
    "    m5_8s_sample = pm.sample()\n",
    "      \n",
    "\n",
    "\n",
    "\n",
    "#run the constrained model\n",
    "\n",
    "with pm.Model() as m5_8s2:\n",
    "    a = pm.Normal(\"a\", 10, 100)\n",
    "    bl = pm.Normal(\"bl\", 2, 10)\n",
    "    BoundedNormal = pm.Bound(pm.Normal, lower=0.0)#introduce a function for bounding br parameter\n",
    "    br = BoundedNormal(\"br\", 2, 10)\n",
    "    mu = a + bl * d.leg_left + br * d.leg_right\n",
    "    sigma = pm.Exponential(\"sigma\", 1)\n",
    "    height = pm.Normal(\"height\", mu=mu, sigma=sigma, observed=d.height)\n",
    "    m5_8s2_sample = pm.sample(draws=3000,chains=4,tune = 2000, start=start)\n",
    "    idata_m5_8s2 = az.from_pymc3(\n",
    "        m5_8s2_sample\n",
    "    )  # create an arviz InferenceData object from the trace.\n",
    "    # this happens automatically when calling az.summary, but as we'll be using this trace multiple\n",
    "    # times below it's more efficient to do the conversion once at the start.\n",
    "\n"
   ]
  },
  {
   "cell_type": "code",
   "execution_count": 105,
   "metadata": {},
   "outputs": [
    {
     "name": "stderr",
     "output_type": "stream",
     "text": [
      "/home/aidan/anaconda3/envs/Bayes/lib/python3.8/site-packages/arviz/data/io_pymc3.py:85: FutureWarning: Using `from_pymc3` without the model will be deprecated in a future release. Not using the model will return less accurate and less useful results. Make sure you use the model argument or call from_pymc3 within a model context.\n",
      "  warnings.warn(\n"
     ]
    },
    {
     "data": {
      "text/html": [
       "<div>\n",
       "<style scoped>\n",
       "    .dataframe tbody tr th:only-of-type {\n",
       "        vertical-align: middle;\n",
       "    }\n",
       "\n",
       "    .dataframe tbody tr th {\n",
       "        vertical-align: top;\n",
       "    }\n",
       "\n",
       "    .dataframe thead th {\n",
       "        text-align: right;\n",
       "    }\n",
       "</style>\n",
       "<table border=\"1\" class=\"dataframe\">\n",
       "  <thead>\n",
       "    <tr style=\"text-align: right;\">\n",
       "      <th></th>\n",
       "      <th>mean</th>\n",
       "      <th>sd</th>\n",
       "      <th>hdi_3%</th>\n",
       "      <th>hdi_97%</th>\n",
       "      <th>mcse_mean</th>\n",
       "      <th>mcse_sd</th>\n",
       "      <th>ess_mean</th>\n",
       "      <th>ess_sd</th>\n",
       "      <th>ess_bulk</th>\n",
       "      <th>ess_tail</th>\n",
       "      <th>r_hat</th>\n",
       "    </tr>\n",
       "  </thead>\n",
       "  <tbody>\n",
       "    <tr>\n",
       "      <th>a</th>\n",
       "      <td>1.273</td>\n",
       "      <td>0.324</td>\n",
       "      <td>0.675</td>\n",
       "      <td>1.854</td>\n",
       "      <td>0.014</td>\n",
       "      <td>0.012</td>\n",
       "      <td>508.0</td>\n",
       "      <td>375.0</td>\n",
       "      <td>507.0</td>\n",
       "      <td>1721.0</td>\n",
       "      <td>1.01</td>\n",
       "    </tr>\n",
       "    <tr>\n",
       "      <th>bl</th>\n",
       "      <td>7.538</td>\n",
       "      <td>1.995</td>\n",
       "      <td>3.989</td>\n",
       "      <td>11.457</td>\n",
       "      <td>0.054</td>\n",
       "      <td>0.038</td>\n",
       "      <td>1349.0</td>\n",
       "      <td>1344.0</td>\n",
       "      <td>1340.0</td>\n",
       "      <td>1826.0</td>\n",
       "      <td>1.01</td>\n",
       "    </tr>\n",
       "    <tr>\n",
       "      <th>br</th>\n",
       "      <td>-5.560</td>\n",
       "      <td>1.986</td>\n",
       "      <td>-9.423</td>\n",
       "      <td>-1.992</td>\n",
       "      <td>0.054</td>\n",
       "      <td>0.039</td>\n",
       "      <td>1333.0</td>\n",
       "      <td>1324.0</td>\n",
       "      <td>1320.0</td>\n",
       "      <td>1813.0</td>\n",
       "      <td>1.01</td>\n",
       "    </tr>\n",
       "    <tr>\n",
       "      <th>sigma</th>\n",
       "      <td>0.609</td>\n",
       "      <td>0.044</td>\n",
       "      <td>0.519</td>\n",
       "      <td>0.680</td>\n",
       "      <td>0.003</td>\n",
       "      <td>0.002</td>\n",
       "      <td>177.0</td>\n",
       "      <td>177.0</td>\n",
       "      <td>118.0</td>\n",
       "      <td>27.0</td>\n",
       "      <td>1.03</td>\n",
       "    </tr>\n",
       "  </tbody>\n",
       "</table>\n",
       "</div>"
      ],
      "text/plain": [
       "        mean     sd  hdi_3%  hdi_97%  mcse_mean  mcse_sd  ess_mean  ess_sd  \\\n",
       "a      1.273  0.324   0.675    1.854      0.014    0.012     508.0   375.0   \n",
       "bl     7.538  1.995   3.989   11.457      0.054    0.038    1349.0  1344.0   \n",
       "br    -5.560  1.986  -9.423   -1.992      0.054    0.039    1333.0  1324.0   \n",
       "sigma  0.609  0.044   0.519    0.680      0.003    0.002     177.0   177.0   \n",
       "\n",
       "       ess_bulk  ess_tail  r_hat  \n",
       "a         507.0    1721.0   1.01  \n",
       "bl       1340.0    1826.0   1.01  \n",
       "br       1320.0    1813.0   1.01  \n",
       "sigma     118.0      27.0   1.03  "
      ]
     },
     "execution_count": 105,
     "metadata": {},
     "output_type": "execute_result"
    }
   ],
   "source": [
    "pm.summary(m5_8s_sample)"
   ]
  },
  {
   "cell_type": "code",
   "execution_count": 106,
   "metadata": {},
   "outputs": [
    {
     "name": "stderr",
     "output_type": "stream",
     "text": [
      "/home/aidan/anaconda3/envs/Bayes/lib/python3.8/site-packages/arviz/data/io_pymc3.py:85: FutureWarning: Using `from_pymc3` without the model will be deprecated in a future release. Not using the model will return less accurate and less useful results. Make sure you use the model argument or call from_pymc3 within a model context.\n",
      "  warnings.warn(\n"
     ]
    },
    {
     "data": {
      "text/html": [
       "<div>\n",
       "<style scoped>\n",
       "    .dataframe tbody tr th:only-of-type {\n",
       "        vertical-align: middle;\n",
       "    }\n",
       "\n",
       "    .dataframe tbody tr th {\n",
       "        vertical-align: top;\n",
       "    }\n",
       "\n",
       "    .dataframe thead th {\n",
       "        text-align: right;\n",
       "    }\n",
       "</style>\n",
       "<table border=\"1\" class=\"dataframe\">\n",
       "  <thead>\n",
       "    <tr style=\"text-align: right;\">\n",
       "      <th></th>\n",
       "      <th>mean</th>\n",
       "      <th>sd</th>\n",
       "      <th>hdi_3%</th>\n",
       "      <th>hdi_97%</th>\n",
       "      <th>mcse_mean</th>\n",
       "      <th>mcse_sd</th>\n",
       "      <th>ess_mean</th>\n",
       "      <th>ess_sd</th>\n",
       "      <th>ess_bulk</th>\n",
       "      <th>ess_tail</th>\n",
       "      <th>r_hat</th>\n",
       "    </tr>\n",
       "  </thead>\n",
       "  <tbody>\n",
       "    <tr>\n",
       "      <th>a</th>\n",
       "      <td>1.290</td>\n",
       "      <td>0.310</td>\n",
       "      <td>0.590</td>\n",
       "      <td>1.744</td>\n",
       "      <td>0.077</td>\n",
       "      <td>0.055</td>\n",
       "      <td>16.0</td>\n",
       "      <td>16.0</td>\n",
       "      <td>17.0</td>\n",
       "      <td>17.0</td>\n",
       "      <td>1.19</td>\n",
       "    </tr>\n",
       "    <tr>\n",
       "      <th>bl</th>\n",
       "      <td>1.698</td>\n",
       "      <td>0.142</td>\n",
       "      <td>1.474</td>\n",
       "      <td>1.947</td>\n",
       "      <td>0.056</td>\n",
       "      <td>0.042</td>\n",
       "      <td>6.0</td>\n",
       "      <td>6.0</td>\n",
       "      <td>7.0</td>\n",
       "      <td>30.0</td>\n",
       "      <td>1.64</td>\n",
       "    </tr>\n",
       "    <tr>\n",
       "      <th>br</th>\n",
       "      <td>0.279</td>\n",
       "      <td>0.147</td>\n",
       "      <td>0.001</td>\n",
       "      <td>0.474</td>\n",
       "      <td>0.060</td>\n",
       "      <td>0.046</td>\n",
       "      <td>6.0</td>\n",
       "      <td>6.0</td>\n",
       "      <td>7.0</td>\n",
       "      <td>46.0</td>\n",
       "      <td>1.61</td>\n",
       "    </tr>\n",
       "    <tr>\n",
       "      <th>sigma</th>\n",
       "      <td>0.637</td>\n",
       "      <td>0.047</td>\n",
       "      <td>0.554</td>\n",
       "      <td>0.725</td>\n",
       "      <td>0.014</td>\n",
       "      <td>0.010</td>\n",
       "      <td>11.0</td>\n",
       "      <td>11.0</td>\n",
       "      <td>12.0</td>\n",
       "      <td>24.0</td>\n",
       "      <td>1.27</td>\n",
       "    </tr>\n",
       "  </tbody>\n",
       "</table>\n",
       "</div>"
      ],
      "text/plain": [
       "        mean     sd  hdi_3%  hdi_97%  mcse_mean  mcse_sd  ess_mean  ess_sd  \\\n",
       "a      1.290  0.310   0.590    1.744      0.077    0.055      16.0    16.0   \n",
       "bl     1.698  0.142   1.474    1.947      0.056    0.042       6.0     6.0   \n",
       "br     0.279  0.147   0.001    0.474      0.060    0.046       6.0     6.0   \n",
       "sigma  0.637  0.047   0.554    0.725      0.014    0.010      11.0    11.0   \n",
       "\n",
       "       ess_bulk  ess_tail  r_hat  \n",
       "a          17.0      17.0   1.19  \n",
       "bl          7.0      30.0   1.64  \n",
       "br          7.0      46.0   1.61  \n",
       "sigma      12.0      24.0   1.27  "
      ]
     },
     "execution_count": 106,
     "metadata": {},
     "output_type": "execute_result"
    }
   ],
   "source": [
    "pm.summary(m5_8s2_sample)"
   ]
  },
  {
   "cell_type": "code",
   "execution_count": 107,
   "metadata": {
    "scrolled": false
   },
   "outputs": [
    {
     "name": "stderr",
     "output_type": "stream",
     "text": [
      "/home/aidan/anaconda3/envs/Bayes/lib/python3.8/site-packages/arviz/data/io_pymc3.py:85: FutureWarning: Using `from_pymc3` without the model will be deprecated in a future release. Not using the model will return less accurate and less useful results. Make sure you use the model argument or call from_pymc3 within a model context.\n",
      "  warnings.warn(\n"
     ]
    },
    {
     "data": {
      "image/png": "[encoded data removed]",
      "text/plain": [
       "<Figure size 432x288 with 2 Axes>"
      ]
     },
     "metadata": {
      "needs_background": "light"
     },
     "output_type": "display_data"
    }
   ],
   "source": [
    "fig, axs = plt.subplots(1,2)\n",
    "pm.forestplot(m5_8s_sample,ax = axs[0])\n",
    "pm.forestplot(m5_8s2_sample,ax = axs[1])\n",
    "plt.show()"
   ]
  },
  {
   "cell_type": "markdown",
   "metadata": {},
   "source": [
    "Obviously bounding the prior in this way constrains br to be positive. More interesting will be to observe it's impact on the correlation between pairs of parameters in the two models."
   ]
  },
  {
   "cell_type": "code",
   "execution_count": 113,
   "metadata": {},
   "outputs": [
    {
     "name": "stderr",
     "output_type": "stream",
     "text": [
      "Auto-assigning NUTS sampler...\n",
      "Initializing NUTS using jitter+adapt_diag...\n",
      "Multiprocess sampling (2 chains in 4 jobs)\n",
      "NUTS: [sigma, br, bl, a]\n"
     ]
    },
    {
     "data": {
      "text/html": [
       "\n",
       "    <div>\n",
       "        <style>\n",
       "            /* Turns off some styling */\n",
       "            progress {\n",
       "                /* gets rid of default border in Firefox and Opera. */\n",
       "                border: none;\n",
       "                /* Needs to be in here for Safari polyfill so background images work as expected. */\n",
       "                background-size: auto;\n",
       "            }\n",
       "            .progress-bar-interrupted, .progress-bar-interrupted::-webkit-progress-bar {\n",
       "                background: #F44336;\n",
       "            }\n",
       "        </style>\n",
       "      <progress value='3000' class='' max='3000' style='width:300px; height:20px; vertical-align: middle;'></progress>\n",
       "      100.00% [3000/3000 01:05<00:00 Sampling 2 chains, 61 divergences]\n",
       "    </div>\n",
       "    "
      ],
      "text/plain": [
       "<IPython.core.display.HTML object>"
      ]
     },
     "metadata": {},
     "output_type": "display_data"
    },
    {
     "name": "stderr",
     "output_type": "stream",
     "text": [
      "Sampling 2 chains for 1_000 tune and 500 draw iterations (2_000 + 1_000 draws total) took 65 seconds.\n",
      "There were 10 divergences after tuning. Increase `target_accept` or reparameterize.\n",
      "There were 51 divergences after tuning. Increase `target_accept` or reparameterize.\n"
     ]
    }
   ],
   "source": [
    "with m5_8s:\n",
    "    test_sample = pm.sample(draws = 500,chains=2)"
   ]
  },
  {
   "cell_type": "code",
   "execution_count": 114,
   "metadata": {},
   "outputs": [
    {
     "name": "stderr",
     "output_type": "stream",
     "text": [
      "/home/aidan/anaconda3/envs/Bayes/lib/python3.8/site-packages/arviz/data/io_pymc3.py:85: FutureWarning: Using `from_pymc3` without the model will be deprecated in a future release. Not using the model will return less accurate and less useful results. Make sure you use the model argument or call from_pymc3 within a model context.\n",
      "  warnings.warn(\n"
     ]
    },
    {
     "data": {
      "text/html": [
       "<div>\n",
       "<style scoped>\n",
       "    .dataframe tbody tr th:only-of-type {\n",
       "        vertical-align: middle;\n",
       "    }\n",
       "\n",
       "    .dataframe tbody tr th {\n",
       "        vertical-align: top;\n",
       "    }\n",
       "\n",
       "    .dataframe thead th {\n",
       "        text-align: right;\n",
       "    }\n",
       "</style>\n",
       "<table border=\"1\" class=\"dataframe\">\n",
       "  <thead>\n",
       "    <tr style=\"text-align: right;\">\n",
       "      <th></th>\n",
       "      <th>mean</th>\n",
       "      <th>sd</th>\n",
       "      <th>hdi_3%</th>\n",
       "      <th>hdi_97%</th>\n",
       "      <th>mcse_mean</th>\n",
       "      <th>mcse_sd</th>\n",
       "      <th>ess_mean</th>\n",
       "      <th>ess_sd</th>\n",
       "      <th>ess_bulk</th>\n",
       "      <th>ess_tail</th>\n",
       "      <th>r_hat</th>\n",
       "    </tr>\n",
       "  </thead>\n",
       "  <tbody>\n",
       "    <tr>\n",
       "      <th>a</th>\n",
       "      <td>1.237</td>\n",
       "      <td>0.301</td>\n",
       "      <td>0.682</td>\n",
       "      <td>1.759</td>\n",
       "      <td>0.014</td>\n",
       "      <td>0.010</td>\n",
       "      <td>439.0</td>\n",
       "      <td>439.0</td>\n",
       "      <td>440.0</td>\n",
       "      <td>528.0</td>\n",
       "      <td>1.00</td>\n",
       "    </tr>\n",
       "    <tr>\n",
       "      <th>bl</th>\n",
       "      <td>7.633</td>\n",
       "      <td>1.968</td>\n",
       "      <td>4.193</td>\n",
       "      <td>11.723</td>\n",
       "      <td>0.098</td>\n",
       "      <td>0.069</td>\n",
       "      <td>403.0</td>\n",
       "      <td>403.0</td>\n",
       "      <td>401.0</td>\n",
       "      <td>390.0</td>\n",
       "      <td>1.00</td>\n",
       "    </tr>\n",
       "    <tr>\n",
       "      <th>br</th>\n",
       "      <td>-5.648</td>\n",
       "      <td>1.963</td>\n",
       "      <td>-9.650</td>\n",
       "      <td>-2.126</td>\n",
       "      <td>0.098</td>\n",
       "      <td>0.069</td>\n",
       "      <td>400.0</td>\n",
       "      <td>400.0</td>\n",
       "      <td>399.0</td>\n",
       "      <td>395.0</td>\n",
       "      <td>1.00</td>\n",
       "    </tr>\n",
       "    <tr>\n",
       "      <th>sigma</th>\n",
       "      <td>0.614</td>\n",
       "      <td>0.041</td>\n",
       "      <td>0.546</td>\n",
       "      <td>0.691</td>\n",
       "      <td>0.002</td>\n",
       "      <td>0.002</td>\n",
       "      <td>336.0</td>\n",
       "      <td>334.0</td>\n",
       "      <td>327.0</td>\n",
       "      <td>212.0</td>\n",
       "      <td>1.01</td>\n",
       "    </tr>\n",
       "  </tbody>\n",
       "</table>\n",
       "</div>"
      ],
      "text/plain": [
       "        mean     sd  hdi_3%  hdi_97%  mcse_mean  mcse_sd  ess_mean  ess_sd  \\\n",
       "a      1.237  0.301   0.682    1.759      0.014    0.010     439.0   439.0   \n",
       "bl     7.633  1.968   4.193   11.723      0.098    0.069     403.0   403.0   \n",
       "br    -5.648  1.963  -9.650   -2.126      0.098    0.069     400.0   400.0   \n",
       "sigma  0.614  0.041   0.546    0.691      0.002    0.002     336.0   334.0   \n",
       "\n",
       "       ess_bulk  ess_tail  r_hat  \n",
       "a         440.0     528.0   1.00  \n",
       "bl        401.0     390.0   1.00  \n",
       "br        399.0     395.0   1.00  \n",
       "sigma     327.0     212.0   1.01  "
      ]
     },
     "execution_count": 114,
     "metadata": {},
     "output_type": "execute_result"
    }
   ],
   "source": [
    "pm.summary(test_sample)"
   ]
  },
  {
   "cell_type": "code",
   "execution_count": 108,
   "metadata": {},
   "outputs": [
    {
     "data": {
      "text/plain": [
       "array([[<AxesSubplot:ylabel='bl'>, <AxesSubplot:>, <AxesSubplot:>],\n",
       "       [<AxesSubplot:ylabel='br'>, <AxesSubplot:>, <AxesSubplot:>],\n",
       "       [<AxesSubplot:xlabel='a', ylabel='sigma'>,\n",
       "        <AxesSubplot:xlabel='bl'>, <AxesSubplot:xlabel='br'>]],\n",
       "      dtype=object)"
      ]
     },
     "execution_count": 108,
     "metadata": {},
     "output_type": "execute_result"
    },
    {
     "data": {
      "image/png": "[encoded data removed]",
      "text/plain": [
       "<Figure size 1490.4x993.6 with 6 Axes>"
      ]
     },
     "metadata": {
      "needs_background": "light"
     },
     "output_type": "display_data"
    }
   ],
   "source": [
    "pm.pairplot(m5_8s_sample)"
   ]
  },
  {
   "cell_type": "code",
   "execution_count": 109,
   "metadata": {},
   "outputs": [
    {
     "name": "stderr",
     "output_type": "stream",
     "text": [
      "/home/aidan/anaconda3/envs/Bayes/lib/python3.8/site-packages/arviz/data/io_pymc3.py:85: FutureWarning: Using `from_pymc3` without the model will be deprecated in a future release. Not using the model will return less accurate and less useful results. Make sure you use the model argument or call from_pymc3 within a model context.\n",
      "  warnings.warn(\n"
     ]
    },
    {
     "data": {
      "text/plain": [
       "array([[<AxesSubplot:ylabel='bl'>, <AxesSubplot:>, <AxesSubplot:>],\n",
       "       [<AxesSubplot:ylabel='br'>, <AxesSubplot:>, <AxesSubplot:>],\n",
       "       [<AxesSubplot:xlabel='a', ylabel='sigma'>,\n",
       "        <AxesSubplot:xlabel='bl'>, <AxesSubplot:xlabel='br'>]],\n",
       "      dtype=object)"
      ]
     },
     "execution_count": 109,
     "metadata": {},
     "output_type": "execute_result"
    },
    {
     "data": {
      "image/png": "[encoded data removed]",
      "text/plain": [
       "<Figure size 1490.4x993.6 with 6 Axes>"
      ]
     },
     "metadata": {
      "needs_background": "light"
     },
     "output_type": "display_data"
    }
   ],
   "source": [
    "pm.pairplot(m5_8s2_sample)"
   ]
  },
  {
   "cell_type": "markdown",
   "metadata": {},
   "source": [
    "These look truly hideous for the second model. I think the sample didn't work very well here because of the many many divergences that took place during the sampling process. The number of effective samples is also "
   ]
  },
  {
   "cell_type": "markdown",
   "metadata": {},
   "source": [
    "9H4. For the two models fit in the previous problem, use WAIC or PSIS to compare the effective\n",
    "numbers of parameters for each model. You will need to use log_lik=TRUE to instruct ulam to\n",
    "compute the terms that both WAIC and PSIS need. Which model has more effective parameters?\n",
    "Why?\n"
   ]
  },
  {
   "cell_type": "code",
   "execution_count": 97,
   "metadata": {},
   "outputs": [
    {
     "name": "stderr",
     "output_type": "stream",
     "text": [
      "/home/aidan/anaconda3/envs/Bayes/lib/python3.8/site-packages/arviz/data/io_pymc3.py:85: FutureWarning: Using `from_pymc3` without the model will be deprecated in a future release. Not using the model will return less accurate and less useful results. Make sure you use the model argument or call from_pymc3 within a model context.\n",
      "  warnings.warn(\n",
      "/home/aidan/anaconda3/envs/Bayes/lib/python3.8/site-packages/arviz/data/io_pymc3.py:85: FutureWarning: Using `from_pymc3` without the model will be deprecated in a future release. Not using the model will return less accurate and less useful results. Make sure you use the model argument or call from_pymc3 within a model context.\n",
      "  warnings.warn(\n"
     ]
    },
    {
     "data": {
      "text/html": [
       "<div>\n",
       "<style scoped>\n",
       "    .dataframe tbody tr th:only-of-type {\n",
       "        vertical-align: middle;\n",
       "    }\n",
       "\n",
       "    .dataframe tbody tr th {\n",
       "        vertical-align: top;\n",
       "    }\n",
       "\n",
       "    .dataframe thead th {\n",
       "        text-align: right;\n",
       "    }\n",
       "</style>\n",
       "<table border=\"1\" class=\"dataframe\">\n",
       "  <thead>\n",
       "    <tr style=\"text-align: right;\">\n",
       "      <th></th>\n",
       "      <th>rank</th>\n",
       "      <th>loo</th>\n",
       "      <th>p_loo</th>\n",
       "      <th>d_loo</th>\n",
       "      <th>weight</th>\n",
       "      <th>se</th>\n",
       "      <th>dse</th>\n",
       "      <th>warning</th>\n",
       "      <th>loo_scale</th>\n",
       "    </tr>\n",
       "  </thead>\n",
       "  <tbody>\n",
       "    <tr>\n",
       "      <th>m5_8s</th>\n",
       "      <td>0</td>\n",
       "      <td>186.649</td>\n",
       "      <td>3.37473</td>\n",
       "      <td>0</td>\n",
       "      <td>0.919031</td>\n",
       "      <td>12.2377</td>\n",
       "      <td>0</td>\n",
       "      <td>False</td>\n",
       "      <td>deviance</td>\n",
       "    </tr>\n",
       "    <tr>\n",
       "      <th>m5_8s2</th>\n",
       "      <td>1</td>\n",
       "      <td>194.515</td>\n",
       "      <td>2.89514</td>\n",
       "      <td>7.86597</td>\n",
       "      <td>0.0809693</td>\n",
       "      <td>11.9539</td>\n",
       "      <td>4.71815</td>\n",
       "      <td>False</td>\n",
       "      <td>deviance</td>\n",
       "    </tr>\n",
       "  </tbody>\n",
       "</table>\n",
       "</div>"
      ],
      "text/plain": [
       "       rank      loo    p_loo    d_loo     weight       se      dse warning  \\\n",
       "m5_8s     0  186.649  3.37473        0   0.919031  12.2377        0   False   \n",
       "m5_8s2    1  194.515  2.89514  7.86597  0.0809693  11.9539  4.71815   False   \n",
       "\n",
       "       loo_scale  \n",
       "m5_8s   deviance  \n",
       "m5_8s2  deviance  "
      ]
     },
     "execution_count": 97,
     "metadata": {},
     "output_type": "execute_result"
    }
   ],
   "source": [
    "az.compare({\"m5_8s\": m5_8s_sample, \"m5_8s2\": m5_8s2_sample}, scale=\"deviance\")"
   ]
  },
  {
   "cell_type": "markdown",
   "metadata": {},
   "source": [
    "The second model performed considerably worse than the first one at out of sample prediction. Assuming this wasn't caused by the sampling issues (which is possibly a terrible assumption), my intuitive understanding is that this is caused by the forcing one of the parameters to be positive against its will.\n",
    "\n",
    "# Have a better explanation of why this happens"
   ]
  }
 ],
 "metadata": {
  "kernelspec": {
   "display_name": "Bayes",
   "language": "python",
   "name": "bayes"
  },
  "language_info": {
   "codemirror_mode": {
    "name": "ipython",
    "version": 3
   },
   "file_extension": ".py",
   "mimetype": "text/x-python",
   "name": "python",
   "nbconvert_exporter": "python",
   "pygments_lexer": "ipython3",
   "version": "3.8.5"
  }
 },
 "nbformat": 4,
 "nbformat_minor": 4
}
