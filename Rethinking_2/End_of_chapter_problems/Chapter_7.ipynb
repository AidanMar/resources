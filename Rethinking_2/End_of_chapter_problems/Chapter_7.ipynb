{
 "cells": [
  {
   "cell_type": "code",
   "execution_count": 1,
   "metadata": {
    "lines_to_next_cell": 2
   },
   "outputs": [],
   "source": [
    "import arviz as az\n",
    "import numpy as np\n",
    "import pandas as pd\n",
    "import pymc3 as pm\n",
    "import seaborn as sns\n",
    "\n",
    "from causalgraphicalmodels import CausalGraphicalModel\n",
    "from matplotlib import pylab as plt\n",
    "from scipy import stats"
   ]
  },
  {
   "cell_type": "code",
   "execution_count": 2,
   "metadata": {},
   "outputs": [],
   "source": [
    "RANDOM_SEED = 8927\n",
    "np.random.seed(RANDOM_SEED)\n",
    "\n",
    "%config InlineBackend.figure_format = 'retina'\n",
    "%load_ext watermark\n",
    "az.style.use(\"arviz-darkgrid\")"
   ]
  },
  {
   "cell_type": "markdown",
   "metadata": {},
   "source": [
    "# Chapter 7 - ULYSSES’ COMPASS"
   ]
  },
  {
   "cell_type": "markdown",
   "metadata": {},
   "source": []
  },
  {
   "cell_type": "markdown",
   "metadata": {},
   "source": [
    "## End of Chapter Problems"
   ]
  },
  {
   "cell_type": "markdown",
   "metadata": {},
   "source": [
    "7E1. State the three motivating criteria that define information entropy. Try to express each in your\n",
    "own words.\n",
    "\n",
    "Answer: There are the usual desidirate which are given such as continuity, additivity etc. I think these are hard to imagine coming up with these desidirata in the first place unless you had a wild and strong intuition for what properties \"information\" really ought to have. I actually think the best motivation for this definition comes from the conclusion of Shannon's Source Coding Theorem which is roughly as follows: If we have a sample $\\underline{X}_N$ of i.i.d random variables $X_i$ from a distribution F. If H is the entropy of the distribution F, then as the sample size $N \\to \\infty$, the number of binary digits required per symbol, to encode the sample with negligible probability of error is the same as the entropy.\n",
    "\n",
    "7E2. Suppose a coin is weighted such that, when it is tossed and lands on a table, it comes up heads\n",
    "70% of the time. What is the entropy of this coin?\n",
    "\n",
    "Answer: $H(X) = -\\sum_i P_i log(P_i)$\n",
    "\n",
    "I'm using base 2 logarithm as it feels more natural (ironically) than the natural logarithm when it comes to information theory.\n",
    "For the particular probability measure assigned to the coin in the question this becomes -0.7log(0.7) - 0.3log(0.3)"
   ]
  },
  {
   "cell_type": "code",
   "execution_count": 3,
   "metadata": {},
   "outputs": [
    {
     "data": {
      "text/plain": [
       "0.8812908992306927"
      ]
     },
     "execution_count": 3,
     "metadata": {},
     "output_type": "execute_result"
    }
   ],
   "source": [
    "-0.7*np.log2(0.7) - 0.3*np.log2(0.3)"
   ]
  },
  {
   "cell_type": "markdown",
   "metadata": {},
   "source": [
    "Ie, less than one binary digit per coin flip is required when many coin flips are aggregated together."
   ]
  },
  {
   "cell_type": "markdown",
   "metadata": {},
   "source": [
    "7E3. Suppose a four-sided die is loaded such that, when tossed onto a table, it shows “1” 20%, “2” 25%, “3” 25%, and “4” 30% of the time. What is the entropy of this die?"
   ]
  },
  {
   "cell_type": "code",
   "execution_count": 4,
   "metadata": {},
   "outputs": [
    {
     "data": {
      "text/plain": [
       "1.9854752972273344"
      ]
     },
     "execution_count": 4,
     "metadata": {},
     "output_type": "execute_result"
    }
   ],
   "source": [
    "-0.2*np.log2(0.2) - 0.25*np.log2(0.25) - 0.25*np.log2(0.25) - 0.3*np.log2(0.3)"
   ]
  },
  {
   "cell_type": "markdown",
   "metadata": {},
   "source": [
    "This isn't far from an equiprobable die, therefore it's unsurprising that 2 bits of information are required. That is 2 bits of information can encode 4 states."
   ]
  },
  {
   "cell_type": "markdown",
   "metadata": {},
   "source": [
    "7E4. Suppose another four-sided die is loaded such that it never shows “4”. The other three sides show equally often. What is the entropy of this die?\n",
    "\n",
    "Answer: $3 \\times -\\frac{1}{3}log(\\frac{1}{3}) = log(3)$"
   ]
  },
  {
   "cell_type": "markdown",
   "metadata": {},
   "source": [
    "7M1. Write down and compare the definitions of AIC and WAIC. Which of these criteria is most\n",
    "general? Which assumptions are required to transform the more general criterion into a less general\n",
    "one?\n"
   ]
  },
  {
   "cell_type": "markdown",
   "metadata": {},
   "source": [
    "$\\text{AIC} = −2lppd + 2p$, and $\\text{WAIC} = −2(lppd - \\sum_i var_{\\theta}[ log p(y_i|\\theta) ])$\n",
    "\n",
    "WAIC is more general and is less constrained than the AIC. The AC works on flat priors and assumes multivariate Gaussian behaviour of the posterior, and sample size is much greater than the number of parameters.\n",
    "\n",
    "(To my current knowledge this all ties in with stuff relating to the Fisher information in the theory of maximum likelihoods)"
   ]
  },
  {
   "cell_type": "markdown",
   "metadata": {},
   "source": [
    "7M2. Explain the difference between model selection and model comparison. What information is lost under model selection?\n",
    "\n",
    "Answer: Model selection picks a single model from a set based upon some criterion, eg out of sample prediction accuracy or out of sample deviance, and picks the model that optimises that metric.\n",
    "\n",
    "Model comparison on the other hand retains all models and uses their relative performance metrics to assess the contributions of certain variables to making predictions. It can then be used in conjunction with a causal model, and its implied conditional independencies to judge some causal claims. But information criterion alone are not enought to do this."
   ]
  },
  {
   "cell_type": "markdown",
   "metadata": {},
   "source": [
    "7M3. When comparing models with an information criterion, why must all models be fit to exactly the same observations? What would happen to the information criterion values, if the models were fit to different numbers of observations? Perform some experiments, if you are not sure.\n",
    "\n",
    "Answer: Information criterion are calulated on in sample data. Changing the data would make this an unfair comparison.\n",
    "\n",
    "Seeing as the information criterion are functions of -2𝑙𝑝𝑝𝑑, which is in turn an increasing function when more samples are added to the data, using different size data sets would yield an unfair comparison of the two models."
   ]
  },
  {
   "cell_type": "markdown",
   "metadata": {},
   "source": [
    "7M4. What happens to the effective number of parameters, as measured by PSIS or WAIC, as a prior\n",
    "becomes more concentrated? Why? Perform some experiments, if you are not sure.\n",
    "\n",
    "\n",
    "Answer: As the prior becomes narrower, the posterior becomes tighter for any given amount of data. Therefore, $\\sum_i var_{\\theta}[ log p(y_i|\\theta) ]$ the variance on the penalty terms will become smaller. Why? Because as the posterior becomes narrower and narrower, the range of possible values of log p(y_i|\\theta) will become smaller and smaller (Think of a dirac delta function as the reductio $\\textit{ad absurdum}$ of this argument. In this case the variance becomes 0). Thus smaller prior, through a series of logical steps implied smaller variances in the sum and in turn a smaller \"effective number of parameters\""
   ]
  },
  {
   "cell_type": "markdown",
   "metadata": {},
   "source": [
    "7M5. Provide an informal explanation of why informative priors reduce overfitting.\n",
    "\n",
    "Answer: Informative prior concentrate mass on some specified region of the parameter space. In this regime you're implicity giving preference to some parameters and asking the model to require more data to shift probability mass in the posterior. The more mass you concentrate in the prior, the more data you need to shift it."
   ]
  },
  {
   "cell_type": "markdown",
   "metadata": {},
   "source": [
    "7M6. Provide an informal explanation of why overly informative priors result in underfitting.\n",
    "\n",
    "Answer: Concentrating all of the probabiliy mass in excess means that an overwhelming amount of data"
   ]
  },
  {
   "cell_type": "markdown",
   "metadata": {},
   "source": [
    "7H1. In 2007, The Wall Street Journal published an editorial (“We’re Number One, Alas”) with a graph of corporate tax rates in 29 countries plotted against tax revenue. A badly fit curve was drawn in (reconstructed\n",
    "at right), seemingly by hand, to make the argument that the relationship\n",
    "between tax rate and tax revenue increases and then declines, such that\n",
    "higher tax rates can actually produce less tax revenue. I want you to actually fit a curve to these data, found in data(Laffer). Consider models\n",
    "that use tax rate to predict tax revenue. Compare, using WAIC or PSIS, a\n",
    "straight-line model to any curved models you like. What do you conclude\n",
    "about the relationship between tax rate and tax revenue?"
   ]
  },
  {
   "cell_type": "code",
   "execution_count": 5,
   "metadata": {},
   "outputs": [],
   "source": [
    "# Load the data\n",
    "Laffer = pd.read_csv(\"./data/Laffer.csv\", delimiter=\";\")"
   ]
  },
  {
   "cell_type": "code",
   "execution_count": 6,
   "metadata": {},
   "outputs": [
    {
     "data": {
      "text/plain": [
       "<AxesSubplot:xlabel='tax_rate', ylabel='tax_revenue'>"
      ]
     },
     "execution_count": 6,
     "metadata": {},
     "output_type": "execute_result"
    },
    {
     "data": {
      "image/png": "[encoded data removed]",
      "text/plain": [
       "<Figure size 720x480 with 1 Axes>"
      ]
     },
     "metadata": {
      "image/png": {
       "height": 491,
       "width": 731
      }
     },
     "output_type": "display_data"
    }
   ],
   "source": [
    "# plot it\n",
    "sns.scatterplot(x=\"tax_rate\", y=\"tax_revenue\", data=Laffer)"
   ]
  },
  {
   "cell_type": "markdown",
   "metadata": {},
   "source": [
    "Let's try 3 models for this data, each one a little a crazier than the last. I'll just fit polynomials from order 2, 3 and 5. This range of values ought to get the points across."
   ]
  },
  {
   "cell_type": "code",
   "execution_count": 7,
   "metadata": {},
   "outputs": [],
   "source": [
    "def standardise(x): return (x-np.mean(x))/np.std(x)"
   ]
  },
  {
   "cell_type": "code",
   "execution_count": 8,
   "metadata": {},
   "outputs": [],
   "source": [
    "# standardise the data\n",
    "Laffer[\"s_taxRate\"] = standardise(Laffer.tax_rate)\n",
    "Laffer[\"s_taxRevenue\"] = standardise(Laffer.tax_revenue)"
   ]
  },
  {
   "cell_type": "code",
   "execution_count": 9,
   "metadata": {},
   "outputs": [
    {
     "data": {
      "text/plain": [
       "<AxesSubplot:xlabel='s_taxRate', ylabel='s_taxRevenue'>"
      ]
     },
     "execution_count": 9,
     "metadata": {},
     "output_type": "execute_result"
    },
    {
     "data": {
      "image/png": "[encoded data removed]",
      "text/plain": [
       "<Figure size 720x480 with 1 Axes>"
      ]
     },
     "metadata": {
      "image/png": {
       "height": 491,
       "width": 731
      }
     },
     "output_type": "display_data"
    }
   ],
   "source": [
    "sns.scatterplot(x=\"s_taxRate\", y=\"s_taxRevenue\", data=Laffer)"
   ]
  },
  {
   "cell_type": "code",
   "execution_count": 10,
   "metadata": {},
   "outputs": [
    {
     "data": {
      "text/plain": [
       "<function matplotlib.pyplot.fill(*args, data=None, **kwargs)>"
      ]
     },
     "execution_count": 10,
     "metadata": {},
     "output_type": "execute_result"
    }
   ],
   "source": [
    "plt.fill"
   ]
  },
  {
   "cell_type": "code",
   "execution_count": 11,
   "metadata": {},
   "outputs": [
    {
     "data": {
      "text/plain": [
       "array([ 2.,  3.,  4.,  5.,  6.,  7.,  8.,  9., 10.])"
      ]
     },
     "execution_count": 11,
     "metadata": {},
     "output_type": "execute_result"
    }
   ],
   "source": [
    "np.linspace(2, 10, 9)"
   ]
  },
  {
   "cell_type": "code",
   "execution_count": 12,
   "metadata": {},
   "outputs": [],
   "source": [
    "# list of degrees of polynomials that we'll fit to the data\n",
    "degree = np.linspace(1, 10, 10)\n",
    "# get the data value to these powers and whack it in the data frame\n",
    "powers = np.array([Laffer[\"s_taxRate\"]**i for i in degree]).T\n",
    "deg = []\n",
    "for i in range(len(degree)):\n",
    "    degr = \"rate^\" + str(degree[i])\n",
    "    Laffer[degr] = powers[:, i]\n",
    "    deg.append(degr)"
   ]
  },
  {
   "cell_type": "code",
   "execution_count": 13,
   "metadata": {},
   "outputs": [
    {
     "name": "stderr",
     "output_type": "stream",
     "text": [
      "Auto-assigning NUTS sampler...\n",
      "Initializing NUTS using jitter+adapt_diag...\n",
      "Multiprocess sampling (4 chains in 4 jobs)\n",
      "NUTS: [sigma, beta, alpha]\n"
     ]
    },
    {
     "data": {
      "text/html": [
       "\n",
       "    <div>\n",
       "        <style>\n",
       "            /* Turns off some styling */\n",
       "            progress {\n",
       "                /* gets rid of default border in Firefox and Opera. */\n",
       "                border: none;\n",
       "                /* Needs to be in here for Safari polyfill so background images work as expected. */\n",
       "                background-size: auto;\n",
       "            }\n",
       "            .progress-bar-interrupted, .progress-bar-interrupted::-webkit-progress-bar {\n",
       "                background: #F44336;\n",
       "            }\n",
       "        </style>\n",
       "      <progress value='6000' class='' max='6000' style='width:300px; height:20px; vertical-align: middle;'></progress>\n",
       "      100.00% [6000/6000 00:03<00:00 Sampling 4 chains, 0 divergences]\n",
       "    </div>\n",
       "    "
      ],
      "text/plain": [
       "<IPython.core.display.HTML object>"
      ]
     },
     "metadata": {},
     "output_type": "display_data"
    },
    {
     "name": "stderr",
     "output_type": "stream",
     "text": [
      "Sampling 4 chains for 1_000 tune and 500 draw iterations (4_000 + 2_000 draws total) took 6 seconds.\n",
      "Auto-assigning NUTS sampler...\n",
      "Initializing NUTS using jitter+adapt_diag...\n",
      "Multiprocess sampling (4 chains in 4 jobs)\n",
      "NUTS: [sigma, beta, alpha]\n"
     ]
    },
    {
     "data": {
      "text/html": [
       "\n",
       "    <div>\n",
       "        <style>\n",
       "            /* Turns off some styling */\n",
       "            progress {\n",
       "                /* gets rid of default border in Firefox and Opera. */\n",
       "                border: none;\n",
       "                /* Needs to be in here for Safari polyfill so background images work as expected. */\n",
       "                background-size: auto;\n",
       "            }\n",
       "            .progress-bar-interrupted, .progress-bar-interrupted::-webkit-progress-bar {\n",
       "                background: #F44336;\n",
       "            }\n",
       "        </style>\n",
       "      <progress value='6000' class='' max='6000' style='width:300px; height:20px; vertical-align: middle;'></progress>\n",
       "      100.00% [6000/6000 00:08<00:00 Sampling 4 chains, 0 divergences]\n",
       "    </div>\n",
       "    "
      ],
      "text/plain": [
       "<IPython.core.display.HTML object>"
      ]
     },
     "metadata": {},
     "output_type": "display_data"
    },
    {
     "name": "stderr",
     "output_type": "stream",
     "text": [
      "Sampling 4 chains for 1_000 tune and 500 draw iterations (4_000 + 2_000 draws total) took 9 seconds.\n",
      "Auto-assigning NUTS sampler...\n",
      "Initializing NUTS using jitter+adapt_diag...\n",
      "Multiprocess sampling (4 chains in 4 jobs)\n",
      "NUTS: [sigma, beta, alpha]\n"
     ]
    },
    {
     "data": {
      "text/html": [
       "\n",
       "    <div>\n",
       "        <style>\n",
       "            /* Turns off some styling */\n",
       "            progress {\n",
       "                /* gets rid of default border in Firefox and Opera. */\n",
       "                border: none;\n",
       "                /* Needs to be in here for Safari polyfill so background images work as expected. */\n",
       "                background-size: auto;\n",
       "            }\n",
       "            .progress-bar-interrupted, .progress-bar-interrupted::-webkit-progress-bar {\n",
       "                background: #F44336;\n",
       "            }\n",
       "        </style>\n",
       "      <progress value='6000' class='' max='6000' style='width:300px; height:20px; vertical-align: middle;'></progress>\n",
       "      100.00% [6000/6000 00:21<00:00 Sampling 4 chains, 3 divergences]\n",
       "    </div>\n",
       "    "
      ],
      "text/plain": [
       "<IPython.core.display.HTML object>"
      ]
     },
     "metadata": {},
     "output_type": "display_data"
    },
    {
     "name": "stderr",
     "output_type": "stream",
     "text": [
      "Sampling 4 chains for 1_000 tune and 500 draw iterations (4_000 + 2_000 draws total) took 22 seconds.\n",
      "There were 3 divergences after tuning. Increase `target_accept` or reparameterize.\n",
      "The acceptance probability does not match the target. It is 0.8880819615912123, but should be close to 0.8. Try to increase the number of tuning steps.\n",
      "Auto-assigning NUTS sampler...\n",
      "Initializing NUTS using jitter+adapt_diag...\n",
      "Multiprocess sampling (4 chains in 4 jobs)\n",
      "NUTS: [sigma, beta, alpha]\n"
     ]
    },
    {
     "data": {
      "text/html": [
       "\n",
       "    <div>\n",
       "        <style>\n",
       "            /* Turns off some styling */\n",
       "            progress {\n",
       "                /* gets rid of default border in Firefox and Opera. */\n",
       "                border: none;\n",
       "                /* Needs to be in here for Safari polyfill so background images work as expected. */\n",
       "                background-size: auto;\n",
       "            }\n",
       "            .progress-bar-interrupted, .progress-bar-interrupted::-webkit-progress-bar {\n",
       "                background: #F44336;\n",
       "            }\n",
       "        </style>\n",
       "      <progress value='6000' class='' max='6000' style='width:300px; height:20px; vertical-align: middle;'></progress>\n",
       "      100.00% [6000/6000 00:17<00:00 Sampling 4 chains, 120 divergences]\n",
       "    </div>\n",
       "    "
      ],
      "text/plain": [
       "<IPython.core.display.HTML object>"
      ]
     },
     "metadata": {},
     "output_type": "display_data"
    },
    {
     "name": "stderr",
     "output_type": "stream",
     "text": [
      "Sampling 4 chains for 1_000 tune and 500 draw iterations (4_000 + 2_000 draws total) took 18 seconds.\n",
      "There was 1 divergence after tuning. Increase `target_accept` or reparameterize.\n",
      "There were 119 divergences after tuning. Increase `target_accept` or reparameterize.\n",
      "The acceptance probability does not match the target. It is 0.5712391108324193, but should be close to 0.8. Try to increase the number of tuning steps.\n",
      "The acceptance probability does not match the target. It is 0.8812107845144623, but should be close to 0.8. Try to increase the number of tuning steps.\n",
      "The estimated number of effective samples is smaller than 200 for some parameters.\n",
      "Auto-assigning NUTS sampler...\n",
      "Initializing NUTS using jitter+adapt_diag...\n",
      "Multiprocess sampling (4 chains in 4 jobs)\n",
      "NUTS: [sigma, beta, alpha]\n"
     ]
    },
    {
     "data": {
      "text/html": [
       "\n",
       "    <div>\n",
       "        <style>\n",
       "            /* Turns off some styling */\n",
       "            progress {\n",
       "                /* gets rid of default border in Firefox and Opera. */\n",
       "                border: none;\n",
       "                /* Needs to be in here for Safari polyfill so background images work as expected. */\n",
       "                background-size: auto;\n",
       "            }\n",
       "            .progress-bar-interrupted, .progress-bar-interrupted::-webkit-progress-bar {\n",
       "                background: #F44336;\n",
       "            }\n",
       "        </style>\n",
       "      <progress value='6000' class='' max='6000' style='width:300px; height:20px; vertical-align: middle;'></progress>\n",
       "      100.00% [6000/6000 03:27<00:00 Sampling 4 chains, 506 divergences]\n",
       "    </div>\n",
       "    "
      ],
      "text/plain": [
       "<IPython.core.display.HTML object>"
      ]
     },
     "metadata": {},
     "output_type": "display_data"
    },
    {
     "name": "stderr",
     "output_type": "stream",
     "text": [
      "Sampling 4 chains for 1_000 tune and 500 draw iterations (4_000 + 2_000 draws total) took 208 seconds.\n",
      "There were 86 divergences after tuning. Increase `target_accept` or reparameterize.\n",
      "There were 10 divergences after tuning. Increase `target_accept` or reparameterize.\n",
      "There were 295 divergences after tuning. Increase `target_accept` or reparameterize.\n",
      "The acceptance probability does not match the target. It is 0.7068684128166536, but should be close to 0.8. Try to increase the number of tuning steps.\n",
      "There were 115 divergences after tuning. Increase `target_accept` or reparameterize.\n",
      "The rhat statistic is larger than 1.2 for some parameters.\n",
      "The estimated number of effective samples is smaller than 200 for some parameters.\n"
     ]
    }
   ],
   "source": [
    "# use pymc3 to fit 2,3 and 6 order polynomials to the data\n",
    "with pm.Model() as first:\n",
    "    alpha = pm.Normal(\"alpha\", 0, 0.2)  # alpha prior\n",
    "    beta = pm.Normal(\"beta\", 0, 0.5)  # beta prior\n",
    "    sigma = pm.Lognormal(\"sigma\", 0, 1)\n",
    "    mu = alpha + beta*Laffer.s_taxRate\n",
    "    rev = pm.Normal(\"rev\", mu=mu, sd=sigma, observed=Laffer.s_taxRevenue)\n",
    "    first_sample = pm.sample(draws=500, chains=4)\n",
    "\n",
    "with pm.Model() as second:\n",
    "    alpha = pm.Normal(\"alpha\", 0, 0.2)  # alpha prior\n",
    "    beta = pm.Normal(\"beta\", 0, 0.5, shape=2)  # beta prior\n",
    "    sigma = pm.Lognormal(\"sigma\", 0, 1)\n",
    "    mu = alpha + pm.math.dot(beta, Laffer[deg[:2]].values.T)\n",
    "    rev = pm.Normal(\"rev\", mu=mu, sd=sigma, observed=Laffer.s_taxRevenue)\n",
    "    second_sample = pm.sample(draws=500, chains=4)\n",
    "\n",
    "with pm.Model() as third:\n",
    "    alpha = pm.Normal(\"alpha\", 0, 0.2)  # alpha prior\n",
    "    beta = pm.Normal(\"beta\", 0, 0.5, shape=3)  # beta prior\n",
    "    sigma = pm.Lognormal(\"sigma\", 0, 1)\n",
    "    mu = alpha + pm.math.dot(beta, Laffer[deg[:3]].values.T)\n",
    "    rev = pm.Normal(\"rev\", mu=mu, sd=sigma, observed=Laffer.s_taxRevenue)\n",
    "    third_sample = pm.sample(draws=500, chains=4)\n",
    "\n",
    "with pm.Model() as fourth:\n",
    "    alpha = pm.Normal(\"alpha\", 0, 0.2)  # alpha prior\n",
    "    beta = pm.Normal(\"beta\", 0, 0.5, shape=4)  # beta prior\n",
    "    sigma = pm.Lognormal(\"sigma\", 0, 1)\n",
    "    mu = alpha + pm.math.dot(beta, Laffer[deg[:4]].values.T)\n",
    "    rev = pm.Normal(\"rev\", mu=mu, sd=sigma, observed=Laffer.s_taxRevenue)\n",
    "    fourth_sample = pm.sample(draws=500, chains=4)\n",
    "\n",
    "with pm.Model() as seventh:\n",
    "    alpha = pm.Normal(\"alpha\", 0, 0.2)  # alpha prior\n",
    "    beta = pm.Normal(\"beta\", 0, 0.5, shape=7)  # beta prior\n",
    "    sigma = pm.Lognormal(\"sigma\", 0, 1)\n",
    "    mu = alpha + pm.math.dot(beta, Laffer[deg[:7]].values.T)\n",
    "    rev = pm.Normal(\"rev\", mu=mu, sd=sigma, observed=Laffer.s_taxRevenue)\n",
    "    seventh_sample = pm.sample(draws=500, chains=4)"
   ]
  },
  {
   "cell_type": "code",
   "execution_count": 14,
   "metadata": {},
   "outputs": [
    {
     "name": "stderr",
     "output_type": "stream",
     "text": [
      "Auto-assigning NUTS sampler...\n",
      "Initializing NUTS using jitter+adapt_diag...\n",
      "Multiprocess sampling (4 chains in 4 jobs)\n",
      "NUTS: [sigma, beta, alpha]\n"
     ]
    },
    {
     "data": {
      "text/html": [
       "\n",
       "    <div>\n",
       "        <style>\n",
       "            /* Turns off some styling */\n",
       "            progress {\n",
       "                /* gets rid of default border in Firefox and Opera. */\n",
       "                border: none;\n",
       "                /* Needs to be in here for Safari polyfill so background images work as expected. */\n",
       "                background-size: auto;\n",
       "            }\n",
       "            .progress-bar-interrupted, .progress-bar-interrupted::-webkit-progress-bar {\n",
       "                background: #F44336;\n",
       "            }\n",
       "        </style>\n",
       "      <progress value='1360' class='' max='6000' style='width:300px; height:20px; vertical-align: middle;'></progress>\n",
       "      22.67% [1360/6000 00:00<00:02 Sampling 4 chains, 0 divergences]\n",
       "    </div>\n",
       "    "
      ],
      "text/plain": [
       "<IPython.core.display.HTML object>"
      ]
     },
     "metadata": {},
     "output_type": "display_data"
    },
    {
     "ename": "RuntimeError",
     "evalue": "Chain 1 failed.",
     "output_type": "error",
     "traceback": [
      "\u001b[0;31m---------------------------------------------------------------------------\u001b[0m",
      "\u001b[0;31mRemoteTraceback\u001b[0m                           Traceback (most recent call last)",
      "\u001b[0;31mRemoteTraceback\u001b[0m: \n\"\"\"\nTraceback (most recent call last):\n  File \"/home/aidan/anaconda3/envs/pymc3/lib/python3.8/site-packages/pymc3/parallel_sampling.py\", line 137, in run\n    self._start_loop()\n  File \"/home/aidan/anaconda3/envs/pymc3/lib/python3.8/site-packages/pymc3/parallel_sampling.py\", line 191, in _start_loop\n    point, stats = self._compute_point()\n  File \"/home/aidan/anaconda3/envs/pymc3/lib/python3.8/site-packages/pymc3/parallel_sampling.py\", line 218, in _compute_point\n    point, stats = self._step_method.step(self._point)\n  File \"/home/aidan/anaconda3/envs/pymc3/lib/python3.8/site-packages/pymc3/step_methods/arraystep.py\", line 263, in step\n    apoint, stats = self.astep(array)\n  File \"/home/aidan/anaconda3/envs/pymc3/lib/python3.8/site-packages/pymc3/step_methods/hmc/base_hmc.py\", line 154, in astep\n    self.potential.raise_ok(self._logp_dlogp_func._ordering.vmap)\n  File \"/home/aidan/anaconda3/envs/pymc3/lib/python3.8/site-packages/pymc3/step_methods/hmc/quadpotential.py\", line 263, in raise_ok\n    raise ValueError('\\n'.join(errmsg))\nValueError: Mass matrix contains zeros on the diagonal. \nThe derivative of RV `beta`.ravel()[0] is zero.\nThe derivative of RV `alpha`.ravel()[0] is zero.\n\"\"\"",
      "\nThe above exception was the direct cause of the following exception:\n",
      "\u001b[0;31mValueError\u001b[0m                                Traceback (most recent call last)",
      "\u001b[0;31mValueError\u001b[0m: Mass matrix contains zeros on the diagonal. \nThe derivative of RV `beta`.ravel()[0] is zero.\nThe derivative of RV `alpha`.ravel()[0] is zero.",
      "\nThe above exception was the direct cause of the following exception:\n",
      "\u001b[0;31mRuntimeError\u001b[0m                              Traceback (most recent call last)",
      "\u001b[0;32m<ipython-input-14-8a31cbbc776d>\u001b[0m in \u001b[0;36m<module>\u001b[0;34m\u001b[0m\n\u001b[1;32m      5\u001b[0m     \u001b[0mmu\u001b[0m \u001b[0;34m=\u001b[0m \u001b[0malpha\u001b[0m \u001b[0;34m+\u001b[0m \u001b[0mpm\u001b[0m\u001b[0;34m.\u001b[0m\u001b[0mmath\u001b[0m\u001b[0;34m.\u001b[0m\u001b[0mdot\u001b[0m\u001b[0;34m(\u001b[0m\u001b[0mbeta\u001b[0m\u001b[0;34m,\u001b[0m \u001b[0mLaffer\u001b[0m\u001b[0;34m[\u001b[0m\u001b[0mdeg\u001b[0m\u001b[0;34m[\u001b[0m\u001b[0;34m:\u001b[0m\u001b[0;36m9\u001b[0m\u001b[0;34m]\u001b[0m\u001b[0;34m]\u001b[0m\u001b[0;34m.\u001b[0m\u001b[0mvalues\u001b[0m\u001b[0;34m.\u001b[0m\u001b[0mT\u001b[0m\u001b[0;34m)\u001b[0m\u001b[0;34m\u001b[0m\u001b[0;34m\u001b[0m\u001b[0m\n\u001b[1;32m      6\u001b[0m     \u001b[0mrev\u001b[0m \u001b[0;34m=\u001b[0m \u001b[0mpm\u001b[0m\u001b[0;34m.\u001b[0m\u001b[0mNormal\u001b[0m\u001b[0;34m(\u001b[0m\u001b[0;34m\"rev\"\u001b[0m\u001b[0;34m,\u001b[0m \u001b[0mmu\u001b[0m\u001b[0;34m=\u001b[0m\u001b[0mmu\u001b[0m\u001b[0;34m,\u001b[0m \u001b[0msd\u001b[0m\u001b[0;34m=\u001b[0m\u001b[0msigma\u001b[0m\u001b[0;34m,\u001b[0m \u001b[0mobserved\u001b[0m\u001b[0;34m=\u001b[0m\u001b[0mLaffer\u001b[0m\u001b[0;34m.\u001b[0m\u001b[0ms_taxRevenue\u001b[0m\u001b[0;34m)\u001b[0m\u001b[0;34m\u001b[0m\u001b[0;34m\u001b[0m\u001b[0m\n\u001b[0;32m----> 7\u001b[0;31m     \u001b[0mninth_sample\u001b[0m \u001b[0;34m=\u001b[0m \u001b[0mpm\u001b[0m\u001b[0;34m.\u001b[0m\u001b[0msample\u001b[0m\u001b[0;34m(\u001b[0m\u001b[0mdraws\u001b[0m\u001b[0;34m=\u001b[0m\u001b[0;36m500\u001b[0m\u001b[0;34m,\u001b[0m \u001b[0mchains\u001b[0m\u001b[0;34m=\u001b[0m\u001b[0;36m4\u001b[0m\u001b[0;34m)\u001b[0m\u001b[0;34m\u001b[0m\u001b[0;34m\u001b[0m\u001b[0m\n\u001b[0m",
      "\u001b[0;32m~/anaconda3/envs/pymc3/lib/python3.8/site-packages/pymc3/sampling.py\u001b[0m in \u001b[0;36msample\u001b[0;34m(draws, step, init, n_init, start, trace, chain_idx, chains, cores, tune, progressbar, model, random_seed, discard_tuned_samples, compute_convergence_checks, callback, return_inferencedata, idata_kwargs, mp_ctx, pickle_backend, **kwargs)\u001b[0m\n\u001b[1;32m    543\u001b[0m         \u001b[0m_print_step_hierarchy\u001b[0m\u001b[0;34m(\u001b[0m\u001b[0mstep\u001b[0m\u001b[0;34m)\u001b[0m\u001b[0;34m\u001b[0m\u001b[0;34m\u001b[0m\u001b[0m\n\u001b[1;32m    544\u001b[0m         \u001b[0;32mtry\u001b[0m\u001b[0;34m:\u001b[0m\u001b[0;34m\u001b[0m\u001b[0;34m\u001b[0m\u001b[0m\n\u001b[0;32m--> 545\u001b[0;31m             \u001b[0mtrace\u001b[0m \u001b[0;34m=\u001b[0m \u001b[0m_mp_sample\u001b[0m\u001b[0;34m(\u001b[0m\u001b[0;34m**\u001b[0m\u001b[0msample_args\u001b[0m\u001b[0;34m,\u001b[0m \u001b[0;34m**\u001b[0m\u001b[0mparallel_args\u001b[0m\u001b[0;34m)\u001b[0m\u001b[0;34m\u001b[0m\u001b[0;34m\u001b[0m\u001b[0m\n\u001b[0m\u001b[1;32m    546\u001b[0m         \u001b[0;32mexcept\u001b[0m \u001b[0mpickle\u001b[0m\u001b[0;34m.\u001b[0m\u001b[0mPickleError\u001b[0m\u001b[0;34m:\u001b[0m\u001b[0;34m\u001b[0m\u001b[0;34m\u001b[0m\u001b[0m\n\u001b[1;32m    547\u001b[0m             \u001b[0m_log\u001b[0m\u001b[0;34m.\u001b[0m\u001b[0mwarning\u001b[0m\u001b[0;34m(\u001b[0m\u001b[0;34m\"Could not pickle model, sampling singlethreaded.\"\u001b[0m\u001b[0;34m)\u001b[0m\u001b[0;34m\u001b[0m\u001b[0;34m\u001b[0m\u001b[0m\n",
      "\u001b[0;32m~/anaconda3/envs/pymc3/lib/python3.8/site-packages/pymc3/sampling.py\u001b[0m in \u001b[0;36m_mp_sample\u001b[0;34m(draws, tune, step, chains, cores, chain, random_seed, start, progressbar, trace, model, callback, discard_tuned_samples, mp_ctx, pickle_backend, **kwargs)\u001b[0m\n\u001b[1;32m   1484\u001b[0m         \u001b[0;32mtry\u001b[0m\u001b[0;34m:\u001b[0m\u001b[0;34m\u001b[0m\u001b[0;34m\u001b[0m\u001b[0m\n\u001b[1;32m   1485\u001b[0m             \u001b[0;32mwith\u001b[0m \u001b[0msampler\u001b[0m\u001b[0;34m:\u001b[0m\u001b[0;34m\u001b[0m\u001b[0;34m\u001b[0m\u001b[0m\n\u001b[0;32m-> 1486\u001b[0;31m                 \u001b[0;32mfor\u001b[0m \u001b[0mdraw\u001b[0m \u001b[0;32min\u001b[0m \u001b[0msampler\u001b[0m\u001b[0;34m:\u001b[0m\u001b[0;34m\u001b[0m\u001b[0;34m\u001b[0m\u001b[0m\n\u001b[0m\u001b[1;32m   1487\u001b[0m                     \u001b[0mtrace\u001b[0m \u001b[0;34m=\u001b[0m \u001b[0mtraces\u001b[0m\u001b[0;34m[\u001b[0m\u001b[0mdraw\u001b[0m\u001b[0;34m.\u001b[0m\u001b[0mchain\u001b[0m \u001b[0;34m-\u001b[0m \u001b[0mchain\u001b[0m\u001b[0;34m]\u001b[0m\u001b[0;34m\u001b[0m\u001b[0;34m\u001b[0m\u001b[0m\n\u001b[1;32m   1488\u001b[0m                     \u001b[0;32mif\u001b[0m \u001b[0mtrace\u001b[0m\u001b[0;34m.\u001b[0m\u001b[0msupports_sampler_stats\u001b[0m \u001b[0;32mand\u001b[0m \u001b[0mdraw\u001b[0m\u001b[0;34m.\u001b[0m\u001b[0mstats\u001b[0m \u001b[0;32mis\u001b[0m \u001b[0;32mnot\u001b[0m \u001b[0;32mNone\u001b[0m\u001b[0;34m:\u001b[0m\u001b[0;34m\u001b[0m\u001b[0;34m\u001b[0m\u001b[0m\n",
      "\u001b[0;32m~/anaconda3/envs/pymc3/lib/python3.8/site-packages/pymc3/parallel_sampling.py\u001b[0m in \u001b[0;36m__iter__\u001b[0;34m(self)\u001b[0m\n\u001b[1;32m    490\u001b[0m \u001b[0;34m\u001b[0m\u001b[0m\n\u001b[1;32m    491\u001b[0m         \u001b[0;32mwhile\u001b[0m \u001b[0mself\u001b[0m\u001b[0;34m.\u001b[0m\u001b[0m_active\u001b[0m\u001b[0;34m:\u001b[0m\u001b[0;34m\u001b[0m\u001b[0;34m\u001b[0m\u001b[0m\n\u001b[0;32m--> 492\u001b[0;31m             \u001b[0mdraw\u001b[0m \u001b[0;34m=\u001b[0m \u001b[0mProcessAdapter\u001b[0m\u001b[0;34m.\u001b[0m\u001b[0mrecv_draw\u001b[0m\u001b[0;34m(\u001b[0m\u001b[0mself\u001b[0m\u001b[0;34m.\u001b[0m\u001b[0m_active\u001b[0m\u001b[0;34m)\u001b[0m\u001b[0;34m\u001b[0m\u001b[0;34m\u001b[0m\u001b[0m\n\u001b[0m\u001b[1;32m    493\u001b[0m             \u001b[0mproc\u001b[0m\u001b[0;34m,\u001b[0m \u001b[0mis_last\u001b[0m\u001b[0;34m,\u001b[0m \u001b[0mdraw\u001b[0m\u001b[0;34m,\u001b[0m \u001b[0mtuning\u001b[0m\u001b[0;34m,\u001b[0m \u001b[0mstats\u001b[0m\u001b[0;34m,\u001b[0m \u001b[0mwarns\u001b[0m \u001b[0;34m=\u001b[0m \u001b[0mdraw\u001b[0m\u001b[0;34m\u001b[0m\u001b[0;34m\u001b[0m\u001b[0m\n\u001b[1;32m    494\u001b[0m             \u001b[0mself\u001b[0m\u001b[0;34m.\u001b[0m\u001b[0m_total_draws\u001b[0m \u001b[0;34m+=\u001b[0m \u001b[0;36m1\u001b[0m\u001b[0;34m\u001b[0m\u001b[0;34m\u001b[0m\u001b[0m\n",
      "\u001b[0;32m~/anaconda3/envs/pymc3/lib/python3.8/site-packages/pymc3/parallel_sampling.py\u001b[0m in \u001b[0;36mrecv_draw\u001b[0;34m(processes, timeout)\u001b[0m\n\u001b[1;32m    363\u001b[0m             \u001b[0;32melse\u001b[0m\u001b[0;34m:\u001b[0m\u001b[0;34m\u001b[0m\u001b[0;34m\u001b[0m\u001b[0m\n\u001b[1;32m    364\u001b[0m                 \u001b[0merror\u001b[0m \u001b[0;34m=\u001b[0m \u001b[0mRuntimeError\u001b[0m\u001b[0;34m(\u001b[0m\u001b[0;34m\"Chain %s failed.\"\u001b[0m \u001b[0;34m%\u001b[0m \u001b[0mproc\u001b[0m\u001b[0;34m.\u001b[0m\u001b[0mchain\u001b[0m\u001b[0;34m)\u001b[0m\u001b[0;34m\u001b[0m\u001b[0;34m\u001b[0m\u001b[0m\n\u001b[0;32m--> 365\u001b[0;31m             \u001b[0;32mraise\u001b[0m \u001b[0merror\u001b[0m \u001b[0;32mfrom\u001b[0m \u001b[0mold_error\u001b[0m\u001b[0;34m\u001b[0m\u001b[0;34m\u001b[0m\u001b[0m\n\u001b[0m\u001b[1;32m    366\u001b[0m         \u001b[0;32melif\u001b[0m \u001b[0mmsg\u001b[0m\u001b[0;34m[\u001b[0m\u001b[0;36m0\u001b[0m\u001b[0;34m]\u001b[0m \u001b[0;34m==\u001b[0m \u001b[0;34m\"writing_done\"\u001b[0m\u001b[0;34m:\u001b[0m\u001b[0;34m\u001b[0m\u001b[0;34m\u001b[0m\u001b[0m\n\u001b[1;32m    367\u001b[0m             \u001b[0mproc\u001b[0m\u001b[0;34m.\u001b[0m\u001b[0m_readable\u001b[0m \u001b[0;34m=\u001b[0m \u001b[0;32mTrue\u001b[0m\u001b[0;34m\u001b[0m\u001b[0;34m\u001b[0m\u001b[0m\n",
      "\u001b[0;31mRuntimeError\u001b[0m: Chain 1 failed."
     ]
    }
   ],
   "source": [
    "with pm.Model() as ninth:\n",
    "    alpha = pm.Normal(\"alpha\", 0, 0.2)  # alpha prior\n",
    "    beta = pm.Normal(\"beta\", 0, 0.5, shape=9)  # beta prior\n",
    "    sigma = pm.Lognormal(\"sigma\", 0, 1)\n",
    "    mu = alpha + pm.math.dot(beta, Laffer[deg[:9]].values.T)\n",
    "    rev = pm.Normal(\"rev\", mu=mu, sd=sigma, observed=Laffer.s_taxRevenue)\n",
    "    ninth_sample = pm.sample(draws=500, chains=4)"
   ]
  },
  {
   "cell_type": "code",
   "execution_count": null,
   "metadata": {},
   "outputs": [],
   "source": [
    "def mean_curve(sample):\n",
    "    coefficients = np.append(\n",
    "        np.flip(np.mean(sample[\"beta\"], axis=0)), np.mean(second_sample[\"alpha\"]))\n",
    "    return np.poly1d(coefficients)"
   ]
  },
  {
   "cell_type": "markdown",
   "metadata": {},
   "source": [
    "The warnings above seem to indicate that the sampling procedure broke down for the fourth order polynomial. I won't trust the MCMC here and will learn how to fix this when I know more about MCMC. In the meantime I'm going to naively continue with the model comparison"
   ]
  },
  {
   "cell_type": "code",
   "execution_count": null,
   "metadata": {},
   "outputs": [],
   "source": [
    "def first_line(x): return np.mean(\n",
    "    first_sample[\"alpha\"]) + np.mean(first_sample[\"beta\"])*x"
   ]
  },
  {
   "cell_type": "code",
   "execution_count": null,
   "metadata": {},
   "outputs": [],
   "source": [
    "def second_line(x): return np.mean(\n",
    "    second_sample[\"alpha\"]) + np.inner(np.mean(second_sample[\"beta\"], axis=0), x)"
   ]
  },
  {
   "cell_type": "code",
   "execution_count": null,
   "metadata": {},
   "outputs": [],
   "source": [
    "def third_line(x): return np.mean(\n",
    "    third_sample[\"alpha\"]) + np.inner(np.mean(third_sample[\"beta\"], axis=0), x.T)"
   ]
  },
  {
   "cell_type": "code",
   "execution_count": null,
   "metadata": {},
   "outputs": [],
   "source": [
    "def fourth_line(x): return np.mean(\n",
    "    fourth_sample[\"alpha\"]) + np.inner(np.mean(fourth_sample[\"beta\"], axis=0), x.T)"
   ]
  },
  {
   "cell_type": "code",
   "execution_count": null,
   "metadata": {},
   "outputs": [],
   "source": [
    "def seventh_line(x): return np.mean(\n",
    "    seventh_sample[\"alpha\"]) + np.inner(np.mean(seventh_sample[\"beta\"], axis=0), x.T)"
   ]
  },
  {
   "cell_type": "code",
   "execution_count": null,
   "metadata": {},
   "outputs": [],
   "source": [
    "np.mean(third_sample[\"beta\"], axis=0)"
   ]
  },
  {
   "cell_type": "code",
   "execution_count": null,
   "metadata": {},
   "outputs": [],
   "source": [
    "sns.scatterplot(x=\"s_taxRate\", y=\"s_taxRevenue\", data=Laffer)\n",
    "x = np.linspace(-3.1, 1.3)\n",
    "plt.plot(x, mean_curve(first_sample)(x), label=\"first order\")\n",
    "plt.plot(x, mean_curve(second_sample)(x), label=\"second order\")\n",
    "plt.plot(x, mean_curve(third_sample)(x), label=\"third order\")\n",
    "plt.plot(x, mean_curve(fourth_sample)(x), label=\"Fourth order\")\n",
    "plt.plot(x, mean_curve(seventh_sample)(x), label=\"seventh order\")\n",
    "plt.plot(x, mean_curve(ninth_sample)(x), label=\"Ninth order\")\n",
    "# plt.plot(x,func(x),)\n",
    "# plt.plot(x,third_line(np.array([x**2,x])),label=\"third order\")\n",
    "# plt.plot(x,fourth_line(np.array([x**4,x**3,x**2,x])),label=\"fourth order\")\n",
    "# plt.plot(x,seventh_line(np.array([x**7,x*6,x**5,x**4,x**3,x**2,x])),label=\"fourth order\")\n",
    "plt.legend()"
   ]
  },
  {
   "cell_type": "code",
   "execution_count": null,
   "metadata": {},
   "outputs": [],
   "source": [
    "first_loo = pm.loo(first_sample, first, scale=\"deviance\")\n",
    "second_loo = pm.loo(second_sample, second, scale=\"deviance\")\n",
    "third_loo = pm.loo(third_sample, third, scale=\"deviance\")\n",
    "fourth_loo = pm.loo(fourth_sample, fourth, scale=\"deviance\")\n",
    "seventh_loo = pm.loo(seventh_sample, seventh, scale=\"deviance\")\n",
    "ninth_loo = pm.loo(ninth_sample, ninth, scale=\"deviance\")"
   ]
  },
  {
   "cell_type": "code",
   "execution_count": null,
   "metadata": {},
   "outputs": [],
   "source": [
    "psis = [first_loo.loo, second_loo.loo, third_loo.loo,\n",
    "    fourth_loo.loo, seventh_loo.loo, ninth_loo.loo]"
   ]
  },
  {
   "cell_type": "code",
   "execution_count": null,
   "metadata": {},
   "outputs": [],
   "source": [
    "psis_se = [first_loo.loo_se, second_loo.loo_se, third_loo.loo_se,\n",
    "    fourth_loo.loo_se, seventh_loo.loo_se, ninth_loo.loo_se]"
   ]
  },
  {
   "cell_type": "code",
   "execution_count": null,
   "metadata": {},
   "outputs": [],
   "source": [
    "\"\"\"\n",
    "The deviance values\n",
    "\"\"\"\n",
    "\n",
    "first_waic = pm.waic(first_sample, first, scale=\"deviance\")\n",
    "second_wiac = pm.waic(second_sample, second, scale=\"deviance\")\n",
    "third_wiac = pm.waic(third_sample, third, scale=\"deviance\")\n",
    "fourth_wiac = pm.waic(fourth_sample, fourth, scale=\"deviance\")\n",
    "seventh_wiac = pm.waic(seventh_sample, seventh, scale=\"deviance\")\n",
    "ninth_waic = pm.waic(ninth_sample, ninth, scale=\"deviance\")"
   ]
  },
  {
   "cell_type": "code",
   "execution_count": null,
   "metadata": {},
   "outputs": [],
   "source": [
    "\"\"\"\n",
    "Without deviance conversion\n",
    "\"\"\"\n",
    "\n",
    "# first_waic = pm.waic(first_sample, first)\n",
    "# second_wiac = pm.waic(second_sample, second)\n",
    "# third_wiac = pm.waic(third_sample, third)\n",
    "# fourth_wiac = pm.waic(fourth_sample, fourth)\n",
    "# seventh_wiac = pm.waic(seventh_sample, seventh)\n",
    "# ninth_waic = pm.waic(ninth_sample, ninth)"
   ]
  },
  {
   "cell_type": "code",
   "execution_count": null,
   "metadata": {},
   "outputs": [],
   "source": [
    "waics = [first_waic.waic, second_wiac.waic, third_wiac.waic,\n",
    "    fourth_wiac.waic, seventh_wiac.waic, ninth_waic.waic]\n",
    "waics"
   ]
  },
  {
   "cell_type": "code",
   "execution_count": null,
   "metadata": {},
   "outputs": [],
   "source": [
    "waic_se = [first_waic.waic_se, second_wiac.waic_se, third_wiac.waic_se,\n",
    "    fourth_wiac.waic_se, seventh_wiac.waic_se, ninth_waic.waic_se]"
   ]
  },
  {
   "cell_type": "code",
   "execution_count": null,
   "metadata": {},
   "outputs": [],
   "source": [
    "orders = [1, 2, 3, 4, 7, 9]"
   ]
  },
  {
   "cell_type": "code",
   "execution_count": null,
   "metadata": {},
   "outputs": [],
   "source": [
    "fig, axs = plt.subplots(1, 2, figsize=(15, 5))\n",
    "axs[0].plot(orders, psis)\n",
    "axs[0].errorbar(orders, psis, psis_se)\n",
    "axs[0].set_title(\"PSIS\")\n",
    "axs[0].set_xlabel(\"Paramater Numbers\")\n",
    "axs[1].set_title(\"WAIC\")\n",
    "axs[1].plot(orders, waics)\n",
    "axs[1].set_xlabel(\"Paramater Numbers\")\n",
    "axs[1].errorbar(orders, waics, waic_se)\n",
    "plt.show()"
   ]
  },
  {
   "cell_type": "markdown",
   "metadata": {},
   "source": [
    "Both measures show that these polynomials don't behave horrendously different from one another. Admittedly, they give failry similar predictions by and large."
   ]
  },
  {
   "cell_type": "markdown",
   "metadata": {},
   "source": [
    "7H2. In the Laffer data, there is one country with a high tax revenue that is an outlier. Use PSIS\n",
    "and WAIC to measure the importance of this outlier in the models you fit in the previous problem.\n",
    "Then use robust regression with a Student’s t distribution to revisit the curve fitting problem. How\n",
    "much does a curved relationship depend upon the outlier point?"
   ]
  },
  {
   "cell_type": "markdown",
   "metadata": {},
   "source": [
    "Let's only investigate this for the linear relationship. I only want to learn about robust linear regression here. This should also overcome some of the warning errors about the k parameter in the pareto distribution to fit the outliers. They definitly aren't expected by a normal model."
   ]
  },
  {
   "cell_type": "code",
   "execution_count": null,
   "metadata": {},
   "outputs": [],
   "source": [
    "first_sample[\"alpha\"] + np.outer(x, first_sample[\"beta\"])"
   ]
  },
  {
   "cell_type": "code",
   "execution_count": null,
   "metadata": {},
   "outputs": [],
   "source": [
    "fig, axs = plt.subplots(1, 2, figsize=(15, 5))\n",
    "\n",
    "x = np.linspace(-3, 1.2)\n",
    "y = first_sample[\"alpha\"] + np.outer(x, first_sample[\"beta\"])\n",
    "mean_line = np.mean(y, axis=1)\n",
    "intervals = pm.hpd(y.T)\n",
    "\n",
    "\n",
    "axs[0].set_title(\"Points scaled by their PSIS values\")\n",
    "sns.scatterplot(x=\"s_taxRate\", y=\"s_taxRevenue\", data=Laffer,\n",
    "                size=first_loo.loo_i.values, ax=axs[0])\n",
    "axs[0].plot(x, mean_line)\n",
    "axs[0].fill_between(x, intervals[:, 0], intervals[:, 1], alpha=0.3)\n",
    "\n",
    "axs[1].set_title(\"Points scaled by their WAIC values\")\n",
    "sns.scatterplot(x=\"s_taxRate\", y=\"s_taxRevenue\", data=Laffer,\n",
    "                size=first_waic.waic_i.values, ax=axs[1])\n",
    "axs[1].plot(x, mean_line)\n",
    "axs[1].fill_between(x, intervals[:, 0], intervals[:, 1], alpha=0.3)\n",
    "\n",
    "# plt.scatter(Laffer.s_taxRate,first_waic.waic_i.values, label=\"WAIC\")\n",
    "\n",
    "plt.show()"
   ]
  },
  {
   "cell_type": "markdown",
   "metadata": {},
   "source": [
    "Now we'll train a robust linear regression using a student-t error model for the data, instead of the usual Gaussian jazz."
   ]
  },
  {
   "cell_type": "code",
   "execution_count": null,
   "metadata": {},
   "outputs": [],
   "source": [
    "with pm.Model() as robust_first:\n",
    "    alpha = pm.Normal(\"alpha\", 0, 0.2)  # alpha prior\n",
    "    beta = pm.Normal(\"beta\", 0, 0.5)  # beta prior\n",
    "    sigma = pm.Lognormal(\"sigma\", 0, 1)\n",
    "    mu = alpha + beta*Laffer.s_taxRate\n",
    "    rev = pm.StudentT(\"rev\", 2, mu=mu, sd=sigma, observed=Laffer.s_taxRevenue)\n",
    "    robust_first_sample = pm.sample(draws=500, chains=4)"
   ]
  },
  {
   "cell_type": "code",
   "execution_count": null,
   "metadata": {},
   "outputs": [],
   "source": [
    "robust_first_loo = pm.loo(robust_first_sample, robust_first, scale=\"deviance\")\n",
    "robust_first_waic = pm.waic(\n",
    "    robust_first_sample, robust_first, scale=\"deviance\")"
   ]
  },
  {
   "cell_type": "code",
   "execution_count": null,
   "metadata": {},
   "outputs": [],
   "source": [
    "fig, axs = plt.subplots(1, 2, figsize=(15, 5))\n",
    "\n",
    "x = np.linspace(-3, 1.2)\n",
    "y = robust_first_sample[\"alpha\"] + np.outer(x, robust_first_sample[\"beta\"])\n",
    "mean_line = np.mean(y, axis=1)\n",
    "intervals = pm.hpd(y.T)\n",
    "\n",
    "plt.suptitle(\"Robust linear regression\")\n",
    "\n",
    "axs[0].set_title(\"Points scaled by their PSIS values\")\n",
    "sns.scatterplot(x=\"s_taxRate\", y=\"s_taxRevenue\", data=Laffer,\n",
    "                size=robust_first_loo.loo_i.values, ax=axs[0])\n",
    "axs[0].plot(x, mean_line)\n",
    "axs[0].fill_between(x, intervals[:, 0], intervals[:, 1], alpha=0.3)\n",
    "\n",
    "axs[1].set_title(\"Points scaled by their WAIC values\")\n",
    "sns.scatterplot(x=\"s_taxRate\", y=\"s_taxRevenue\", data=Laffer,\n",
    "                size=robust_first_waic.waic_i.values, ax=axs[1])\n",
    "axs[1].plot(x, mean_line)\n",
    "axs[1].fill_between(x, intervals[:, 0], intervals[:, 1], alpha=0.3)\n",
    "\n",
    "# plt.scatter(Laffer.s_taxRate,first_waic.waic_i.values, label=\"WAIC\")\n",
    "\n",
    "plt.show()"
   ]
  },
  {
   "cell_type": "markdown",
   "metadata": {},
   "source": [
    "As can be seen, the difference in size betwen the outlier values and the more expected values is less stark for the robust linear regression. Intuitively one might think of this as being something like the robust linear regression are more prepared for/expect the outlier events to occur. This is captured in the student-t used in the likelihood."
   ]
  },
  {
   "cell_type": "code",
   "execution_count": null,
   "metadata": {},
   "outputs": [],
   "source": [
    "fig, axs = plt.subplots(1, 2, figsize=(15, 5))\n",
    "\n",
    "axs[0].set_title(\"Standard Linear regression\")\n",
    "pm.forestplot(first_sample, ax=axs[0])\n",
    "axs[1].set_title(\"Robust Linear regression\")\n",
    "pm.forestplot(robust_first_sample, ax=axs[1])\n",
    "plt.show()"
   ]
  },
  {
   "cell_type": "code",
   "execution_count": null,
   "metadata": {},
   "outputs": [],
   "source": [
    "fig, axs = plt.subplots(1, 2, figsize=(15, 5))\n",
    "\n",
    "x = np.linspace(-3, 1.2)\n",
    "y1 = first_sample[\"alpha\"] + np.outer(x, first_sample[\"beta\"])\n",
    "mean_line1 = np.mean(y1, axis=1)\n",
    "intervals1 = pm.hpd(y1.T)\n",
    "\n",
    "y2 = robust_first_sample[\"alpha\"] + np.outer(x, robust_first_sample[\"beta\"])\n",
    "mean_line2 = np.mean(y2, axis=1)\n",
    "intervals2 = pm.hpd(y.T)\n",
    "\n",
    "axs[0].set_title(\"Standard regression compared to robust\")\n",
    "sns.scatterplot(x=\"s_taxRate\", y=\"s_taxRevenue\", data=Laffer,\n",
    "                size=first_loo.loo_i.values, ax=axs[0])\n",
    "axs[0].plot(x, mean_line1, label=\"Standard Regression\")\n",
    "axs[0].plot(x, mean_line2, label=\"Robust Regression\")\n",
    "axs[0].legend()\n",
    "# axs[0].fill_between(x,intervals[:,0],intervals[:,1],alpha = 0.3)\n",
    "\n",
    "axs[1].set_title(\"Points scaled by their WAIC values\")\n",
    "sns.scatterplot(x=\"s_taxRate\", y=\"s_taxRevenue\", data=Laffer,\n",
    "                size=robust_first_waic.waic_i.values, ax=axs[1])\n",
    "axs[1].plot(x, mean_line1)\n",
    "axs[1].plot(x, mean_line2)\n",
    "# axs[1].fill_between(x,intervals[:,0],intervals[:,1],alpha = 0.3)\n",
    "\n",
    "# plt.scatter(Laffer.s_taxRate,first_waic.waic_i.values, label=\"WAIC\")\n",
    "\n",
    "plt.legend()\n",
    "plt.show()"
   ]
  },
  {
   "cell_type": "markdown",
   "metadata": {},
   "source": [
    "As can be seen, using the robust linear regression does change the model somewhat. But I wouldn't say it's been an overwhelming change in the model. This is because straight forward linear regression was fairly robust for this data anyway."
   ]
  },
  {
   "cell_type": "markdown",
   "metadata": {},
   "source": [
    "| Island |Species A | Species B | Species C | Species D | Species E |\n",
    "| --- | --- | --- |  --- | --- | --- |\n",
    "|Island 1| 0.2 | 0.2 | 0.2 | 0.2 | 0.2 |"
   ]
  },
  {
   "cell_type": "markdown",
   "metadata": {},
   "source": [
    "7H3. Consider three fictional Polynesian islands. On each there is a Royal Ornithologist charged by\n",
    "the king with surveying the bird population. They have each found the following proportions of 5\n",
    "important bird species:\n",
    "\n",
    "\n",
    "| Island |Species A | Species B | Species C | Species D | Species E |\n",
    "| --- | --- | --- |  --- | --- | --- |\n",
    "|Island 1| 0.2 | 0.2 | 0.2 | 0.2 | 0.2 |\n",
    "|Island 2| 0.8| 0.1| 0.05| 0.025| 0.025|\n",
    "|Island 3 |0.05 |0.15 |0.7 |0.05 |0.05|\n",
    "\n",
    "\n",
    "Notice that each row sums to 1, all the birds. This problem has two parts. It is not computationally\n",
    "complicated. But it is conceptually tricky. First, compute the entropy of each island’s bird distribution.\n",
    "Interpret these entropy values. Second, use each island’s bird distribution to predict the other two.\n",
    "This means to compute the KL divergence of each island from the others, treating each island as if it\n",
    "were a statistical model of the other islands. You should end up with 6 different KL divergence values.\n",
    "Which island predicts the others best? Why?"
   ]
  },
  {
   "cell_type": "markdown",
   "metadata": {},
   "source": [
    "Answer:\n",
    "\n",
    "Island1 :=  H = log(5)"
   ]
  },
  {
   "cell_type": "code",
   "execution_count": null,
   "metadata": {},
   "outputs": [],
   "source": [
    "np.log2(5)"
   ]
  },
  {
   "cell_type": "markdown",
   "metadata": {},
   "source": [
    "Island2 :="
   ]
  },
  {
   "cell_type": "code",
   "execution_count": null,
   "metadata": {},
   "outputs": [],
   "source": [
    "-0.8*np.log2(0.8) - 0.1*np.log2(0.1) - 0.05*np.log2(0.05) - 0.05*np.log(0.025)"
   ]
  },
  {
   "cell_type": "code",
   "execution_count": null,
   "metadata": {},
   "outputs": [],
   "source": [
    "# speeding things up a bit\n",
    "p3 = np.array([0.05, 0.15, 0.7, 0.05, 0.05])\n",
    "-np.inner(p3, np.log2(p3))"
   ]
  },
  {
   "cell_type": "code",
   "execution_count": null,
   "metadata": {},
   "outputs": [],
   "source": [
    "p1 = np.array([0.2, 0.2, 0.2, 0.2, 0.2])\n",
    "p2 = np.array([0.8, 0.1, 0.05, 0.025, 0.025])\n",
    "dists = [p1, p2, p3]"
   ]
  },
  {
   "cell_type": "markdown",
   "metadata": {},
   "source": [
    "These are the information entropies for the bird species given that you're in a specific Island, which is roughly how uncertain you are about what species of bird the next bird you encounter will be."
   ]
  },
  {
   "cell_type": "code",
   "execution_count": null,
   "metadata": {},
   "outputs": [],
   "source": [
    "p1/p2"
   ]
  },
  {
   "cell_type": "markdown",
   "metadata": {},
   "source": [
    "To compute the KL divergence $D_{KL}(P||Q) = \\sum P_i log(\\frac{P_i}{Q_i})$"
   ]
  },
  {
   "cell_type": "code",
   "execution_count": null,
   "metadata": {},
   "outputs": [],
   "source": [
    "np.inner(p, np.log2(p/q)) for p in dists for q in dists]).reshape(3, 3)"
   ]
  },
  {
   "cell_type": "code",
   "execution_count": null,
   "metadata": {},
   "outputs": [],
   "source": [
    "divergence_pairs=np.array([np.inner(p, np.log2(p/q))\n",
    "                          for p in dists for q in dists]).reshape(3, 3)"
   ]
  },
  {
   "cell_type": "code",
   "execution_count": null,
   "metadata": {},
   "outputs": [],
   "source": [
    "A=\"abc\"\n",
    "B=\"cde\""
   ]
  },
  {
   "cell_type": "code",
   "execution_count": null,
   "metadata": {},
   "outputs": [],
   "source": [
    "np.array([p+q for p in A for q in B]).reshape(3, 3)"
   ]
  },
  {
   "cell_type": "code",
   "execution_count": null,
   "metadata": {},
   "outputs": [],
   "source": [
    "fig =plt.figure(figsize = (5, 5))\n",
    "labels=[1, 2, 3]\n",
    "ax=fig.add_subplot(111)  # define axis, so we can modify\n",
    "im=ax.imshow(divergence_pairs)   # display the matrix\n",
    "ax.set_xticks(np.arange(len(labels)))  # show them all!\n",
    "ax.set_yticks(np.arange(len(labels)))  # show them all!\n",
    "ax.set_xticklabels(labels)  # set to be the abbv (vs useless #)\n",
    "ax.set_yticklabels(labels)\n",
    "fig.colorbar(im,  shrink= 0.8)\n",
    "plt.xlabel(\"Q distribution\")\n",
    "plt.ylabel(\"P distribution\")\n",
    "plt.show()"
   ]
  },
  {
   "cell_type": "markdown",
   "metadata": {},
   "source": [
    "As can be seen from the heatmap of divergence pairs in the figure above, all distributions have zero divergence from themselves. This is the zero diagonal. Distributions of Islands 1 and 3 model each other fairly well,as the probability masses assigned or not radically different. Using Island 2's disstribution to model Island 3 would be bad. This is because on Island 2 you would never expect to see species C, whilst on Island 3 species C is fairly common. This someone from Island 2 on Island 3 would be consistently surprised by the regular occurence of species C that they were observing. In contrast to this someone from Island 3 on Island 2 would always be astonished by the regular occurence of species A birds that they were observing.\n",
    "\n",
    "Mean while all other directional pairs of distribution divergence is relatively low. All the bird pair frequencies are of comparable frequencies, at least in terms of their order of magnitude of occurence, and you would never be obviously suprised by how often this different occurences were taking place."
   ]
  },
  {
   "cell_type": "markdown",
   "metadata": {},
   "source": [
    "7H4. Recall the marriage, age, and happiness collider bias example from Chapter 6. Run models\n",
    "m6.9 and m6.10 again (page 178). Compare these two models usingWAIC (or PSIS, they will produce\n",
    "identical results). Which model is expected to make better predictions? Which model provides the\n",
    "correct causal inference about the influence of age on happiness? Can you explain why the answers\n",
    "to these two questions disagree?"
   ]
  },
  {
   "cell_type": "code",
   "execution_count": null,
   "metadata": {},
   "outputs": [],
   "source": [
    "# load the data up\n",
    "Waffle=pd.read_csv(\"./data/WaffleDivorce.csv\", delimiter = \";\")"
   ]
  },
  {
   "cell_type": "markdown",
   "metadata": {},
   "source": [
    "I stole the below code from https://github.com/pymc-devs/resources/blob/master/Rethinking_2/Chp_06.ipynb.\n",
    "\n",
    "It generates the data. There's not autodidactic value to implementing this yourself."
   ]
  },
  {
   "cell_type": "code",
   "execution_count": null,
   "metadata": {},
   "outputs": [],
   "source": [
    "def inv_logit(x):\n",
    "    return np.exp(x) / (1 + np.exp(x))\n",
    "\n",
    "\n",
    "def sim_happiness(N_years= 100, seed = 1234):\n",
    "    np.random.seed(seed)\n",
    "\n",
    "    popn=pd.DataFrame(np.zeros((20 * 65, 3)), columns = [\"age\", \"happiness\", \"married\"])\n",
    "    popn.loc[: , \"age\"] = np.repeat(np.arange(65), 20)\n",
    "    popn.loc[: , \"happiness\"] = np.repeat(np.linspace(-2, 2, 20), 65)\n",
    "    popn.loc[:, \"married\"] = np.array(popn.loc[: , \"married\"].values, dtype = \"bool\")\n",
    "\n",
    "    for i in range(N_years):\n",
    "        # age population\n",
    "        popn.loc[: , \"age\"] += 1\n",
    "        # replace old folk with new folk\n",
    "        ind=popn.age == 65\n",
    "        popn.loc[ind, \"age\"]=0\n",
    "        popn.loc[ind, \"married\"]=False\n",
    "        popn.loc[ind, \"happiness\"]=np.linspace(-2, 2, 20)\n",
    "\n",
    "        # do the work\n",
    "        elligible=(popn.married == 0) & (popn.age >= 18)\n",
    "        marry=(\n",
    "            np.random.binomial(1, inv_logit(\n",
    "                popn.loc[elligible, \"happiness\"] - 4)) == 1\n",
    "        )\n",
    "        popn.loc[elligible, \"married\"]=marry\n",
    "\n",
    "    popn.sort_values(\"age\", inplace= True, ignore_index = True)\n",
    "\n",
    "    return popn"
   ]
  },
  {
   "cell_type": "code",
   "execution_count": null,
   "metadata": {},
   "outputs": [],
   "source": [
    "popn=sim_happiness()\n",
    "\n",
    "popn_summ=popn.copy()\n",
    "popn_summ[\"married\"]=popn_summ[\"married\"].astype(\n",
    "    int\n",
    ")  # this is necessary before using az.summary, which doesn't work with boolean columns.\n",
    "az.summary(popn_summ.to_dict(orient=\"list\"), kind= \"stats\", round_to = 2)"
   ]
  },
  {
   "cell_type": "code",
   "execution_count": null,
   "metadata": {},
   "outputs": [],
   "source": [
    "popn[\"s_age\"]=standardise(popn.age)\n",
    "popn[\"s_happiness\"]=standardise(popn.happiness)"
   ]
  },
  {
   "cell_type": "code",
   "execution_count": null,
   "metadata": {
    "lines_to_next_cell": 2
   },
   "outputs": [],
   "source": [
    "# set up the two multiple regression models\n",
    "\n",
    "# This model includes marital status\n",
    "with pm.Model() as m6_9:\n",
    "    alpha =pm.Normal(\"alpha\", 0, 1, shape = 2)\n",
    "    beta=pm.Normal(\"beta\", 0, 2)\n",
    "    sigma=pm.Exponential(\"sigma\", 1)\n",
    "    mu=alpha[popn.married + 0] + beta*popn.s_age\n",
    "    Happy=pm.Normal(\"Happy\", mu, sd = sigma, observed = popn.s_happiness)\n",
    "    m6_9Sample =pm.sample(draws = 1000, chains = 4)\n",
    "\n",
    "# This model ignores marital status\n",
    "with pm.Model() as m6_10:\n",
    "    alpha=pm.Normal(\"alpha\", 0, 1)\n",
    "    beta=pm.Normal(\"beta\", 0, 2)\n",
    "    sigma=pm.Exponential(\"sigma\", 1)\n",
    "    mu=alpha + beta*popn.s_age\n",
    "    Happy=pm.Normal(\"Happy\", mu, sd = sigma, observed = popn.s_happiness)\n",
    "    m6_10Sample =pm.sample(draws = 1000, chains = 4)"
   ]
  },
  {
   "cell_type": "code",
   "execution_count": null,
   "metadata": {},
   "outputs": [],
   "source": [
    "fig, axs=plt.subplots(1, 2, figsize = (15, 5))\n",
    "\n",
    "axs[0].set_title(\"Standard Linear regression\")\n",
    "pm.forestplot(m6_9Sample, ax= axs[0])\n",
    "axs[1].set_title(\"Robust Linear regression\")\n",
    "pm.forestplot(m6_10Sample, ax= axs[1])\n",
    "plt.show()"
   ]
  },
  {
   "cell_type": "code",
   "execution_count": null,
   "metadata": {},
   "outputs": [],
   "source": [
    "# set the line equations up\n",
    "single_line=np.poly1d([np.mean(m6_9Sample[\"beta\"]),\n",
    "                      np.mean(m6_9Sample[\"alpha\"][:, 0])])\n",
    "marrid_line=np.poly1d([np.mean(m6_9Sample[\"beta\"]),\n",
    "                      np.mean(m6_9Sample[\"alpha\"][:, 1])])"
   ]
  },
  {
   "cell_type": "code",
   "execution_count": null,
   "metadata": {},
   "outputs": [],
   "source": [
    "x1=np.linspace(-1.7, 1.7)\n",
    "\n",
    "plt.plot(x1, marrid_line(x1), label= \"Married\")\n",
    "plt.scatter(popn[popn.married == True].s_age, popn[popn.married == True].s_happiness, alpha= 0.3)\n",
    "plt.scatter(popn[popn.married == False].s_age, popn[popn.married == False].s_happiness, alpha= 0.3)\n",
    "plt.plot(x1, single_line(x1), label= \"Single\")\n",
    "plt.xlabel(\"Age\")\n",
    "plt.ylabel(\"Happiness\")\n",
    "plt.legend()"
   ]
  },
  {
   "cell_type": "code",
   "execution_count": null,
   "metadata": {},
   "outputs": [],
   "source": [
    "waic_m6_9  = pm.waic(m6_9Sample, pointwise = True, scale = \"deviance\")\n",
    "waic_m6_10  = pm.waic(m6_10Sample, pointwise = True, scale = \"deviance\")"
   ]
  },
  {
   "cell_type": "code",
   "execution_count": null,
   "metadata": {},
   "outputs": [],
   "source": [
    "# print the deviance\n",
    "waic_m6_9.waic, waic_m6_10.waic"
   ]
  },
  {
   "cell_type": "code",
   "execution_count": null,
   "metadata": {},
   "outputs": [],
   "source": [
    "# get the standard error\n",
    "waic_m6_9.waic_se, waic_m6_10.waic_se"
   ]
  },
  {
   "cell_type": "markdown",
   "metadata": {},
   "source": [
    "The waic is considerably smaller for model 3.9, the false model. This is a false causal model, as conditioning on marriage is an example of collider bias in the model. However it has a lower deviance, greater predictive power than the true causal model, as knowing whether you're married offers great insight about whether or not you're happy, as it's caused by happiness rather than causing it in the model laid out above."
   ]
  },
  {
   "cell_type": "markdown",
   "metadata": {},
   "source": [
    "7H5. Revisit the urban fox data, data(foxes), from the previous chapter’s practice problems. Use\n",
    "WAIC or PSIS based model comparison on five different models, each using weight as the outcome,\n",
    "and containing these sets of predictor variables:\n",
    "\n",
    "(1) avgfood + groupsize + area\n",
    "\n",
    "(2) avgfood + groupsize\n",
    "\n",
    "(3) groupsize + area\n",
    "\n",
    "(4) avgfood\n",
    "\n",
    "(5) area\n",
    "\n",
    "Can you explain the relative differences in WAIC scores, using the fox DAG from the previous chapter? Be sure to pay attention to the standard error of the score differences (dSE)."
   ]
  },
  {
   "cell_type": "code",
   "execution_count": null,
   "metadata": {},
   "outputs": [],
   "source": [
    "Foxy=pd.read_csv(\"./data/foxes.csv\", delimiter = \";\")"
   ]
  },
  {
   "cell_type": "code",
   "execution_count": null,
   "metadata": {},
   "outputs": [],
   "source": [
    "# standardise all variables\n",
    "for column in Foxy.columns.values:\n",
    "    Foxy[\"s_\" + column]=standardise(Foxy[column])"
   ]
  },
  {
   "cell_type": "code",
   "execution_count": null,
   "metadata": {},
   "outputs": [],
   "source": [
    "Foxy.iloc[: , 6: 9]"
   ]
  },
  {
   "cell_type": "code",
   "execution_count": null,
   "metadata": {},
   "outputs": [],
   "source": [
    "with pm.Model() as model1:\n",
    "    alpha=pm.Normal(\"alpha\", 0, 1)\n",
    "    beta =pm.Normal(\"beta\", 0, 1, shape = 3)\n",
    "    sigma=pm.Exponential(\"sigma\", 1)\n",
    "    mu = alpha + pm.math.dot(Foxy.iloc[:, 6: 9].values, beta)\n",
    "    Weight=pm.Normal(\"Weight\", mu, sd= sigma, observed = Foxy.weight)\n",
    "    m1Sample=pm.sample(draws = 1000, chains = 4)\n",
    "\n",
    "with pm.Model() as model2:\n",
    "    alpha=pm.Normal(\"alpha\", 0, 1)\n",
    "    beta =pm.Normal(\"beta\", 0, 1, shape = 2)\n",
    "    sigma=pm.Exponential(\"sigma\", 1)\n",
    "    mu = alpha + pm.math.dot(Foxy.iloc[:, 6: 8].values, beta)\n",
    "    Weight=pm.Normal(\"Weight\", mu, sd= sigma, observed = Foxy.weight)\n",
    "    m2Sample=pm.sample(draws = 1000, chains = 4)\n",
    "\n",
    "with pm.Model() as model3:\n",
    "    alpha=pm.Normal(\"alpha\", 0, 1)\n",
    "    beta =pm.Normal(\"beta\", 0, 1, shape = 2)\n",
    "    sigma=pm.Exponential(\"sigma\", 1)\n",
    "    mu = alpha + pm.math.dot(Foxy.iloc[:, 7: 9].values, beta)\n",
    "    Weight=pm.Normal(\"Weight\", mu, sd= sigma, observed = Foxy.weight)\n",
    "    m3Sample=pm.sample(draws = 1000, chains = 4)\n",
    "\n",
    "with pm.Model() as model4:\n",
    "    alpha=pm.Normal(\"alpha\", 0, 1)\n",
    "    beta=pm.Normal(\"beta\", 0, 1)\n",
    "    sigma=pm.Exponential(\"sigma\", 1)\n",
    "    mu = alpha + pm.math.dot(Foxy.iloc[: , 6].values, beta)\n",
    "    Weight=pm.Normal(\"Weight\", mu, sd= sigma, observed = Foxy.weight)\n",
    "    m4Sample=pm.sample(draws = 1000, chains = 4)\n",
    "\n",
    "with pm.Model() as model5:\n",
    "    alpha=pm.Normal(\"alpha\", 0, 1)\n",
    "    beta=pm.Normal(\"beta\", 0, 1)\n",
    "    sigma=pm.Exponential(\"sigma\", 1)\n",
    "    mu = alpha + pm.math.dot(Foxy.iloc[: , 8].values, beta)\n",
    "    Weight=pm.Normal(\"Weight\", mu, sd= sigma, observed = Foxy.weight)\n",
    "    m5Sample=pm.sample(draws = 1000, chains = 4)"
   ]
  },
  {
   "cell_type": "code",
   "execution_count": null,
   "metadata": {},
   "outputs": [],
   "source": [
    "# compare these models with\n",
    "compare_df=az.compare(\n",
    "    {\"model1\": m1Sample, \"model2\": m2Sample, \"model3\": m3Sample,\n",
    "        \"model4\": m4Sample, \"model5\": m5Sample},\n",
    "     method = \"pseudo-BMA\",\n",
    "    ic = \"waic\",\n",
    "    scale = \"deviance\",\n",
    ")\n",
    "compare_df"
   ]
  },
  {
   "cell_type": "code",
   "execution_count": null,
   "metadata": {},
   "outputs": [],
   "source": [
    "az.plot_compare(compare_df);"
   ]
  },
  {
   "cell_type": "markdown",
   "metadata": {},
   "source": [
    "It can be seen that the two simplest models have the largest deviances, showing that they lose a lot of out of sample predictive power. Using avgfood or area on their own will be masked by the group size effects, hence such models are weak for prediting weight. See the DAG below.\n",
    "\n",
    "All of the other models however contain groupsize, and so the predictive power of a variable that has a direct impact of weight is very helpful for the models performance. It's especially good as this variable unveils the masking effect that's there. The first three models use groupsize alongside either area, avgfood or both. As avgfood is a mediator of area, it doesn't matter which of the two (or even if both) are used, as they contain more or less the same set of information (with varying amounts of noise)."
   ]
  },
  {
   "cell_type": "markdown",
   "metadata": {},
   "source": [
    "So to summarise, models that use just area (and its mediator) perform badly due to masking. If you unmask, you'll get a model with good predictive power and low deviance."
   ]
  },
  {
   "cell_type": "code",
   "execution_count": null,
   "metadata": {},
   "outputs": [],
   "source": [
    "Foxy=CausalGraphicalModel(\n",
    "    nodes = [\"area\", \"avgfood\", \"groupsize\", \"weight\"],\n",
    "    edges = [\n",
    "        (\"area\", \"avgfood\"),\n",
    "        (\"avgfood\", \"groupsize\"),\n",
    "        (\"avgfood\", \"weight\"),\n",
    "        (\"groupsize\", \"weight\")\n",
    "    ]\n",
    ")\n",
    "\n",
    "\n",
    "# draw return a graphviz `dot` object, which jupyter can render\n",
    "Foxy.draw()"
   ]
  },
  {
   "cell_type": "code",
   "execution_count": null,
   "metadata": {},
   "outputs": [],
   "source": [
    "%watermark -n -u -v -iv -w"
   ]
  }
 ],
 "metadata": {
  "jupytext": {
   "encoding": "# -*- coding: utf-8 -*-"
  },
  "kernelspec": {
   "display_name": "pymc3",
   "language": "python",
   "name": "pymc3"
  },
  "language_info": {
   "codemirror_mode": {
    "name": "ipython",
    "version": 3
   },
   "file_extension": ".py",
   "mimetype": "text/x-python",
   "name": "python",
   "nbconvert_exporter": "python",
   "pygments_lexer": "ipython3",
   "version": "3.8.5"
  }
 },
 "nbformat": 4,
 "nbformat_minor": 4
}
